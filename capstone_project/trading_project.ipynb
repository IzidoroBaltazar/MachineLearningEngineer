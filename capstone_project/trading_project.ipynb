{
 "cells": [
  {
   "cell_type": "markdown",
   "metadata": {},
   "source": [
    "# Capstone Project\n",
    "## Using Machine Learning in Trading Futures\n",
    "\n",
    "Cell below is loading data obtained from [quandl.com](https://quandl.com). You can check how the resulting csv file was produced from raw trading data of futures contracts accross multiple years."
   ]
  },
  {
   "cell_type": "code",
   "execution_count": 1,
   "metadata": {},
   "outputs": [],
   "source": [
    "import pandas as pd\n",
    "import numpy as np\n",
    "import datetime\n",
    "import matplotlib.pyplot as plt\n",
    "import seaborn as sns\n",
    "\n",
    "fee = 1.5\n",
    "delta = 0.95\n",
    "account_size = 10000\n",
    "stop_loss = 550\n",
    "\n",
    "trading_days_in_year = 252\n",
    "\n",
    "start_date = datetime.date(year=2006, month=6, day=13)\n",
    "end_date = datetime.date(year=2018, month=12, day=31)\n",
    "validation_date = datetime.date(year=2018, month=1, day=1)\n",
    "\n",
    "gold = pd.read_csv('data/gold_daily.csv', index_col='Date')\n",
    "gold_cot = pd.read_csv('data/gold_cot.csv', index_col='Date')\n",
    "\n",
    "corn = pd.read_csv('data/corn_daily.csv', index_col='Date')\n",
    "corn_cot = pd.read_csv('data/corn_cot.csv', index_col='Date')\n",
    "\n",
    "coffee = pd.read_csv('data/coffee_daily.csv', index_col='Date')\n",
    "coffee_cot = pd.read_csv('data/coffee_cot.csv', index_col='Date')\n",
    "\n",
    "dow = pd.read_csv('data/dow_daily.csv', index_col='Date')\n",
    "nasdaq = pd.read_csv('data/nasdaq_daily.csv', index_col='Date')"
   ]
  },
  {
   "cell_type": "markdown",
   "metadata": {},
   "source": [
    "Convert index to date type."
   ]
  },
  {
   "cell_type": "code",
   "execution_count": 2,
   "metadata": {},
   "outputs": [],
   "source": [
    "gold.index = pd.DatetimeIndex(data=gold.index)\n",
    "gold_cot.index = pd.DatetimeIndex(data=gold_cot.index)\n",
    "\n",
    "corn.index = pd.DatetimeIndex(data=corn.index)\n",
    "corn_cot.index = pd.DatetimeIndex(data=corn_cot.index)\n",
    "\n",
    "coffee.index = pd.DatetimeIndex(data=coffee.index)\n",
    "coffee_cot.index = pd.DatetimeIndex(data=coffee_cot.index)\n",
    "\n",
    "dow.index = pd.DatetimeIndex(data=dow.index)\n",
    "nasdaq.index = pd.DatetimeIndex(data=nasdaq.index)"
   ]
  },
  {
   "cell_type": "markdown",
   "metadata": {},
   "source": [
    "Ensure that dataframe is sorted by index (date)."
   ]
  },
  {
   "cell_type": "code",
   "execution_count": 3,
   "metadata": {},
   "outputs": [],
   "source": [
    "gold = gold.sort_index(kind='mergesort')\n",
    "gold_cot = gold_cot.sort_index(kind='mergesort')\n",
    "corn = corn.sort_index(kind='mergesort')\n",
    "corn_cot = corn_cot.sort_index(kind='mergesort')\n",
    "coffee = coffee.sort_index(kind='mergesort')\n",
    "coffee_cot = coffee_cot.sort_index(kind='mergesort')\n",
    "dow = dow.sort_index(kind='mergesort')\n",
    "nasdaq = nasdaq.sort_index(kind='mergesort')"
   ]
  },
  {
   "cell_type": "markdown",
   "metadata": {},
   "source": [
    "Remove older dataframe - because we are missing COT."
   ]
  },
  {
   "cell_type": "code",
   "execution_count": 4,
   "metadata": {},
   "outputs": [],
   "source": [
    "gold = gold.loc[gold.index >= '2006-06-13']\n",
    "corn = corn.loc[corn.index >= '2006-06-13']\n",
    "coffee = coffee.loc[coffee.index >= '2006-06-13']"
   ]
  },
  {
   "cell_type": "code",
   "execution_count": 5,
   "metadata": {},
   "outputs": [
    {
     "data": {
      "text/html": [
       "<div>\n",
       "<style scoped>\n",
       "    .dataframe tbody tr th:only-of-type {\n",
       "        vertical-align: middle;\n",
       "    }\n",
       "\n",
       "    .dataframe tbody tr th {\n",
       "        vertical-align: top;\n",
       "    }\n",
       "\n",
       "    .dataframe thead th {\n",
       "        text-align: right;\n",
       "    }\n",
       "</style>\n",
       "<table border=\"1\" class=\"dataframe\">\n",
       "  <thead>\n",
       "    <tr style=\"text-align: right;\">\n",
       "      <th></th>\n",
       "      <th>Open Interest</th>\n",
       "      <th>Producer/Merchant/Processor/User Longs</th>\n",
       "      <th>Producer/Merchant/Processor/User Shorts</th>\n",
       "      <th>Swap Dealer Longs</th>\n",
       "      <th>Swap Dealer Shorts</th>\n",
       "      <th>Swap Dealer Spreads</th>\n",
       "      <th>Money Manager Longs</th>\n",
       "      <th>Money Manager Shorts</th>\n",
       "      <th>Money Manager Spreads</th>\n",
       "      <th>Other Reportable Longs</th>\n",
       "      <th>Other Reportable Shorts</th>\n",
       "      <th>Other Reportable Spreads</th>\n",
       "      <th>Total Reportable Longs</th>\n",
       "      <th>Total Reportable Shorts</th>\n",
       "      <th>Non Reportable Longs</th>\n",
       "      <th>Non Reportable Shorts</th>\n",
       "    </tr>\n",
       "    <tr>\n",
       "      <th>Date</th>\n",
       "      <th></th>\n",
       "      <th></th>\n",
       "      <th></th>\n",
       "      <th></th>\n",
       "      <th></th>\n",
       "      <th></th>\n",
       "      <th></th>\n",
       "      <th></th>\n",
       "      <th></th>\n",
       "      <th></th>\n",
       "      <th></th>\n",
       "      <th></th>\n",
       "      <th></th>\n",
       "      <th></th>\n",
       "      <th></th>\n",
       "      <th></th>\n",
       "    </tr>\n",
       "  </thead>\n",
       "  <tbody>\n",
       "    <tr>\n",
       "      <th>2006-06-13</th>\n",
       "      <td>382474.0</td>\n",
       "      <td>42587.0</td>\n",
       "      <td>128892.0</td>\n",
       "      <td>19370.0</td>\n",
       "      <td>66611.0</td>\n",
       "      <td>22998.0</td>\n",
       "      <td>103211.0</td>\n",
       "      <td>30916.0</td>\n",
       "      <td>46704.0</td>\n",
       "      <td>33230.0</td>\n",
       "      <td>10656.0</td>\n",
       "      <td>58412.0</td>\n",
       "      <td>326513.0</td>\n",
       "      <td>365190.0</td>\n",
       "      <td>55961.0</td>\n",
       "      <td>17284.0</td>\n",
       "    </tr>\n",
       "    <tr>\n",
       "      <th>2006-06-20</th>\n",
       "      <td>390281.0</td>\n",
       "      <td>47440.0</td>\n",
       "      <td>126992.0</td>\n",
       "      <td>22404.0</td>\n",
       "      <td>64682.0</td>\n",
       "      <td>25806.0</td>\n",
       "      <td>94632.0</td>\n",
       "      <td>30963.0</td>\n",
       "      <td>48730.0</td>\n",
       "      <td>32947.0</td>\n",
       "      <td>11142.0</td>\n",
       "      <td>64458.0</td>\n",
       "      <td>336417.0</td>\n",
       "      <td>372774.0</td>\n",
       "      <td>53864.0</td>\n",
       "      <td>17507.0</td>\n",
       "    </tr>\n",
       "    <tr>\n",
       "      <th>2006-06-27</th>\n",
       "      <td>384321.0</td>\n",
       "      <td>48449.0</td>\n",
       "      <td>121890.0</td>\n",
       "      <td>22425.0</td>\n",
       "      <td>62640.0</td>\n",
       "      <td>25151.0</td>\n",
       "      <td>91042.0</td>\n",
       "      <td>32287.0</td>\n",
       "      <td>49614.0</td>\n",
       "      <td>31307.0</td>\n",
       "      <td>11386.0</td>\n",
       "      <td>59762.0</td>\n",
       "      <td>327749.0</td>\n",
       "      <td>362729.0</td>\n",
       "      <td>56572.0</td>\n",
       "      <td>21592.0</td>\n",
       "    </tr>\n",
       "    <tr>\n",
       "      <th>2006-07-03</th>\n",
       "      <td>392868.0</td>\n",
       "      <td>48087.0</td>\n",
       "      <td>122568.0</td>\n",
       "      <td>22720.0</td>\n",
       "      <td>69714.0</td>\n",
       "      <td>26352.0</td>\n",
       "      <td>92545.0</td>\n",
       "      <td>30452.0</td>\n",
       "      <td>50821.0</td>\n",
       "      <td>32874.0</td>\n",
       "      <td>8677.0</td>\n",
       "      <td>63514.0</td>\n",
       "      <td>336914.0</td>\n",
       "      <td>372098.0</td>\n",
       "      <td>55955.0</td>\n",
       "      <td>20771.0</td>\n",
       "    </tr>\n",
       "    <tr>\n",
       "      <th>2006-07-11</th>\n",
       "      <td>427008.0</td>\n",
       "      <td>54509.0</td>\n",
       "      <td>130618.0</td>\n",
       "      <td>21840.0</td>\n",
       "      <td>79217.0</td>\n",
       "      <td>28805.0</td>\n",
       "      <td>104213.0</td>\n",
       "      <td>27624.0</td>\n",
       "      <td>54922.0</td>\n",
       "      <td>33165.0</td>\n",
       "      <td>11194.0</td>\n",
       "      <td>70944.0</td>\n",
       "      <td>368398.0</td>\n",
       "      <td>403323.0</td>\n",
       "      <td>58611.0</td>\n",
       "      <td>23685.0</td>\n",
       "    </tr>\n",
       "    <tr>\n",
       "      <th>2006-07-18</th>\n",
       "      <td>443519.0</td>\n",
       "      <td>49863.0</td>\n",
       "      <td>131166.0</td>\n",
       "      <td>21681.0</td>\n",
       "      <td>83183.0</td>\n",
       "      <td>33352.0</td>\n",
       "      <td>107413.0</td>\n",
       "      <td>24296.0</td>\n",
       "      <td>62395.0</td>\n",
       "      <td>31760.0</td>\n",
       "      <td>9442.0</td>\n",
       "      <td>74272.0</td>\n",
       "      <td>380737.0</td>\n",
       "      <td>418105.0</td>\n",
       "      <td>62782.0</td>\n",
       "      <td>25414.0</td>\n",
       "    </tr>\n",
       "    <tr>\n",
       "      <th>2006-07-25</th>\n",
       "      <td>432413.0</td>\n",
       "      <td>52859.0</td>\n",
       "      <td>133290.0</td>\n",
       "      <td>22956.0</td>\n",
       "      <td>85604.0</td>\n",
       "      <td>28832.0</td>\n",
       "      <td>99087.0</td>\n",
       "      <td>22386.0</td>\n",
       "      <td>64810.0</td>\n",
       "      <td>29740.0</td>\n",
       "      <td>6244.0</td>\n",
       "      <td>73980.0</td>\n",
       "      <td>372265.0</td>\n",
       "      <td>415146.0</td>\n",
       "      <td>60148.0</td>\n",
       "      <td>17266.0</td>\n",
       "    </tr>\n",
       "    <tr>\n",
       "      <th>2006-08-01</th>\n",
       "      <td>394609.0</td>\n",
       "      <td>45161.0</td>\n",
       "      <td>135988.0</td>\n",
       "      <td>21250.0</td>\n",
       "      <td>73244.0</td>\n",
       "      <td>23643.0</td>\n",
       "      <td>99330.0</td>\n",
       "      <td>24391.0</td>\n",
       "      <td>54618.0</td>\n",
       "      <td>32195.0</td>\n",
       "      <td>4758.0</td>\n",
       "      <td>57618.0</td>\n",
       "      <td>333815.0</td>\n",
       "      <td>374260.0</td>\n",
       "      <td>60795.0</td>\n",
       "      <td>20350.0</td>\n",
       "    </tr>\n",
       "    <tr>\n",
       "      <th>2006-08-08</th>\n",
       "      <td>402899.0</td>\n",
       "      <td>46203.0</td>\n",
       "      <td>142240.0</td>\n",
       "      <td>20703.0</td>\n",
       "      <td>72061.0</td>\n",
       "      <td>24259.0</td>\n",
       "      <td>104600.0</td>\n",
       "      <td>24271.0</td>\n",
       "      <td>57785.0</td>\n",
       "      <td>33123.0</td>\n",
       "      <td>6489.0</td>\n",
       "      <td>57914.0</td>\n",
       "      <td>344587.0</td>\n",
       "      <td>385020.0</td>\n",
       "      <td>58312.0</td>\n",
       "      <td>17880.0</td>\n",
       "    </tr>\n",
       "    <tr>\n",
       "      <th>2006-08-15</th>\n",
       "      <td>402702.0</td>\n",
       "      <td>46986.0</td>\n",
       "      <td>139790.0</td>\n",
       "      <td>20326.0</td>\n",
       "      <td>66040.0</td>\n",
       "      <td>25523.0</td>\n",
       "      <td>96966.0</td>\n",
       "      <td>24602.0</td>\n",
       "      <td>58658.0</td>\n",
       "      <td>33047.0</td>\n",
       "      <td>5839.0</td>\n",
       "      <td>56914.0</td>\n",
       "      <td>338420.0</td>\n",
       "      <td>377366.0</td>\n",
       "      <td>64282.0</td>\n",
       "      <td>25336.0</td>\n",
       "    </tr>\n",
       "  </tbody>\n",
       "</table>\n",
       "</div>"
      ],
      "text/plain": [
       "            Open Interest  Producer/Merchant/Processor/User Longs  \\\n",
       "Date                                                                \n",
       "2006-06-13       382474.0                                 42587.0   \n",
       "2006-06-20       390281.0                                 47440.0   \n",
       "2006-06-27       384321.0                                 48449.0   \n",
       "2006-07-03       392868.0                                 48087.0   \n",
       "2006-07-11       427008.0                                 54509.0   \n",
       "2006-07-18       443519.0                                 49863.0   \n",
       "2006-07-25       432413.0                                 52859.0   \n",
       "2006-08-01       394609.0                                 45161.0   \n",
       "2006-08-08       402899.0                                 46203.0   \n",
       "2006-08-15       402702.0                                 46986.0   \n",
       "\n",
       "            Producer/Merchant/Processor/User Shorts  Swap Dealer Longs  \\\n",
       "Date                                                                     \n",
       "2006-06-13                                 128892.0            19370.0   \n",
       "2006-06-20                                 126992.0            22404.0   \n",
       "2006-06-27                                 121890.0            22425.0   \n",
       "2006-07-03                                 122568.0            22720.0   \n",
       "2006-07-11                                 130618.0            21840.0   \n",
       "2006-07-18                                 131166.0            21681.0   \n",
       "2006-07-25                                 133290.0            22956.0   \n",
       "2006-08-01                                 135988.0            21250.0   \n",
       "2006-08-08                                 142240.0            20703.0   \n",
       "2006-08-15                                 139790.0            20326.0   \n",
       "\n",
       "            Swap Dealer Shorts  Swap Dealer Spreads  Money Manager Longs  \\\n",
       "Date                                                                       \n",
       "2006-06-13             66611.0              22998.0             103211.0   \n",
       "2006-06-20             64682.0              25806.0              94632.0   \n",
       "2006-06-27             62640.0              25151.0              91042.0   \n",
       "2006-07-03             69714.0              26352.0              92545.0   \n",
       "2006-07-11             79217.0              28805.0             104213.0   \n",
       "2006-07-18             83183.0              33352.0             107413.0   \n",
       "2006-07-25             85604.0              28832.0              99087.0   \n",
       "2006-08-01             73244.0              23643.0              99330.0   \n",
       "2006-08-08             72061.0              24259.0             104600.0   \n",
       "2006-08-15             66040.0              25523.0              96966.0   \n",
       "\n",
       "            Money Manager Shorts  Money Manager Spreads  \\\n",
       "Date                                                      \n",
       "2006-06-13               30916.0                46704.0   \n",
       "2006-06-20               30963.0                48730.0   \n",
       "2006-06-27               32287.0                49614.0   \n",
       "2006-07-03               30452.0                50821.0   \n",
       "2006-07-11               27624.0                54922.0   \n",
       "2006-07-18               24296.0                62395.0   \n",
       "2006-07-25               22386.0                64810.0   \n",
       "2006-08-01               24391.0                54618.0   \n",
       "2006-08-08               24271.0                57785.0   \n",
       "2006-08-15               24602.0                58658.0   \n",
       "\n",
       "            Other Reportable Longs  Other Reportable Shorts  \\\n",
       "Date                                                          \n",
       "2006-06-13                 33230.0                  10656.0   \n",
       "2006-06-20                 32947.0                  11142.0   \n",
       "2006-06-27                 31307.0                  11386.0   \n",
       "2006-07-03                 32874.0                   8677.0   \n",
       "2006-07-11                 33165.0                  11194.0   \n",
       "2006-07-18                 31760.0                   9442.0   \n",
       "2006-07-25                 29740.0                   6244.0   \n",
       "2006-08-01                 32195.0                   4758.0   \n",
       "2006-08-08                 33123.0                   6489.0   \n",
       "2006-08-15                 33047.0                   5839.0   \n",
       "\n",
       "            Other Reportable Spreads  Total Reportable Longs  \\\n",
       "Date                                                           \n",
       "2006-06-13                   58412.0                326513.0   \n",
       "2006-06-20                   64458.0                336417.0   \n",
       "2006-06-27                   59762.0                327749.0   \n",
       "2006-07-03                   63514.0                336914.0   \n",
       "2006-07-11                   70944.0                368398.0   \n",
       "2006-07-18                   74272.0                380737.0   \n",
       "2006-07-25                   73980.0                372265.0   \n",
       "2006-08-01                   57618.0                333815.0   \n",
       "2006-08-08                   57914.0                344587.0   \n",
       "2006-08-15                   56914.0                338420.0   \n",
       "\n",
       "            Total Reportable Shorts  Non Reportable Longs  \\\n",
       "Date                                                        \n",
       "2006-06-13                 365190.0               55961.0   \n",
       "2006-06-20                 372774.0               53864.0   \n",
       "2006-06-27                 362729.0               56572.0   \n",
       "2006-07-03                 372098.0               55955.0   \n",
       "2006-07-11                 403323.0               58611.0   \n",
       "2006-07-18                 418105.0               62782.0   \n",
       "2006-07-25                 415146.0               60148.0   \n",
       "2006-08-01                 374260.0               60795.0   \n",
       "2006-08-08                 385020.0               58312.0   \n",
       "2006-08-15                 377366.0               64282.0   \n",
       "\n",
       "            Non Reportable Shorts  \n",
       "Date                               \n",
       "2006-06-13                17284.0  \n",
       "2006-06-20                17507.0  \n",
       "2006-06-27                21592.0  \n",
       "2006-07-03                20771.0  \n",
       "2006-07-11                23685.0  \n",
       "2006-07-18                25414.0  \n",
       "2006-07-25                17266.0  \n",
       "2006-08-01                20350.0  \n",
       "2006-08-08                17880.0  \n",
       "2006-08-15                25336.0  "
      ]
     },
     "execution_count": 5,
     "metadata": {},
     "output_type": "execute_result"
    }
   ],
   "source": [
    "gold_cot.head(10)"
   ]
  },
  {
   "cell_type": "markdown",
   "metadata": {},
   "source": [
    "### COT Feature engineering\n",
    "Determine how far we are from top across last 2 years (730 days)."
   ]
  },
  {
   "cell_type": "code",
   "execution_count": 6,
   "metadata": {},
   "outputs": [],
   "source": [
    "def percentage_from_max(sr):\n",
    "    mx = sr.max()\n",
    "    mn = sr.min()\n",
    "    return (sr[-1]-mn)/(mx-mn)\n",
    "\n",
    "def max_positions_percentage(df):\n",
    "    df['Prod_net_position'] = df['Producer/Merchant/Processor/User Longs'] - df['Producer/Merchant/Processor/User Shorts']\n",
    "    df['Prod_net_position_perc'] = df.rolling('730d')['Prod_net_position'].apply(percentage_from_max, raw=False)\n",
    "    df['Money_manager_net_position'] = df['Money Manager Longs'] - df['Money Manager Shorts']\n",
    "    df['Money_manager_net_position_perc'] = df.rolling('730d')['Money_manager_net_position'].apply(percentage_from_max, raw=False)\n",
    "    df = df[['Prod_net_position_perc', 'Money_manager_net_position_perc']]\n",
    "    return df"
   ]
  },
  {
   "cell_type": "code",
   "execution_count": 7,
   "metadata": {},
   "outputs": [],
   "source": [
    "gold_cot = max_positions_percentage(gold_cot)\n",
    "corn_cot = max_positions_percentage(corn_cot)\n",
    "coffee_cot = max_positions_percentage(coffee_cot)"
   ]
  },
  {
   "cell_type": "markdown",
   "metadata": {},
   "source": [
    "### Williams %R\n",
    "Create feature with Williams %R indicator"
   ]
  },
  {
   "cell_type": "code",
   "execution_count": 8,
   "metadata": {},
   "outputs": [],
   "source": [
    "# code from stockstats pypy package\n",
    "def get_wr(df, n_days):\n",
    "    \"\"\" Williams Overbought/Oversold Index\n",
    "    WMS=[(Hn—Ct)/(Hn—Ln)] ×100\n",
    "    Ct - the close price\n",
    "    Hn - N days high\n",
    "    Ln - N days low\n",
    "    :param df: data\n",
    "    :param n_days: N days\n",
    "    :return: None\n",
    "    \"\"\"\n",
    "    n_days = int(n_days)\n",
    "    ln = df['Low'].rolling(min_periods=1, window=n_days,\n",
    "                           center=False).min()\n",
    "    hn = df['High'].rolling(min_periods=1, window=n_days,\n",
    "                            center=False).max()\n",
    "    column_name = 'wr_{}'.format(n_days)\n",
    "    column_name = 'wr'\n",
    "    df[column_name] = (hn - df['Settle']) / (hn - ln) * 100"
   ]
  },
  {
   "cell_type": "markdown",
   "metadata": {},
   "source": [
    "### Create Targets\n",
    "Based on the threshold, fee and delta calculate targets used for supervised learning."
   ]
  },
  {
   "cell_type": "code",
   "execution_count": 9,
   "metadata": {},
   "outputs": [],
   "source": [
    "def calculate_target(row, threshold):\n",
    "    global fee, delta, stop_loss\n",
    "    volatility = (row['Settle']-row['Open'])*delta\n",
    "    if abs(volatility) > fee + threshold:\n",
    "        if volatility > 0:\n",
    "            return 1\n",
    "        else:\n",
    "            return -1\n",
    "    else:\n",
    "        return 0\n",
    "    return df\n",
    "\n",
    "\n",
    "def create_trade_outcomes(df, contracts, threshold):\n",
    "    ans_df = pd.DataFrame([])\n",
    "    ans_df['gains'] = (df['Settle'] - df['Open'])*0.95*contracts\n",
    "    ans_df = pd.concat([ans_df, df[['Open', 'High', 'Low', 'Settle']]*contracts], axis=1)\n",
    "    ans_df['target'] = ans_df.apply(lambda x: calculate_target(x, threshold), axis=1)\n",
    "    print(ans_df.head(5))\n",
    "    return ans_df.shift(-1)"
   ]
  },
  {
   "cell_type": "code",
   "execution_count": 10,
   "metadata": {},
   "outputs": [
    {
     "name": "stdout",
     "output_type": "stream",
     "text": [
      "             gains     Open     High      Low   Settle  target\n",
      "Date                                                          \n",
      "2006-06-13 -2251.5  59050.0  59500.0  56550.0  56680.0      -1\n",
      "2006-06-14  -332.5  57000.0  57550.0  56540.0  56650.0       0\n",
      "2006-06-15  -304.0  57350.0  57950.0  56950.0  57030.0       0\n",
      "2006-06-16    47.5  58120.0  58250.0  57050.0  58170.0       0\n",
      "2006-06-19   -38.0  57280.0  57840.0  57100.0  57240.0       0\n"
     ]
    }
   ],
   "source": [
    "threshold = 500\n",
    "contracts = 100\n",
    "gold_gains = create_trade_outcomes(gold, contracts, threshold)\n",
    "gold_gains_train = gold_gains.loc[gold_gains.index < '2018-1-1']\n",
    "# gold_gains.head(20)"
   ]
  },
  {
   "cell_type": "code",
   "execution_count": 11,
   "metadata": {
    "scrolled": false
   },
   "outputs": [
    {
     "data": {
      "text/html": [
       "<div>\n",
       "<style scoped>\n",
       "    .dataframe tbody tr th:only-of-type {\n",
       "        vertical-align: middle;\n",
       "    }\n",
       "\n",
       "    .dataframe tbody tr th {\n",
       "        vertical-align: top;\n",
       "    }\n",
       "\n",
       "    .dataframe thead th {\n",
       "        text-align: right;\n",
       "    }\n",
       "</style>\n",
       "<table border=\"1\" class=\"dataframe\">\n",
       "  <thead>\n",
       "    <tr style=\"text-align: right;\">\n",
       "      <th></th>\n",
       "      <th>Open</th>\n",
       "      <th>High</th>\n",
       "      <th>Low</th>\n",
       "      <th>Settle</th>\n",
       "      <th>Volume</th>\n",
       "      <th>Prev. Day Open Interest</th>\n",
       "      <th>wr</th>\n",
       "      <th>target</th>\n",
       "    </tr>\n",
       "    <tr>\n",
       "      <th>Date</th>\n",
       "      <th></th>\n",
       "      <th></th>\n",
       "      <th></th>\n",
       "      <th></th>\n",
       "      <th></th>\n",
       "      <th></th>\n",
       "      <th></th>\n",
       "      <th></th>\n",
       "    </tr>\n",
       "  </thead>\n",
       "  <tbody>\n",
       "    <tr>\n",
       "      <th>2006-06-13</th>\n",
       "      <td>590.5</td>\n",
       "      <td>595.0</td>\n",
       "      <td>565.5</td>\n",
       "      <td>566.8</td>\n",
       "      <td>93899.0</td>\n",
       "      <td>192616.0</td>\n",
       "      <td>95.593220</td>\n",
       "      <td>0.0</td>\n",
       "    </tr>\n",
       "    <tr>\n",
       "      <th>2006-06-14</th>\n",
       "      <td>570.0</td>\n",
       "      <td>575.5</td>\n",
       "      <td>565.4</td>\n",
       "      <td>566.5</td>\n",
       "      <td>68729.0</td>\n",
       "      <td>192917.0</td>\n",
       "      <td>96.283784</td>\n",
       "      <td>0.0</td>\n",
       "    </tr>\n",
       "    <tr>\n",
       "      <th>2006-06-15</th>\n",
       "      <td>573.5</td>\n",
       "      <td>579.5</td>\n",
       "      <td>569.5</td>\n",
       "      <td>570.3</td>\n",
       "      <td>52628.0</td>\n",
       "      <td>193887.0</td>\n",
       "      <td>83.445946</td>\n",
       "      <td>0.0</td>\n",
       "    </tr>\n",
       "    <tr>\n",
       "      <th>2006-06-16</th>\n",
       "      <td>581.2</td>\n",
       "      <td>582.5</td>\n",
       "      <td>570.5</td>\n",
       "      <td>581.7</td>\n",
       "      <td>43947.0</td>\n",
       "      <td>189585.0</td>\n",
       "      <td>44.932432</td>\n",
       "      <td>0.0</td>\n",
       "    </tr>\n",
       "    <tr>\n",
       "      <th>2006-06-19</th>\n",
       "      <td>572.8</td>\n",
       "      <td>578.4</td>\n",
       "      <td>571.0</td>\n",
       "      <td>572.4</td>\n",
       "      <td>27362.0</td>\n",
       "      <td>189168.0</td>\n",
       "      <td>76.351351</td>\n",
       "      <td>1.0</td>\n",
       "    </tr>\n",
       "    <tr>\n",
       "      <th>2006-06-20</th>\n",
       "      <td>572.0</td>\n",
       "      <td>581.0</td>\n",
       "      <td>567.8</td>\n",
       "      <td>580.5</td>\n",
       "      <td>39962.0</td>\n",
       "      <td>187696.0</td>\n",
       "      <td>48.986486</td>\n",
       "      <td>1.0</td>\n",
       "    </tr>\n",
       "    <tr>\n",
       "      <th>2006-06-21</th>\n",
       "      <td>577.0</td>\n",
       "      <td>591.5</td>\n",
       "      <td>573.5</td>\n",
       "      <td>591.0</td>\n",
       "      <td>43918.0</td>\n",
       "      <td>187072.0</td>\n",
       "      <td>13.513514</td>\n",
       "      <td>0.0</td>\n",
       "    </tr>\n",
       "    <tr>\n",
       "      <th>2006-06-22</th>\n",
       "      <td>588.0</td>\n",
       "      <td>593.5</td>\n",
       "      <td>584.5</td>\n",
       "      <td>585.4</td>\n",
       "      <td>42916.0</td>\n",
       "      <td>187027.0</td>\n",
       "      <td>32.432432</td>\n",
       "      <td>1.0</td>\n",
       "    </tr>\n",
       "    <tr>\n",
       "      <th>2006-06-23</th>\n",
       "      <td>574.5</td>\n",
       "      <td>589.0</td>\n",
       "      <td>574.5</td>\n",
       "      <td>588.0</td>\n",
       "      <td>33705.0</td>\n",
       "      <td>181290.0</td>\n",
       "      <td>23.648649</td>\n",
       "      <td>0.0</td>\n",
       "    </tr>\n",
       "    <tr>\n",
       "      <th>2006-06-26</th>\n",
       "      <td>586.2</td>\n",
       "      <td>589.5</td>\n",
       "      <td>580.0</td>\n",
       "      <td>587.7</td>\n",
       "      <td>30510.0</td>\n",
       "      <td>181460.0</td>\n",
       "      <td>24.662162</td>\n",
       "      <td>0.0</td>\n",
       "    </tr>\n",
       "    <tr>\n",
       "      <th>2006-06-27</th>\n",
       "      <td>589.5</td>\n",
       "      <td>599.0</td>\n",
       "      <td>583.7</td>\n",
       "      <td>584.4</td>\n",
       "      <td>47778.0</td>\n",
       "      <td>182310.0</td>\n",
       "      <td>43.452381</td>\n",
       "      <td>-1.0</td>\n",
       "    </tr>\n",
       "    <tr>\n",
       "      <th>2006-06-28</th>\n",
       "      <td>587.0</td>\n",
       "      <td>589.4</td>\n",
       "      <td>579.1</td>\n",
       "      <td>581.0</td>\n",
       "      <td>34318.0</td>\n",
       "      <td>181754.0</td>\n",
       "      <td>53.571429</td>\n",
       "      <td>0.0</td>\n",
       "    </tr>\n",
       "    <tr>\n",
       "      <th>2006-06-29</th>\n",
       "      <td>584.0</td>\n",
       "      <td>594.9</td>\n",
       "      <td>584.0</td>\n",
       "      <td>588.9</td>\n",
       "      <td>37714.0</td>\n",
       "      <td>172121.0</td>\n",
       "      <td>30.059524</td>\n",
       "      <td>1.0</td>\n",
       "    </tr>\n",
       "    <tr>\n",
       "      <th>2006-06-30</th>\n",
       "      <td>602.0</td>\n",
       "      <td>618.0</td>\n",
       "      <td>602.0</td>\n",
       "      <td>616.0</td>\n",
       "      <td>58020.0</td>\n",
       "      <td>171371.0</td>\n",
       "      <td>3.802281</td>\n",
       "      <td>0.0</td>\n",
       "    </tr>\n",
       "    <tr>\n",
       "      <th>2006-07-05</th>\n",
       "      <td>630.0</td>\n",
       "      <td>631.9</td>\n",
       "      <td>619.5</td>\n",
       "      <td>629.7</td>\n",
       "      <td>46706.0</td>\n",
       "      <td>173572.0</td>\n",
       "      <td>3.308271</td>\n",
       "      <td>1.0</td>\n",
       "    </tr>\n",
       "  </tbody>\n",
       "</table>\n",
       "</div>"
      ],
      "text/plain": [
       "             Open   High    Low  Settle   Volume  Prev. Day Open Interest  \\\n",
       "Date                                                                        \n",
       "2006-06-13  590.5  595.0  565.5   566.8  93899.0                 192616.0   \n",
       "2006-06-14  570.0  575.5  565.4   566.5  68729.0                 192917.0   \n",
       "2006-06-15  573.5  579.5  569.5   570.3  52628.0                 193887.0   \n",
       "2006-06-16  581.2  582.5  570.5   581.7  43947.0                 189585.0   \n",
       "2006-06-19  572.8  578.4  571.0   572.4  27362.0                 189168.0   \n",
       "2006-06-20  572.0  581.0  567.8   580.5  39962.0                 187696.0   \n",
       "2006-06-21  577.0  591.5  573.5   591.0  43918.0                 187072.0   \n",
       "2006-06-22  588.0  593.5  584.5   585.4  42916.0                 187027.0   \n",
       "2006-06-23  574.5  589.0  574.5   588.0  33705.0                 181290.0   \n",
       "2006-06-26  586.2  589.5  580.0   587.7  30510.0                 181460.0   \n",
       "2006-06-27  589.5  599.0  583.7   584.4  47778.0                 182310.0   \n",
       "2006-06-28  587.0  589.4  579.1   581.0  34318.0                 181754.0   \n",
       "2006-06-29  584.0  594.9  584.0   588.9  37714.0                 172121.0   \n",
       "2006-06-30  602.0  618.0  602.0   616.0  58020.0                 171371.0   \n",
       "2006-07-05  630.0  631.9  619.5   629.7  46706.0                 173572.0   \n",
       "\n",
       "                   wr  target  \n",
       "Date                           \n",
       "2006-06-13  95.593220     0.0  \n",
       "2006-06-14  96.283784     0.0  \n",
       "2006-06-15  83.445946     0.0  \n",
       "2006-06-16  44.932432     0.0  \n",
       "2006-06-19  76.351351     1.0  \n",
       "2006-06-20  48.986486     1.0  \n",
       "2006-06-21  13.513514     0.0  \n",
       "2006-06-22  32.432432     1.0  \n",
       "2006-06-23  23.648649     0.0  \n",
       "2006-06-26  24.662162     0.0  \n",
       "2006-06-27  43.452381    -1.0  \n",
       "2006-06-28  53.571429     0.0  \n",
       "2006-06-29  30.059524     1.0  \n",
       "2006-06-30   3.802281     0.0  \n",
       "2006-07-05   3.308271     1.0  "
      ]
     },
     "execution_count": 11,
     "metadata": {},
     "output_type": "execute_result"
    }
   ],
   "source": [
    "get_wr(gold, 14)\n",
    "gold = pd.concat([gold, gold_gains[['target']]], axis=1)\n",
    "gold.head(15)"
   ]
  },
  {
   "cell_type": "markdown",
   "metadata": {},
   "source": [
    "### Trade gains investigation\n",
    "\n",
    "Ivestigate trade gains\n",
    "- have a look at all gains (regardless of label)\n",
    "- analyze gains for long trades (label 1)\n",
    "- analyze gains for short trades (label -1)"
   ]
  },
  {
   "cell_type": "markdown",
   "metadata": {},
   "source": [
    "### Trade labels distribution"
   ]
  },
  {
   "cell_type": "code",
   "execution_count": 12,
   "metadata": {},
   "outputs": [
    {
     "data": {
      "text/plain": [
       "<matplotlib.axes._subplots.AxesSubplot at 0x7f6ed2d3f198>"
      ]
     },
     "execution_count": 12,
     "metadata": {},
     "output_type": "execute_result"
    },
    {
     "data": {
      "image/png": "[encoded data removed]",
      "text/plain": [
       "<Figure size 432x288 with 1 Axes>"
      ]
     },
     "metadata": {
      "needs_background": "light"
     },
     "output_type": "display_data"
    }
   ],
   "source": [
    "gold['target'].hist()"
   ]
  },
  {
   "cell_type": "code",
   "execution_count": 13,
   "metadata": {},
   "outputs": [
    {
     "data": {
      "text/plain": [
       "count     2921.000000\n",
       "mean        -6.878637\n",
       "std       1225.716089\n",
       "min     -11390.500000\n",
       "25%       -560.500000\n",
       "50%         28.500000\n",
       "75%        627.000000\n",
       "max       6555.000000\n",
       "Name: gains, dtype: float64"
      ]
     },
     "execution_count": 13,
     "metadata": {},
     "output_type": "execute_result"
    }
   ],
   "source": [
    "gold_gains_train.gains.describe()"
   ]
  },
  {
   "cell_type": "code",
   "execution_count": 14,
   "metadata": {},
   "outputs": [
    {
     "data": {
      "text/plain": [
       "<matplotlib.axes._subplots.AxesSubplot at 0x7f6ed2ce8438>"
      ]
     },
     "execution_count": 14,
     "metadata": {},
     "output_type": "execute_result"
    },
    {
     "data": {
      "image/png": "[encoded data removed]",
      "text/plain": [
       "<Figure size 432x288 with 1 Axes>"
      ]
     },
     "metadata": {
      "needs_background": "light"
     },
     "output_type": "display_data"
    }
   ],
   "source": [
    "gold_gains_train[['gains']].plot.hist(bins=80)"
   ]
  },
  {
   "cell_type": "code",
   "execution_count": 15,
   "metadata": {},
   "outputs": [],
   "source": [
    "def stop_loss_gen(df):\n",
    "    df['Open_High'] = df['High'] - df['Open']\n",
    "    df['Open_Low'] = df['Open'] - df['Low']\n",
    "    return df"
   ]
  },
  {
   "cell_type": "code",
   "execution_count": 16,
   "metadata": {},
   "outputs": [
    {
     "name": "stderr",
     "output_type": "stream",
     "text": [
      "/home/martin/virtualenvs/oracle3/lib/python3.6/site-packages/ipykernel_launcher.py:2: SettingWithCopyWarning: \n",
      "A value is trying to be set on a copy of a slice from a DataFrame.\n",
      "Try using .loc[row_indexer,col_indexer] = value instead\n",
      "\n",
      "See the caveats in the documentation: http://pandas.pydata.org/pandas-docs/stable/indexing.html#indexing-view-versus-copy\n",
      "  \n",
      "/home/martin/virtualenvs/oracle3/lib/python3.6/site-packages/ipykernel_launcher.py:3: SettingWithCopyWarning: \n",
      "A value is trying to be set on a copy of a slice from a DataFrame.\n",
      "Try using .loc[row_indexer,col_indexer] = value instead\n",
      "\n",
      "See the caveats in the documentation: http://pandas.pydata.org/pandas-docs/stable/indexing.html#indexing-view-versus-copy\n",
      "  This is separate from the ipykernel package so we can avoid doing imports until\n"
     ]
    }
   ],
   "source": [
    "gold_gains_train = stop_loss_gen(gold_gains_train)"
   ]
  },
  {
   "cell_type": "code",
   "execution_count": 17,
   "metadata": {},
   "outputs": [],
   "source": [
    "def plot_histogram_cumsum(df, column):\n",
    "    df[column].hist(bins=50, density=True, cumulative=-1, figsize=(10,5))\n",
    "    df[column].hist(bins=50, density=True, linewidth=1.5, cumulative=True, histtype='step', figsize=(10,5))\n",
    "    plt.plot([0, df[column].max()], [0.9, 0.9], lw=1, color='r')"
   ]
  },
  {
   "cell_type": "markdown",
   "metadata": {},
   "source": [
    "### Investigate suitable stop-loss value\n",
    "\n",
    "Below are cummulative curves"
   ]
  },
  {
   "cell_type": "code",
   "execution_count": 18,
   "metadata": {},
   "outputs": [
    {
     "data": {
      "image/png": "[encoded data removed]",
      "text/plain": [
       "<Figure size 720x360 with 1 Axes>"
      ]
     },
     "metadata": {
      "needs_background": "light"
     },
     "output_type": "display_data"
    }
   ],
   "source": [
    "plot_histogram_cumsum(gold_gains_train[gold_gains_train.target == 1], 'Open_Low')"
   ]
  },
  {
   "cell_type": "code",
   "execution_count": 19,
   "metadata": {},
   "outputs": [
    {
     "data": {
      "text/plain": [
       "count     860.000000\n",
       "mean      472.825581\n",
       "std       538.691375\n",
       "min         0.000000\n",
       "25%       130.000000\n",
       "50%       310.000000\n",
       "75%       640.000000\n",
       "max      4760.000000\n",
       "Name: Open_Low, dtype: float64"
      ]
     },
     "execution_count": 19,
     "metadata": {},
     "output_type": "execute_result"
    }
   ],
   "source": [
    "gold_gains_train[gold_gains_train.target == 1].Open_Low.describe()"
   ]
  },
  {
   "cell_type": "code",
   "execution_count": 20,
   "metadata": {},
   "outputs": [
    {
     "data": {
      "text/plain": [
       "count     802.000000\n",
       "mean      429.077307\n",
       "std       439.462157\n",
       "min         0.000000\n",
       "25%       150.000000\n",
       "50%       310.000000\n",
       "75%       570.000000\n",
       "max      4380.000000\n",
       "Name: Open_High, dtype: float64"
      ]
     },
     "execution_count": 20,
     "metadata": {},
     "output_type": "execute_result"
    }
   ],
   "source": [
    "gold_gains_train[gold_gains_train.target == -1].Open_High.describe()"
   ]
  },
  {
   "cell_type": "code",
   "execution_count": 21,
   "metadata": {},
   "outputs": [
    {
     "data": {
      "image/png": "[encoded data removed]",
      "text/plain": [
       "<Figure size 720x360 with 1 Axes>"
      ]
     },
     "metadata": {
      "needs_background": "light"
     },
     "output_type": "display_data"
    }
   ],
   "source": [
    "plot_histogram_cumsum(gold_gains_train[gold_gains_train.target == -1], 'Open_High')"
   ]
  },
  {
   "cell_type": "code",
   "execution_count": 22,
   "metadata": {},
   "outputs": [
    {
     "data": {
      "text/plain": [
       "<matplotlib.axes._subplots.AxesSubplot at 0x7f6ed2a2d198>"
      ]
     },
     "execution_count": 22,
     "metadata": {},
     "output_type": "execute_result"
    },
    {
     "data": {
      "image/png": "[encoded data removed]",
      "text/plain": [
       "<Figure size 1080x360 with 1 Axes>"
      ]
     },
     "metadata": {
      "needs_background": "light"
     },
     "output_type": "display_data"
    }
   ],
   "source": [
    "sr = gold_gains_train.loc[gold_gains_train.index < '2018-01-01'][gold_gains_train.gains.abs() > 300].gains\n",
    "fig, ax = plt.subplots(figsize=(15,5))\n",
    "sns.distplot(sr, bins=150, ax=ax)"
   ]
  },
  {
   "cell_type": "code",
   "execution_count": 23,
   "metadata": {},
   "outputs": [
    {
     "name": "stdout",
     "output_type": "stream",
     "text": [
      "              gains     Open     High      Low   Settle  target\n",
      "Date                                                           \n",
      "2006-06-13 -213.750  12387.5  12400.0  12112.5  12162.5      -1\n",
      "2006-06-14 -332.500  12200.0  12262.5  11837.5  11850.0      -1\n",
      "2006-06-15 -213.750  11875.0  11937.5  11600.0  11650.0      -1\n",
      "2006-06-16   71.250  12987.5  13137.5  12962.5  13062.5       0\n",
      "2006-06-19 -154.375  12950.0  13050.0  12750.0  12787.5      -1\n"
     ]
    }
   ],
   "source": [
    "# Corn Contract has 5000 bushels contract is in cents therefore 50 contracts are producing desired values\n",
    "contracts = 50\n",
    "threshold = 150\n",
    "corn_gains = create_trade_outcomes(corn, contracts, threshold)\n",
    "corn_gains_train = corn_gains.loc[corn_gains.index < '2018-1-1']"
   ]
  },
  {
   "cell_type": "code",
   "execution_count": 24,
   "metadata": {},
   "outputs": [
    {
     "data": {
      "text/plain": [
       "count    2917.000000\n",
       "mean        6.122729\n",
       "std       411.069273\n",
       "min     -1983.125000\n",
       "25%      -190.000000\n",
       "50%        11.875000\n",
       "75%       213.750000\n",
       "max      1888.125000\n",
       "Name: gains, dtype: float64"
      ]
     },
     "execution_count": 24,
     "metadata": {},
     "output_type": "execute_result"
    }
   ],
   "source": [
    "corn_gains_train.gains.describe()"
   ]
  },
  {
   "cell_type": "code",
   "execution_count": 25,
   "metadata": {},
   "outputs": [
    {
     "data": {
      "text/plain": [
       "<matplotlib.axes._subplots.AxesSubplot at 0x7f6ed2bf0208>"
      ]
     },
     "execution_count": 25,
     "metadata": {},
     "output_type": "execute_result"
    },
    {
     "data": {
      "image/png": "[encoded data removed]",
      "text/plain": [
       "<Figure size 432x288 with 1 Axes>"
      ]
     },
     "metadata": {
      "needs_background": "light"
     },
     "output_type": "display_data"
    }
   ],
   "source": [
    "get_wr(corn, 14)\n",
    "corn = pd.concat([corn, corn_gains[['target']]], axis=1)\n",
    "\n",
    "corn.loc[corn.index < '2018-1-1'].target.hist()"
   ]
  },
  {
   "cell_type": "code",
   "execution_count": 26,
   "metadata": {},
   "outputs": [
    {
     "data": {
      "text/plain": [
       "<matplotlib.axes._subplots.AxesSubplot at 0x7f6ed2b3fc18>"
      ]
     },
     "execution_count": 26,
     "metadata": {},
     "output_type": "execute_result"
    },
    {
     "data": {
      "image/png": "[encoded data removed]",
      "text/plain": [
       "<Figure size 432x288 with 1 Axes>"
      ]
     },
     "metadata": {
      "needs_background": "light"
     },
     "output_type": "display_data"
    }
   ],
   "source": [
    "corn_gains_train[['gains']].plot.hist(bins=40)"
   ]
  },
  {
   "cell_type": "code",
   "execution_count": 27,
   "metadata": {},
   "outputs": [
    {
     "data": {
      "text/html": [
       "<div>\n",
       "<style scoped>\n",
       "    .dataframe tbody tr th:only-of-type {\n",
       "        vertical-align: middle;\n",
       "    }\n",
       "\n",
       "    .dataframe tbody tr th {\n",
       "        vertical-align: top;\n",
       "    }\n",
       "\n",
       "    .dataframe thead th {\n",
       "        text-align: right;\n",
       "    }\n",
       "</style>\n",
       "<table border=\"1\" class=\"dataframe\">\n",
       "  <thead>\n",
       "    <tr style=\"text-align: right;\">\n",
       "      <th></th>\n",
       "      <th>gains</th>\n",
       "      <th>Open</th>\n",
       "      <th>High</th>\n",
       "      <th>Low</th>\n",
       "      <th>Settle</th>\n",
       "      <th>target</th>\n",
       "    </tr>\n",
       "    <tr>\n",
       "      <th>Date</th>\n",
       "      <th></th>\n",
       "      <th></th>\n",
       "      <th></th>\n",
       "      <th></th>\n",
       "      <th></th>\n",
       "      <th></th>\n",
       "    </tr>\n",
       "  </thead>\n",
       "  <tbody>\n",
       "    <tr>\n",
       "      <th>2006-06-13</th>\n",
       "      <td>-332.500</td>\n",
       "      <td>12200.0</td>\n",
       "      <td>12262.5</td>\n",
       "      <td>11837.5</td>\n",
       "      <td>11850.0</td>\n",
       "      <td>-1.0</td>\n",
       "    </tr>\n",
       "    <tr>\n",
       "      <th>2006-06-14</th>\n",
       "      <td>-213.750</td>\n",
       "      <td>11875.0</td>\n",
       "      <td>11937.5</td>\n",
       "      <td>11600.0</td>\n",
       "      <td>11650.0</td>\n",
       "      <td>-1.0</td>\n",
       "    </tr>\n",
       "    <tr>\n",
       "      <th>2006-06-15</th>\n",
       "      <td>71.250</td>\n",
       "      <td>12987.5</td>\n",
       "      <td>13137.5</td>\n",
       "      <td>12962.5</td>\n",
       "      <td>13062.5</td>\n",
       "      <td>0.0</td>\n",
       "    </tr>\n",
       "    <tr>\n",
       "      <th>2006-06-16</th>\n",
       "      <td>-154.375</td>\n",
       "      <td>12950.0</td>\n",
       "      <td>13050.0</td>\n",
       "      <td>12750.0</td>\n",
       "      <td>12787.5</td>\n",
       "      <td>-1.0</td>\n",
       "    </tr>\n",
       "    <tr>\n",
       "      <th>2006-06-19</th>\n",
       "      <td>-23.750</td>\n",
       "      <td>12825.0</td>\n",
       "      <td>12837.5</td>\n",
       "      <td>12675.0</td>\n",
       "      <td>12800.0</td>\n",
       "      <td>0.0</td>\n",
       "    </tr>\n",
       "    <tr>\n",
       "      <th>2006-06-20</th>\n",
       "      <td>142.500</td>\n",
       "      <td>12800.0</td>\n",
       "      <td>12975.0</td>\n",
       "      <td>12775.0</td>\n",
       "      <td>12950.0</td>\n",
       "      <td>0.0</td>\n",
       "    </tr>\n",
       "    <tr>\n",
       "      <th>2006-06-21</th>\n",
       "      <td>-95.000</td>\n",
       "      <td>12950.0</td>\n",
       "      <td>13025.0</td>\n",
       "      <td>12800.0</td>\n",
       "      <td>12850.0</td>\n",
       "      <td>0.0</td>\n",
       "    </tr>\n",
       "    <tr>\n",
       "      <th>2006-06-22</th>\n",
       "      <td>-83.125</td>\n",
       "      <td>12850.0</td>\n",
       "      <td>12887.5</td>\n",
       "      <td>12737.5</td>\n",
       "      <td>12762.5</td>\n",
       "      <td>0.0</td>\n",
       "    </tr>\n",
       "    <tr>\n",
       "      <th>2006-06-23</th>\n",
       "      <td>-225.625</td>\n",
       "      <td>12687.5</td>\n",
       "      <td>12687.5</td>\n",
       "      <td>12387.5</td>\n",
       "      <td>12450.0</td>\n",
       "      <td>-1.0</td>\n",
       "    </tr>\n",
       "    <tr>\n",
       "      <th>2006-06-26</th>\n",
       "      <td>118.750</td>\n",
       "      <td>12437.5</td>\n",
       "      <td>12587.5</td>\n",
       "      <td>12362.5</td>\n",
       "      <td>12562.5</td>\n",
       "      <td>0.0</td>\n",
       "    </tr>\n",
       "  </tbody>\n",
       "</table>\n",
       "</div>"
      ],
      "text/plain": [
       "              gains     Open     High      Low   Settle  target\n",
       "Date                                                           \n",
       "2006-06-13 -332.500  12200.0  12262.5  11837.5  11850.0    -1.0\n",
       "2006-06-14 -213.750  11875.0  11937.5  11600.0  11650.0    -1.0\n",
       "2006-06-15   71.250  12987.5  13137.5  12962.5  13062.5     0.0\n",
       "2006-06-16 -154.375  12950.0  13050.0  12750.0  12787.5    -1.0\n",
       "2006-06-19  -23.750  12825.0  12837.5  12675.0  12800.0     0.0\n",
       "2006-06-20  142.500  12800.0  12975.0  12775.0  12950.0     0.0\n",
       "2006-06-21  -95.000  12950.0  13025.0  12800.0  12850.0     0.0\n",
       "2006-06-22  -83.125  12850.0  12887.5  12737.5  12762.5     0.0\n",
       "2006-06-23 -225.625  12687.5  12687.5  12387.5  12450.0    -1.0\n",
       "2006-06-26  118.750  12437.5  12587.5  12362.5  12562.5     0.0"
      ]
     },
     "execution_count": 27,
     "metadata": {},
     "output_type": "execute_result"
    }
   ],
   "source": [
    "corn_gains_train.head(10)"
   ]
  },
  {
   "cell_type": "code",
   "execution_count": 28,
   "metadata": {},
   "outputs": [],
   "source": [
    "corn_gains = stop_loss_gen(corn_gains)\n",
    "corn_gains_train = corn_gains[corn_gains.index < '2018-1-1']"
   ]
  },
  {
   "cell_type": "code",
   "execution_count": 29,
   "metadata": {},
   "outputs": [
    {
     "data": {
      "image/png": "[encoded data removed]",
      "text/plain": [
       "<Figure size 720x360 with 1 Axes>"
      ]
     },
     "metadata": {
      "needs_background": "light"
     },
     "output_type": "display_data"
    }
   ],
   "source": [
    "plot_histogram_cumsum(corn_gains_train[corn_gains_train.target == 1], 'Open_Low')"
   ]
  },
  {
   "cell_type": "code",
   "execution_count": 30,
   "metadata": {},
   "outputs": [
    {
     "data": {
      "image/png": "[encoded data removed]",
      "text/plain": [
       "<Figure size 720x360 with 1 Axes>"
      ]
     },
     "metadata": {
      "needs_background": "light"
     },
     "output_type": "display_data"
    }
   ],
   "source": [
    "plot_histogram_cumsum(corn_gains_train[corn_gains_train.target == -1], 'Open_High')"
   ]
  },
  {
   "cell_type": "code",
   "execution_count": 31,
   "metadata": {},
   "outputs": [
    {
     "name": "stderr",
     "output_type": "stream",
     "text": [
      "/home/martin/virtualenvs/oracle3/lib/python3.6/site-packages/scipy/stats/stats.py:1713: FutureWarning: Using a non-tuple sequence for multidimensional indexing is deprecated; use `arr[tuple(seq)]` instead of `arr[seq]`. In the future this will be interpreted as an array index, `arr[np.array(seq)]`, which will result either in an error or a different result.\n",
      "  return np.add.reduce(sorted[indexer] * weights, axis=axis) / sumval\n"
     ]
    },
    {
     "data": {
      "text/plain": [
       "<matplotlib.axes._subplots.AxesSubplot at 0x7f6ece7a8898>"
      ]
     },
     "execution_count": 31,
     "metadata": {},
     "output_type": "execute_result"
    },
    {
     "data": {
      "image/png": "[encoded data removed]",
      "text/plain": [
       "<Figure size 1080x360 with 1 Axes>"
      ]
     },
     "metadata": {
      "needs_background": "light"
     },
     "output_type": "display_data"
    }
   ],
   "source": [
    "sr = corn_gains_train.gains\n",
    "fig, ax = plt.subplots(figsize=(15,5))\n",
    "sns.distplot(sr, ax=ax)"
   ]
  },
  {
   "cell_type": "code",
   "execution_count": 32,
   "metadata": {},
   "outputs": [
    {
     "name": "stderr",
     "output_type": "stream",
     "text": [
      "/home/martin/virtualenvs/oracle3/lib/python3.6/site-packages/ipykernel_launcher.py:1: UserWarning: Boolean Series key will be reindexed to match DataFrame index.\n",
      "  \"\"\"Entry point for launching an IPython kernel.\n"
     ]
    },
    {
     "data": {
      "text/plain": [
       "<matplotlib.axes._subplots.AxesSubplot at 0x7f6ece49bcc0>"
      ]
     },
     "execution_count": 32,
     "metadata": {},
     "output_type": "execute_result"
    },
    {
     "data": {
      "image/png": "[encoded data removed]",
      "text/plain": [
       "<Figure size 1080x360 with 1 Axes>"
      ]
     },
     "metadata": {
      "needs_background": "light"
     },
     "output_type": "display_data"
    }
   ],
   "source": [
    "sr = corn_gains_train[corn_gains.gains.abs() > 150].gains\n",
    "fig, ax = plt.subplots(figsize=(15,5))\n",
    "sns.distplot(sr, bins=100, ax=ax)"
   ]
  },
  {
   "cell_type": "code",
   "execution_count": 33,
   "metadata": {},
   "outputs": [
    {
     "name": "stdout",
     "output_type": "stream",
     "text": [
      "            gains      Open     High      Low    Settle  target\n",
      "Date                                                           \n",
      "2006-06-13    0.0  36731.25  37050.0  36712.5  36731.25       0\n",
      "2006-06-14    0.0  36918.75  37275.0  36600.0  36918.75       0\n",
      "2006-06-15    0.0  37106.25  37425.0  36937.5  37106.25       0\n",
      "2006-06-16    0.0  36637.50  37350.0  36337.5  36637.50       0\n",
      "2006-06-19    0.0  36468.75  36712.5  36375.0  36468.75       0\n"
     ]
    }
   ],
   "source": [
    "# coffee contract size is 37,500 pounds price is in cents per pound\n",
    "contracts = 375\n",
    "threshold = 275\n",
    "coffee_gains = create_trade_outcomes(coffee, contracts, threshold)\n",
    "coffee_gains = stop_loss_gen(coffee_gains)\n",
    "coffee_gains_train = coffee_gains.loc[coffee_gains.index < '2018-1-1']"
   ]
  },
  {
   "cell_type": "code",
   "execution_count": 34,
   "metadata": {},
   "outputs": [
    {
     "data": {
      "text/plain": [
       "count    2908.000000\n",
       "mean      -11.546273\n",
       "std      1070.462227\n",
       "min     -5236.875000\n",
       "25%      -516.562500\n",
       "50%         0.000000\n",
       "75%       498.750000\n",
       "max      6341.250000\n",
       "Name: gains, dtype: float64"
      ]
     },
     "execution_count": 34,
     "metadata": {},
     "output_type": "execute_result"
    }
   ],
   "source": [
    "coffee_gains_train.gains.describe()"
   ]
  },
  {
   "cell_type": "code",
   "execution_count": 35,
   "metadata": {},
   "outputs": [
    {
     "data": {
      "text/plain": [
       "<matplotlib.axes._subplots.AxesSubplot at 0x7f6ece3517f0>"
      ]
     },
     "execution_count": 35,
     "metadata": {},
     "output_type": "execute_result"
    },
    {
     "data": {
      "image/png": "[encoded data removed]",
      "text/plain": [
       "<Figure size 720x360 with 1 Axes>"
      ]
     },
     "metadata": {
      "needs_background": "light"
     },
     "output_type": "display_data"
    }
   ],
   "source": [
    "coffee_gains_train[['gains']].plot.hist(bins=40, figsize=(10, 5))"
   ]
  },
  {
   "cell_type": "code",
   "execution_count": 36,
   "metadata": {},
   "outputs": [
    {
     "data": {
      "text/plain": [
       "<matplotlib.axes._subplots.AxesSubplot at 0x7f6ece698400>"
      ]
     },
     "execution_count": 36,
     "metadata": {},
     "output_type": "execute_result"
    },
    {
     "data": {
      "image/png": "[encoded data removed]",
      "text/plain": [
       "<Figure size 432x288 with 1 Axes>"
      ]
     },
     "metadata": {
      "needs_background": "light"
     },
     "output_type": "display_data"
    }
   ],
   "source": [
    "get_wr(coffee, 14)\n",
    "coffee = pd.concat([coffee, coffee_gains[['target']]], axis=1)\n",
    "coffee.loc[coffee.index < '2018-1-1'].target.hist()"
   ]
  },
  {
   "cell_type": "code",
   "execution_count": 37,
   "metadata": {},
   "outputs": [
    {
     "data": {
      "image/png": "[encoded data removed]",
      "text/plain": [
       "<Figure size 720x360 with 1 Axes>"
      ]
     },
     "metadata": {
      "needs_background": "light"
     },
     "output_type": "display_data"
    }
   ],
   "source": [
    "plot_histogram_cumsum(coffee_gains_train[coffee_gains_train.target == 1], 'Open_Low')"
   ]
  },
  {
   "cell_type": "code",
   "execution_count": 38,
   "metadata": {},
   "outputs": [
    {
     "data": {
      "image/png": "[encoded data removed]",
      "text/plain": [
       "<Figure size 720x360 with 1 Axes>"
      ]
     },
     "metadata": {
      "needs_background": "light"
     },
     "output_type": "display_data"
    }
   ],
   "source": [
    "plot_histogram_cumsum(coffee_gains_train[coffee_gains_train.target == -1], 'Open_High')"
   ]
  },
  {
   "cell_type": "code",
   "execution_count": 39,
   "metadata": {},
   "outputs": [
    {
     "data": {
      "text/plain": [
       "<matplotlib.axes._subplots.AxesSubplot at 0x7f6ece28b908>"
      ]
     },
     "execution_count": 39,
     "metadata": {},
     "output_type": "execute_result"
    },
    {
     "data": {
      "image/png": "[encoded data removed]",
      "text/plain": [
       "<Figure size 720x360 with 1 Axes>"
      ]
     },
     "metadata": {
      "needs_background": "light"
     },
     "output_type": "display_data"
    }
   ],
   "source": [
    "gold.loc[gold.index < '2018-01-01']['Settle'].plot(figsize=(10, 5))"
   ]
  },
  {
   "cell_type": "code",
   "execution_count": 40,
   "metadata": {},
   "outputs": [
    {
     "data": {
      "text/plain": [
       "<matplotlib.axes._subplots.AxesSubplot at 0x7f6ece205c18>"
      ]
     },
     "execution_count": 40,
     "metadata": {},
     "output_type": "execute_result"
    },
    {
     "data": {
      "image/png": "[encoded data removed]",
      "text/plain": [
       "<Figure size 720x360 with 1 Axes>"
      ]
     },
     "metadata": {
      "needs_background": "light"
     },
     "output_type": "display_data"
    }
   ],
   "source": [
    "corn.loc[corn.index < '2018-01-01']['Open'].plot(figsize=(10, 5))"
   ]
  },
  {
   "cell_type": "code",
   "execution_count": 41,
   "metadata": {},
   "outputs": [
    {
     "data": {
      "text/plain": [
       "<matplotlib.axes._subplots.AxesSubplot at 0x7f6ece185b38>"
      ]
     },
     "execution_count": 41,
     "metadata": {},
     "output_type": "execute_result"
    },
    {
     "data": {
      "image/png": "[encoded data removed]",
      "text/plain": [
       "<Figure size 720x360 with 1 Axes>"
      ]
     },
     "metadata": {
      "needs_background": "light"
     },
     "output_type": "display_data"
    }
   ],
   "source": [
    "coffee.loc[coffee.index < '2018-01-01']['Open'].plot(figsize=(10, 5))"
   ]
  },
  {
   "cell_type": "code",
   "execution_count": 42,
   "metadata": {},
   "outputs": [],
   "source": [
    "import numpy as np\n",
    "import holidays\n",
    "\n",
    "def trading_day_of_month(tm):\n",
    "    ts = (tm - np.datetime64('1970-01-01')) / np.timedelta64(1, 's')\n",
    "    dt = datetime.datetime.fromtimestamp(ts)\n",
    "    di = datetime.date(year=dt.year, month=dt.month, day=1)\n",
    "    us_holidays = holidays.UnitedStates()\n",
    "    cnt = 1\n",
    "    for i in range(1, 32):\n",
    "        if i == dt.day:\n",
    "            break\n",
    "        if di.weekday() in [0, 1, 2, 3, 4] and dt not in us_holidays:\n",
    "            cnt += 1\n",
    "        di += datetime.timedelta(days=1)\n",
    "    return cnt\n",
    "\n",
    "\n",
    "def create_cycle(x, period):\n",
    "    sn = np.sin(x*(2.*np.pi/period))\n",
    "    cs = np.cos(x*(2.*np.pi/period))\n",
    "    return sn, cs\n",
    "\n",
    "\n",
    "def create_vectors(df, df_cot):\n",
    "    global trading_days_in_year\n",
    "    nv = df.shape[1]-2\n",
    "    i_t = df.shape[1]-1\n",
    "    ans_dct = {}\n",
    "    for i in range(df.shape[0]):\n",
    "        if i < 2*trading_days_in_year:\n",
    "            continue\n",
    "        mtrx = df.iloc[i-2*trading_days_in_year:i, 0:nv].values\n",
    "        size = np.prod(mtrx.shape)\n",
    "        mtrx = list(mtrx.reshape(size))\n",
    "        idx = df.index.values[i]\n",
    "        # add COT report to the end of list\n",
    "        mtrx_cot = df_cot[df_cot.index < idx].values[-8:]\n",
    "        size = np.prod(mtrx_cot.shape)\n",
    "        mtrx_cot = list(mtrx_cot.reshape(size))\n",
    "        if size < 16:\n",
    "            mtrx_cot += [0 for i in range(16-size)]\n",
    "        # Date Features\n",
    "        ts = (idx - np.datetime64('1970-01-01')) / np.timedelta64(1, 's')\n",
    "        dt = datetime.datetime.fromtimestamp(ts)\n",
    "        wsn, wcs = create_cycle(dt.weekday(), 5)\n",
    "        # period for trading day in month is at most 23\n",
    "        tsn, tcs = create_cycle(trading_day_of_month(idx), 23)\n",
    "        dsn, dcs = create_cycle(dt.month, 12)\n",
    "        qsn, qcs = create_cycle((dt.month-1)//3, 4)\n",
    "        mtrx_date = [wsn, wcs, tsn, tcs, dsn, dcs, qsn, qcs, df.loc[idx].wr]\n",
    "        # mtrx_date = [dt.weekday(), trading_day_of_month(idx), dt.month, (dt.month-1)//3, df.loc[idx].wr]\n",
    "        # Combine list\n",
    "        mtrx = mtrx + mtrx_cot + mtrx_date\n",
    "        mtrx.append(df.iloc[i, i_t])\n",
    "        ans_dct[idx] = mtrx\n",
    "    return pd.DataFrame.from_dict(ans_dct, orient='index')"
   ]
  },
  {
   "cell_type": "code",
   "execution_count": 43,
   "metadata": {
    "scrolled": true
   },
   "outputs": [],
   "source": [
    "gold_data = create_vectors(gold, gold_cot)\n",
    "gold_data = gold_data.loc[:end_date]\n",
    "corn_data = create_vectors(corn, corn_cot)\n",
    "corn_data = corn_data.loc[:end_date]\n",
    "coffee_data = create_vectors(coffee, coffee_cot)\n",
    "coffee_data = coffee_data.loc[:end_date]"
   ]
  },
  {
   "cell_type": "code",
   "execution_count": 44,
   "metadata": {},
   "outputs": [
    {
     "data": {
      "text/html": [
       "<div>\n",
       "<style scoped>\n",
       "    .dataframe tbody tr th:only-of-type {\n",
       "        vertical-align: middle;\n",
       "    }\n",
       "\n",
       "    .dataframe tbody tr th {\n",
       "        vertical-align: top;\n",
       "    }\n",
       "\n",
       "    .dataframe thead th {\n",
       "        text-align: right;\n",
       "    }\n",
       "</style>\n",
       "<table border=\"1\" class=\"dataframe\">\n",
       "  <thead>\n",
       "    <tr style=\"text-align: right;\">\n",
       "      <th></th>\n",
       "      <th>0</th>\n",
       "      <th>1</th>\n",
       "      <th>2</th>\n",
       "      <th>3</th>\n",
       "      <th>4</th>\n",
       "      <th>5</th>\n",
       "      <th>6</th>\n",
       "      <th>7</th>\n",
       "      <th>8</th>\n",
       "      <th>9</th>\n",
       "      <th>...</th>\n",
       "      <th>3040</th>\n",
       "      <th>3041</th>\n",
       "      <th>3042</th>\n",
       "      <th>3043</th>\n",
       "      <th>3044</th>\n",
       "      <th>3045</th>\n",
       "      <th>3046</th>\n",
       "      <th>3047</th>\n",
       "      <th>3048</th>\n",
       "      <th>3049</th>\n",
       "    </tr>\n",
       "  </thead>\n",
       "  <tbody>\n",
       "    <tr>\n",
       "      <th>2018-12-03</th>\n",
       "      <td>1175.1</td>\n",
       "      <td>1178.4</td>\n",
       "      <td>1162.2</td>\n",
       "      <td>1169.4</td>\n",
       "      <td>216866.0</td>\n",
       "      <td>273896.0</td>\n",
       "      <td>1174.3</td>\n",
       "      <td>1180.3</td>\n",
       "      <td>1168.4</td>\n",
       "      <td>1177.8</td>\n",
       "      <td>...</td>\n",
       "      <td>0.000000</td>\n",
       "      <td>1.000000</td>\n",
       "      <td>0.269797</td>\n",
       "      <td>0.962917</td>\n",
       "      <td>-2.449294e-16</td>\n",
       "      <td>1.0</td>\n",
       "      <td>-1.0</td>\n",
       "      <td>-1.836970e-16</td>\n",
       "      <td>1.826484</td>\n",
       "      <td>1.0</td>\n",
       "    </tr>\n",
       "    <tr>\n",
       "      <th>2018-12-04</th>\n",
       "      <td>1174.3</td>\n",
       "      <td>1180.3</td>\n",
       "      <td>1168.4</td>\n",
       "      <td>1177.8</td>\n",
       "      <td>169593.0</td>\n",
       "      <td>273718.0</td>\n",
       "      <td>1182.6</td>\n",
       "      <td>1190.2</td>\n",
       "      <td>1158.6</td>\n",
       "      <td>1176.5</td>\n",
       "      <td>...</td>\n",
       "      <td>0.951057</td>\n",
       "      <td>0.309017</td>\n",
       "      <td>0.519584</td>\n",
       "      <td>0.854419</td>\n",
       "      <td>-2.449294e-16</td>\n",
       "      <td>1.0</td>\n",
       "      <td>-1.0</td>\n",
       "      <td>-1.836970e-16</td>\n",
       "      <td>1.821862</td>\n",
       "      <td>0.0</td>\n",
       "    </tr>\n",
       "    <tr>\n",
       "      <th>2018-12-05</th>\n",
       "      <td>1182.6</td>\n",
       "      <td>1190.2</td>\n",
       "      <td>1158.6</td>\n",
       "      <td>1176.5</td>\n",
       "      <td>212507.0</td>\n",
       "      <td>275782.0</td>\n",
       "      <td>1172.8</td>\n",
       "      <td>1177.1</td>\n",
       "      <td>1168.1</td>\n",
       "      <td>1170.1</td>\n",
       "      <td>...</td>\n",
       "      <td>0.587785</td>\n",
       "      <td>-0.809017</td>\n",
       "      <td>0.730836</td>\n",
       "      <td>0.682553</td>\n",
       "      <td>-2.449294e-16</td>\n",
       "      <td>1.0</td>\n",
       "      <td>-1.0</td>\n",
       "      <td>-1.836970e-16</td>\n",
       "      <td>12.128713</td>\n",
       "      <td>0.0</td>\n",
       "    </tr>\n",
       "    <tr>\n",
       "      <th>2018-12-06</th>\n",
       "      <td>1172.8</td>\n",
       "      <td>1177.1</td>\n",
       "      <td>1168.1</td>\n",
       "      <td>1170.1</td>\n",
       "      <td>131034.0</td>\n",
       "      <td>271766.0</td>\n",
       "      <td>1171.4</td>\n",
       "      <td>1182.3</td>\n",
       "      <td>1167.2</td>\n",
       "      <td>1177.5</td>\n",
       "      <td>...</td>\n",
       "      <td>-0.587785</td>\n",
       "      <td>-0.809017</td>\n",
       "      <td>0.887885</td>\n",
       "      <td>0.460065</td>\n",
       "      <td>-2.449294e-16</td>\n",
       "      <td>1.0</td>\n",
       "      <td>-1.0</td>\n",
       "      <td>-1.836970e-16</td>\n",
       "      <td>15.989848</td>\n",
       "      <td>1.0</td>\n",
       "    </tr>\n",
       "    <tr>\n",
       "      <th>2018-12-07</th>\n",
       "      <td>1171.4</td>\n",
       "      <td>1182.3</td>\n",
       "      <td>1167.2</td>\n",
       "      <td>1177.5</td>\n",
       "      <td>138151.0</td>\n",
       "      <td>269789.0</td>\n",
       "      <td>1176.1</td>\n",
       "      <td>1180.7</td>\n",
       "      <td>1170.9</td>\n",
       "      <td>1172.4</td>\n",
       "      <td>...</td>\n",
       "      <td>-0.951057</td>\n",
       "      <td>0.309017</td>\n",
       "      <td>0.979084</td>\n",
       "      <td>0.203456</td>\n",
       "      <td>-2.449294e-16</td>\n",
       "      <td>1.0</td>\n",
       "      <td>-1.0</td>\n",
       "      <td>-1.836970e-16</td>\n",
       "      <td>7.064018</td>\n",
       "      <td>-1.0</td>\n",
       "    </tr>\n",
       "    <tr>\n",
       "      <th>2018-12-10</th>\n",
       "      <td>1176.1</td>\n",
       "      <td>1180.7</td>\n",
       "      <td>1170.9</td>\n",
       "      <td>1172.4</td>\n",
       "      <td>142683.0</td>\n",
       "      <td>272867.0</td>\n",
       "      <td>1172.5</td>\n",
       "      <td>1173.8</td>\n",
       "      <td>1157.6</td>\n",
       "      <td>1161.9</td>\n",
       "      <td>...</td>\n",
       "      <td>0.000000</td>\n",
       "      <td>1.000000</td>\n",
       "      <td>0.997669</td>\n",
       "      <td>-0.068242</td>\n",
       "      <td>-2.449294e-16</td>\n",
       "      <td>1.0</td>\n",
       "      <td>-1.0</td>\n",
       "      <td>-1.836970e-16</td>\n",
       "      <td>15.618221</td>\n",
       "      <td>0.0</td>\n",
       "    </tr>\n",
       "    <tr>\n",
       "      <th>2018-12-11</th>\n",
       "      <td>1172.5</td>\n",
       "      <td>1173.8</td>\n",
       "      <td>1157.6</td>\n",
       "      <td>1161.9</td>\n",
       "      <td>154624.0</td>\n",
       "      <td>270743.0</td>\n",
       "      <td>1161.4</td>\n",
       "      <td>1167.9</td>\n",
       "      <td>1152.5</td>\n",
       "      <td>1165.8</td>\n",
       "      <td>...</td>\n",
       "      <td>0.951057</td>\n",
       "      <td>0.309017</td>\n",
       "      <td>0.942261</td>\n",
       "      <td>-0.334880</td>\n",
       "      <td>-2.449294e-16</td>\n",
       "      <td>1.0</td>\n",
       "      <td>-1.0</td>\n",
       "      <td>-1.836970e-16</td>\n",
       "      <td>20.390456</td>\n",
       "      <td>0.0</td>\n",
       "    </tr>\n",
       "    <tr>\n",
       "      <th>2018-12-12</th>\n",
       "      <td>1161.4</td>\n",
       "      <td>1167.9</td>\n",
       "      <td>1152.5</td>\n",
       "      <td>1165.8</td>\n",
       "      <td>159925.0</td>\n",
       "      <td>270195.0</td>\n",
       "      <td>1164.5</td>\n",
       "      <td>1167.0</td>\n",
       "      <td>1156.3</td>\n",
       "      <td>1159.0</td>\n",
       "      <td>...</td>\n",
       "      <td>0.587785</td>\n",
       "      <td>-0.809017</td>\n",
       "      <td>0.816970</td>\n",
       "      <td>-0.576680</td>\n",
       "      <td>-2.449294e-16</td>\n",
       "      <td>1.0</td>\n",
       "      <td>-1.0</td>\n",
       "      <td>-1.836970e-16</td>\n",
       "      <td>14.316703</td>\n",
       "      <td>0.0</td>\n",
       "    </tr>\n",
       "    <tr>\n",
       "      <th>2018-12-13</th>\n",
       "      <td>1164.5</td>\n",
       "      <td>1167.0</td>\n",
       "      <td>1156.3</td>\n",
       "      <td>1159.0</td>\n",
       "      <td>136465.0</td>\n",
       "      <td>272335.0</td>\n",
       "      <td>1159.8</td>\n",
       "      <td>1168.0</td>\n",
       "      <td>1140.0</td>\n",
       "      <td>1163.7</td>\n",
       "      <td>...</td>\n",
       "      <td>-0.587785</td>\n",
       "      <td>-0.809017</td>\n",
       "      <td>0.631088</td>\n",
       "      <td>-0.775711</td>\n",
       "      <td>-2.449294e-16</td>\n",
       "      <td>1.0</td>\n",
       "      <td>-1.0</td>\n",
       "      <td>-1.836970e-16</td>\n",
       "      <td>19.956616</td>\n",
       "      <td>0.0</td>\n",
       "    </tr>\n",
       "    <tr>\n",
       "      <th>2018-12-14</th>\n",
       "      <td>1159.8</td>\n",
       "      <td>1168.0</td>\n",
       "      <td>1140.0</td>\n",
       "      <td>1163.7</td>\n",
       "      <td>206337.0</td>\n",
       "      <td>272962.0</td>\n",
       "      <td>1143.8</td>\n",
       "      <td>1146.0</td>\n",
       "      <td>1124.3</td>\n",
       "      <td>1129.8</td>\n",
       "      <td>...</td>\n",
       "      <td>-0.951057</td>\n",
       "      <td>0.309017</td>\n",
       "      <td>0.398401</td>\n",
       "      <td>-0.917211</td>\n",
       "      <td>-2.449294e-16</td>\n",
       "      <td>1.0</td>\n",
       "      <td>-1.0</td>\n",
       "      <td>-1.836970e-16</td>\n",
       "      <td>32.971800</td>\n",
       "      <td>1.0</td>\n",
       "    </tr>\n",
       "    <tr>\n",
       "      <th>2018-12-17</th>\n",
       "      <td>1143.8</td>\n",
       "      <td>1146.0</td>\n",
       "      <td>1124.3</td>\n",
       "      <td>1129.8</td>\n",
       "      <td>264010.0</td>\n",
       "      <td>278134.0</td>\n",
       "      <td>1130.5</td>\n",
       "      <td>1143.2</td>\n",
       "      <td>1128.5</td>\n",
       "      <td>1137.4</td>\n",
       "      <td>...</td>\n",
       "      <td>0.000000</td>\n",
       "      <td>1.000000</td>\n",
       "      <td>0.136167</td>\n",
       "      <td>-0.990686</td>\n",
       "      <td>-2.449294e-16</td>\n",
       "      <td>1.0</td>\n",
       "      <td>-1.0</td>\n",
       "      <td>-1.836970e-16</td>\n",
       "      <td>10.412148</td>\n",
       "      <td>0.0</td>\n",
       "    </tr>\n",
       "    <tr>\n",
       "      <th>2018-12-18</th>\n",
       "      <td>1130.5</td>\n",
       "      <td>1143.2</td>\n",
       "      <td>1128.5</td>\n",
       "      <td>1137.4</td>\n",
       "      <td>173977.0</td>\n",
       "      <td>278036.0</td>\n",
       "      <td>1136.1</td>\n",
       "      <td>1144.4</td>\n",
       "      <td>1135.5</td>\n",
       "      <td>1142.7</td>\n",
       "      <td>...</td>\n",
       "      <td>0.951057</td>\n",
       "      <td>0.309017</td>\n",
       "      <td>-0.136167</td>\n",
       "      <td>-0.990686</td>\n",
       "      <td>-2.449294e-16</td>\n",
       "      <td>1.0</td>\n",
       "      <td>-1.0</td>\n",
       "      <td>-1.836970e-16</td>\n",
       "      <td>8.620690</td>\n",
       "      <td>0.0</td>\n",
       "    </tr>\n",
       "    <tr>\n",
       "      <th>2018-12-19</th>\n",
       "      <td>1136.1</td>\n",
       "      <td>1144.4</td>\n",
       "      <td>1135.5</td>\n",
       "      <td>1142.7</td>\n",
       "      <td>112908.0</td>\n",
       "      <td>277461.0</td>\n",
       "      <td>1139.8</td>\n",
       "      <td>1141.7</td>\n",
       "      <td>1127.3</td>\n",
       "      <td>1133.6</td>\n",
       "      <td>...</td>\n",
       "      <td>0.587785</td>\n",
       "      <td>-0.809017</td>\n",
       "      <td>-0.398401</td>\n",
       "      <td>-0.917211</td>\n",
       "      <td>-2.449294e-16</td>\n",
       "      <td>1.0</td>\n",
       "      <td>-1.0</td>\n",
       "      <td>-1.836970e-16</td>\n",
       "      <td>14.356436</td>\n",
       "      <td>1.0</td>\n",
       "    </tr>\n",
       "    <tr>\n",
       "      <th>2018-12-20</th>\n",
       "      <td>1139.8</td>\n",
       "      <td>1141.7</td>\n",
       "      <td>1127.3</td>\n",
       "      <td>1133.6</td>\n",
       "      <td>138335.0</td>\n",
       "      <td>277398.0</td>\n",
       "      <td>1134.0</td>\n",
       "      <td>1138.8</td>\n",
       "      <td>1131.0</td>\n",
       "      <td>1133.2</td>\n",
       "      <td>...</td>\n",
       "      <td>-0.587785</td>\n",
       "      <td>-0.809017</td>\n",
       "      <td>-0.631088</td>\n",
       "      <td>-0.775711</td>\n",
       "      <td>-2.449294e-16</td>\n",
       "      <td>1.0</td>\n",
       "      <td>-1.0</td>\n",
       "      <td>-1.836970e-16</td>\n",
       "      <td>5.491991</td>\n",
       "      <td>-1.0</td>\n",
       "    </tr>\n",
       "    <tr>\n",
       "      <th>2018-12-21</th>\n",
       "      <td>1134.0</td>\n",
       "      <td>1138.8</td>\n",
       "      <td>1131.0</td>\n",
       "      <td>1133.2</td>\n",
       "      <td>110023.0</td>\n",
       "      <td>274507.0</td>\n",
       "      <td>1133.2</td>\n",
       "      <td>1135.5</td>\n",
       "      <td>1128.6</td>\n",
       "      <td>1130.7</td>\n",
       "      <td>...</td>\n",
       "      <td>-0.951057</td>\n",
       "      <td>0.309017</td>\n",
       "      <td>-0.816970</td>\n",
       "      <td>-0.576680</td>\n",
       "      <td>-2.449294e-16</td>\n",
       "      <td>1.0</td>\n",
       "      <td>-1.0</td>\n",
       "      <td>-1.836970e-16</td>\n",
       "      <td>35.362319</td>\n",
       "      <td>1.0</td>\n",
       "    </tr>\n",
       "    <tr>\n",
       "      <th>2018-12-24</th>\n",
       "      <td>1133.2</td>\n",
       "      <td>1135.5</td>\n",
       "      <td>1128.6</td>\n",
       "      <td>1130.7</td>\n",
       "      <td>115561.0</td>\n",
       "      <td>275143.0</td>\n",
       "      <td>1130.0</td>\n",
       "      <td>1137.3</td>\n",
       "      <td>1129.5</td>\n",
       "      <td>1133.6</td>\n",
       "      <td>...</td>\n",
       "      <td>0.000000</td>\n",
       "      <td>1.000000</td>\n",
       "      <td>-0.942261</td>\n",
       "      <td>-0.334880</td>\n",
       "      <td>-2.449294e-16</td>\n",
       "      <td>1.0</td>\n",
       "      <td>-1.0</td>\n",
       "      <td>-1.836970e-16</td>\n",
       "      <td>5.614973</td>\n",
       "      <td>0.0</td>\n",
       "    </tr>\n",
       "    <tr>\n",
       "      <th>2018-12-26</th>\n",
       "      <td>1130.0</td>\n",
       "      <td>1137.3</td>\n",
       "      <td>1129.5</td>\n",
       "      <td>1133.6</td>\n",
       "      <td>71039.0</td>\n",
       "      <td>275832.0</td>\n",
       "      <td>1135.3</td>\n",
       "      <td>1151.7</td>\n",
       "      <td>1132.8</td>\n",
       "      <td>1138.8</td>\n",
       "      <td>...</td>\n",
       "      <td>0.587785</td>\n",
       "      <td>-0.809017</td>\n",
       "      <td>-0.979084</td>\n",
       "      <td>0.203456</td>\n",
       "      <td>-2.449294e-16</td>\n",
       "      <td>1.0</td>\n",
       "      <td>-1.0</td>\n",
       "      <td>-1.836970e-16</td>\n",
       "      <td>20.305677</td>\n",
       "      <td>1.0</td>\n",
       "    </tr>\n",
       "    <tr>\n",
       "      <th>2018-12-27</th>\n",
       "      <td>1135.3</td>\n",
       "      <td>1151.7</td>\n",
       "      <td>1132.8</td>\n",
       "      <td>1138.8</td>\n",
       "      <td>102763.0</td>\n",
       "      <td>278227.0</td>\n",
       "      <td>1139.3</td>\n",
       "      <td>1145.1</td>\n",
       "      <td>1137.1</td>\n",
       "      <td>1140.9</td>\n",
       "      <td>...</td>\n",
       "      <td>-0.587785</td>\n",
       "      <td>-0.809017</td>\n",
       "      <td>-0.887885</td>\n",
       "      <td>0.460065</td>\n",
       "      <td>-2.449294e-16</td>\n",
       "      <td>1.0</td>\n",
       "      <td>-1.0</td>\n",
       "      <td>-1.836970e-16</td>\n",
       "      <td>2.620087</td>\n",
       "      <td>0.0</td>\n",
       "    </tr>\n",
       "    <tr>\n",
       "      <th>2018-12-28</th>\n",
       "      <td>1139.3</td>\n",
       "      <td>1145.1</td>\n",
       "      <td>1137.1</td>\n",
       "      <td>1140.9</td>\n",
       "      <td>100470.0</td>\n",
       "      <td>270797.0</td>\n",
       "      <td>1143.1</td>\n",
       "      <td>1160.6</td>\n",
       "      <td>1142.6</td>\n",
       "      <td>1158.1</td>\n",
       "      <td>...</td>\n",
       "      <td>-0.951057</td>\n",
       "      <td>0.309017</td>\n",
       "      <td>-0.730836</td>\n",
       "      <td>0.682553</td>\n",
       "      <td>-2.449294e-16</td>\n",
       "      <td>1.0</td>\n",
       "      <td>-1.0</td>\n",
       "      <td>-1.836970e-16</td>\n",
       "      <td>3.526971</td>\n",
       "      <td>0.0</td>\n",
       "    </tr>\n",
       "    <tr>\n",
       "      <th>2018-12-31</th>\n",
       "      <td>1143.1</td>\n",
       "      <td>1160.6</td>\n",
       "      <td>1142.6</td>\n",
       "      <td>1158.1</td>\n",
       "      <td>153065.0</td>\n",
       "      <td>272718.0</td>\n",
       "      <td>1159.5</td>\n",
       "      <td>1164.3</td>\n",
       "      <td>1150.3</td>\n",
       "      <td>1151.7</td>\n",
       "      <td>...</td>\n",
       "      <td>0.000000</td>\n",
       "      <td>1.000000</td>\n",
       "      <td>-0.519584</td>\n",
       "      <td>0.854419</td>\n",
       "      <td>-2.449294e-16</td>\n",
       "      <td>1.0</td>\n",
       "      <td>-1.0</td>\n",
       "      <td>-1.836970e-16</td>\n",
       "      <td>10.400000</td>\n",
       "      <td>NaN</td>\n",
       "    </tr>\n",
       "  </tbody>\n",
       "</table>\n",
       "<p>20 rows × 3050 columns</p>\n",
       "</div>"
      ],
      "text/plain": [
       "              0       1       2       3         4         5       6     \\\n",
       "2018-12-03  1175.1  1178.4  1162.2  1169.4  216866.0  273896.0  1174.3   \n",
       "2018-12-04  1174.3  1180.3  1168.4  1177.8  169593.0  273718.0  1182.6   \n",
       "2018-12-05  1182.6  1190.2  1158.6  1176.5  212507.0  275782.0  1172.8   \n",
       "2018-12-06  1172.8  1177.1  1168.1  1170.1  131034.0  271766.0  1171.4   \n",
       "2018-12-07  1171.4  1182.3  1167.2  1177.5  138151.0  269789.0  1176.1   \n",
       "2018-12-10  1176.1  1180.7  1170.9  1172.4  142683.0  272867.0  1172.5   \n",
       "2018-12-11  1172.5  1173.8  1157.6  1161.9  154624.0  270743.0  1161.4   \n",
       "2018-12-12  1161.4  1167.9  1152.5  1165.8  159925.0  270195.0  1164.5   \n",
       "2018-12-13  1164.5  1167.0  1156.3  1159.0  136465.0  272335.0  1159.8   \n",
       "2018-12-14  1159.8  1168.0  1140.0  1163.7  206337.0  272962.0  1143.8   \n",
       "2018-12-17  1143.8  1146.0  1124.3  1129.8  264010.0  278134.0  1130.5   \n",
       "2018-12-18  1130.5  1143.2  1128.5  1137.4  173977.0  278036.0  1136.1   \n",
       "2018-12-19  1136.1  1144.4  1135.5  1142.7  112908.0  277461.0  1139.8   \n",
       "2018-12-20  1139.8  1141.7  1127.3  1133.6  138335.0  277398.0  1134.0   \n",
       "2018-12-21  1134.0  1138.8  1131.0  1133.2  110023.0  274507.0  1133.2   \n",
       "2018-12-24  1133.2  1135.5  1128.6  1130.7  115561.0  275143.0  1130.0   \n",
       "2018-12-26  1130.0  1137.3  1129.5  1133.6   71039.0  275832.0  1135.3   \n",
       "2018-12-27  1135.3  1151.7  1132.8  1138.8  102763.0  278227.0  1139.3   \n",
       "2018-12-28  1139.3  1145.1  1137.1  1140.9  100470.0  270797.0  1143.1   \n",
       "2018-12-31  1143.1  1160.6  1142.6  1158.1  153065.0  272718.0  1159.5   \n",
       "\n",
       "              7       8       9     ...       3040      3041      3042  \\\n",
       "2018-12-03  1180.3  1168.4  1177.8  ...   0.000000  1.000000  0.269797   \n",
       "2018-12-04  1190.2  1158.6  1176.5  ...   0.951057  0.309017  0.519584   \n",
       "2018-12-05  1177.1  1168.1  1170.1  ...   0.587785 -0.809017  0.730836   \n",
       "2018-12-06  1182.3  1167.2  1177.5  ...  -0.587785 -0.809017  0.887885   \n",
       "2018-12-07  1180.7  1170.9  1172.4  ...  -0.951057  0.309017  0.979084   \n",
       "2018-12-10  1173.8  1157.6  1161.9  ...   0.000000  1.000000  0.997669   \n",
       "2018-12-11  1167.9  1152.5  1165.8  ...   0.951057  0.309017  0.942261   \n",
       "2018-12-12  1167.0  1156.3  1159.0  ...   0.587785 -0.809017  0.816970   \n",
       "2018-12-13  1168.0  1140.0  1163.7  ...  -0.587785 -0.809017  0.631088   \n",
       "2018-12-14  1146.0  1124.3  1129.8  ...  -0.951057  0.309017  0.398401   \n",
       "2018-12-17  1143.2  1128.5  1137.4  ...   0.000000  1.000000  0.136167   \n",
       "2018-12-18  1144.4  1135.5  1142.7  ...   0.951057  0.309017 -0.136167   \n",
       "2018-12-19  1141.7  1127.3  1133.6  ...   0.587785 -0.809017 -0.398401   \n",
       "2018-12-20  1138.8  1131.0  1133.2  ...  -0.587785 -0.809017 -0.631088   \n",
       "2018-12-21  1135.5  1128.6  1130.7  ...  -0.951057  0.309017 -0.816970   \n",
       "2018-12-24  1137.3  1129.5  1133.6  ...   0.000000  1.000000 -0.942261   \n",
       "2018-12-26  1151.7  1132.8  1138.8  ...   0.587785 -0.809017 -0.979084   \n",
       "2018-12-27  1145.1  1137.1  1140.9  ...  -0.587785 -0.809017 -0.887885   \n",
       "2018-12-28  1160.6  1142.6  1158.1  ...  -0.951057  0.309017 -0.730836   \n",
       "2018-12-31  1164.3  1150.3  1151.7  ...   0.000000  1.000000 -0.519584   \n",
       "\n",
       "                3043          3044  3045  3046          3047       3048  3049  \n",
       "2018-12-03  0.962917 -2.449294e-16   1.0  -1.0 -1.836970e-16   1.826484   1.0  \n",
       "2018-12-04  0.854419 -2.449294e-16   1.0  -1.0 -1.836970e-16   1.821862   0.0  \n",
       "2018-12-05  0.682553 -2.449294e-16   1.0  -1.0 -1.836970e-16  12.128713   0.0  \n",
       "2018-12-06  0.460065 -2.449294e-16   1.0  -1.0 -1.836970e-16  15.989848   1.0  \n",
       "2018-12-07  0.203456 -2.449294e-16   1.0  -1.0 -1.836970e-16   7.064018  -1.0  \n",
       "2018-12-10 -0.068242 -2.449294e-16   1.0  -1.0 -1.836970e-16  15.618221   0.0  \n",
       "2018-12-11 -0.334880 -2.449294e-16   1.0  -1.0 -1.836970e-16  20.390456   0.0  \n",
       "2018-12-12 -0.576680 -2.449294e-16   1.0  -1.0 -1.836970e-16  14.316703   0.0  \n",
       "2018-12-13 -0.775711 -2.449294e-16   1.0  -1.0 -1.836970e-16  19.956616   0.0  \n",
       "2018-12-14 -0.917211 -2.449294e-16   1.0  -1.0 -1.836970e-16  32.971800   1.0  \n",
       "2018-12-17 -0.990686 -2.449294e-16   1.0  -1.0 -1.836970e-16  10.412148   0.0  \n",
       "2018-12-18 -0.990686 -2.449294e-16   1.0  -1.0 -1.836970e-16   8.620690   0.0  \n",
       "2018-12-19 -0.917211 -2.449294e-16   1.0  -1.0 -1.836970e-16  14.356436   1.0  \n",
       "2018-12-20 -0.775711 -2.449294e-16   1.0  -1.0 -1.836970e-16   5.491991  -1.0  \n",
       "2018-12-21 -0.576680 -2.449294e-16   1.0  -1.0 -1.836970e-16  35.362319   1.0  \n",
       "2018-12-24 -0.334880 -2.449294e-16   1.0  -1.0 -1.836970e-16   5.614973   0.0  \n",
       "2018-12-26  0.203456 -2.449294e-16   1.0  -1.0 -1.836970e-16  20.305677   1.0  \n",
       "2018-12-27  0.460065 -2.449294e-16   1.0  -1.0 -1.836970e-16   2.620087   0.0  \n",
       "2018-12-28  0.682553 -2.449294e-16   1.0  -1.0 -1.836970e-16   3.526971   0.0  \n",
       "2018-12-31  0.854419 -2.449294e-16   1.0  -1.0 -1.836970e-16  10.400000   NaN  \n",
       "\n",
       "[20 rows x 3050 columns]"
      ]
     },
     "execution_count": 44,
     "metadata": {},
     "output_type": "execute_result"
    }
   ],
   "source": [
    "gold_data.tail(20)"
   ]
  },
  {
   "cell_type": "code",
   "execution_count": 45,
   "metadata": {},
   "outputs": [
    {
     "data": {
      "text/plain": [
       "(2669, 3050)"
      ]
     },
     "execution_count": 45,
     "metadata": {},
     "output_type": "execute_result"
    }
   ],
   "source": [
    "gold_data.shape"
   ]
  },
  {
   "cell_type": "code",
   "execution_count": 46,
   "metadata": {},
   "outputs": [
    {
     "data": {
      "text/html": [
       "<div>\n",
       "<style scoped>\n",
       "    .dataframe tbody tr th:only-of-type {\n",
       "        vertical-align: middle;\n",
       "    }\n",
       "\n",
       "    .dataframe tbody tr th {\n",
       "        vertical-align: top;\n",
       "    }\n",
       "\n",
       "    .dataframe thead th {\n",
       "        text-align: right;\n",
       "    }\n",
       "</style>\n",
       "<table border=\"1\" class=\"dataframe\">\n",
       "  <thead>\n",
       "    <tr style=\"text-align: right;\">\n",
       "      <th></th>\n",
       "      <th>Prod_net_position_perc</th>\n",
       "      <th>Money_manager_net_position_perc</th>\n",
       "    </tr>\n",
       "    <tr>\n",
       "      <th>Date</th>\n",
       "      <th></th>\n",
       "      <th></th>\n",
       "    </tr>\n",
       "  </thead>\n",
       "  <tbody>\n",
       "    <tr>\n",
       "      <th>2006-06-13</th>\n",
       "      <td>NaN</td>\n",
       "      <td>NaN</td>\n",
       "    </tr>\n",
       "    <tr>\n",
       "      <th>2006-06-20</th>\n",
       "      <td>1.000000</td>\n",
       "      <td>0.000000</td>\n",
       "    </tr>\n",
       "    <tr>\n",
       "      <th>2006-06-27</th>\n",
       "      <td>1.000000</td>\n",
       "      <td>0.000000</td>\n",
       "    </tr>\n",
       "    <tr>\n",
       "      <th>2006-07-03</th>\n",
       "      <td>0.919154</td>\n",
       "      <td>0.246529</td>\n",
       "    </tr>\n",
       "    <tr>\n",
       "      <th>2006-07-11</th>\n",
       "      <td>0.792600</td>\n",
       "      <td>1.000000</td>\n",
       "    </tr>\n",
       "  </tbody>\n",
       "</table>\n",
       "</div>"
      ],
      "text/plain": [
       "            Prod_net_position_perc  Money_manager_net_position_perc\n",
       "Date                                                               \n",
       "2006-06-13                     NaN                              NaN\n",
       "2006-06-20                1.000000                         0.000000\n",
       "2006-06-27                1.000000                         0.000000\n",
       "2006-07-03                0.919154                         0.246529\n",
       "2006-07-11                0.792600                         1.000000"
      ]
     },
     "execution_count": 46,
     "metadata": {},
     "output_type": "execute_result"
    }
   ],
   "source": [
    "gold_cot.head(5)"
   ]
  },
  {
   "cell_type": "code",
   "execution_count": 47,
   "metadata": {},
   "outputs": [],
   "source": [
    "gold_data = gold_data.loc[gold_data.index >= '2007-01-01']\n",
    "corn_data = corn_data.loc[corn_data.index >= '2007-01-01']\n",
    "coffee_data = coffee_data.loc[coffee_data.index >= '2007-01-01']"
   ]
  },
  {
   "cell_type": "code",
   "execution_count": 48,
   "metadata": {},
   "outputs": [],
   "source": [
    "from sklearn.decomposition import PCA\n",
    "from sklearn.model_selection import train_test_split\n",
    "from sklearn.decomposition import FactorAnalysis\n",
    "\n",
    "validate_date = '2018-01-01'\n",
    "\n",
    "\n",
    "def data_split_pca_transform(df):\n",
    "    global validate_date\n",
    "    label_index = 3049\n",
    "    df_validate = df.loc[validate_date <= df.index]\n",
    "    df_data_tt = df.loc[validate_date > df.index]\n",
    "    df_train, df_test, label_train, label_test = train_test_split(df_data_tt[list(range(label_index))], df_data_tt[label_index], test_size=0.2, random_state=2242)\n",
    "    \n",
    "    pca = PCA(n_components=30, random_state=2234)\n",
    "    # pca = FactorAnalysis(n_components=5, random_state=2234)\n",
    "    pca.fit(df_train[list(range(label_index))])\n",
    "    \n",
    "    return df_train, df_test, label_train, label_test, df_validate[list(range(label_index))], df_validate[label_index], pca\n",
    "\n",
    "\n",
    "def pca_transform(df, pca):\n",
    "    label_index = 3049\n",
    "    df_pca = pca.transform(df[list(range(label_index))])\n",
    "    \n",
    "    # df_pca = np.concatenate((df_pca, df[list(range(3040,label_index))].values), axis=1)\n",
    "    return df_pca"
   ]
  },
  {
   "cell_type": "code",
   "execution_count": 49,
   "metadata": {},
   "outputs": [],
   "source": [
    "gold_train, gold_test, gold_label_train, gold_label_test, gold_validate, gold_label_validate, gold_pca = data_split_pca_transform(gold_data)\n",
    "# gold_train, gold_label_train, gold_validate, gold_label_validate, gold_pca = data_split_pca_transform(gold_data)\n",
    "corn_train, corn_test, corn_label_train, corn_label_test, corn_validate, corn_label_validate, corn_pca = data_split_pca_transform(corn_data)\n",
    "coffee_train, coffee_test, coffee_label_train, coffee_label_test, coffee_validate, coffee_label_validate, coffee_pca = data_split_pca_transform(coffee_data)"
   ]
  },
  {
   "cell_type": "markdown",
   "metadata": {},
   "source": [
    "### Dimension reduction with PCA"
   ]
  },
  {
   "cell_type": "code",
   "execution_count": 50,
   "metadata": {},
   "outputs": [
    {
     "data": {
      "image/png": "[encoded data removed]",
      "text/plain": [
       "<Figure size 432x288 with 1 Axes>"
      ]
     },
     "metadata": {
      "needs_background": "light"
     },
     "output_type": "display_data"
    }
   ],
   "source": [
    "plt.plot(np.cumsum(gold_pca.explained_variance_ratio_), label='Gold')\n",
    "plt.plot(np.cumsum(corn_pca.explained_variance_ratio_), label='Corn')\n",
    "plt.plot(np.cumsum(coffee_pca.explained_variance_ratio_), label='Coffee')\n",
    "plt.xlabel('number of components')\n",
    "plt.ylabel('cumulative explained variance')\n",
    "plt.grid(True)\n",
    "plt.legend()\n",
    "plt.show()"
   ]
  },
  {
   "cell_type": "code",
   "execution_count": 51,
   "metadata": {},
   "outputs": [],
   "source": [
    "# np.cumsum(gold_pca.explained_variance_ratio_)[268]"
   ]
  },
  {
   "cell_type": "code",
   "execution_count": 52,
   "metadata": {},
   "outputs": [
    {
     "data": {
      "text/html": [
       "<div>\n",
       "<style scoped>\n",
       "    .dataframe tbody tr th:only-of-type {\n",
       "        vertical-align: middle;\n",
       "    }\n",
       "\n",
       "    .dataframe tbody tr th {\n",
       "        vertical-align: top;\n",
       "    }\n",
       "\n",
       "    .dataframe thead th {\n",
       "        text-align: right;\n",
       "    }\n",
       "</style>\n",
       "<table border=\"1\" class=\"dataframe\">\n",
       "  <thead>\n",
       "    <tr style=\"text-align: right;\">\n",
       "      <th></th>\n",
       "      <th>0</th>\n",
       "      <th>1</th>\n",
       "      <th>2</th>\n",
       "      <th>3</th>\n",
       "      <th>4</th>\n",
       "      <th>5</th>\n",
       "      <th>6</th>\n",
       "      <th>7</th>\n",
       "      <th>8</th>\n",
       "      <th>9</th>\n",
       "      <th>...</th>\n",
       "      <th>3040</th>\n",
       "      <th>3041</th>\n",
       "      <th>3042</th>\n",
       "      <th>3043</th>\n",
       "      <th>3044</th>\n",
       "      <th>3045</th>\n",
       "      <th>3046</th>\n",
       "      <th>3047</th>\n",
       "      <th>3048</th>\n",
       "      <th>3049</th>\n",
       "    </tr>\n",
       "  </thead>\n",
       "  <tbody>\n",
       "    <tr>\n",
       "      <th>2008-06-06</th>\n",
       "      <td>590.5</td>\n",
       "      <td>595.0</td>\n",
       "      <td>565.5</td>\n",
       "      <td>566.8</td>\n",
       "      <td>93899.0</td>\n",
       "      <td>192616.0</td>\n",
       "      <td>570.0</td>\n",
       "      <td>575.5</td>\n",
       "      <td>565.4</td>\n",
       "      <td>566.5</td>\n",
       "      <td>...</td>\n",
       "      <td>-0.951057</td>\n",
       "      <td>0.309017</td>\n",
       "      <td>0.979084</td>\n",
       "      <td>0.203456</td>\n",
       "      <td>1.224647e-16</td>\n",
       "      <td>-1.0</td>\n",
       "      <td>1.0</td>\n",
       "      <td>6.123234e-17</td>\n",
       "      <td>53.766617</td>\n",
       "      <td>-1.0</td>\n",
       "    </tr>\n",
       "    <tr>\n",
       "      <th>2008-06-09</th>\n",
       "      <td>570.0</td>\n",
       "      <td>575.5</td>\n",
       "      <td>565.4</td>\n",
       "      <td>566.5</td>\n",
       "      <td>68729.0</td>\n",
       "      <td>192917.0</td>\n",
       "      <td>573.5</td>\n",
       "      <td>579.5</td>\n",
       "      <td>569.5</td>\n",
       "      <td>570.3</td>\n",
       "      <td>...</td>\n",
       "      <td>0.000000</td>\n",
       "      <td>1.000000</td>\n",
       "      <td>0.997669</td>\n",
       "      <td>-0.068242</td>\n",
       "      <td>1.224647e-16</td>\n",
       "      <td>-1.0</td>\n",
       "      <td>1.0</td>\n",
       "      <td>6.123234e-17</td>\n",
       "      <td>55.096012</td>\n",
       "      <td>-1.0</td>\n",
       "    </tr>\n",
       "    <tr>\n",
       "      <th>2008-06-10</th>\n",
       "      <td>573.5</td>\n",
       "      <td>579.5</td>\n",
       "      <td>569.5</td>\n",
       "      <td>570.3</td>\n",
       "      <td>52628.0</td>\n",
       "      <td>193887.0</td>\n",
       "      <td>581.2</td>\n",
       "      <td>582.5</td>\n",
       "      <td>570.5</td>\n",
       "      <td>581.7</td>\n",
       "      <td>...</td>\n",
       "      <td>0.951057</td>\n",
       "      <td>0.309017</td>\n",
       "      <td>0.942261</td>\n",
       "      <td>-0.334880</td>\n",
       "      <td>1.224647e-16</td>\n",
       "      <td>-1.0</td>\n",
       "      <td>1.0</td>\n",
       "      <td>6.123234e-17</td>\n",
       "      <td>93.449782</td>\n",
       "      <td>1.0</td>\n",
       "    </tr>\n",
       "    <tr>\n",
       "      <th>2008-06-11</th>\n",
       "      <td>581.2</td>\n",
       "      <td>582.5</td>\n",
       "      <td>570.5</td>\n",
       "      <td>581.7</td>\n",
       "      <td>43947.0</td>\n",
       "      <td>189585.0</td>\n",
       "      <td>572.8</td>\n",
       "      <td>578.4</td>\n",
       "      <td>571.0</td>\n",
       "      <td>572.4</td>\n",
       "      <td>...</td>\n",
       "      <td>0.587785</td>\n",
       "      <td>-0.809017</td>\n",
       "      <td>0.816970</td>\n",
       "      <td>-0.576680</td>\n",
       "      <td>1.224647e-16</td>\n",
       "      <td>-1.0</td>\n",
       "      <td>1.0</td>\n",
       "      <td>6.123234e-17</td>\n",
       "      <td>76.419214</td>\n",
       "      <td>-1.0</td>\n",
       "    </tr>\n",
       "    <tr>\n",
       "      <th>2008-06-12</th>\n",
       "      <td>572.8</td>\n",
       "      <td>578.4</td>\n",
       "      <td>571.0</td>\n",
       "      <td>572.4</td>\n",
       "      <td>27362.0</td>\n",
       "      <td>189168.0</td>\n",
       "      <td>572.0</td>\n",
       "      <td>581.0</td>\n",
       "      <td>567.8</td>\n",
       "      <td>580.5</td>\n",
       "      <td>...</td>\n",
       "      <td>-0.587785</td>\n",
       "      <td>-0.809017</td>\n",
       "      <td>0.631088</td>\n",
       "      <td>-0.775711</td>\n",
       "      <td>1.224647e-16</td>\n",
       "      <td>-1.0</td>\n",
       "      <td>1.0</td>\n",
       "      <td>6.123234e-17</td>\n",
       "      <td>82.535211</td>\n",
       "      <td>0.0</td>\n",
       "    </tr>\n",
       "    <tr>\n",
       "      <th>2008-06-13</th>\n",
       "      <td>572.0</td>\n",
       "      <td>581.0</td>\n",
       "      <td>567.8</td>\n",
       "      <td>580.5</td>\n",
       "      <td>39962.0</td>\n",
       "      <td>187696.0</td>\n",
       "      <td>577.0</td>\n",
       "      <td>591.5</td>\n",
       "      <td>573.5</td>\n",
       "      <td>591.0</td>\n",
       "      <td>...</td>\n",
       "      <td>-0.951057</td>\n",
       "      <td>0.309017</td>\n",
       "      <td>0.398401</td>\n",
       "      <td>-0.917211</td>\n",
       "      <td>1.224647e-16</td>\n",
       "      <td>-1.0</td>\n",
       "      <td>1.0</td>\n",
       "      <td>6.123234e-17</td>\n",
       "      <td>80.985915</td>\n",
       "      <td>1.0</td>\n",
       "    </tr>\n",
       "    <tr>\n",
       "      <th>2008-06-16</th>\n",
       "      <td>577.0</td>\n",
       "      <td>591.5</td>\n",
       "      <td>573.5</td>\n",
       "      <td>591.0</td>\n",
       "      <td>43918.0</td>\n",
       "      <td>187072.0</td>\n",
       "      <td>588.0</td>\n",
       "      <td>593.5</td>\n",
       "      <td>584.5</td>\n",
       "      <td>585.4</td>\n",
       "      <td>...</td>\n",
       "      <td>0.000000</td>\n",
       "      <td>1.000000</td>\n",
       "      <td>0.136167</td>\n",
       "      <td>-0.990686</td>\n",
       "      <td>1.224647e-16</td>\n",
       "      <td>-1.0</td>\n",
       "      <td>1.0</td>\n",
       "      <td>6.123234e-17</td>\n",
       "      <td>49.527410</td>\n",
       "      <td>0.0</td>\n",
       "    </tr>\n",
       "    <tr>\n",
       "      <th>2008-06-17</th>\n",
       "      <td>588.0</td>\n",
       "      <td>593.5</td>\n",
       "      <td>584.5</td>\n",
       "      <td>585.4</td>\n",
       "      <td>42916.0</td>\n",
       "      <td>187027.0</td>\n",
       "      <td>574.5</td>\n",
       "      <td>589.0</td>\n",
       "      <td>574.5</td>\n",
       "      <td>588.0</td>\n",
       "      <td>...</td>\n",
       "      <td>0.951057</td>\n",
       "      <td>0.309017</td>\n",
       "      <td>-0.136167</td>\n",
       "      <td>-0.990686</td>\n",
       "      <td>1.224647e-16</td>\n",
       "      <td>-1.0</td>\n",
       "      <td>1.0</td>\n",
       "      <td>6.123234e-17</td>\n",
       "      <td>48.393195</td>\n",
       "      <td>1.0</td>\n",
       "    </tr>\n",
       "    <tr>\n",
       "      <th>2008-06-18</th>\n",
       "      <td>574.5</td>\n",
       "      <td>589.0</td>\n",
       "      <td>574.5</td>\n",
       "      <td>588.0</td>\n",
       "      <td>33705.0</td>\n",
       "      <td>181290.0</td>\n",
       "      <td>586.2</td>\n",
       "      <td>589.5</td>\n",
       "      <td>580.0</td>\n",
       "      <td>587.7</td>\n",
       "      <td>...</td>\n",
       "      <td>0.587785</td>\n",
       "      <td>-0.809017</td>\n",
       "      <td>-0.398401</td>\n",
       "      <td>-0.917211</td>\n",
       "      <td>1.224647e-16</td>\n",
       "      <td>-1.0</td>\n",
       "      <td>1.0</td>\n",
       "      <td>6.123234e-17</td>\n",
       "      <td>35.916824</td>\n",
       "      <td>1.0</td>\n",
       "    </tr>\n",
       "    <tr>\n",
       "      <th>2008-06-19</th>\n",
       "      <td>586.2</td>\n",
       "      <td>589.5</td>\n",
       "      <td>580.0</td>\n",
       "      <td>587.7</td>\n",
       "      <td>30510.0</td>\n",
       "      <td>181460.0</td>\n",
       "      <td>589.5</td>\n",
       "      <td>599.0</td>\n",
       "      <td>583.7</td>\n",
       "      <td>584.4</td>\n",
       "      <td>...</td>\n",
       "      <td>-0.587785</td>\n",
       "      <td>-0.809017</td>\n",
       "      <td>-0.631088</td>\n",
       "      <td>-0.775711</td>\n",
       "      <td>1.224647e-16</td>\n",
       "      <td>-1.0</td>\n",
       "      <td>1.0</td>\n",
       "      <td>6.123234e-17</td>\n",
       "      <td>15.689981</td>\n",
       "      <td>0.0</td>\n",
       "    </tr>\n",
       "  </tbody>\n",
       "</table>\n",
       "<p>10 rows × 3050 columns</p>\n",
       "</div>"
      ],
      "text/plain": [
       "             0      1      2      3        4         5      6      7     \\\n",
       "2008-06-06  590.5  595.0  565.5  566.8  93899.0  192616.0  570.0  575.5   \n",
       "2008-06-09  570.0  575.5  565.4  566.5  68729.0  192917.0  573.5  579.5   \n",
       "2008-06-10  573.5  579.5  569.5  570.3  52628.0  193887.0  581.2  582.5   \n",
       "2008-06-11  581.2  582.5  570.5  581.7  43947.0  189585.0  572.8  578.4   \n",
       "2008-06-12  572.8  578.4  571.0  572.4  27362.0  189168.0  572.0  581.0   \n",
       "2008-06-13  572.0  581.0  567.8  580.5  39962.0  187696.0  577.0  591.5   \n",
       "2008-06-16  577.0  591.5  573.5  591.0  43918.0  187072.0  588.0  593.5   \n",
       "2008-06-17  588.0  593.5  584.5  585.4  42916.0  187027.0  574.5  589.0   \n",
       "2008-06-18  574.5  589.0  574.5  588.0  33705.0  181290.0  586.2  589.5   \n",
       "2008-06-19  586.2  589.5  580.0  587.7  30510.0  181460.0  589.5  599.0   \n",
       "\n",
       "             8      9     ...       3040      3041      3042      3043  \\\n",
       "2008-06-06  565.4  566.5  ...  -0.951057  0.309017  0.979084  0.203456   \n",
       "2008-06-09  569.5  570.3  ...   0.000000  1.000000  0.997669 -0.068242   \n",
       "2008-06-10  570.5  581.7  ...   0.951057  0.309017  0.942261 -0.334880   \n",
       "2008-06-11  571.0  572.4  ...   0.587785 -0.809017  0.816970 -0.576680   \n",
       "2008-06-12  567.8  580.5  ...  -0.587785 -0.809017  0.631088 -0.775711   \n",
       "2008-06-13  573.5  591.0  ...  -0.951057  0.309017  0.398401 -0.917211   \n",
       "2008-06-16  584.5  585.4  ...   0.000000  1.000000  0.136167 -0.990686   \n",
       "2008-06-17  574.5  588.0  ...   0.951057  0.309017 -0.136167 -0.990686   \n",
       "2008-06-18  580.0  587.7  ...   0.587785 -0.809017 -0.398401 -0.917211   \n",
       "2008-06-19  583.7  584.4  ...  -0.587785 -0.809017 -0.631088 -0.775711   \n",
       "\n",
       "                    3044  3045  3046          3047       3048  3049  \n",
       "2008-06-06  1.224647e-16  -1.0   1.0  6.123234e-17  53.766617  -1.0  \n",
       "2008-06-09  1.224647e-16  -1.0   1.0  6.123234e-17  55.096012  -1.0  \n",
       "2008-06-10  1.224647e-16  -1.0   1.0  6.123234e-17  93.449782   1.0  \n",
       "2008-06-11  1.224647e-16  -1.0   1.0  6.123234e-17  76.419214  -1.0  \n",
       "2008-06-12  1.224647e-16  -1.0   1.0  6.123234e-17  82.535211   0.0  \n",
       "2008-06-13  1.224647e-16  -1.0   1.0  6.123234e-17  80.985915   1.0  \n",
       "2008-06-16  1.224647e-16  -1.0   1.0  6.123234e-17  49.527410   0.0  \n",
       "2008-06-17  1.224647e-16  -1.0   1.0  6.123234e-17  48.393195   1.0  \n",
       "2008-06-18  1.224647e-16  -1.0   1.0  6.123234e-17  35.916824   1.0  \n",
       "2008-06-19  1.224647e-16  -1.0   1.0  6.123234e-17  15.689981   0.0  \n",
       "\n",
       "[10 rows x 3050 columns]"
      ]
     },
     "execution_count": 52,
     "metadata": {},
     "output_type": "execute_result"
    }
   ],
   "source": [
    "gold_data.head(10)"
   ]
  },
  {
   "cell_type": "code",
   "execution_count": 53,
   "metadata": {},
   "outputs": [
    {
     "name": "stdout",
     "output_type": "stream",
     "text": [
      "Linux-4.18.0-13-generic-x86_64-with-Ubuntu-18.10-cosmic\n"
     ]
    }
   ],
   "source": [
    "import os\n",
    "import platform\n",
    "\n",
    "print(platform.platform())\n",
    "\n",
    "if platform.system() == 'Darwin':\n",
    "    os.environ['KMP_DUPLICATE_LIB_OK']='True'"
   ]
  },
  {
   "cell_type": "code",
   "execution_count": 54,
   "metadata": {},
   "outputs": [],
   "source": [
    "%%capture cpt_gold_train\n",
    "from sklearn.ensemble import RandomForestClassifier\n",
    "from sklearn.ensemble import AdaBoostClassifier, AdaBoostRegressor\n",
    "from sklearn.neural_network import MLPClassifier, MLPRegressor\n",
    "from sklearn.model_selection import GridSearchCV, GroupKFold\n",
    "import lightgbm as lgb\n",
    "# import xgboost as xgb\n",
    "\n",
    "categoricals = [10, 11, 12, 13]\n",
    "X = pca_transform(gold_train, gold_pca)\n",
    "y = list(map(lambda x: 1 if x < 0 else 0, gold_label_train))\n",
    "train_data = lgb.Dataset(X, label=y, categorical_feature=categoricals) # categorical_feature=[3040,3041,3042,3043])\n",
    "X_test = pca_transform(gold_test, gold_pca)\n",
    "y_test = list(map(lambda x: 1 if x < 0 else 0, gold_label_test))\n",
    "test_data = lgb.Dataset(X_test, label=y_test, categorical_feature=categoricals)\n",
    "\n",
    "gold_short = True\n",
    "\n",
    "param = {}\n",
    "param['num_leaves'] = 31\n",
    "param['objective'] = 'binary'\n",
    "param['boosting'] = 'dart'\n",
    "param['metric'] = 'binary_error'\n",
    "param['learning_rate'] = 0.05\n",
    "param['num_class'] = 1\n",
    "param['max_bin'] = 40\n",
    "param['reg_alpha'] = 5\n",
    "param['reg_lambda'] = 10\n",
    "num_round = 100\n",
    "\n",
    "gold_clf = lgb.train(param, train_data, num_round, valid_sets=[test_data])"
   ]
  },
  {
   "cell_type": "code",
   "execution_count": 55,
   "metadata": {
    "scrolled": true
   },
   "outputs": [],
   "source": [
    "%%capture cpt_corn_train\n",
    "X = pca_transform(corn_train, corn_pca)\n",
    "y = list(map(lambda x: 1 if x < 0 else 0, corn_label_train))\n",
    "train_data = lgb.Dataset(X, label=y, categorical_feature=categoricals)\n",
    "X_test = pca_transform(corn_test, corn_pca)\n",
    "y_test = list(map(lambda x: 1 if x < 0 else 0, corn_label_test))\n",
    "test_data = lgb.Dataset(X_test, label=y_test, categorical_feature=categoricals)\n",
    "corn_short = True\n",
    "corn_clf = lgb.train(param, train_data, num_round, valid_sets=[test_data])"
   ]
  },
  {
   "cell_type": "code",
   "execution_count": 56,
   "metadata": {
    "scrolled": true
   },
   "outputs": [],
   "source": [
    "%%capture cpt_coffee_train\n",
    "X = pca_transform(coffee_train, coffee_pca)\n",
    "y = list(map(lambda x: 1 if x < 0 else 0, coffee_label_train))\n",
    "train_data = lgb.Dataset(X, label=y, categorical_feature=categoricals)\n",
    "X_test = pca_transform(coffee_test, coffee_pca)\n",
    "y_test = list(map(lambda x: 1 if x < 0 else 0, coffee_label_test))\n",
    "test_data = lgb.Dataset(X_test, label=y_test, categorical_feature=categoricals)\n",
    "coffee_short = True\n",
    "coffee_clf = lgb.train(param, train_data, num_round, valid_sets=[test_data])"
   ]
  },
  {
   "cell_type": "code",
   "execution_count": 57,
   "metadata": {},
   "outputs": [],
   "source": [
    "# rework with numpy cumsum\n",
    "\n",
    "def get_performance(model, pca, df_gains, df, labels, short=gold_short, multi_class=False, stop_loss=500, vector=False):\n",
    "    global account_size, fee\n",
    "    acc = account_size\n",
    "    df = pca_transform(df, pca)\n",
    "    if short:\n",
    "        target = -1.0\n",
    "    else:\n",
    "        target = 1.0\n",
    "    preds = model.predict(df)\n",
    "    # print(np.unique(preds))\n",
    "    if vector:\n",
    "        preds = [p[0] for p in preds]\n",
    "        # ps = []\n",
    "        # for p, r in preds:\n",
    "        #     if p > 0.5 and p > r:\n",
    "        #         ps.append(p)\n",
    "        # preds = ps\n",
    "    predictions = []\n",
    "    if not multi_class:\n",
    "        mx = 0\n",
    "        for p in preds:\n",
    "            # print(p)\n",
    "            if p > mx:\n",
    "                # print(mx)\n",
    "                mx = p\n",
    "            if p > 0.5:\n",
    "                predictions.append(target)\n",
    "            else:\n",
    "                predictions.append(0)\n",
    "    else:\n",
    "        mx = 0\n",
    "        for t, n in preds:\n",
    "            # if t > mx:\n",
    "            #     print(mx)\n",
    "            #     mx = t\n",
    "            if t > 0.5:\n",
    "                print(t, n)\n",
    "                predictions.append(target)\n",
    "            else:\n",
    "                predictions.append(0)\n",
    "    dct = {}\n",
    "    dct['account'] = [acc]\n",
    "    dct['trade'] = [0]\n",
    "    dct['label'] = [0]\n",
    "    dct['short'] = [0]\n",
    "    dct['long'] = [0]\n",
    "    dct['trade'] = [0]\n",
    "    dct['label'] = [0]\n",
    "    dct['stop_loss'] = [0]\n",
    "    dct['gains'] = [0]\n",
    "    for p, l, v in zip(predictions, labels, df_gains.values):\n",
    "        # print(p, l)\n",
    "        # print(p,l)\n",
    "        # print(p)\n",
    "        short = 0\n",
    "        long = 0\n",
    "        s_l = 0\n",
    "        gains = 0\n",
    "        if p == -1.0:\n",
    "            # print(\"Short \", p, l)\n",
    "            short = 1\n",
    "            if (v[2] - v[1]) > stop_loss:\n",
    "                gains = -stop_loss\n",
    "                s_l = 1\n",
    "            else:\n",
    "                gains = -v[0] - fee\n",
    "        elif p == 1.0:\n",
    "            long = 1\n",
    "            if (v[1] - v[3]) > stop_loss:\n",
    "                gains = -stop_loss\n",
    "                s_l = 1\n",
    "            else:\n",
    "                gains = v[0] - fee\n",
    "        acc += gains\n",
    "        dct['account'].append(acc)\n",
    "        dct['short'].append(short)\n",
    "        dct['long'].append(long)\n",
    "        dct['stop_loss'].append(s_l)\n",
    "        dct['trade'].append(p)\n",
    "        dct['label'].append(l)\n",
    "        dct['gains'].append(gains)\n",
    "        if acc <= 0:\n",
    "            break\n",
    "    return pd.DataFrame.from_dict(dct)"
   ]
  },
  {
   "cell_type": "code",
   "execution_count": 58,
   "metadata": {
    "scrolled": true
   },
   "outputs": [
    {
     "data": {
      "text/plain": [
       "(0, 10500)"
      ]
     },
     "execution_count": 58,
     "metadata": {},
     "output_type": "execute_result"
    },
    {
     "data": {
      "image/png": "[encoded data removed]",
      "text/plain": [
       "<Figure size 432x288 with 1 Axes>"
      ]
     },
     "metadata": {
      "needs_background": "light"
     },
     "output_type": "display_data"
    }
   ],
   "source": [
    "gold_account = get_performance(gold_clf, gold_pca, gold_gains.loc[gold_gains.index > validate_date], gold_validate, gold_label_validate, short=True, stop_loss=1000)\n",
    "ax1 = gold_account[['account']].plot(grid=True)\n",
    "ax1.set_ylim(0,gold_account.account.max()+500)"
   ]
  },
  {
   "cell_type": "code",
   "execution_count": 59,
   "metadata": {},
   "outputs": [
    {
     "data": {
      "text/plain": [
       "array([[<matplotlib.axes._subplots.AxesSubplot object at 0x7f6ec5bed048>,\n",
       "        <matplotlib.axes._subplots.AxesSubplot object at 0x7f6ec5c1a710>]],\n",
       "      dtype=object)"
      ]
     },
     "execution_count": 59,
     "metadata": {},
     "output_type": "execute_result"
    },
    {
     "data": {
      "image/png": "[encoded data removed]",
      "text/plain": [
       "<Figure size 432x288 with 2 Axes>"
      ]
     },
     "metadata": {
      "needs_background": "light"
     },
     "output_type": "display_data"
    }
   ],
   "source": [
    "gold_account[gold_account.short == 1][['label', 'trade']].hist()"
   ]
  },
  {
   "cell_type": "code",
   "execution_count": 60,
   "metadata": {},
   "outputs": [
    {
     "data": {
      "text/plain": [
       "array([[<matplotlib.axes._subplots.AxesSubplot object at 0x7f6ec5b83908>,\n",
       "        <matplotlib.axes._subplots.AxesSubplot object at 0x7f6ec5b5c898>]],\n",
       "      dtype=object)"
      ]
     },
     "execution_count": 60,
     "metadata": {},
     "output_type": "execute_result"
    },
    {
     "data": {
      "image/png": "[encoded data removed]",
      "text/plain": [
       "<Figure size 432x288 with 2 Axes>"
      ]
     },
     "metadata": {
      "needs_background": "light"
     },
     "output_type": "display_data"
    }
   ],
   "source": [
    "gold_account[['trade', 'label']].hist()"
   ]
  },
  {
   "cell_type": "code",
   "execution_count": 61,
   "metadata": {},
   "outputs": [
    {
     "data": {
      "text/plain": [
       "0"
      ]
     },
     "execution_count": 61,
     "metadata": {},
     "output_type": "execute_result"
    }
   ],
   "source": [
    "gold_account[gold_account['short'] == 1].gains.sum()"
   ]
  },
  {
   "cell_type": "code",
   "execution_count": 62,
   "metadata": {},
   "outputs": [
    {
     "data": {
      "text/plain": [
       "0"
      ]
     },
     "execution_count": 62,
     "metadata": {},
     "output_type": "execute_result"
    }
   ],
   "source": [
    "gold_account[gold_account['long'] == 1].gains.sum()"
   ]
  },
  {
   "cell_type": "code",
   "execution_count": 63,
   "metadata": {},
   "outputs": [
    {
     "data": {
      "text/plain": [
       "(0, 10500)"
      ]
     },
     "execution_count": 63,
     "metadata": {},
     "output_type": "execute_result"
    },
    {
     "data": {
      "image/png": "[encoded data removed]",
      "text/plain": [
       "<Figure size 432x288 with 1 Axes>"
      ]
     },
     "metadata": {
      "needs_background": "light"
     },
     "output_type": "display_data"
    }
   ],
   "source": [
    "corn_account = get_performance(corn_clf, corn_pca, corn_gains.loc[corn_gains.index > validate_date], corn_validate, corn_label_validate, short=True, stop_loss=400)\n",
    "ax1 = corn_account.account.plot(grid=True)\n",
    "ax1.set_ylim(0,corn_account.account.max()+500)"
   ]
  },
  {
   "cell_type": "code",
   "execution_count": 64,
   "metadata": {},
   "outputs": [
    {
     "data": {
      "text/plain": [
       "0"
      ]
     },
     "execution_count": 64,
     "metadata": {},
     "output_type": "execute_result"
    }
   ],
   "source": [
    "corn_account[corn_account['short'] == 1].gains.sum()"
   ]
  },
  {
   "cell_type": "code",
   "execution_count": 65,
   "metadata": {},
   "outputs": [
    {
     "data": {
      "text/plain": [
       "0"
      ]
     },
     "execution_count": 65,
     "metadata": {},
     "output_type": "execute_result"
    }
   ],
   "source": [
    "corn_account[corn_account['long'] == 1].gains.sum()"
   ]
  },
  {
   "cell_type": "code",
   "execution_count": 66,
   "metadata": {},
   "outputs": [
    {
     "data": {
      "text/plain": [
       "<matplotlib.axes._subplots.AxesSubplot at 0x7f6ec5be8940>"
      ]
     },
     "execution_count": 66,
     "metadata": {},
     "output_type": "execute_result"
    },
    {
     "data": {
      "image/png": "[encoded data removed]",
      "text/plain": [
       "<Figure size 432x288 with 1 Axes>"
      ]
     },
     "metadata": {
      "needs_background": "light"
     },
     "output_type": "display_data"
    }
   ],
   "source": [
    "corn_account[corn_account.short == 1].label.hist()"
   ]
  },
  {
   "cell_type": "code",
   "execution_count": 67,
   "metadata": {},
   "outputs": [
    {
     "data": {
      "text/plain": [
       "array([[<matplotlib.axes._subplots.AxesSubplot object at 0x7f6ec44aca90>,\n",
       "        <matplotlib.axes._subplots.AxesSubplot object at 0x7f6ec37daef0>]],\n",
       "      dtype=object)"
      ]
     },
     "execution_count": 67,
     "metadata": {},
     "output_type": "execute_result"
    },
    {
     "data": {
      "image/png": "[encoded data removed]",
      "text/plain": [
       "<Figure size 432x288 with 2 Axes>"
      ]
     },
     "metadata": {
      "needs_background": "light"
     },
     "output_type": "display_data"
    }
   ],
   "source": [
    "corn_account[['trade', 'label']].hist()"
   ]
  },
  {
   "cell_type": "code",
   "execution_count": 68,
   "metadata": {},
   "outputs": [
    {
     "data": {
      "text/plain": [
       "(0, 10500)"
      ]
     },
     "execution_count": 68,
     "metadata": {},
     "output_type": "execute_result"
    },
    {
     "data": {
      "image/png": "[encoded data removed]",
      "text/plain": [
       "<Figure size 432x288 with 1 Axes>"
      ]
     },
     "metadata": {
      "needs_background": "light"
     },
     "output_type": "display_data"
    }
   ],
   "source": [
    "coffee_account = get_performance(coffee_clf, coffee_pca, coffee_gains.loc[coffee_gains.index > validate_date], coffee_validate, coffee_label_validate, short=coffee_short, stop_loss=1000)\n",
    "ax1 = coffee_account.account.plot(grid=True)\n",
    "ax1.set_ylim(0,coffee_account.account.max()+500)"
   ]
  },
  {
   "cell_type": "code",
   "execution_count": 69,
   "metadata": {},
   "outputs": [
    {
     "data": {
      "text/plain": [
       "0"
      ]
     },
     "execution_count": 69,
     "metadata": {},
     "output_type": "execute_result"
    }
   ],
   "source": [
    "coffee_account[coffee_account['short'] == 1].gains.sum()"
   ]
  },
  {
   "cell_type": "code",
   "execution_count": 70,
   "metadata": {},
   "outputs": [
    {
     "data": {
      "text/plain": [
       "0"
      ]
     },
     "execution_count": 70,
     "metadata": {},
     "output_type": "execute_result"
    }
   ],
   "source": [
    "coffee_account[coffee_account['long'] == 1].gains.sum()"
   ]
  },
  {
   "cell_type": "code",
   "execution_count": 71,
   "metadata": {},
   "outputs": [
    {
     "data": {
      "text/plain": [
       "<matplotlib.axes._subplots.AxesSubplot at 0x7f6ec36ece80>"
      ]
     },
     "execution_count": 71,
     "metadata": {},
     "output_type": "execute_result"
    },
    {
     "data": {
      "image/png": "[encoded data removed]",
      "text/plain": [
       "<Figure size 432x288 with 1 Axes>"
      ]
     },
     "metadata": {
      "needs_background": "light"
     },
     "output_type": "display_data"
    }
   ],
   "source": [
    "coffee_account[coffee_account.short == 1].label.hist()"
   ]
  },
  {
   "cell_type": "code",
   "execution_count": 72,
   "metadata": {},
   "outputs": [
    {
     "data": {
      "text/plain": [
       "array([[<matplotlib.axes._subplots.AxesSubplot object at 0x7f6ec336d048>,\n",
       "        <matplotlib.axes._subplots.AxesSubplot object at 0x7f6ec3395860>]],\n",
       "      dtype=object)"
      ]
     },
     "execution_count": 72,
     "metadata": {},
     "output_type": "execute_result"
    },
    {
     "data": {
      "image/png": "[encoded data removed]",
      "text/plain": [
       "<Figure size 432x288 with 2 Axes>"
      ]
     },
     "metadata": {
      "needs_background": "light"
     },
     "output_type": "display_data"
    }
   ],
   "source": [
    "coffee_account[['trade', 'label']].hist()"
   ]
  },
  {
   "cell_type": "code",
   "execution_count": 73,
   "metadata": {},
   "outputs": [
    {
     "data": {
      "text/plain": [
       "MLPClassifier(activation='relu', alpha=0.01, batch_size='auto', beta_1=0.9,\n",
       "       beta_2=0.999, early_stopping=False, epsilon=1e-08,\n",
       "       hidden_layer_sizes=(10, 20, 2), learning_rate='constant',\n",
       "       learning_rate_init=0.001, max_iter=200, momentum=0.9,\n",
       "       n_iter_no_change=10, nesterovs_momentum=True, power_t=0.5,\n",
       "       random_state=55431, shuffle=True, solver='lbfgs', tol=0.0001,\n",
       "       validation_fraction=0.1, verbose=False, warm_start=False)"
      ]
     },
     "execution_count": 73,
     "metadata": {},
     "output_type": "execute_result"
    }
   ],
   "source": [
    "# %%capture gold_long_train\n",
    "from sklearn.preprocessing import OneHotEncoder\n",
    "from sklearn.neural_network import MLPClassifier\n",
    "\n",
    "X = pca_transform(gold_train, gold_pca)\n",
    "y = list(map(lambda x: 1 if x > 0 else 0, gold_label_train))\n",
    "X_test = pca_transform(gold_test, gold_pca)\n",
    "y_test = list(map(lambda x: 1 if x > 0 else 0, gold_label_test))\n",
    "\n",
    "gold_clf_long = MLPClassifier(solver='lbfgs', alpha=1e-2,\n",
    "                              hidden_layer_sizes=(10, 20, 2), random_state=55431)\n",
    "gold_clf_long.fit(np.concatenate([X, X_test]), np.concatenate([y, y_test]))"
   ]
  },
  {
   "cell_type": "code",
   "execution_count": 74,
   "metadata": {},
   "outputs": [],
   "source": [
    "%%capture training_gold\n",
    "from keras.layers import Dropout, Flatten, Dense, Activation, LeakyReLU\n",
    "from keras.layers.normalization import BatchNormalization\n",
    "from keras.optimizers import Nadam\n",
    "from keras.models import Sequential\n",
    "from keras import regularizers\n",
    "\n",
    "X_train = np.concatenate([X, X_test])\n",
    "y_train = np.array([[1,0] if i==1 else [0,0] for i in np.concatenate([y, y_test])])\n",
    "\n",
    "input_shape = 30\n",
    "num_classes = 1\n",
    "\n",
    "# Define a model\n",
    "model = Sequential()  \n",
    "model.add(Dense(64, input_dim=input_shape, activity_regularizer=regularizers.l2(0.01)))\n",
    "model.add(BatchNormalization())\n",
    "model.add(LeakyReLU())\n",
    "model.add(Dropout(0.5))\n",
    "model.add(Dense(16, activity_regularizer=regularizers.l2(0.01)))\n",
    "model.add(BatchNormalization())\n",
    "model.add(LeakyReLU())\n",
    "model.add(Dense(2))\n",
    "model.add(Activation('softmax'))\n",
    "\n",
    "opt = Nadam(lr=0.002)\n",
    "\n",
    "model.compile(optimizer=opt, loss='categorical_crossentropy', metrics=['accuracy'])\n",
    "model.fit(X_train, y_train, epochs=50)\n",
    "\n",
    "model.summary()"
   ]
  },
  {
   "cell_type": "code",
   "execution_count": 75,
   "metadata": {},
   "outputs": [],
   "source": [
    "gold_clf_long = model"
   ]
  },
  {
   "cell_type": "code",
   "execution_count": 76,
   "metadata": {},
   "outputs": [
    {
     "name": "stdout",
     "output_type": "stream",
     "text": [
      "0.99992645 7.35437e-05\n",
      "0.9999263 7.3652205e-05\n",
      "0.9999263 7.367897e-05\n",
      "0.9999263 7.368115e-05\n",
      "0.9999263 7.3680945e-05\n",
      "0.9999263 7.366204e-05\n",
      "0.9999263 7.362124e-05\n",
      "0.9999267 7.332844e-05\n",
      "0.99992704 7.29976e-05\n",
      "0.99992716 7.281398e-05\n",
      "0.9999273 7.27244e-05\n",
      "0.99992716 7.278753e-05\n",
      "0.99992704 7.29372e-05\n",
      "0.9999269 7.303122e-05\n",
      "0.99992716 7.287435e-05\n",
      "0.9999273 7.273265e-05\n",
      "0.99992716 7.277281e-05\n",
      "0.99992704 7.295125e-05\n",
      "0.9999269 7.30118e-05\n",
      "0.9999269 7.302913e-05\n",
      "0.99992704 7.2996205e-05\n",
      "0.99992716 7.2813564e-05\n",
      "0.9999275 7.2527844e-05\n",
      "0.9999279 7.2136754e-05\n",
      "0.99992824 7.174886e-05\n",
      "0.9999286 7.139164e-05\n",
      "0.99992895 7.103443e-05\n",
      "0.9999292 7.0751106e-05\n",
      "0.99992955 7.0450034e-05\n",
      "0.9999298 7.021843e-05\n",
      "0.9999299 7.0076894e-05\n",
      "0.99993 7.000229e-05\n",
      "0.9999298 7.021214e-05\n",
      "0.9999294 7.05352e-05\n",
      "0.9999291 7.094799e-05\n",
      "0.9999286 7.141125e-05\n",
      "0.9999281 7.190791e-05\n",
      "0.99992764 7.231927e-05\n",
      "0.9999274 7.262183e-05\n",
      "0.99992716 7.282114e-05\n",
      "0.99992704 7.29525e-05\n",
      "0.99992704 7.300066e-05\n",
      "0.99992704 7.300038e-05\n",
      "0.9999269 7.3048424e-05\n",
      "0.99992704 7.300693e-05\n",
      "0.99992704 7.291244e-05\n",
      "0.99992716 7.277691e-05\n",
      "0.9999275 7.252729e-05\n",
      "0.99992764 7.23568e-05\n",
      "0.999928 7.2050134e-05\n",
      "0.99992824 7.1754745e-05\n",
      "0.9999286 7.1454306e-05\n",
      "0.9999287 7.130305e-05\n",
      "0.9999287 7.1308765e-05\n",
      "0.9999286 7.1399125e-05\n",
      "0.9999285 7.156286e-05\n",
      "0.9999281 7.18567e-05\n",
      "0.999928 7.201585e-05\n",
      "0.9999279 7.205686e-05\n",
      "0.99992776 7.219531e-05\n",
      "0.99992776 7.223064e-05\n",
      "0.9999279 7.2160976e-05\n",
      "0.9999279 7.2070194e-05\n",
      "0.999928 7.195647e-05\n",
      "0.99992836 7.169832e-05\n",
      "0.9999286 7.136128e-05\n",
      "0.99992895 7.10652e-05\n",
      "0.9999292 7.08041e-05\n",
      "0.99992955 7.046838e-05\n",
      "0.9999299 7.0033726e-05\n",
      "0.9999304 6.959301e-05\n",
      "0.99993074 6.9273745e-05\n",
      "0.99993086 6.9161266e-05\n",
      "0.99993074 6.923081e-05\n",
      "0.9999304 6.957569e-05\n",
      "0.9999299 7.014194e-05\n",
      "0.9999293 7.065934e-05\n",
      "0.99992895 7.1002134e-05\n",
      "0.9999286 7.135911e-05\n",
      "0.99992824 7.170563e-05\n",
      "0.999928 7.205261e-05\n",
      "0.99992764 7.2332936e-05\n",
      "0.9999275 7.249148e-05\n",
      "0.9999274 7.253822e-05\n",
      "0.9999273 7.269916e-05\n",
      "0.99992716 7.2846975e-05\n",
      "0.99992704 7.2911185e-05\n",
      "0.99992716 7.285629e-05\n",
      "0.9999273 7.265494e-05\n",
      "0.99992764 7.239048e-05\n",
      "0.999928 7.195023e-05\n",
      "0.9999286 7.1428825e-05\n",
      "0.99992895 7.1000846e-05\n",
      "0.9999293 7.0694594e-05\n",
      "0.9999294 7.053049e-05\n",
      "0.9999294 7.058701e-05\n",
      "0.9999292 7.08484e-05\n",
      "0.99992883 7.122233e-05\n",
      "0.9999285 7.152916e-05\n",
      "0.99992824 7.172143e-05\n",
      "0.99992824 7.176281e-05\n",
      "0.99992824 7.173497e-05\n",
      "0.99992836 7.158067e-05\n",
      "0.9999285 7.1515446e-05\n",
      "0.9999285 7.15119e-05\n",
      "0.9999285 7.155413e-05\n",
      "0.9999285 7.1465336e-05\n",
      "0.9999287 7.1294286e-05\n",
      "0.99992883 7.11467e-05\n",
      "0.9999291 7.0901726e-05\n",
      "0.9999293 7.070572e-05\n",
      "0.9999294 7.051139e-05\n",
      "0.99992967 7.032881e-05\n",
      "0.9999298 7.02179e-05\n",
      "0.99992967 7.0322836e-05\n",
      "0.9999294 7.05597e-05\n",
      "0.9999291 7.097892e-05\n",
      "0.9999286 7.135475e-05\n",
      "0.99992824 7.177528e-05\n",
      "0.99992764 7.236605e-05\n",
      "0.99992704 7.290966e-05\n",
      "0.9999267 7.3340394e-05\n",
      "0.99992657 7.345603e-05\n",
      "0.99992645 7.3595416e-05\n",
      "0.9999262 7.3730065e-05\n",
      "0.9999261 7.384589e-05\n",
      "0.9999261 7.395569e-05\n",
      "0.999926 7.4026386e-05\n",
      "0.999926 7.405879e-05\n",
      "0.9999261 7.393446e-05\n",
      "0.9999262 7.374258e-05\n",
      "0.9999263 7.363198e-05\n",
      "0.9999267 7.331774e-05\n",
      "0.99992704 7.298883e-05\n",
      "0.9999274 7.262086e-05\n",
      "0.99992764 7.2344104e-05\n",
      "0.9999279 7.2138406e-05\n",
      "0.9999279 7.210539e-05\n",
      "0.9999279 7.2171984e-05\n",
      "0.99992764 7.2360664e-05\n",
      "0.9999275 7.251769e-05\n",
      "0.9999273 7.2681825e-05\n",
      "0.99992716 7.2818635e-05\n",
      "0.99992716 7.283197e-05\n",
      "0.9999273 7.276658e-05\n",
      "0.99992716 7.2806484e-05\n",
      "0.99992716 7.280704e-05\n",
      "0.9999273 7.268806e-05\n",
      "0.9999275 7.244061e-05\n",
      "0.99992776 7.21801e-05\n",
      "0.999928 7.196443e-05\n",
      "0.99992824 7.1727714e-05\n",
      "0.99992836 7.161147e-05\n",
      "0.9999285 7.155972e-05\n",
      "0.9999285 7.1514565e-05\n",
      "0.9999286 7.144191e-05\n",
      "0.9999285 7.150351e-05\n",
      "0.99992836 7.168061e-05\n",
      "0.9999281 7.19125e-05\n",
      "0.99992776 7.225104e-05\n",
      "0.9999273 7.266554e-05\n",
      "0.9999269 7.312496e-05\n",
      "0.99992645 7.353123e-05\n",
      "0.9999261 7.386138e-05\n",
      "0.999926 7.399759e-05\n",
      "0.99992585 7.41537e-05\n",
      "0.99992573 7.427203e-05\n",
      "0.99992573 7.428691e-05\n",
      "0.99992573 7.427359e-05\n",
      "0.9999256 7.438231e-05\n",
      "0.99992573 7.43195e-05\n",
      "0.99992585 7.417379e-05\n",
      "0.9999261 7.391233e-05\n",
      "0.99992645 7.356096e-05\n",
      "0.9999268 7.3246185e-05\n",
      "0.99992704 7.289589e-05\n",
      "0.9999274 7.2535106e-05\n",
      "0.99992764 7.230769e-05\n",
      "0.99992776 7.22199e-05\n",
      "0.99992776 7.224387e-05\n",
      "0.9999275 7.248581e-05\n",
      "0.9999273 7.271656e-05\n",
      "0.99992704 7.299217e-05\n",
      "0.9999268 7.322949e-05\n",
      "0.99992657 7.3462266e-05\n",
      "0.99992645 7.355647e-05\n",
      "0.9999263 7.365888e-05\n",
      "0.9999262 7.375848e-05\n",
      "0.9999263 7.3705756e-05\n",
      "0.99992645 7.35618e-05\n",
      "0.9999267 7.33497e-05\n",
      "0.9999268 7.318746e-05\n",
      "0.99992704 7.2945826e-05\n",
      "0.9999273 7.277116e-05\n",
      "0.9999274 7.258555e-05\n",
      "0.9999275 7.244911e-05\n",
      "0.99992776 7.219676e-05\n",
      "0.9999281 7.1937124e-05\n",
      "0.9999281 7.189358e-05\n",
      "0.999928 7.197349e-05\n",
      "0.9999279 7.212519e-05\n",
      "0.9999274 7.2555515e-05\n",
      "0.9999269 7.309951e-05\n",
      "0.99992645 7.349589e-05\n",
      "0.9999261 7.387878e-05\n",
      "0.9999261 7.396324e-05\n",
      "0.999926 7.4056254e-05\n",
      "0.99992585 7.4152216e-05\n",
      "0.99992573 7.423633e-05\n",
      "0.99992573 7.429669e-05\n",
      "0.9999256 7.4323674e-05\n",
      "0.9999256 7.432474e-05\n",
      "0.99992573 7.430497e-05\n",
      "0.99992573 7.4249576e-05\n",
      "0.99992585 7.417535e-05\n",
      "0.999926 7.400352e-05\n",
      "0.9999262 7.3758056e-05\n",
      "0.99992657 7.347725e-05\n",
      "0.9999268 7.3182855e-05\n",
      "0.9999269 7.309024e-05\n",
      "0.9999268 7.3150404e-05\n",
      "0.9999267 7.3265735e-05\n",
      "0.9999267 7.335999e-05\n",
      "0.9999267 7.327098e-05\n",
      "0.9999269 7.3105715e-05\n",
      "0.99992704 7.290966e-05\n",
      "0.99992716 7.2831834e-05\n",
      "0.99992716 7.2792456e-05\n",
      "0.99992716 7.282301e-05\n",
      "0.99992716 7.2817595e-05\n",
      "0.9999273 7.269118e-05\n",
      "0.9999275 7.247088e-05\n",
      "0.9999279 7.2156225e-05\n",
      "0.999928 7.195709e-05\n",
      "0.9999281 7.190064e-05\n",
      "0.999928 7.204958e-05\n",
      "0.99992776 7.22877e-05\n",
      "0.9999274 7.262031e-05\n",
      "0.9999269 7.303024e-05\n",
      "0.99992657 7.340861e-05\n",
      "0.99992645 7.355009e-05\n",
      "0.9999263 7.364462e-05\n",
      "0.9999263 7.370695e-05\n",
      "0.9999263 7.3658666e-05\n",
      "0.99992657 7.339468e-05\n",
      "0.9999269 7.310613e-05\n",
      "0.99992704 7.2998155e-05\n",
      "0.99992704 7.299161e-05\n",
      "0.9999269 7.307239e-05\n",
      "0.9999268 7.3197865e-05\n",
      "0.99992657 7.3416944e-05\n",
      "0.99992645 7.3575415e-05\n"
     ]
    },
    {
     "data": {
      "text/plain": [
       "(0, 18000)"
      ]
     },
     "execution_count": 76,
     "metadata": {},
     "output_type": "execute_result"
    },
    {
     "data": {
      "image/png": "[encoded data removed]",
      "text/plain": [
       "<Figure size 432x288 with 1 Axes>"
      ]
     },
     "metadata": {
      "needs_background": "light"
     },
     "output_type": "display_data"
    }
   ],
   "source": [
    "gold_account_long = get_performance(gold_clf_long, gold_pca, gold_gains.loc[gold_gains.index > validate_date], gold_validate, gold_label_validate, short=False, stop_loss=300, multi_class=True, vector=False)\n",
    "ax1 = gold_account_long[['account']].plot(grid=True)\n",
    "ax1.set_ylim(0,18000)"
   ]
  },
  {
   "cell_type": "code",
   "execution_count": 77,
   "metadata": {},
   "outputs": [
    {
     "data": {
      "text/plain": [
       "-10257.499999999936"
      ]
     },
     "execution_count": 77,
     "metadata": {},
     "output_type": "execute_result"
    }
   ],
   "source": [
    "gold_account_long[gold_account_long['long'] == 1].gains.sum()"
   ]
  },
  {
   "cell_type": "code",
   "execution_count": 78,
   "metadata": {},
   "outputs": [
    {
     "data": {
      "text/plain": [
       "<matplotlib.axes._subplots.AxesSubplot at 0x7f6e9c125b70>"
      ]
     },
     "execution_count": 78,
     "metadata": {},
     "output_type": "execute_result"
    },
    {
     "data": {
      "image/png": "[encoded data removed]",
      "text/plain": [
       "<Figure size 432x288 with 1 Axes>"
      ]
     },
     "metadata": {
      "needs_background": "light"
     },
     "output_type": "display_data"
    }
   ],
   "source": [
    "gold_account_long[gold_account_long['long'] == 1].label.hist()"
   ]
  },
  {
   "cell_type": "code",
   "execution_count": 79,
   "metadata": {},
   "outputs": [
    {
     "data": {
      "text/plain": [
       "array([[<matplotlib.axes._subplots.AxesSubplot object at 0x7f6ec32dba20>,\n",
       "        <matplotlib.axes._subplots.AxesSubplot object at 0x7f6e9c04e240>]],\n",
       "      dtype=object)"
      ]
     },
     "execution_count": 79,
     "metadata": {},
     "output_type": "execute_result"
    },
    {
     "data": {
      "image/png": "[encoded data removed]",
      "text/plain": [
       "<Figure size 432x288 with 2 Axes>"
      ]
     },
     "metadata": {
      "needs_background": "light"
     },
     "output_type": "display_data"
    }
   ],
   "source": [
    "gold_account_long[['trade', 'label']].hist()"
   ]
  },
  {
   "cell_type": "code",
   "execution_count": 80,
   "metadata": {
    "scrolled": true
   },
   "outputs": [
    {
     "name": "stdout",
     "output_type": "stream",
     "text": [
      "Train on 1930 samples, validate on 483 samples\n",
      "Epoch 1/20\n",
      "1930/1930 [==============================] - 0s 179us/step - loss: 8313333737962.2461 - precision: 0.3124 - val_loss: 847377466022.4265 - val_precision: 0.2981\n",
      "Epoch 2/20\n",
      "1930/1930 [==============================] - 0s 15us/step - loss: 289784258392.8705 - precision: 0.3124 - val_loss: 26401085003.2629 - val_precision: 0.2981\n",
      "Epoch 3/20\n",
      "1930/1930 [==============================] - 0s 28us/step - loss: 19029523196.7503 - precision: 0.3124 - val_loss: 6088513330.3520 - val_precision: 0.2981\n",
      "Epoch 4/20\n",
      "1930/1930 [==============================] - 0s 18us/step - loss: 2548988830.7731 - precision: 0.3124 - val_loss: 218459052.0580 - val_precision: 0.2981\n",
      "Epoch 5/20\n",
      "1930/1930 [==============================] - 0s 23us/step - loss: 82540313.2347 - precision: 0.3124 - val_loss: 12980793.9275 - val_precision: 0.2981\n",
      "Epoch 6/20\n",
      "1930/1930 [==============================] - 0s 25us/step - loss: 5752364.4667 - precision: 0.3124 - val_loss: 672680.2342 - val_precision: 0.2981\n",
      "Epoch 7/20\n",
      "1930/1930 [==============================] - 0s 26us/step - loss: 263623.3416 - precision: 0.3124 - val_loss: 32490.3274 - val_precision: 0.2981\n",
      "Epoch 8/20\n",
      "1930/1930 [==============================] - 0s 26us/step - loss: 13361.1375 - precision: 0.3124 - val_loss: 1422.4202 - val_precision: 0.2981\n",
      "Epoch 9/20\n",
      "1930/1930 [==============================] - 0s 14us/step - loss: 546.4318 - precision: 0.3124 - val_loss: 79.3285 - val_precision: 0.2981\n",
      "Epoch 10/20\n",
      "1930/1930 [==============================] - 0s 15us/step - loss: 41.4524 - precision: 0.3124 - val_loss: 16.4882 - val_precision: 0.2981\n",
      "Epoch 11/20\n",
      "1930/1930 [==============================] - 0s 14us/step - loss: 14.3944 - precision: 0.3124 - val_loss: 13.4513 - val_precision: 0.2981\n",
      "Epoch 12/20\n",
      "1930/1930 [==============================] - 0s 14us/step - loss: 13.2751 - precision: 0.3124 - val_loss: 13.3838 - val_precision: 0.2981\n",
      "Epoch 13/20\n",
      "1930/1930 [==============================] - 0s 14us/step - loss: 13.2441 - precision: 0.3124 - val_loss: 13.2833 - val_precision: 0.2981\n",
      "Epoch 14/20\n",
      "1930/1930 [==============================] - 0s 15us/step - loss: 13.2386 - precision: 0.3124 - val_loss: 13.3104 - val_precision: 0.2981\n",
      "Epoch 15/20\n",
      "1930/1930 [==============================] - 0s 13us/step - loss: 13.2425 - precision: 0.3124 - val_loss: 13.2567 - val_precision: 0.2981\n",
      "Epoch 16/20\n",
      "1930/1930 [==============================] - 0s 13us/step - loss: 13.2403 - precision: 0.3124 - val_loss: 13.2668 - val_precision: 0.2981\n",
      "Epoch 17/20\n",
      "1930/1930 [==============================] - 0s 14us/step - loss: 13.2789 - precision: 0.3124 - val_loss: 13.3463 - val_precision: 0.2981\n",
      "Epoch 18/20\n",
      "1930/1930 [==============================] - 0s 15us/step - loss: 13.2742 - precision: 0.3124 - val_loss: 13.3858 - val_precision: 0.2981\n",
      "Epoch 19/20\n",
      "1930/1930 [==============================] - 0s 15us/step - loss: 13.3716 - precision: 0.3124 - val_loss: 13.7792 - val_precision: 0.2981\n",
      "Epoch 20/20\n",
      "1930/1930 [==============================] - 0s 14us/step - loss: 13.7747 - precision: 0.3124 - val_loss: 15.7474 - val_precision: 0.2981\n",
      "_________________________________________________________________\n",
      "Layer (type)                 Output Shape              Param #   \n",
      "=================================================================\n",
      "dense_4 (Dense)              (None, 32)                992       \n",
      "_________________________________________________________________\n",
      "leaky_re_lu_3 (LeakyReLU)    (None, 32)                0         \n",
      "_________________________________________________________________\n",
      "dropout_2 (Dropout)          (None, 32)                0         \n",
      "_________________________________________________________________\n",
      "dense_5 (Dense)              (None, 16)                528       \n",
      "_________________________________________________________________\n",
      "leaky_re_lu_4 (LeakyReLU)    (None, 16)                0         \n",
      "_________________________________________________________________\n",
      "dense_6 (Dense)              (None, 1)                 17        \n",
      "_________________________________________________________________\n",
      "activation_2 (Activation)    (None, 1)                 0         \n",
      "=================================================================\n",
      "Total params: 1,537\n",
      "Trainable params: 1,537\n",
      "Non-trainable params: 0\n",
      "_________________________________________________________________\n"
     ]
    }
   ],
   "source": [
    "# %%capture cpt_corn_train\n",
    "import keras_metrics\n",
    "X = pca_transform(corn_train, corn_pca)\n",
    "X_test = pca_transform(corn_test, corn_pca)\n",
    "\n",
    "y = list(map(lambda x: 1 if x > 0 else 0, corn_label_train))\n",
    "y_test = list(map(lambda x: 1 if x > 0 else 0, corn_label_test))\n",
    "\n",
    "model = Sequential()  \n",
    "model.add(Dense(32, input_dim=input_shape, activity_regularizer=regularizers.l2(0.01)))\n",
    "model.add(LeakyReLU())\n",
    "model.add(Dropout(0.5))\n",
    "model.add(Dense(16, activity_regularizer=regularizers.l2(0.01)))\n",
    "model.add(LeakyReLU())\n",
    "model.add(Dense(1))\n",
    "model.add(Activation('softmax'))\n",
    "\n",
    "opt = Nadam(lr=0.02)\n",
    "\n",
    "model.compile(optimizer=opt,\n",
    "              loss=\"binary_crossentropy\",\n",
    "              metrics=[keras_metrics.precision()])\n",
    "model.fit(X, y, epochs=20, validation_data=(X_test, y_test), batch_size=128, shuffle=True)\n",
    "\n",
    "model.summary()\n",
    "\n",
    "corn_clf_long = model"
   ]
  },
  {
   "cell_type": "code",
   "execution_count": 81,
   "metadata": {},
   "outputs": [
    {
     "data": {
      "text/plain": [
       "(0, 18000)"
      ]
     },
     "execution_count": 81,
     "metadata": {},
     "output_type": "execute_result"
    },
    {
     "data": {
      "image/png": "[encoded data removed]",
      "text/plain": [
       "<Figure size 432x288 with 1 Axes>"
      ]
     },
     "metadata": {
      "needs_background": "light"
     },
     "output_type": "display_data"
    }
   ],
   "source": [
    "corn_account_long = get_performance(corn_clf_long, corn_pca, corn_gains.loc[corn_gains.index > validate_date], corn_validate, corn_label_validate, short=False, stop_loss=500, vector=True, multi_class=False)\n",
    "ax1 = corn_account_long[['account']].plot(grid=True)\n",
    "ax1.set_ylim(0,18000)"
   ]
  },
  {
   "cell_type": "code",
   "execution_count": 82,
   "metadata": {},
   "outputs": [
    {
     "data": {
      "text/plain": [
       "-814.1250000000002"
      ]
     },
     "execution_count": 82,
     "metadata": {},
     "output_type": "execute_result"
    }
   ],
   "source": [
    "corn_account_long[corn_account_long['long'] == 1].gains.sum()"
   ]
  },
  {
   "cell_type": "code",
   "execution_count": 83,
   "metadata": {},
   "outputs": [
    {
     "data": {
      "text/plain": [
       "<matplotlib.axes._subplots.AxesSubplot at 0x7f6e8c471898>"
      ]
     },
     "execution_count": 83,
     "metadata": {},
     "output_type": "execute_result"
    },
    {
     "data": {
      "image/png": "[encoded data removed]",
      "text/plain": [
       "<Figure size 432x288 with 1 Axes>"
      ]
     },
     "metadata": {
      "needs_background": "light"
     },
     "output_type": "display_data"
    }
   ],
   "source": [
    "corn_account_long[corn_account_long['long'] == 1].label.hist()"
   ]
  },
  {
   "cell_type": "code",
   "execution_count": 84,
   "metadata": {},
   "outputs": [
    {
     "data": {
      "text/plain": [
       "array([[<matplotlib.axes._subplots.AxesSubplot object at 0x7f6e8c3bdba8>,\n",
       "        <matplotlib.axes._subplots.AxesSubplot object at 0x7f6e8c39e278>]],\n",
       "      dtype=object)"
      ]
     },
     "execution_count": 84,
     "metadata": {},
     "output_type": "execute_result"
    },
    {
     "data": {
      "image/png": "[encoded data removed]",
      "text/plain": [
       "<Figure size 432x288 with 2 Axes>"
      ]
     },
     "metadata": {
      "needs_background": "light"
     },
     "output_type": "display_data"
    }
   ],
   "source": [
    "corn_account_long[['trade', 'label']].hist()"
   ]
  },
  {
   "cell_type": "code",
   "execution_count": 85,
   "metadata": {},
   "outputs": [
    {
     "name": "stdout",
     "output_type": "stream",
     "text": [
      "Epoch 1/2\n",
      "2417/2417 [==============================] - 1s 349us/step - loss: 694155272805.4679 - acc: 0.7166\n",
      "Epoch 2/2\n",
      "2417/2417 [==============================] - 0s 61us/step - loss: 127580440385.3504 - acc: 0.9814\n",
      "_________________________________________________________________\n",
      "Layer (type)                 Output Shape              Param #   \n",
      "=================================================================\n",
      "dense_7 (Dense)              (None, 64)                1984      \n",
      "_________________________________________________________________\n",
      "batch_normalization_3 (Batch (None, 64)                256       \n",
      "_________________________________________________________________\n",
      "leaky_re_lu_5 (LeakyReLU)    (None, 64)                0         \n",
      "_________________________________________________________________\n",
      "dropout_3 (Dropout)          (None, 64)                0         \n",
      "_________________________________________________________________\n",
      "dense_8 (Dense)              (None, 16)                1040      \n",
      "_________________________________________________________________\n",
      "batch_normalization_4 (Batch (None, 16)                64        \n",
      "_________________________________________________________________\n",
      "leaky_re_lu_6 (LeakyReLU)    (None, 16)                0         \n",
      "_________________________________________________________________\n",
      "dense_9 (Dense)              (None, 2)                 34        \n",
      "_________________________________________________________________\n",
      "activation_3 (Activation)    (None, 2)                 0         \n",
      "=================================================================\n",
      "Total params: 3,378\n",
      "Trainable params: 3,218\n",
      "Non-trainable params: 160\n",
      "_________________________________________________________________\n"
     ]
    }
   ],
   "source": [
    "# %%capture cpt_coffee_train\n",
    "param['max_bin'] = 10\n",
    "X = pca_transform(coffee_train, coffee_pca)\n",
    "X_test = pca_transform(coffee_test, coffee_pca)\n",
    "y = list(map(lambda x: 1 if x < 0 else 0, coffee_label_test))\n",
    "model = Sequential()  \n",
    "model.add(Dense(64, input_dim=input_shape, activity_regularizer=regularizers.l2(0.01)))\n",
    "model.add(BatchNormalization())\n",
    "model.add(LeakyReLU())\n",
    "model.add(Dropout(0.5))\n",
    "model.add(Dense(16, activity_regularizer=regularizers.l2(0.01)))\n",
    "model.add(BatchNormalization())\n",
    "model.add(LeakyReLU())\n",
    "model.add(Dense(2))\n",
    "model.add(Activation('softmax'))\n",
    "\n",
    "opt = Nadam(lr=0.002)\n",
    "\n",
    "model.compile(optimizer=opt, loss='categorical_crossentropy', metrics=['accuracy'])\n",
    "model.fit(X_train, y_train, epochs=2)\n",
    "\n",
    "model.summary()\n",
    "\n",
    "coffee_clf_long = model\n",
    "# coffee_clf_long = lgb.train(param, train_data, num_round, valid_sets=[test_data])"
   ]
  },
  {
   "cell_type": "code",
   "execution_count": 86,
   "metadata": {},
   "outputs": [
    {
     "data": {
      "text/plain": [
       "(0, 20000)"
      ]
     },
     "execution_count": 86,
     "metadata": {},
     "output_type": "execute_result"
    },
    {
     "data": {
      "image/png": "[encoded data removed]",
      "text/plain": [
       "<Figure size 432x288 with 1 Axes>"
      ]
     },
     "metadata": {
      "needs_background": "light"
     },
     "output_type": "display_data"
    }
   ],
   "source": [
    "coffee_account_long = get_performance(coffee_clf_long, coffee_pca, coffee_gains.loc[coffee_gains.index > validate_date], corn_validate, coffee_label_validate, short=False, stop_loss=1000, vector=True)\n",
    "ax1 = coffee_account_long[['account']].plot(grid=True)\n",
    "ax1.set_ylim(0,20000)"
   ]
  },
  {
   "cell_type": "code",
   "execution_count": 87,
   "metadata": {},
   "outputs": [
    {
     "data": {
      "text/html": [
       "<div>\n",
       "<style scoped>\n",
       "    .dataframe tbody tr th:only-of-type {\n",
       "        vertical-align: middle;\n",
       "    }\n",
       "\n",
       "    .dataframe tbody tr th {\n",
       "        vertical-align: top;\n",
       "    }\n",
       "\n",
       "    .dataframe thead th {\n",
       "        text-align: right;\n",
       "    }\n",
       "</style>\n",
       "<table border=\"1\" class=\"dataframe\">\n",
       "  <thead>\n",
       "    <tr style=\"text-align: right;\">\n",
       "      <th></th>\n",
       "      <th>account</th>\n",
       "      <th>trade</th>\n",
       "      <th>label</th>\n",
       "      <th>short</th>\n",
       "      <th>long</th>\n",
       "      <th>stop_loss</th>\n",
       "      <th>gains</th>\n",
       "    </tr>\n",
       "  </thead>\n",
       "  <tbody>\n",
       "    <tr>\n",
       "      <th>0</th>\n",
       "      <td>10000.0000</td>\n",
       "      <td>0.0</td>\n",
       "      <td>0.0</td>\n",
       "      <td>0</td>\n",
       "      <td>0</td>\n",
       "      <td>0</td>\n",
       "      <td>0.0000</td>\n",
       "    </tr>\n",
       "    <tr>\n",
       "      <th>1</th>\n",
       "      <td>9000.0000</td>\n",
       "      <td>1.0</td>\n",
       "      <td>-1.0</td>\n",
       "      <td>0</td>\n",
       "      <td>1</td>\n",
       "      <td>1</td>\n",
       "      <td>-1000.0000</td>\n",
       "    </tr>\n",
       "    <tr>\n",
       "      <th>2</th>\n",
       "      <td>9479.4375</td>\n",
       "      <td>1.0</td>\n",
       "      <td>1.0</td>\n",
       "      <td>0</td>\n",
       "      <td>1</td>\n",
       "      <td>0</td>\n",
       "      <td>479.4375</td>\n",
       "    </tr>\n",
       "    <tr>\n",
       "      <th>3</th>\n",
       "      <td>9210.7500</td>\n",
       "      <td>1.0</td>\n",
       "      <td>0.0</td>\n",
       "      <td>0</td>\n",
       "      <td>1</td>\n",
       "      <td>0</td>\n",
       "      <td>-268.6875</td>\n",
       "    </tr>\n",
       "    <tr>\n",
       "      <th>4</th>\n",
       "      <td>8210.7500</td>\n",
       "      <td>1.0</td>\n",
       "      <td>-1.0</td>\n",
       "      <td>0</td>\n",
       "      <td>1</td>\n",
       "      <td>1</td>\n",
       "      <td>-1000.0000</td>\n",
       "    </tr>\n",
       "    <tr>\n",
       "      <th>5</th>\n",
       "      <td>7210.7500</td>\n",
       "      <td>1.0</td>\n",
       "      <td>0.0</td>\n",
       "      <td>0</td>\n",
       "      <td>1</td>\n",
       "      <td>1</td>\n",
       "      <td>-1000.0000</td>\n",
       "    </tr>\n",
       "    <tr>\n",
       "      <th>6</th>\n",
       "      <td>6674.8750</td>\n",
       "      <td>1.0</td>\n",
       "      <td>-1.0</td>\n",
       "      <td>0</td>\n",
       "      <td>1</td>\n",
       "      <td>0</td>\n",
       "      <td>-535.8750</td>\n",
       "    </tr>\n",
       "    <tr>\n",
       "      <th>7</th>\n",
       "      <td>6263.6875</td>\n",
       "      <td>1.0</td>\n",
       "      <td>-1.0</td>\n",
       "      <td>0</td>\n",
       "      <td>1</td>\n",
       "      <td>0</td>\n",
       "      <td>-411.1875</td>\n",
       "    </tr>\n",
       "    <tr>\n",
       "      <th>8</th>\n",
       "      <td>6066.2500</td>\n",
       "      <td>1.0</td>\n",
       "      <td>0.0</td>\n",
       "      <td>0</td>\n",
       "      <td>1</td>\n",
       "      <td>0</td>\n",
       "      <td>-197.4375</td>\n",
       "    </tr>\n",
       "    <tr>\n",
       "      <th>9</th>\n",
       "      <td>5583.8125</td>\n",
       "      <td>1.0</td>\n",
       "      <td>-1.0</td>\n",
       "      <td>0</td>\n",
       "      <td>1</td>\n",
       "      <td>0</td>\n",
       "      <td>-482.4375</td>\n",
       "    </tr>\n",
       "  </tbody>\n",
       "</table>\n",
       "</div>"
      ],
      "text/plain": [
       "      account  trade  label  short  long  stop_loss      gains\n",
       "0  10000.0000    0.0    0.0      0     0          0     0.0000\n",
       "1   9000.0000    1.0   -1.0      0     1          1 -1000.0000\n",
       "2   9479.4375    1.0    1.0      0     1          0   479.4375\n",
       "3   9210.7500    1.0    0.0      0     1          0  -268.6875\n",
       "4   8210.7500    1.0   -1.0      0     1          1 -1000.0000\n",
       "5   7210.7500    1.0    0.0      0     1          1 -1000.0000\n",
       "6   6674.8750    1.0   -1.0      0     1          0  -535.8750\n",
       "7   6263.6875    1.0   -1.0      0     1          0  -411.1875\n",
       "8   6066.2500    1.0    0.0      0     1          0  -197.4375\n",
       "9   5583.8125    1.0   -1.0      0     1          0  -482.4375"
      ]
     },
     "execution_count": 87,
     "metadata": {},
     "output_type": "execute_result"
    }
   ],
   "source": [
    "coffee_account_long.head(10)"
   ]
  },
  {
   "cell_type": "code",
   "execution_count": 88,
   "metadata": {},
   "outputs": [],
   "source": [
    "# mean reversal\n",
    "# Compute the z-scores for each day using the historical data up to that day\n",
    "def mean_reversal_account(df, df_gains, trade_days=1):\n",
    "    account = 10000\n",
    "    direction = gold['mean_direction'].values[0]\n",
    "    dct = {}\n",
    "    dct['account'] = [account]\n",
    "    trade = 0\n",
    "    for d, v in zip(df['mean_direction'].values, gold_gains.values):\n",
    "        if d >= 0 and direction <= 0:\n",
    "            account -= v[0]\n",
    "            trade += 1\n",
    "            if trade_days == trade:\n",
    "                direction = d\n",
    "                trade = 0\n",
    "        elif d <= 0 and direction >= 0:\n",
    "            direction = d\n",
    "            account += v[0]\n",
    "            trade += 1\n",
    "            if trade_days == trade:\n",
    "                direction = d\n",
    "                trade = 0\n",
    "        dct['account'].append(account)\n",
    "        if account <= 0:\n",
    "            break\n",
    "    return pd.DataFrame.from_dict(dct)\n",
    "\n",
    "def mean_calculation(df, big_range, small_range):\n",
    "    big_mean = 'mean_' + str(big_range)\n",
    "    small_mean = 'mean_' + str(small_range)\n",
    "    df[big_mean] = df.rolling(str(big_range) + 'd')['Settle'].apply(np.mean, raw=False)\n",
    "    df[small_mean] = df.rolling(str(small_range) + 'd')['Settle'].apply(np.mean, raw=False)\n",
    "    df['mean_direction'] =  df[small_mean] - df[big_mean]\n",
    "    return df"
   ]
  },
  {
   "cell_type": "code",
   "execution_count": 89,
   "metadata": {},
   "outputs": [
    {
     "data": {
      "text/plain": [
       "<matplotlib.axes._subplots.AxesSubplot at 0x7f6e634cf860>"
      ]
     },
     "execution_count": 89,
     "metadata": {},
     "output_type": "execute_result"
    },
    {
     "data": {
      "image/png": "[encoded data removed]",
      "text/plain": [
       "<Figure size 720x360 with 1 Axes>"
      ]
     },
     "metadata": {
      "needs_background": "light"
     },
     "output_type": "display_data"
    }
   ],
   "source": [
    "gold = mean_calculation(gold, 90, 30)\n",
    "gold[['Settle', 'mean_90', 'mean_30']].loc[gold.index > validate_date].plot(figsize=(10,5), grid=True)"
   ]
  },
  {
   "cell_type": "code",
   "execution_count": 90,
   "metadata": {},
   "outputs": [],
   "source": [
    "# dow_amount = 10000/dow[dow.index == '2018-01-01'].Settle\n",
    "# print(dow.loc[(dow.index >= '2018-01-01') & (dow.index < '2018-01-02')].Settle)\n",
    "# print(dow_amount)\n",
    "nasdaq_amount = 10000/nasdaq.loc[(nasdaq.index >= '2018-01-02') & (nasdaq.index < '2018-01-03')].Settle.values[0]\n",
    "\n",
    "nasdaq = nasdaq.loc[(nasdaq.index <= '2018-12-31')]\n",
    "# dow = dow.loc[(dow.index <= '2018-12-31')]\n",
    "# gold_mean.rename(columns={'account': 'Mean Strategy', 'base': '10000'}).head()"
   ]
  },
  {
   "cell_type": "code",
   "execution_count": 91,
   "metadata": {},
   "outputs": [
    {
     "data": {
      "text/plain": [
       "6514.75"
      ]
     },
     "execution_count": 91,
     "metadata": {},
     "output_type": "execute_result"
    }
   ],
   "source": [
    "nasdaq.loc[(nasdaq.index >= '2018-01-02') & (nasdaq.index < '2018-01-03')].Settle.values[0]"
   ]
  },
  {
   "cell_type": "code",
   "execution_count": 92,
   "metadata": {},
   "outputs": [
    {
     "data": {
      "text/plain": [
       "1.5349783184312522"
      ]
     },
     "execution_count": 92,
     "metadata": {},
     "output_type": "execute_result"
    }
   ],
   "source": [
    "nasdaq_amount"
   ]
  },
  {
   "cell_type": "code",
   "execution_count": 93,
   "metadata": {},
   "outputs": [
    {
     "data": {
      "text/plain": [
       "<matplotlib.axes._subplots.AxesSubplot at 0x7f6e63465ba8>"
      ]
     },
     "execution_count": 93,
     "metadata": {},
     "output_type": "execute_result"
    },
    {
     "data": {
      "image/png": "[encoded data removed]",
      "text/plain": [
       "<Figure size 720x360 with 1 Axes>"
      ]
     },
     "metadata": {
      "needs_background": "light"
     },
     "output_type": "display_data"
    }
   ],
   "source": [
    "gold_mean = mean_reversal_account(gold.loc[gold.index > validate_date], gold_gains.loc[gold_gains.index > validate_date], trade_days=5)\n",
    "gold_mean['base'] = gold_mean.account.apply(lambda x: 10000)\n",
    "gold_mean['Nasdaq'] = nasdaq.Settle.values[-253:]\n",
    "gold_mean['Nasdaq'] = gold_mean['Nasdaq']*nasdaq_amount\n",
    "\n",
    "pd.concat([gold_mean.rename(columns={'account': 'Mean Strategy', 'base': '10000'}), \n",
    "           gold_account.rename(columns={'account': 'Model Shorts'})[['Model Shorts']],\n",
    "          ], \n",
    "          axis=1).plot(figsize=(10,5), grid=True)"
   ]
  },
  {
   "cell_type": "code",
   "execution_count": 94,
   "metadata": {},
   "outputs": [
    {
     "data": {
      "text/html": [
       "<div>\n",
       "<style scoped>\n",
       "    .dataframe tbody tr th:only-of-type {\n",
       "        vertical-align: middle;\n",
       "    }\n",
       "\n",
       "    .dataframe tbody tr th {\n",
       "        vertical-align: top;\n",
       "    }\n",
       "\n",
       "    .dataframe thead th {\n",
       "        text-align: right;\n",
       "    }\n",
       "</style>\n",
       "<table border=\"1\" class=\"dataframe\">\n",
       "  <thead>\n",
       "    <tr style=\"text-align: right;\">\n",
       "      <th></th>\n",
       "      <th>account</th>\n",
       "      <th>base</th>\n",
       "      <th>Nasdaq</th>\n",
       "    </tr>\n",
       "  </thead>\n",
       "  <tbody>\n",
       "    <tr>\n",
       "      <th>0</th>\n",
       "      <td>10000.0</td>\n",
       "      <td>10000</td>\n",
       "      <td>9837.292298</td>\n",
       "    </tr>\n",
       "    <tr>\n",
       "      <th>1</th>\n",
       "      <td>9667.5</td>\n",
       "      <td>10000</td>\n",
       "      <td>10000.000000</td>\n",
       "    </tr>\n",
       "    <tr>\n",
       "      <th>2</th>\n",
       "      <td>9667.5</td>\n",
       "      <td>10000</td>\n",
       "      <td>10107.064738</td>\n",
       "    </tr>\n",
       "    <tr>\n",
       "      <th>3</th>\n",
       "      <td>9667.5</td>\n",
       "      <td>10000</td>\n",
       "      <td>10136.229326</td>\n",
       "    </tr>\n",
       "    <tr>\n",
       "      <th>4</th>\n",
       "      <td>9667.5</td>\n",
       "      <td>10000</td>\n",
       "      <td>10234.851683</td>\n",
       "    </tr>\n",
       "  </tbody>\n",
       "</table>\n",
       "</div>"
      ],
      "text/plain": [
       "   account   base        Nasdaq\n",
       "0  10000.0  10000   9837.292298\n",
       "1   9667.5  10000  10000.000000\n",
       "2   9667.5  10000  10107.064738\n",
       "3   9667.5  10000  10136.229326\n",
       "4   9667.5  10000  10234.851683"
      ]
     },
     "execution_count": 94,
     "metadata": {},
     "output_type": "execute_result"
    }
   ],
   "source": [
    "gold_mean.head()"
   ]
  },
  {
   "cell_type": "code",
   "execution_count": 95,
   "metadata": {},
   "outputs": [
    {
     "data": {
      "text/plain": [
       "<matplotlib.axes._subplots.AxesSubplot at 0x7f6e633e35f8>"
      ]
     },
     "execution_count": 95,
     "metadata": {},
     "output_type": "execute_result"
    },
    {
     "data": {
      "image/png": "[encoded data removed]",
      "text/plain": [
       "<Figure size 720x360 with 1 Axes>"
      ]
     },
     "metadata": {
      "needs_background": "light"
     },
     "output_type": "display_data"
    }
   ],
   "source": [
    "corn = mean_calculation(corn, 90, 30)\n",
    "corn[['Settle', 'mean_90', 'mean_30']].loc[corn.index > validate_date].plot(figsize=(10,5), grid=True)"
   ]
  },
  {
   "cell_type": "code",
   "execution_count": 96,
   "metadata": {},
   "outputs": [
    {
     "data": {
      "text/plain": [
       "<matplotlib.axes._subplots.AxesSubplot at 0x7f6e6337dc50>"
      ]
     },
     "execution_count": 96,
     "metadata": {},
     "output_type": "execute_result"
    },
    {
     "data": {
      "image/png": "[encoded data removed]",
      "text/plain": [
       "<Figure size 720x360 with 1 Axes>"
      ]
     },
     "metadata": {
      "needs_background": "light"
     },
     "output_type": "display_data"
    }
   ],
   "source": [
    "corn_mean = mean_reversal_account(corn.loc[corn.index > validate_date], corn_gains.loc[corn_gains.index > validate_date], trade_days=3)\n",
    "corn_mean['base'] = corn_mean.account.apply(lambda x: 10000)\n",
    "corn_mean['Nasdaq'] = nasdaq.Settle.values[-253:]\n",
    "corn_mean['Nasdaq'] = corn_mean['Nasdaq']*nasdaq_amount\n",
    "\n",
    "pd.concat([corn_mean.rename(columns={'account': 'Mean Strategy', 'base': '10000'}), \n",
    "           corn_account.rename(columns={'account': 'Model Shorts'})[['Model Shorts']]], \n",
    "          axis=1).plot(figsize=(10,5), grid=True)"
   ]
  },
  {
   "cell_type": "code",
   "execution_count": 97,
   "metadata": {},
   "outputs": [
    {
     "data": {
      "text/plain": [
       "<matplotlib.axes._subplots.AxesSubplot at 0x7f6e623399b0>"
      ]
     },
     "execution_count": 97,
     "metadata": {},
     "output_type": "execute_result"
    },
    {
     "data": {
      "image/png": "[encoded data removed]",
      "text/plain": [
       "<Figure size 720x360 with 1 Axes>"
      ]
     },
     "metadata": {
      "needs_background": "light"
     },
     "output_type": "display_data"
    }
   ],
   "source": [
    "coffee = mean_calculation(coffee, 90, 30)\n",
    "coffee[['Settle', 'mean_90', 'mean_30']].loc[coffee.index > validate_date].plot(figsize=(10,5), grid=True)"
   ]
  },
  {
   "cell_type": "code",
   "execution_count": 98,
   "metadata": {},
   "outputs": [
    {
     "data": {
      "text/plain": [
       "<matplotlib.axes._subplots.AxesSubplot at 0x7f6e6226d3c8>"
      ]
     },
     "execution_count": 98,
     "metadata": {},
     "output_type": "execute_result"
    },
    {
     "data": {
      "image/png": "[encoded data removed]",
      "text/plain": [
       "<Figure size 720x360 with 1 Axes>"
      ]
     },
     "metadata": {
      "needs_background": "light"
     },
     "output_type": "display_data"
    }
   ],
   "source": [
    "coffee_mean = mean_reversal_account(coffee.loc[coffee.index > validate_date], \n",
    "                                    coffee_gains.loc[coffee_gains.index > validate_date], \n",
    "                                    trade_days=5)\n",
    "coffee_mean['base'] = coffee_mean.account.apply(lambda x: 10000)\n",
    "coffee_mean['Nasdaq'] = nasdaq.Settle.values[-253:]\n",
    "coffee_mean['Nasdaq'] = coffee_mean['Nasdaq']*nasdaq_amount\n",
    "\n",
    "pd.concat([coffee_mean.rename(columns={'account': 'Mean Strategy', 'base': '10000'}), \n",
    "           coffee_account.rename(columns={'account': 'Model Shorts'})[['Model Shorts']],\n",
    "          ], \n",
    "          axis=1).plot(figsize=(10,5), grid=True)"
   ]
  },
  {
   "cell_type": "code",
   "execution_count": null,
   "metadata": {},
   "outputs": [],
   "source": []
  },
  {
   "cell_type": "code",
   "execution_count": null,
   "metadata": {},
   "outputs": [],
   "source": []
  }
 ],
 "metadata": {
  "kernelspec": {
   "display_name": "Python 3",
   "language": "python",
   "name": "python3"
  },
  "language_info": {
   "codemirror_mode": {
    "name": "ipython",
    "version": 3
   },
   "file_extension": ".py",
   "mimetype": "text/x-python",
   "name": "python",
   "nbconvert_exporter": "python",
   "pygments_lexer": "ipython3",
   "version": "3.6.5"
  }
 },
 "nbformat": 4,
 "nbformat_minor": 2
}
