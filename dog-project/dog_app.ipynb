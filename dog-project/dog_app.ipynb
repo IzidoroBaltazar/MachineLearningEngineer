{
 "cells": [
  {
   "cell_type": "markdown",
   "metadata": {},
   "source": [
    "# Artificial Intelligence Nanodegree\n",
    "\n",
    "## Convolutional Neural Networks\n",
    "\n",
    "## Project: Write an Algorithm for a Dog Identification App \n",
    "\n",
    "---\n",
    "\n",
    "In this notebook, some template code has already been provided for you, and you will need to implement additional functionality to successfully complete this project. You will not need to modify the included code beyond what is requested. Sections that begin with **'(IMPLEMENTATION)'** in the header indicate that the following block of code will require additional functionality which you must provide. Instructions will be provided for each section, and the specifics of the implementation are marked in the code block with a 'TODO' statement. Please be sure to read the instructions carefully! \n",
    "\n",
    "> **Note**: Once you have completed all of the code implementations, you need to finalize your work by exporting the iPython Notebook as an HTML document. Before exporting the notebook to html, all of the code cells need to have been run so that reviewers can see the final implementation and output. You can then export the notebook by using the menu above and navigating to  \\n\",\n",
    "    \"**File -> Download as -> HTML (.html)**. Include the finished document along with this notebook as your submission.\n",
    "\n",
    "In addition to implementing code, there will be questions that you must answer which relate to the project and your implementation. Each section where you will answer a question is preceded by a **'Question X'** header. Carefully read each question and provide thorough answers in the following text boxes that begin with **'Answer:'**. Your project submission will be evaluated based on your answers to each of the questions and the implementation you provide.\n",
    "\n",
    ">**Note:** Code and Markdown cells can be executed using the **Shift + Enter** keyboard shortcut.  Markdown cells can be edited by double-clicking the cell to enter edit mode.\n",
    "\n",
    "The rubric contains _optional_ \"Stand Out Suggestions\" for enhancing the project beyond the minimum requirements. If you decide to pursue the \"Stand Out Suggestions\", you should include the code in this IPython notebook.\n",
    "\n",
    "\n",
    "\n",
    "---\n",
    "### Why We're Here \n",
    "\n",
    "In this notebook, you will make the first steps towards developing an algorithm that could be used as part of a mobile or web app.  At the end of this project, your code will accept any user-supplied image as input.  If a dog is detected in the image, it will provide an estimate of the dog's breed.  If a human is detected, it will provide an estimate of the dog breed that is most resembling.  The image below displays potential sample output of your finished project (... but we expect that each student's algorithm will behave differently!). \n",
    "\n",
    "![Sample Dog Output](images/sample_dog_output.png)\n",
    "\n",
    "In this real-world setting, you will need to piece together a series of models to perform different tasks; for instance, the algorithm that detects humans in an image will be different from the CNN that infers dog breed.  There are many points of possible failure, and no perfect algorithm exists.  Your imperfect solution will nonetheless create a fun user experience!\n",
    "\n",
    "### The Road Ahead\n",
    "\n",
    "We break the notebook into separate steps.  Feel free to use the links below to navigate the notebook.\n",
    "\n",
    "* [Step 0](#step0): Import Datasets\n",
    "* [Step 1](#step1): Detect Humans\n",
    "* [Step 2](#step2): Detect Dogs\n",
    "* [Step 3](#step3): Create a CNN to Classify Dog Breeds (from Scratch)\n",
    "* [Step 4](#step4): Use a CNN to Classify Dog Breeds (using Transfer Learning)\n",
    "* [Step 5](#step5): Create a CNN to Classify Dog Breeds (using Transfer Learning)\n",
    "* [Step 6](#step6): Write your Algorithm\n",
    "* [Step 7](#step7): Test Your Algorithm\n",
    "\n",
    "---\n",
    "<a id='step0'></a>\n",
    "## Step 0: Import Datasets\n",
    "\n",
    "### Import Dog Dataset\n",
    "\n",
    "In the code cell below, we import a dataset of dog images.  We populate a few variables through the use of the `load_files` function from the scikit-learn library:\n",
    "- `train_files`, `valid_files`, `test_files` - numpy arrays containing file paths to images\n",
    "- `train_targets`, `valid_targets`, `test_targets` - numpy arrays containing onehot-encoded classification labels \n",
    "- `dog_names` - list of string-valued dog breed names for translating labels"
   ]
  },
  {
   "cell_type": "code",
   "execution_count": 1,
   "metadata": {},
   "outputs": [
    {
     "name": "stdout",
     "output_type": "stream",
     "text": [
      "3.6.6\n",
      "device: 0, name: GeForce GTX 1060 6GB, pci bus id: 0000:01:00.0, compute capability: 6.1\n"
     ]
    }
   ],
   "source": [
    "import platform\n",
    "print(platform.python_version())\n",
    "\n",
    "import tensorflow as tf\n",
    "if tf.test.is_built_with_cuda():\n",
    "    from tensorflow.python.client import device_lib\n",
    "\n",
    "    local_device_protos = device_lib.list_local_devices()\n",
    "    for x in local_device_protos:\n",
    "        if x.device_type == 'GPU':\n",
    "            print(x.physical_device_desc)"
   ]
  },
  {
   "cell_type": "code",
   "execution_count": 2,
   "metadata": {},
   "outputs": [
    {
     "name": "stderr",
     "output_type": "stream",
     "text": [
      "Using TensorFlow backend.\n"
     ]
    },
    {
     "name": "stdout",
     "output_type": "stream",
     "text": [
      "There are 133 total dog categories.\n",
      "There are 8351 total dog images.\n",
      "\n",
      "There are 6680 training dog images.\n",
      "There are 835 validation dog images.\n",
      "There are 836 test dog images.\n"
     ]
    }
   ],
   "source": [
    "from sklearn.datasets import load_files\n",
    "from keras.utils import np_utils\n",
    "import numpy as np\n",
    "from glob import glob\n",
    "\n",
    "# define function to load train, test, and validation datasets\n",
    "def load_dataset(path):\n",
    "    data = load_files(path)\n",
    "    dog_files = np.array(data['filenames'])\n",
    "    dog_targets = np_utils.to_categorical(np.array(data['target']), 133)\n",
    "    return dog_files, dog_targets\n",
    "\n",
    "# load train, test, and validation datasets\n",
    "train_files, train_targets = load_dataset('dogImages/train')\n",
    "valid_files, valid_targets = load_dataset('dogImages/valid')\n",
    "test_files, test_targets = load_dataset('dogImages/test')\n",
    "\n",
    "# load list of dog names\n",
    "dog_names = [item[20:-1] for item in sorted(glob(\"dogImages/train/*/\"))]\n",
    "\n",
    "# print statistics about the dataset\n",
    "print('There are %d total dog categories.' % len(dog_names))\n",
    "print('There are %s total dog images.\\n' % len(np.hstack([train_files, valid_files, test_files])))\n",
    "print('There are %d training dog images.' % len(train_files))\n",
    "print('There are %d validation dog images.' % len(valid_files))\n",
    "print('There are %d test dog images.'% len(test_files))"
   ]
  },
  {
   "cell_type": "markdown",
   "metadata": {},
   "source": [
    "### Import Human Dataset\n",
    "\n",
    "In the code cell below, we import a dataset of human images, where the file paths are stored in the numpy array `human_files`."
   ]
  },
  {
   "cell_type": "code",
   "execution_count": 3,
   "metadata": {},
   "outputs": [
    {
     "name": "stdout",
     "output_type": "stream",
     "text": [
      "There are 13233 total human images.\n"
     ]
    }
   ],
   "source": [
    "import random\n",
    "random.seed(8675309)\n",
    "\n",
    "# load filenames in shuffled human dataset\n",
    "human_files = np.array(glob(\"lfw/*/*\"))\n",
    "random.shuffle(human_files)\n",
    "\n",
    "# print statistics about the dataset\n",
    "print('There are %d total human images.' % len(human_files))"
   ]
  },
  {
   "cell_type": "markdown",
   "metadata": {},
   "source": [
    "---\n",
    "<a id='step1'></a>\n",
    "## Step 1: Detect Humans\n",
    "\n",
    "We use OpenCV's implementation of [Haar feature-based cascade classifiers](http://docs.opencv.org/trunk/d7/d8b/tutorial_py_face_detection.html) to detect human faces in images.  OpenCV provides many pre-trained face detectors, stored as XML files on [github](https://github.com/opencv/opencv/tree/master/data/haarcascades).  We have downloaded one of these detectors and stored it in the `haarcascades` directory.\n",
    "\n",
    "In the next code cell, we demonstrate how to use this detector to find human faces in a sample image."
   ]
  },
  {
   "cell_type": "code",
   "execution_count": 4,
   "metadata": {},
   "outputs": [
    {
     "name": "stdout",
     "output_type": "stream",
     "text": [
      "Number of faces detected: 1\n"
     ]
    },
    {
     "data": {
      "image/png": "[encoded data removed]",
      "text/plain": [
       "<Figure size 432x288 with 1 Axes>"
      ]
     },
     "metadata": {
      "needs_background": "light"
     },
     "output_type": "display_data"
    }
   ],
   "source": [
    "import cv2                \n",
    "import matplotlib.pyplot as plt                        \n",
    "%matplotlib inline                               \n",
    "\n",
    "# extract pre-trained face detector\n",
    "face_cascade = cv2.CascadeClassifier('haarcascades/haarcascade_frontalface_alt.xml')\n",
    "\n",
    "# load color (BGR) image\n",
    "img = cv2.imread(human_files[3])\n",
    "# convert BGR image to grayscale\n",
    "gray = cv2.cvtColor(img, cv2.COLOR_BGR2GRAY)\n",
    "\n",
    "# find faces in image\n",
    "faces = face_cascade.detectMultiScale(gray)\n",
    "\n",
    "# print number of faces detected in the image\n",
    "print('Number of faces detected:', len(faces))\n",
    "\n",
    "# get bounding box for each detected face\n",
    "for (x,y,w,h) in faces:\n",
    "    # add bounding box to color image\n",
    "    cv2.rectangle(img,(x,y),(x+w,y+h),(255,0,0),2)\n",
    "    \n",
    "# convert BGR image to RGB for plotting\n",
    "cv_rgb = cv2.cvtColor(img, cv2.COLOR_BGR2RGB)\n",
    "\n",
    "# display the image, along with bounding box\n",
    "plt.imshow(cv_rgb)\n",
    "plt.show()"
   ]
  },
  {
   "cell_type": "markdown",
   "metadata": {},
   "source": [
    "Before using any of the face detectors, it is standard procedure to convert the images to grayscale.  The `detectMultiScale` function executes the classifier stored in `face_cascade` and takes the grayscale image as a parameter.  \n",
    "\n",
    "In the above code, `faces` is a numpy array of detected faces, where each row corresponds to a detected face.  Each detected face is a 1D array with four entries that specifies the bounding box of the detected face.  The first two entries in the array (extracted in the above code as `x` and `y`) specify the horizontal and vertical positions of the top left corner of the bounding box.  The last two entries in the array (extracted here as `w` and `h`) specify the width and height of the box.\n",
    "\n",
    "### Write a Human Face Detector\n",
    "\n",
    "We can use this procedure to write a function that returns `True` if a human face is detected in an image and `False` otherwise.  This function, aptly named `face_detector`, takes a string-valued file path to an image as input and appears in the code block below."
   ]
  },
  {
   "cell_type": "code",
   "execution_count": 5,
   "metadata": {},
   "outputs": [],
   "source": [
    "# returns \"True\" if face is detected in image stored at img_path\n",
    "def face_detector(img_path):\n",
    "    img = cv2.imread(img_path)\n",
    "    gray = cv2.cvtColor(img, cv2.COLOR_BGR2GRAY)\n",
    "    faces = face_cascade.detectMultiScale(gray)\n",
    "    return len(faces) > 0"
   ]
  },
  {
   "cell_type": "markdown",
   "metadata": {},
   "source": [
    "### (IMPLEMENTATION) Assess the Human Face Detector\n",
    "\n",
    "__Question 1:__ Use the code cell below to test the performance of the `face_detector` function.  \n",
    "- What percentage of the first 100 images in `human_files` have a detected human face?  \n",
    "- What percentage of the first 100 images in `dog_files` have a detected human face? \n",
    "\n",
    "Ideally, we would like 100% of human images with a detected face and 0% of dog images with a detected face.  You will see that our algorithm falls short of this goal, but still gives acceptable performance.  We extract the file paths for the first 100 images from each of the datasets and store them in the numpy arrays `human_files_short` and `dog_files_short`.\n",
    "\n",
    "__Answer:__ 99% of pictures with human faces are correctly detected. `lfw/Derek_Bond/Derek_Bond_0001.jpg` picture is incorrectly classified as not containing face. I am not sure what the problem is. But he has glasses on.\n",
    "\n",
    "11% of dog pictures are incorrectly classified as containing human face. Problem with picture `dogImages/train/106.Newfoundland/Newfoundland_06989.jpg` is that it really contains human face. Which makes it about 10%."
   ]
  },
  {
   "cell_type": "code",
   "execution_count": 6,
   "metadata": {},
   "outputs": [
    {
     "name": "stdout",
     "output_type": "stream",
     "text": [
      "Length of human sample 100\n",
      "Length of dog sample 100\n",
      "Human was not detected: lfw/Tara_Kirk/Tara_Kirk_0001.jpg\n",
      "Human was not detected: lfw/Abdullah_Gul/Abdullah_Gul_0016.jpg\n",
      "Human was not detected: lfw/Goldie_Hawn/Goldie_Hawn_0006.jpg\n",
      "Human was detected in dog image: dogImages/train/095.Kuvasz/Kuvasz_06442.jpg\n",
      "Human was detected in dog image: dogImages/train/099.Lhasa_apso/Lhasa_apso_06646.jpg\n",
      "Human was detected in dog image: dogImages/train/009.American_water_spaniel/American_water_spaniel_00628.jpg\n",
      "Human was detected in dog image: dogImages/train/057.Dalmatian/Dalmatian_04023.jpg\n",
      "Human was detected in dog image: dogImages/train/096.Labrador_retriever/Labrador_retriever_06474.jpg\n",
      "Human was detected in dog image: dogImages/train/106.Newfoundland/Newfoundland_06989.jpg\n",
      "Human was detected in dog image: dogImages/train/117.Pekingese/Pekingese_07559.jpg\n",
      "Human was detected in dog image: dogImages/train/039.Bull_terrier/Bull_terrier_02805.jpg\n",
      "Human was detected in dog image: dogImages/train/097.Lakeland_terrier/Lakeland_terrier_06516.jpg\n",
      "Human was detected in dog image: dogImages/train/057.Dalmatian/Dalmatian_04086.jpg\n",
      "Human was detected in dog image: dogImages/train/024.Bichon_frise/Bichon_frise_01771.jpg\n",
      "Human was detected in dog image: dogImages/train/084.Icelandic_sheepdog/Icelandic_sheepdog_05705.jpg\n",
      "Percentage of detected human faces in human sample 97.0\n",
      "Percentage of detected human faces in dog sample 12.0\n"
     ]
    }
   ],
   "source": [
    "human_files_short = human_files[:100]\n",
    "dog_files_short = train_files[:100]\n",
    "# Do NOT modify the code above this line.\n",
    "\n",
    "## TODO: Test the performance of the face_detector algorithm \n",
    "## on the images in human_files_short and dog_files_short.\n",
    "h_detected = 0\n",
    "d_detected = 0\n",
    "print(\"Length of human sample {}\".format(str(len(human_files_short))))\n",
    "print(\"Length of dog sample {}\".format(str(len(dog_files_short))))\n",
    "for img_path in human_files_short:\n",
    "    if face_detector(img_path):\n",
    "        h_detected += 1\n",
    "    else:\n",
    "        print(\"Human was not detected: {}\".format(img_path))\n",
    "        \n",
    "for img_path in dog_files_short:\n",
    "    if face_detector(img_path):\n",
    "        d_detected += 1\n",
    "        print(\"Human was detected in dog image: {}\".format(img_path))\n",
    "        \n",
    "print(\"Percentage of detected human faces in human sample {}\".format(str((h_detected/100.)*100.)))\n",
    "print(\"Percentage of detected human faces in dog sample {}\".format(str((d_detected/100.)*100.)))"
   ]
  },
  {
   "cell_type": "markdown",
   "metadata": {},
   "source": [
    "__Question 2:__ This algorithmic choice necessitates that we communicate to the user that we accept human images only when they provide a clear view of a face (otherwise, we risk having unneccessarily frustrated users!). In your opinion, is this a reasonable expectation to pose on the user? If not, can you think of a way to detect humans in images that does not necessitate an image with a clearly presented face?\n",
    "\n",
    "__Answer:__ I think it's reasonable requirement - otherwise there's not much to work with. It is also interesting to note that if the dog faces camera directly OpenCV is far more likely to detect human face in the picture.\n",
    "\n",
    "We suggest the face detector from OpenCV as a potential way to detect human images in your algorithm, but you are free to explore other approaches, especially approaches that make use of deep learning :).  Please use the code cell below to design and test your own face detection algorithm.  If you decide to pursue this _optional_ task, report performance on each of the datasets."
   ]
  },
  {
   "cell_type": "code",
   "execution_count": 7,
   "metadata": {},
   "outputs": [],
   "source": [
    "## (Optional) TODO: Report the performance of another  \n",
    "## face detection algorithm on the LFW dataset\n",
    "### Feel free to use as many code cells as needed."
   ]
  },
  {
   "cell_type": "markdown",
   "metadata": {},
   "source": [
    "---\n",
    "<a id='step2'></a>\n",
    "## Step 2: Detect Dogs\n",
    "\n",
    "In this section, we use a pre-trained [ResNet-50](http://ethereon.github.io/netscope/#/gist/db945b393d40bfa26006) model to detect dogs in images.  Our first line of code downloads the ResNet-50 model, along with weights that have been trained on [ImageNet](http://www.image-net.org/), a very large, very popular dataset used for image classification and other vision tasks.  ImageNet contains over 10 million URLs, each linking to an image containing an object from one of [1000 categories](https://gist.github.com/yrevar/942d3a0ac09ec9e5eb3a).  Given an image, this pre-trained ResNet-50 model returns a prediction (derived from the available categories in ImageNet) for the object that is contained in the image."
   ]
  },
  {
   "cell_type": "code",
   "execution_count": 8,
   "metadata": {},
   "outputs": [],
   "source": [
    "from keras.applications.resnet50 import ResNet50\n",
    "\n",
    "# define ResNet50 model\n",
    "ResNet50_model = ResNet50(weights='imagenet')"
   ]
  },
  {
   "cell_type": "markdown",
   "metadata": {},
   "source": [
    "### Pre-process the Data\n",
    "\n",
    "When using TensorFlow as backend, Keras CNNs require a 4D array (which we'll also refer to as a 4D tensor) as input, with shape\n",
    "\n",
    "$$\n",
    "(\\text{nb_samples}, \\text{rows}, \\text{columns}, \\text{channels}),\n",
    "$$\n",
    "\n",
    "where `nb_samples` corresponds to the total number of images (or samples), and `rows`, `columns`, and `channels` correspond to the number of rows, columns, and channels for each image, respectively.  \n",
    "\n",
    "The `path_to_tensor` function below takes a string-valued file path to a color image as input and returns a 4D tensor suitable for supplying to a Keras CNN.  The function first loads the image and resizes it to a square image that is $224 \\times 224$ pixels.  Next, the image is converted to an array, which is then resized to a 4D tensor.  In this case, since we are working with color images, each image has three channels.  Likewise, since we are processing a single image (or sample), the returned tensor will always have shape\n",
    "\n",
    "$$\n",
    "(1, 224, 224, 3).\n",
    "$$\n",
    "\n",
    "The `paths_to_tensor` function takes a numpy array of string-valued image paths as input and returns a 4D tensor with shape \n",
    "\n",
    "$$\n",
    "(\\text{nb_samples}, 224, 224, 3).\n",
    "$$\n",
    "\n",
    "Here, `nb_samples` is the number of samples, or number of images, in the supplied array of image paths.  It is best to think of `nb_samples` as the number of 3D tensors (where each 3D tensor corresponds to a different image) in your dataset!"
   ]
  },
  {
   "cell_type": "code",
   "execution_count": 9,
   "metadata": {},
   "outputs": [],
   "source": [
    "from keras.preprocessing import image                  \n",
    "from tqdm import tqdm\n",
    "\n",
    "def path_to_tensor(img_path):\n",
    "    # loads RGB image as PIL.Image.Image type\n",
    "    img = image.load_img(img_path, target_size=(224, 224))\n",
    "    # convert PIL.Image.Image type to 3D tensor with shape (224, 224, 3)\n",
    "    x = image.img_to_array(img)\n",
    "    # convert 3D tensor to 4D tensor with shape (1, 224, 224, 3) and return 4D tensor\n",
    "    return np.expand_dims(x, axis=0)\n",
    "\n",
    "def paths_to_tensor(img_paths):\n",
    "    list_of_tensors = [path_to_tensor(img_path) for img_path in tqdm(img_paths)]\n",
    "    return np.vstack(list_of_tensors)"
   ]
  },
  {
   "cell_type": "markdown",
   "metadata": {},
   "source": [
    "### Making Predictions with ResNet-50\n",
    "\n",
    "Getting the 4D tensor ready for ResNet-50, and for any other pre-trained model in Keras, requires some additional processing.  First, the RGB image is converted to BGR by reordering the channels.  All pre-trained models have the additional normalization step that the mean pixel (expressed in RGB as $[103.939, 116.779, 123.68]$ and calculated from all pixels in all images in ImageNet) must be subtracted from every pixel in each image.  This is implemented in the imported function `preprocess_input`.  If you're curious, you can check the code for `preprocess_input` [here](https://github.com/fchollet/keras/blob/master/keras/applications/imagenet_utils.py).\n",
    "\n",
    "Now that we have a way to format our image for supplying to ResNet-50, we are now ready to use the model to extract the predictions.  This is accomplished with the `predict` method, which returns an array whose $i$-th entry is the model's predicted probability that the image belongs to the $i$-th ImageNet category.  This is implemented in the `ResNet50_predict_labels` function below.\n",
    "\n",
    "By taking the argmax of the predicted probability vector, we obtain an integer corresponding to the model's predicted object class, which we can identify with an object category through the use of this [dictionary](https://gist.github.com/yrevar/942d3a0ac09ec9e5eb3a). "
   ]
  },
  {
   "cell_type": "code",
   "execution_count": 10,
   "metadata": {},
   "outputs": [],
   "source": [
    "from keras.applications.resnet50 import preprocess_input, decode_predictions\n",
    "\n",
    "def ResNet50_predict_labels(img_path):\n",
    "    # returns prediction vector for image located at img_path\n",
    "    img = preprocess_input(path_to_tensor(img_path))\n",
    "    return np.argmax(ResNet50_model.predict(img))"
   ]
  },
  {
   "cell_type": "markdown",
   "metadata": {},
   "source": [
    "### Write a Dog Detector\n",
    "\n",
    "While looking at the [dictionary](https://gist.github.com/yrevar/942d3a0ac09ec9e5eb3a), you will notice that the categories corresponding to dogs appear in an uninterrupted sequence and correspond to dictionary keys 151-268, inclusive, to include all categories from `'Chihuahua'` to `'Mexican hairless'`.  Thus, in order to check to see if an image is predicted to contain a dog by the pre-trained ResNet-50 model, we need only check if the `ResNet50_predict_labels` function above returns a value between 151 and 268 (inclusive).\n",
    "\n",
    "We use these ideas to complete the `dog_detector` function below, which returns `True` if a dog is detected in an image (and `False` if not)."
   ]
  },
  {
   "cell_type": "code",
   "execution_count": 11,
   "metadata": {},
   "outputs": [],
   "source": [
    "### returns \"True\" if a dog is detected in the image stored at img_path\n",
    "def dog_detector(img_path):\n",
    "    prediction = ResNet50_predict_labels(img_path)\n",
    "    return ((prediction <= 268) & (prediction >= 151)) "
   ]
  },
  {
   "cell_type": "markdown",
   "metadata": {},
   "source": [
    "### (IMPLEMENTATION) Assess the Dog Detector\n",
    "\n",
    "__Question 3:__ Use the code cell below to test the performance of your `dog_detector` function.  \n",
    "- What percentage of the images in `human_files_short` have a detected dog?  \n",
    "- What percentage of the images in `dog_files_short` have a detected dog?\n",
    "\n",
    "__Answer:__ \n",
    "Dog was detected in all of the dog samples - which means 100% success rate. And on top of that dog was detected in few human pictures as well."
   ]
  },
  {
   "cell_type": "code",
   "execution_count": 12,
   "metadata": {},
   "outputs": [
    {
     "name": "stdout",
     "output_type": "stream",
     "text": [
      "Dog detected in: 100.0% of dog samples\n",
      "Dog detected in: 0.0% of human samples\n"
     ]
    }
   ],
   "source": [
    "### TODO: Test the performance of the dog_detector function\n",
    "### on the images in human_files_short and dog_files_short.\n",
    "d_f = 0\n",
    "h_f = 0\n",
    "for img_path in dog_files_short:\n",
    "    if dog_detector(img_path):\n",
    "        d_f += 1\n",
    "    else:\n",
    "        print(img_path)\n",
    "        \n",
    "for img_path in human_files_short:\n",
    "    if dog_detector(img_path):\n",
    "        print(img_path)\n",
    "        h_f += 1\n",
    "        \n",
    "print(\"Dog detected in: {}% of dog samples\".format(str((d_f/100.)*100.)))\n",
    "print(\"Dog detected in: {}% of human samples\".format(str((h_f/100.)*100.)))"
   ]
  },
  {
   "cell_type": "markdown",
   "metadata": {},
   "source": [
    "---\n",
    "<a id='step3'></a>\n",
    "## Step 3: Create a CNN to Classify Dog Breeds (from Scratch)\n",
    "\n",
    "Now that we have functions for detecting humans and dogs in images, we need a way to predict breed from images.  In this step, you will create a CNN that classifies dog breeds.  You must create your CNN _from scratch_ (so, you can't use transfer learning _yet_!), and you must attain a test accuracy of at least 1%.  In Step 5 of this notebook, you will have the opportunity to use transfer learning to create a CNN that attains greatly improved accuracy.\n",
    "\n",
    "Be careful with adding too many trainable layers!  More parameters means longer training, which means you are more likely to need a GPU to accelerate the training process.  Thankfully, Keras provides a handy estimate of the time that each epoch is likely to take; you can extrapolate this estimate to figure out how long it will take for your algorithm to train. \n",
    "\n",
    "We mention that the task of assigning breed to dogs from images is considered exceptionally challenging.  To see why, consider that *even a human* would have great difficulty in distinguishing between a Brittany and a Welsh Springer Spaniel.  \n",
    "\n",
    "Brittany | Welsh Springer Spaniel\n",
    "- | - \n",
    "<img src=\"images/Brittany_02625.jpg\" width=\"100\"> | <img src=\"images/Welsh_springer_spaniel_08203.jpg\" width=\"200\">\n",
    "\n",
    "It is not difficult to find other dog breed pairs with minimal inter-class variation (for instance, Curly-Coated Retrievers and American Water Spaniels).  \n",
    "\n",
    "Curly-Coated Retriever | American Water Spaniel\n",
    "- | -\n",
    "<img src=\"images/Curly-coated_retriever_03896.jpg\" width=\"200\"> | <img src=\"images/American_water_spaniel_00648.jpg\" width=\"200\">\n",
    "\n",
    "\n",
    "Likewise, recall that labradors come in yellow, chocolate, and black.  Your vision-based algorithm will have to conquer this high intra-class variation to determine how to classify all of these different shades as the same breed.  \n",
    "\n",
    "Yellow Labrador | Chocolate Labrador | Black Labrador\n",
    "- | -\n",
    "<img src=\"images/Labrador_retriever_06457.jpg\" width=\"150\"> | <img src=\"images/Labrador_retriever_06455.jpg\" width=\"240\"> | <img src=\"images/Labrador_retriever_06449.jpg\" width=\"220\">\n",
    "\n",
    "We also mention that random chance presents an exceptionally low bar: setting aside the fact that the classes are slightly imabalanced, a random guess will provide a correct answer roughly 1 in 133 times, which corresponds to an accuracy of less than 1%.  \n",
    "\n",
    "Remember that the practice is far ahead of the theory in deep learning.  Experiment with many different architectures, and trust your intuition.  And, of course, have fun! \n",
    "\n",
    "### Pre-process the Data\n",
    "\n",
    "We rescale the images by dividing every pixel in every image by 255."
   ]
  },
  {
   "cell_type": "code",
   "execution_count": 13,
   "metadata": {},
   "outputs": [
    {
     "name": "stderr",
     "output_type": "stream",
     "text": [
      "100%|██████████| 6680/6680 [00:36<00:00, 183.63it/s]\n",
      "100%|██████████| 836/836 [00:03<00:00, 209.10it/s]\n",
      "100%|██████████| 835/835 [00:04<00:00, 206.82it/s]\n"
     ]
    }
   ],
   "source": [
    "from PIL import ImageFile                            \n",
    "ImageFile.LOAD_TRUNCATED_IMAGES = True                 \n",
    "\n",
    "# pre-process the data for Keras\n",
    "train_tensors = paths_to_tensor(train_files).astype('float32')/255\n",
    "test_tensors = paths_to_tensor(test_files).astype('float32')/255\n",
    "valid_tensors = paths_to_tensor(valid_files).astype('float32')/255"
   ]
  },
  {
   "cell_type": "markdown",
   "metadata": {},
   "source": [
    "### (IMPLEMENTATION) Model Architecture\n",
    "\n",
    "Create a CNN to classify dog breed.  At the end of your code cell block, summarize the layers of your model by executing the line:\n",
    "    \n",
    "        model.summary()\n",
    "\n",
    "We have imported some Python modules to get you started, but feel free to import as many modules as you need.  If you end up getting stuck, here's a hint that specifies a model that trains relatively fast on CPU and attains >1% test accuracy in 5 epochs:\n",
    "\n",
    "![Sample CNN](images/sample_cnn.png)\n",
    "           \n",
    "__Question 4:__ Outline the steps you took to get to your final CNN architecture and your reasoning at each step.  If you chose to use the hinted architecture above, describe why you think that CNN architecture should work well for the image classification task.\n",
    "\n",
    "__Answer:__ "
   ]
  },
  {
   "cell_type": "code",
   "execution_count": 26,
   "metadata": {},
   "outputs": [],
   "source": [
    "from keras.layers import Conv2D, MaxPooling2D, GlobalAveragePooling2D\n",
    "from keras.layers import Dropout, Flatten, Dense, Activation\n",
    "from keras.layers.normalization import BatchNormalization\n",
    "from keras.models import Sequential\n",
    "\n",
    "input_shape = (224, 224, 3)\n",
    "num_classes = 133\n",
    "model = Sequential()\n",
    "\n",
    "# model.add(Conv2D(40, kernel_size=5, padding=\"same\",input_shape=input_shape, activation = 'relu'))\n",
    "# model.add(Conv2D(50, kernel_size=5, padding=\"valid\", activation = 'relu'))\n",
    "# model.add(MaxPooling2D(pool_size=(2, 2), strides=(2, 2)))\n",
    "# model.add(Dropout(0.2))\n",
    "\n",
    "# model.add(Conv2D(70, kernel_size=3, padding=\"same\", activation = 'relu'))\n",
    "# model.add(MaxPooling2D(pool_size=(2, 2), strides=(2, 2)))\n",
    "# model.add(Conv2D(100, kernel_size=3, padding=\"valid\", activation = 'relu'))\n",
    "# model.add(MaxPooling2D(pool_size=(2, 2), strides=(2, 2)))\n",
    "# model.add(Dropout(0.2))\n",
    "\n",
    "# model.add(Conv2D(32, (3, 3), padding='same', activation='relu', input_shape=input_shape))\n",
    "# model.add(Conv2D(32, (3, 3), activation='relu'))\n",
    "# model.add(MaxPooling2D(pool_size=(2, 2)))\n",
    "# model.add(Dropout(0.25))\n",
    "# model.add(Conv2D(16, (3, 3), padding='same', activation='relu', input_shape=input_shape))\n",
    "# model.add(Conv2D(32, (3, 3), activation='relu'))\n",
    "# model.add(Dropout(0.2))\n",
    "# model.add(MaxPooling2D(pool_size=(2, 2)))\n",
    "# model.add(Dropout(0.3))\n",
    " \n",
    "# model.add(Conv2D(32, (3, 3), padding='same', activation='relu'))\n",
    "# model.add(Conv2D(64, (3, 3), activation='relu'))\n",
    "# model.add(Dropout(0.2))\n",
    "# model.add(MaxPooling2D(pool_size=(2, 2)))\n",
    "\n",
    "# model.add(MaxPooling2D(pool_size=(2, 2)))\n",
    "# model.add(Dropout(0.3))\n",
    "\n",
    "# model.add(Conv2D(64, 2, padding='same', activation='relu', input_shape=input_shape))\n",
    "# model.add(Flatten())\n",
    "# model.add(Dropout(0.4))\n",
    "# model.add(Dense(256, activation='relu'))\n",
    "# model.add(Dropout(0.5))\n",
    "# model.add(Dense(512, activation='relu'))\n",
    "# model.add(Dropout(0.5))\n",
    "# model.add(Dense(num_classes, activation='softmax'))\n",
    "\n",
    "MIN_NEURONS = 20\n",
    "MAX_NEURONS = 120\n",
    "KERNEL = (3, 3)\n",
    "\n",
    "# Determine the # of neurons in each convolutional layer\n",
    "steps = np.floor(MAX_NEURONS / (n_layers + 1))\n",
    "nuerons = np.arange(MIN_NEURONS, MAX_NEURONS, steps)\n",
    "nuerons = nuerons.astype(np.int32)\n",
    "\n",
    "# Define a model\n",
    "model = Sequential()\n",
    "\n",
    "# Add convolutional layers\n",
    "for i in range(0, n_layers):\n",
    "    if i == 0:\n",
    "        model.add(Conv2D(nuerons[i], KERNEL, input_shape=input_shape))\n",
    "    else:\n",
    "        model.add(Conv2D(nuerons[i], KERNEL))\n",
    "    \n",
    "model.add(Activation('relu'))\n",
    "\n",
    "# Add max pooling layer\n",
    "model.add(MaxPooling2D(pool_size=(2, 2)))\n",
    "model.add(Flatten())\n",
    "model.add(Dense(MAX_NEURONS))\n",
    "model.add(Activation('relu'))\n",
    "\n",
    "# Add output layer\n",
    "model.add(Dense(num_classes))\n",
    "model.add(Activation('sigmoid'))\n",
    "\n",
    "# model.summary()"
   ]
  },
  {
   "cell_type": "markdown",
   "metadata": {},
   "source": [
    "### Compile the Model"
   ]
  },
  {
   "cell_type": "code",
   "execution_count": 27,
   "metadata": {},
   "outputs": [],
   "source": [
    "model.compile(optimizer='rmsprop', loss='categorical_crossentropy', metrics=['accuracy'])\n",
    "# model.summary()"
   ]
  },
  {
   "cell_type": "markdown",
   "metadata": {},
   "source": [
    "### (IMPLEMENTATION) Train the Model\n",
    "\n",
    "Train your model in the code cell below.  Use model checkpointing to save the model that attains the best validation loss.\n",
    "\n",
    "You are welcome to [augment the training data](https://blog.keras.io/building-powerful-image-classification-models-using-very-little-data.html), but this is not a requirement. "
   ]
  },
  {
   "cell_type": "code",
   "execution_count": 28,
   "metadata": {
    "scrolled": true
   },
   "outputs": [
    {
     "name": "stdout",
     "output_type": "stream",
     "text": [
      "Train on 6680 samples, validate on 835 samples\n",
      "Epoch 1/200\n",
      "6680/6680 [==============================] - 65s 10ms/step - loss: 5.0082 - acc: 0.0096 - val_loss: 4.8709 - val_acc: 0.0108\n",
      "\n",
      "Epoch 00001: val_loss improved from inf to 4.87094, saving model to saved_models/weights.best.from_scratch.hdf5\n",
      "Epoch 2/200\n",
      "6680/6680 [==============================] - 64s 10ms/step - loss: 4.8800 - acc: 0.0075 - val_loss: 4.8693 - val_acc: 0.0108\n",
      "\n",
      "Epoch 00002: val_loss improved from 4.87094 to 4.86928, saving model to saved_models/weights.best.from_scratch.hdf5\n",
      "Epoch 3/200\n",
      "6680/6680 [==============================] - 64s 10ms/step - loss: 4.9062 - acc: 0.0103 - val_loss: 4.8613 - val_acc: 0.0096\n",
      "\n",
      "Epoch 00003: val_loss improved from 4.86928 to 4.86130, saving model to saved_models/weights.best.from_scratch.hdf5\n",
      "Epoch 4/200\n",
      "6680/6680 [==============================] - 64s 10ms/step - loss: 4.8474 - acc: 0.0157 - val_loss: 4.8185 - val_acc: 0.0144\n",
      "\n",
      "Epoch 00004: val_loss improved from 4.86130 to 4.81849, saving model to saved_models/weights.best.from_scratch.hdf5\n",
      "Epoch 5/200\n",
      "6680/6680 [==============================] - 64s 10ms/step - loss: 4.7365 - acc: 0.0308 - val_loss: 4.7902 - val_acc: 0.0311\n",
      "\n",
      "Epoch 00005: val_loss improved from 4.81849 to 4.79024, saving model to saved_models/weights.best.from_scratch.hdf5\n",
      "Epoch 6/200\n",
      "6680/6680 [==============================] - 64s 10ms/step - loss: 4.5169 - acc: 0.0536 - val_loss: 4.6751 - val_acc: 0.0443\n",
      "\n",
      "Epoch 00006: val_loss improved from 4.79024 to 4.67509, saving model to saved_models/weights.best.from_scratch.hdf5\n",
      "Epoch 7/200\n",
      "6680/6680 [==============================] - 64s 10ms/step - loss: 4.1155 - acc: 0.1091 - val_loss: 4.6625 - val_acc: 0.0467\n",
      "\n",
      "Epoch 00007: val_loss improved from 4.67509 to 4.66248, saving model to saved_models/weights.best.from_scratch.hdf5\n",
      "Epoch 8/200\n",
      "6680/6680 [==============================] - 64s 10ms/step - loss: 3.5631 - acc: 0.2003 - val_loss: 4.6130 - val_acc: 0.0563\n",
      "\n",
      "Epoch 00008: val_loss improved from 4.66248 to 4.61301, saving model to saved_models/weights.best.from_scratch.hdf5\n",
      "Epoch 9/200\n",
      "6680/6680 [==============================] - 64s 10ms/step - loss: 3.0247 - acc: 0.3019 - val_loss: 4.7583 - val_acc: 0.0539\n",
      "\n",
      "Epoch 00009: val_loss did not improve from 4.61301\n",
      "Epoch 10/200\n",
      "6680/6680 [==============================] - 64s 10ms/step - loss: 2.4125 - acc: 0.4207 - val_loss: 4.9894 - val_acc: 0.0515\n",
      "\n",
      "Epoch 00010: val_loss did not improve from 4.61301\n",
      "Epoch 11/200\n",
      "6680/6680 [==============================] - 64s 10ms/step - loss: 1.9043 - acc: 0.5323 - val_loss: 5.4591 - val_acc: 0.0743\n",
      "\n",
      "Epoch 00011: val_loss did not improve from 4.61301\n",
      "Epoch 12/200\n",
      "6680/6680 [==============================] - 64s 10ms/step - loss: 1.5210 - acc: 0.6156 - val_loss: 5.5952 - val_acc: 0.0587\n",
      "\n",
      "Epoch 00012: val_loss did not improve from 4.61301\n",
      "Epoch 13/200\n",
      "6680/6680 [==============================] - 64s 10ms/step - loss: 1.2850 - acc: 0.6768 - val_loss: 5.4414 - val_acc: 0.0719\n",
      "\n",
      "Epoch 00013: val_loss did not improve from 4.61301\n",
      "Epoch 14/200\n",
      "6680/6680 [==============================] - 64s 10ms/step - loss: 1.0381 - acc: 0.7298 - val_loss: 5.6049 - val_acc: 0.0671\n",
      "\n",
      "Epoch 00014: val_loss did not improve from 4.61301\n",
      "Epoch 15/200\n",
      "6680/6680 [==============================] - 64s 10ms/step - loss: 0.8538 - acc: 0.7828 - val_loss: 7.0813 - val_acc: 0.0599\n",
      "\n",
      "Epoch 00015: val_loss did not improve from 4.61301\n",
      "Epoch 16/200\n",
      "6680/6680 [==============================] - 64s 10ms/step - loss: 0.7205 - acc: 0.8129 - val_loss: 6.8350 - val_acc: 0.0623\n",
      "\n",
      "Epoch 00016: val_loss did not improve from 4.61301\n",
      "Epoch 17/200\n",
      "6680/6680 [==============================] - 64s 10ms/step - loss: 0.6741 - acc: 0.8278 - val_loss: 7.1254 - val_acc: 0.0635\n",
      "\n",
      "Epoch 00017: val_loss did not improve from 4.61301\n",
      "Epoch 18/200\n",
      "6680/6680 [==============================] - 64s 10ms/step - loss: 0.6109 - acc: 0.8364 - val_loss: 6.5843 - val_acc: 0.0719\n",
      "\n",
      "Epoch 00018: val_loss did not improve from 4.61301\n",
      "Epoch 19/200\n",
      "6680/6680 [==============================] - 64s 10ms/step - loss: 0.5709 - acc: 0.8543 - val_loss: 7.9848 - val_acc: 0.0671\n",
      "\n",
      "Epoch 00019: val_loss did not improve from 4.61301\n",
      "Epoch 20/200\n",
      "6680/6680 [==============================] - 64s 10ms/step - loss: 0.5305 - acc: 0.8660 - val_loss: 5.8661 - val_acc: 0.0539\n",
      "\n",
      "Epoch 00020: val_loss did not improve from 4.61301\n",
      "Epoch 21/200\n",
      "6680/6680 [==============================] - 64s 10ms/step - loss: 0.4899 - acc: 0.8716 - val_loss: 6.9687 - val_acc: 0.0659\n",
      "\n",
      "Epoch 00021: val_loss did not improve from 4.61301\n",
      "Epoch 22/200\n",
      "6680/6680 [==============================] - 64s 10ms/step - loss: 0.4952 - acc: 0.8744 - val_loss: 6.8283 - val_acc: 0.0659\n",
      "\n",
      "Epoch 00022: val_loss did not improve from 4.61301\n",
      "Epoch 23/200\n",
      "6680/6680 [==============================] - 64s 10ms/step - loss: 0.4877 - acc: 0.8816 - val_loss: 6.8897 - val_acc: 0.0587\n",
      "\n",
      "Epoch 00023: val_loss did not improve from 4.61301\n",
      "Epoch 24/200\n",
      "6680/6680 [==============================] - 64s 10ms/step - loss: 0.4472 - acc: 0.8867 - val_loss: 8.1989 - val_acc: 0.0659\n",
      "\n",
      "Epoch 00024: val_loss did not improve from 4.61301\n",
      "Epoch 25/200\n",
      "6680/6680 [==============================] - 64s 10ms/step - loss: 0.4580 - acc: 0.8871 - val_loss: 8.3113 - val_acc: 0.0611\n",
      "\n",
      "Epoch 00025: val_loss did not improve from 4.61301\n",
      "Epoch 26/200\n",
      "6680/6680 [==============================] - 64s 10ms/step - loss: 0.4560 - acc: 0.8888 - val_loss: 5.7955 - val_acc: 0.0563\n",
      "\n",
      "Epoch 00026: val_loss did not improve from 4.61301\n",
      "Epoch 27/200\n",
      "6680/6680 [==============================] - 64s 10ms/step - loss: 0.4411 - acc: 0.8949 - val_loss: 8.8359 - val_acc: 0.0563\n",
      "\n",
      "Epoch 00027: val_loss did not improve from 4.61301\n",
      "Epoch 28/200\n",
      "6680/6680 [==============================] - 64s 10ms/step - loss: 0.4150 - acc: 0.8921 - val_loss: 7.5432 - val_acc: 0.0587\n",
      "\n",
      "Epoch 00028: val_loss did not improve from 4.61301\n",
      "Epoch 29/200\n",
      "6680/6680 [==============================] - 64s 10ms/step - loss: 0.4027 - acc: 0.9034 - val_loss: 8.6745 - val_acc: 0.0611\n",
      "\n",
      "Epoch 00029: val_loss did not improve from 4.61301\n",
      "Epoch 30/200\n",
      "6680/6680 [==============================] - 64s 10ms/step - loss: 0.3784 - acc: 0.9081 - val_loss: 8.3743 - val_acc: 0.0587\n",
      "\n",
      "Epoch 00030: val_loss did not improve from 4.61301\n",
      "Epoch 31/200\n",
      "6680/6680 [==============================] - 64s 10ms/step - loss: 0.4005 - acc: 0.9036 - val_loss: 7.1548 - val_acc: 0.0623\n",
      "\n",
      "Epoch 00031: val_loss did not improve from 4.61301\n",
      "Epoch 32/200\n",
      "6680/6680 [==============================] - 64s 10ms/step - loss: 0.4020 - acc: 0.9069 - val_loss: 7.2372 - val_acc: 0.0455\n",
      "\n",
      "Epoch 00032: val_loss did not improve from 4.61301\n",
      "Epoch 33/200\n",
      "6680/6680 [==============================] - 64s 10ms/step - loss: 0.4010 - acc: 0.9031 - val_loss: 8.4482 - val_acc: 0.0659\n",
      "\n",
      "Epoch 00033: val_loss did not improve from 4.61301\n",
      "Epoch 34/200\n",
      "6680/6680 [==============================] - 64s 10ms/step - loss: 0.3934 - acc: 0.9078 - val_loss: 9.6231 - val_acc: 0.0587\n",
      "\n",
      "Epoch 00034: val_loss did not improve from 4.61301\n",
      "Epoch 35/200\n",
      "6680/6680 [==============================] - 64s 10ms/step - loss: 0.4131 - acc: 0.9109 - val_loss: 9.0237 - val_acc: 0.0611\n",
      "\n",
      "Epoch 00035: val_loss did not improve from 4.61301\n",
      "Epoch 36/200\n",
      "6680/6680 [==============================] - 64s 10ms/step - loss: 0.3696 - acc: 0.9156 - val_loss: 7.2826 - val_acc: 0.0587\n",
      "\n",
      "Epoch 00036: val_loss did not improve from 4.61301\n",
      "Epoch 37/200\n",
      "6680/6680 [==============================] - 64s 10ms/step - loss: 0.3772 - acc: 0.9076 - val_loss: 6.7055 - val_acc: 0.0575\n",
      "\n",
      "Epoch 00037: val_loss did not improve from 4.61301\n",
      "Epoch 38/200\n",
      "6680/6680 [==============================] - 64s 10ms/step - loss: 0.3708 - acc: 0.9150 - val_loss: 6.3490 - val_acc: 0.0575\n",
      "\n",
      "Epoch 00038: val_loss did not improve from 4.61301\n",
      "Epoch 39/200\n",
      "6680/6680 [==============================] - 64s 10ms/step - loss: 0.3608 - acc: 0.9174 - val_loss: 7.5831 - val_acc: 0.0659\n",
      "\n",
      "Epoch 00039: val_loss did not improve from 4.61301\n",
      "Epoch 40/200\n",
      "6680/6680 [==============================] - 64s 10ms/step - loss: 0.3543 - acc: 0.9156 - val_loss: 7.4877 - val_acc: 0.0707\n",
      "\n",
      "Epoch 00040: val_loss did not improve from 4.61301\n",
      "Epoch 41/200\n"
     ]
    },
    {
     "name": "stdout",
     "output_type": "stream",
     "text": [
      "6680/6680 [==============================] - 64s 10ms/step - loss: 0.3713 - acc: 0.9186 - val_loss: 9.1342 - val_acc: 0.0575\n",
      "\n",
      "Epoch 00041: val_loss did not improve from 4.61301\n",
      "Epoch 42/200\n",
      "6680/6680 [==============================] - 64s 10ms/step - loss: 0.3521 - acc: 0.9160 - val_loss: 7.3757 - val_acc: 0.0551\n",
      "\n",
      "Epoch 00042: val_loss did not improve from 4.61301\n",
      "Epoch 43/200\n",
      "6680/6680 [==============================] - 64s 10ms/step - loss: 0.3421 - acc: 0.9247 - val_loss: 6.2404 - val_acc: 0.0503\n",
      "\n",
      "Epoch 00043: val_loss did not improve from 4.61301\n",
      "Epoch 44/200\n",
      "6680/6680 [==============================] - 64s 10ms/step - loss: 0.3944 - acc: 0.9153 - val_loss: 8.9693 - val_acc: 0.0707\n",
      "\n",
      "Epoch 00044: val_loss did not improve from 4.61301\n",
      "Epoch 45/200\n",
      "6680/6680 [==============================] - 64s 10ms/step - loss: 0.3556 - acc: 0.9195 - val_loss: 9.5677 - val_acc: 0.0683\n",
      "\n",
      "Epoch 00045: val_loss did not improve from 4.61301\n",
      "Epoch 46/200\n",
      "6680/6680 [==============================] - 64s 10ms/step - loss: 0.3397 - acc: 0.9249 - val_loss: 9.3560 - val_acc: 0.0611\n",
      "\n",
      "Epoch 00046: val_loss did not improve from 4.61301\n",
      "Epoch 47/200\n",
      "6680/6680 [==============================] - 64s 10ms/step - loss: 0.3454 - acc: 0.9241 - val_loss: 8.1371 - val_acc: 0.0563\n",
      "\n",
      "Epoch 00047: val_loss did not improve from 4.61301\n",
      "Epoch 48/200\n",
      "6680/6680 [==============================] - 64s 10ms/step - loss: 0.3236 - acc: 0.9335 - val_loss: 6.7776 - val_acc: 0.0467\n",
      "\n",
      "Epoch 00048: val_loss did not improve from 4.61301\n",
      "Epoch 49/200\n",
      "6680/6680 [==============================] - 64s 10ms/step - loss: 0.3459 - acc: 0.9254 - val_loss: 9.1187 - val_acc: 0.0707\n",
      "\n",
      "Epoch 00049: val_loss did not improve from 4.61301\n",
      "Epoch 50/200\n",
      "6680/6680 [==============================] - 63s 10ms/step - loss: 0.3576 - acc: 0.9219 - val_loss: 7.0369 - val_acc: 0.0443\n",
      "\n",
      "Epoch 00050: val_loss did not improve from 4.61301\n",
      "Epoch 51/200\n",
      "6680/6680 [==============================] - 64s 10ms/step - loss: 0.3403 - acc: 0.9263 - val_loss: 9.6433 - val_acc: 0.0527\n",
      "\n",
      "Epoch 00051: val_loss did not improve from 4.61301\n",
      "Epoch 52/200\n",
      "6680/6680 [==============================] - 63s 10ms/step - loss: 0.3638 - acc: 0.9228 - val_loss: 8.7364 - val_acc: 0.0599\n",
      "\n",
      "Epoch 00052: val_loss did not improve from 4.61301\n",
      "Epoch 53/200\n",
      "6680/6680 [==============================] - 64s 10ms/step - loss: 0.3867 - acc: 0.9202 - val_loss: 9.9695 - val_acc: 0.0707\n",
      "\n",
      "Epoch 00053: val_loss did not improve from 4.61301\n",
      "Epoch 54/200\n",
      "6680/6680 [==============================] - 64s 10ms/step - loss: 0.3342 - acc: 0.9256 - val_loss: 9.5029 - val_acc: 0.0635\n",
      "\n",
      "Epoch 00054: val_loss did not improve from 4.61301\n",
      "Epoch 55/200\n",
      "6680/6680 [==============================] - 64s 10ms/step - loss: 0.3764 - acc: 0.9243 - val_loss: 9.7051 - val_acc: 0.0623\n",
      "\n",
      "Epoch 00055: val_loss did not improve from 4.61301\n",
      "Epoch 56/200\n",
      "6680/6680 [==============================] - 64s 10ms/step - loss: 0.3749 - acc: 0.9229 - val_loss: 5.7319 - val_acc: 0.0503\n",
      "\n",
      "Epoch 00056: val_loss did not improve from 4.61301\n",
      "Epoch 57/200\n",
      "6680/6680 [==============================] - 64s 10ms/step - loss: 0.4041 - acc: 0.9222 - val_loss: 10.5687 - val_acc: 0.0683\n",
      "\n",
      "Epoch 00057: val_loss did not improve from 4.61301\n",
      "Epoch 58/200\n",
      "6680/6680 [==============================] - 64s 10ms/step - loss: 0.3771 - acc: 0.9286 - val_loss: 9.5561 - val_acc: 0.0635\n",
      "\n",
      "Epoch 00058: val_loss did not improve from 4.61301\n",
      "Epoch 59/200\n",
      "6680/6680 [==============================] - 64s 10ms/step - loss: 0.3702 - acc: 0.9259 - val_loss: 11.1302 - val_acc: 0.0527\n",
      "\n",
      "Epoch 00059: val_loss did not improve from 4.61301\n",
      "Epoch 60/200\n",
      "6680/6680 [==============================] - 63s 9ms/step - loss: 0.3612 - acc: 0.9286 - val_loss: 11.2283 - val_acc: 0.0707\n",
      "\n",
      "Epoch 00060: val_loss did not improve from 4.61301\n",
      "Epoch 61/200\n",
      "6680/6680 [==============================] - 63s 10ms/step - loss: 0.3657 - acc: 0.9281 - val_loss: 7.5181 - val_acc: 0.0527\n",
      "\n",
      "Epoch 00061: val_loss did not improve from 4.61301\n",
      "Epoch 62/200\n",
      "6680/6680 [==============================] - 64s 10ms/step - loss: 0.3833 - acc: 0.9219 - val_loss: 12.7533 - val_acc: 0.0647\n",
      "\n",
      "Epoch 00062: val_loss did not improve from 4.61301\n",
      "Epoch 63/200\n",
      "6680/6680 [==============================] - 64s 10ms/step - loss: 0.3591 - acc: 0.9304 - val_loss: 8.3653 - val_acc: 0.0479\n",
      "\n",
      "Epoch 00063: val_loss did not improve from 4.61301\n",
      "Epoch 64/200\n",
      "6680/6680 [==============================] - 64s 10ms/step - loss: 0.3804 - acc: 0.9284 - val_loss: 9.1990 - val_acc: 0.0695\n",
      "\n",
      "Epoch 00064: val_loss did not improve from 4.61301\n",
      "Epoch 65/200\n",
      "6680/6680 [==============================] - 64s 10ms/step - loss: 0.3804 - acc: 0.9295 - val_loss: 7.1635 - val_acc: 0.0479\n",
      "\n",
      "Epoch 00065: val_loss did not improve from 4.61301\n",
      "Epoch 66/200\n",
      "6680/6680 [==============================] - 64s 10ms/step - loss: 0.3806 - acc: 0.9263 - val_loss: 10.9746 - val_acc: 0.0623\n",
      "\n",
      "Epoch 00066: val_loss did not improve from 4.61301\n",
      "Epoch 67/200\n",
      "6680/6680 [==============================] - 64s 10ms/step - loss: 0.3464 - acc: 0.9337 - val_loss: 9.0261 - val_acc: 0.0563\n",
      "\n",
      "Epoch 00067: val_loss did not improve from 4.61301\n",
      "Epoch 68/200\n",
      "6680/6680 [==============================] - 64s 10ms/step - loss: 0.3703 - acc: 0.9293 - val_loss: 9.9838 - val_acc: 0.0623\n",
      "\n",
      "Epoch 00068: val_loss did not improve from 4.61301\n",
      "Epoch 69/200\n",
      "6680/6680 [==============================] - 64s 10ms/step - loss: 0.3395 - acc: 0.9364 - val_loss: 9.8280 - val_acc: 0.0731\n",
      "\n",
      "Epoch 00069: val_loss did not improve from 4.61301\n",
      "Epoch 70/200\n",
      "6680/6680 [==============================] - 64s 10ms/step - loss: 0.3487 - acc: 0.9355 - val_loss: 11.8194 - val_acc: 0.0671\n",
      "\n",
      "Epoch 00070: val_loss did not improve from 4.61301\n",
      "Epoch 71/200\n",
      "6680/6680 [==============================] - 64s 10ms/step - loss: 0.3702 - acc: 0.9323 - val_loss: 8.6243 - val_acc: 0.0515\n",
      "\n",
      "Epoch 00071: val_loss did not improve from 4.61301\n",
      "Epoch 72/200\n",
      "6680/6680 [==============================] - 64s 10ms/step - loss: 0.4187 - acc: 0.9241 - val_loss: 8.3703 - val_acc: 0.0575\n",
      "\n",
      "Epoch 00072: val_loss did not improve from 4.61301\n",
      "Epoch 73/200\n",
      "6680/6680 [==============================] - 64s 10ms/step - loss: 0.3899 - acc: 0.9301 - val_loss: 8.9723 - val_acc: 0.0587\n",
      "\n",
      "Epoch 00073: val_loss did not improve from 4.61301\n",
      "Epoch 74/200\n",
      "6680/6680 [==============================] - 64s 10ms/step - loss: 0.4309 - acc: 0.9250 - val_loss: 9.8318 - val_acc: 0.0647\n",
      "\n",
      "Epoch 00074: val_loss did not improve from 4.61301\n",
      "Epoch 75/200\n",
      "6680/6680 [==============================] - 64s 10ms/step - loss: 0.4171 - acc: 0.9304 - val_loss: 12.1055 - val_acc: 0.0778\n",
      "\n",
      "Epoch 00075: val_loss did not improve from 4.61301\n",
      "Epoch 76/200\n",
      "6680/6680 [==============================] - 64s 10ms/step - loss: 0.3291 - acc: 0.9401 - val_loss: 8.1305 - val_acc: 0.0599\n",
      "\n",
      "Epoch 00076: val_loss did not improve from 4.61301\n",
      "Epoch 77/200\n",
      "6680/6680 [==============================] - 64s 10ms/step - loss: 0.3927 - acc: 0.9356 - val_loss: 12.0020 - val_acc: 0.0671\n",
      "\n",
      "Epoch 00077: val_loss did not improve from 4.61301\n",
      "Epoch 78/200\n",
      "6680/6680 [==============================] - 64s 10ms/step - loss: 0.3717 - acc: 0.9358 - val_loss: 10.6630 - val_acc: 0.0563\n",
      "\n",
      "Epoch 00078: val_loss did not improve from 4.61301\n",
      "Epoch 79/200\n",
      "6680/6680 [==============================] - 64s 10ms/step - loss: 0.3281 - acc: 0.9413 - val_loss: 11.2871 - val_acc: 0.0754\n",
      "\n",
      "Epoch 00079: val_loss did not improve from 4.61301\n",
      "Epoch 80/200\n",
      "6680/6680 [==============================] - 64s 10ms/step - loss: 0.3859 - acc: 0.9409 - val_loss: 9.9323 - val_acc: 0.0551\n",
      "\n",
      "Epoch 00080: val_loss did not improve from 4.61301\n",
      "Epoch 81/200\n",
      "6680/6680 [==============================] - 64s 10ms/step - loss: 0.4002 - acc: 0.9349 - val_loss: 11.8094 - val_acc: 0.0623\n",
      "\n",
      "Epoch 00081: val_loss did not improve from 4.61301\n",
      "Epoch 82/200\n",
      "6680/6680 [==============================] - 64s 10ms/step - loss: 0.4346 - acc: 0.9249 - val_loss: 7.7341 - val_acc: 0.0467\n",
      "\n",
      "Epoch 00082: val_loss did not improve from 4.61301\n",
      "Epoch 83/200\n",
      "6680/6680 [==============================] - 64s 10ms/step - loss: 0.3714 - acc: 0.9389 - val_loss: 10.2578 - val_acc: 0.0563\n",
      "\n",
      "Epoch 00083: val_loss did not improve from 4.61301\n",
      "Epoch 84/200\n"
     ]
    },
    {
     "name": "stdout",
     "output_type": "stream",
     "text": [
      "6680/6680 [==============================] - 64s 10ms/step - loss: 0.4211 - acc: 0.9325 - val_loss: 9.6370 - val_acc: 0.0467\n",
      "\n",
      "Epoch 00084: val_loss did not improve from 4.61301\n",
      "Epoch 85/200\n",
      "6680/6680 [==============================] - 64s 10ms/step - loss: 0.3708 - acc: 0.9397 - val_loss: 10.9594 - val_acc: 0.0683\n",
      "\n",
      "Epoch 00085: val_loss did not improve from 4.61301\n",
      "Epoch 86/200\n",
      "6680/6680 [==============================] - 64s 10ms/step - loss: 0.3587 - acc: 0.9400 - val_loss: 11.7682 - val_acc: 0.0599\n",
      "\n",
      "Epoch 00086: val_loss did not improve from 4.61301\n",
      "Epoch 87/200\n",
      "6680/6680 [==============================] - 64s 10ms/step - loss: 0.4263 - acc: 0.9362 - val_loss: 10.6026 - val_acc: 0.0623\n",
      "\n",
      "Epoch 00087: val_loss did not improve from 4.61301\n",
      "Epoch 88/200\n",
      "6680/6680 [==============================] - 64s 10ms/step - loss: 0.4295 - acc: 0.9343 - val_loss: 6.9050 - val_acc: 0.0395\n",
      "\n",
      "Epoch 00088: val_loss did not improve from 4.61301\n",
      "Epoch 89/200\n",
      "6680/6680 [==============================] - 64s 10ms/step - loss: 0.4540 - acc: 0.9359 - val_loss: 12.9562 - val_acc: 0.0671\n",
      "\n",
      "Epoch 00089: val_loss did not improve from 4.61301\n",
      "Epoch 90/200\n",
      "6680/6680 [==============================] - 64s 10ms/step - loss: 0.4563 - acc: 0.9377 - val_loss: 12.5947 - val_acc: 0.0623\n",
      "\n",
      "Epoch 00090: val_loss did not improve from 4.61301\n",
      "Epoch 91/200\n",
      "6680/6680 [==============================] - 64s 10ms/step - loss: 0.4578 - acc: 0.9347 - val_loss: 12.1585 - val_acc: 0.0563\n",
      "\n",
      "Epoch 00091: val_loss did not improve from 4.61301\n",
      "Epoch 92/200\n",
      "6680/6680 [==============================] - 64s 10ms/step - loss: 0.4173 - acc: 0.9368 - val_loss: 12.9501 - val_acc: 0.0683\n",
      "\n",
      "Epoch 00092: val_loss did not improve from 4.61301\n",
      "Epoch 93/200\n",
      "6680/6680 [==============================] - 64s 10ms/step - loss: 0.4518 - acc: 0.9404 - val_loss: 12.7121 - val_acc: 0.0623\n",
      "\n",
      "Epoch 00093: val_loss did not improve from 4.61301\n",
      "Epoch 94/200\n",
      "6680/6680 [==============================] - 64s 10ms/step - loss: 0.4179 - acc: 0.9395 - val_loss: 9.8441 - val_acc: 0.0491\n",
      "\n",
      "Epoch 00094: val_loss did not improve from 4.61301\n",
      "Epoch 95/200\n",
      "6680/6680 [==============================] - 64s 10ms/step - loss: 0.4326 - acc: 0.9389 - val_loss: 13.5587 - val_acc: 0.0611\n",
      "\n",
      "Epoch 00095: val_loss did not improve from 4.61301\n",
      "Epoch 96/200\n",
      "6680/6680 [==============================] - 64s 10ms/step - loss: 0.4958 - acc: 0.9275 - val_loss: 13.0207 - val_acc: 0.0611\n",
      "\n",
      "Epoch 00096: val_loss did not improve from 4.61301\n",
      "Epoch 97/200\n",
      "6680/6680 [==============================] - 64s 10ms/step - loss: 0.4082 - acc: 0.9424 - val_loss: 12.7409 - val_acc: 0.0611\n",
      "\n",
      "Epoch 00097: val_loss did not improve from 4.61301\n",
      "Epoch 98/200\n",
      "6680/6680 [==============================] - 64s 10ms/step - loss: 0.4431 - acc: 0.9439 - val_loss: 13.2559 - val_acc: 0.0623\n",
      "\n",
      "Epoch 00098: val_loss did not improve from 4.61301\n",
      "Epoch 99/200\n",
      "6680/6680 [==============================] - 64s 10ms/step - loss: 0.4270 - acc: 0.9449 - val_loss: 13.0326 - val_acc: 0.0623\n",
      "\n",
      "Epoch 00099: val_loss did not improve from 4.61301\n",
      "Epoch 100/200\n",
      "6680/6680 [==============================] - 64s 10ms/step - loss: 0.4434 - acc: 0.9410 - val_loss: 12.1632 - val_acc: 0.0599\n",
      "\n",
      "Epoch 00100: val_loss did not improve from 4.61301\n",
      "Epoch 101/200\n",
      "6680/6680 [==============================] - 64s 10ms/step - loss: 0.4389 - acc: 0.9410 - val_loss: 12.6659 - val_acc: 0.0647\n",
      "\n",
      "Epoch 00101: val_loss did not improve from 4.61301\n",
      "Epoch 102/200\n",
      "6680/6680 [==============================] - 64s 10ms/step - loss: 0.4406 - acc: 0.9419 - val_loss: 12.7990 - val_acc: 0.0515\n",
      "\n",
      "Epoch 00102: val_loss did not improve from 4.61301\n",
      "Epoch 103/200\n",
      "6680/6680 [==============================] - 64s 10ms/step - loss: 0.3992 - acc: 0.9472 - val_loss: 11.7428 - val_acc: 0.0743\n",
      "\n",
      "Epoch 00103: val_loss did not improve from 4.61301\n",
      "Epoch 104/200\n",
      "6680/6680 [==============================] - 64s 10ms/step - loss: 0.4152 - acc: 0.9443 - val_loss: 12.3947 - val_acc: 0.0539\n",
      "\n",
      "Epoch 00104: val_loss did not improve from 4.61301\n",
      "Epoch 105/200\n",
      "6680/6680 [==============================] - 64s 10ms/step - loss: 0.4364 - acc: 0.9485 - val_loss: 13.6803 - val_acc: 0.0599\n",
      "\n",
      "Epoch 00105: val_loss did not improve from 4.61301\n",
      "Epoch 106/200\n",
      "6220/6680 [==========================>...] - ETA: 4s - loss: 0.4133 - acc: 0.9539"
     ]
    },
    {
     "ename": "KeyboardInterrupt",
     "evalue": "",
     "output_type": "error",
     "traceback": [
      "\u001b[0;31m---------------------------------------------------------------------------\u001b[0m",
      "\u001b[0;31mKeyboardInterrupt\u001b[0m                         Traceback (most recent call last)",
      "\u001b[0;32m<ipython-input-28-e3b3b6a292ba>\u001b[0m in \u001b[0;36m<module>\u001b[0;34m()\u001b[0m\n\u001b[1;32m     12\u001b[0m model.fit(train_tensors, train_targets, \n\u001b[1;32m     13\u001b[0m           \u001b[0mvalidation_data\u001b[0m\u001b[0;34m=\u001b[0m\u001b[0;34m(\u001b[0m\u001b[0mvalid_tensors\u001b[0m\u001b[0;34m,\u001b[0m \u001b[0mvalid_targets\u001b[0m\u001b[0;34m)\u001b[0m\u001b[0;34m,\u001b[0m\u001b[0;34m\u001b[0m\u001b[0m\n\u001b[0;32m---> 14\u001b[0;31m           epochs=epochs, batch_size=20, callbacks=[checkpointer], verbose=1)\n\u001b[0m",
      "\u001b[0;32m~/anaconda3/envs/dog/lib/python3.6/site-packages/keras/engine/training.py\u001b[0m in \u001b[0;36mfit\u001b[0;34m(self, x, y, batch_size, epochs, verbose, callbacks, validation_split, validation_data, shuffle, class_weight, sample_weight, initial_epoch, steps_per_epoch, validation_steps, **kwargs)\u001b[0m\n\u001b[1;32m   1035\u001b[0m                                         \u001b[0minitial_epoch\u001b[0m\u001b[0;34m=\u001b[0m\u001b[0minitial_epoch\u001b[0m\u001b[0;34m,\u001b[0m\u001b[0;34m\u001b[0m\u001b[0m\n\u001b[1;32m   1036\u001b[0m                                         \u001b[0msteps_per_epoch\u001b[0m\u001b[0;34m=\u001b[0m\u001b[0msteps_per_epoch\u001b[0m\u001b[0;34m,\u001b[0m\u001b[0;34m\u001b[0m\u001b[0m\n\u001b[0;32m-> 1037\u001b[0;31m                                         validation_steps=validation_steps)\n\u001b[0m\u001b[1;32m   1038\u001b[0m \u001b[0;34m\u001b[0m\u001b[0m\n\u001b[1;32m   1039\u001b[0m     def evaluate(self, x=None, y=None,\n",
      "\u001b[0;32m~/anaconda3/envs/dog/lib/python3.6/site-packages/keras/engine/training_arrays.py\u001b[0m in \u001b[0;36mfit_loop\u001b[0;34m(model, f, ins, out_labels, batch_size, epochs, verbose, callbacks, val_f, val_ins, shuffle, callback_metrics, initial_epoch, steps_per_epoch, validation_steps)\u001b[0m\n\u001b[1;32m    197\u001b[0m                     \u001b[0mins_batch\u001b[0m\u001b[0;34m[\u001b[0m\u001b[0mi\u001b[0m\u001b[0;34m]\u001b[0m \u001b[0;34m=\u001b[0m \u001b[0mins_batch\u001b[0m\u001b[0;34m[\u001b[0m\u001b[0mi\u001b[0m\u001b[0;34m]\u001b[0m\u001b[0;34m.\u001b[0m\u001b[0mtoarray\u001b[0m\u001b[0;34m(\u001b[0m\u001b[0;34m)\u001b[0m\u001b[0;34m\u001b[0m\u001b[0m\n\u001b[1;32m    198\u001b[0m \u001b[0;34m\u001b[0m\u001b[0m\n\u001b[0;32m--> 199\u001b[0;31m                 \u001b[0mouts\u001b[0m \u001b[0;34m=\u001b[0m \u001b[0mf\u001b[0m\u001b[0;34m(\u001b[0m\u001b[0mins_batch\u001b[0m\u001b[0;34m)\u001b[0m\u001b[0;34m\u001b[0m\u001b[0m\n\u001b[0m\u001b[1;32m    200\u001b[0m                 \u001b[0mouts\u001b[0m \u001b[0;34m=\u001b[0m \u001b[0mto_list\u001b[0m\u001b[0;34m(\u001b[0m\u001b[0mouts\u001b[0m\u001b[0;34m)\u001b[0m\u001b[0;34m\u001b[0m\u001b[0m\n\u001b[1;32m    201\u001b[0m                 \u001b[0;32mfor\u001b[0m \u001b[0ml\u001b[0m\u001b[0;34m,\u001b[0m \u001b[0mo\u001b[0m \u001b[0;32min\u001b[0m \u001b[0mzip\u001b[0m\u001b[0;34m(\u001b[0m\u001b[0mout_labels\u001b[0m\u001b[0;34m,\u001b[0m \u001b[0mouts\u001b[0m\u001b[0;34m)\u001b[0m\u001b[0;34m:\u001b[0m\u001b[0;34m\u001b[0m\u001b[0m\n",
      "\u001b[0;32m~/anaconda3/envs/dog/lib/python3.6/site-packages/keras/backend/tensorflow_backend.py\u001b[0m in \u001b[0;36m__call__\u001b[0;34m(self, inputs)\u001b[0m\n\u001b[1;32m   2664\u001b[0m                 \u001b[0;32mreturn\u001b[0m \u001b[0mself\u001b[0m\u001b[0;34m.\u001b[0m\u001b[0m_legacy_call\u001b[0m\u001b[0;34m(\u001b[0m\u001b[0minputs\u001b[0m\u001b[0;34m)\u001b[0m\u001b[0;34m\u001b[0m\u001b[0m\n\u001b[1;32m   2665\u001b[0m \u001b[0;34m\u001b[0m\u001b[0m\n\u001b[0;32m-> 2666\u001b[0;31m             \u001b[0;32mreturn\u001b[0m \u001b[0mself\u001b[0m\u001b[0;34m.\u001b[0m\u001b[0m_call\u001b[0m\u001b[0;34m(\u001b[0m\u001b[0minputs\u001b[0m\u001b[0;34m)\u001b[0m\u001b[0;34m\u001b[0m\u001b[0m\n\u001b[0m\u001b[1;32m   2667\u001b[0m         \u001b[0;32melse\u001b[0m\u001b[0;34m:\u001b[0m\u001b[0;34m\u001b[0m\u001b[0m\n\u001b[1;32m   2668\u001b[0m             \u001b[0;32mif\u001b[0m \u001b[0mpy_any\u001b[0m\u001b[0;34m(\u001b[0m\u001b[0mis_tensor\u001b[0m\u001b[0;34m(\u001b[0m\u001b[0mx\u001b[0m\u001b[0;34m)\u001b[0m \u001b[0;32mfor\u001b[0m \u001b[0mx\u001b[0m \u001b[0;32min\u001b[0m \u001b[0minputs\u001b[0m\u001b[0;34m)\u001b[0m\u001b[0;34m:\u001b[0m\u001b[0;34m\u001b[0m\u001b[0m\n",
      "\u001b[0;32m~/anaconda3/envs/dog/lib/python3.6/site-packages/keras/backend/tensorflow_backend.py\u001b[0m in \u001b[0;36m_call\u001b[0;34m(self, inputs)\u001b[0m\n\u001b[1;32m   2634\u001b[0m                                 \u001b[0msymbol_vals\u001b[0m\u001b[0;34m,\u001b[0m\u001b[0;34m\u001b[0m\u001b[0m\n\u001b[1;32m   2635\u001b[0m                                 session)\n\u001b[0;32m-> 2636\u001b[0;31m         \u001b[0mfetched\u001b[0m \u001b[0;34m=\u001b[0m \u001b[0mself\u001b[0m\u001b[0;34m.\u001b[0m\u001b[0m_callable_fn\u001b[0m\u001b[0;34m(\u001b[0m\u001b[0;34m*\u001b[0m\u001b[0marray_vals\u001b[0m\u001b[0;34m)\u001b[0m\u001b[0;34m\u001b[0m\u001b[0m\n\u001b[0m\u001b[1;32m   2637\u001b[0m         \u001b[0;32mreturn\u001b[0m \u001b[0mfetched\u001b[0m\u001b[0;34m[\u001b[0m\u001b[0;34m:\u001b[0m\u001b[0mlen\u001b[0m\u001b[0;34m(\u001b[0m\u001b[0mself\u001b[0m\u001b[0;34m.\u001b[0m\u001b[0moutputs\u001b[0m\u001b[0;34m)\u001b[0m\u001b[0;34m]\u001b[0m\u001b[0;34m\u001b[0m\u001b[0m\n\u001b[1;32m   2638\u001b[0m \u001b[0;34m\u001b[0m\u001b[0m\n",
      "\u001b[0;32m~/anaconda3/envs/dog/lib/python3.6/site-packages/tensorflow/python/client/session.py\u001b[0m in \u001b[0;36m__call__\u001b[0;34m(self, *args, **kwargs)\u001b[0m\n\u001b[1;32m   1380\u001b[0m           ret = tf_session.TF_SessionRunCallable(\n\u001b[1;32m   1381\u001b[0m               \u001b[0mself\u001b[0m\u001b[0;34m.\u001b[0m\u001b[0m_session\u001b[0m\u001b[0;34m.\u001b[0m\u001b[0m_session\u001b[0m\u001b[0;34m,\u001b[0m \u001b[0mself\u001b[0m\u001b[0;34m.\u001b[0m\u001b[0m_handle\u001b[0m\u001b[0;34m,\u001b[0m \u001b[0margs\u001b[0m\u001b[0;34m,\u001b[0m \u001b[0mstatus\u001b[0m\u001b[0;34m,\u001b[0m\u001b[0;34m\u001b[0m\u001b[0m\n\u001b[0;32m-> 1382\u001b[0;31m               run_metadata_ptr)\n\u001b[0m\u001b[1;32m   1383\u001b[0m         \u001b[0;32mif\u001b[0m \u001b[0mrun_metadata\u001b[0m\u001b[0;34m:\u001b[0m\u001b[0;34m\u001b[0m\u001b[0m\n\u001b[1;32m   1384\u001b[0m           \u001b[0mproto_data\u001b[0m \u001b[0;34m=\u001b[0m \u001b[0mtf_session\u001b[0m\u001b[0;34m.\u001b[0m\u001b[0mTF_GetBuffer\u001b[0m\u001b[0;34m(\u001b[0m\u001b[0mrun_metadata_ptr\u001b[0m\u001b[0;34m)\u001b[0m\u001b[0;34m\u001b[0m\u001b[0m\n",
      "\u001b[0;31mKeyboardInterrupt\u001b[0m: "
     ]
    }
   ],
   "source": [
    "from keras.callbacks import ModelCheckpoint\n",
    "\n",
    "### TODO: specify the number of epochs that you would like to use to train the model.\n",
    "\n",
    "epochs = 20\n",
    "\n",
    "### Do NOT modify the code below this line.\n",
    "\n",
    "checkpointer = ModelCheckpoint(filepath='saved_models/weights.best.from_scratch.hdf5', \n",
    "                               verbose=1, save_best_only=True)\n",
    "\n",
    "model.fit(train_tensors, train_targets, \n",
    "          validation_data=(valid_tensors, valid_targets),\n",
    "          epochs=epochs, batch_size=20, callbacks=[checkpointer], verbose=1)"
   ]
  },
  {
   "cell_type": "markdown",
   "metadata": {},
   "source": [
    "### Load the Model with the Best Validation Loss"
   ]
  },
  {
   "cell_type": "code",
   "execution_count": null,
   "metadata": {},
   "outputs": [],
   "source": [
    "model.load_weights('saved_models/weights.best.from_scratch.hdf5')"
   ]
  },
  {
   "cell_type": "markdown",
   "metadata": {},
   "source": [
    "### Test the Model\n",
    "\n",
    "Try out your model on the test dataset of dog images.  Ensure that your test accuracy is greater than 1%."
   ]
  },
  {
   "cell_type": "code",
   "execution_count": 24,
   "metadata": {},
   "outputs": [
    {
     "name": "stdout",
     "output_type": "stream",
     "text": [
      "Test accuracy: 7.0574%\n"
     ]
    }
   ],
   "source": [
    "# get index of predicted dog breed for each image in test set\n",
    "dog_breed_predictions = [np.argmax(model.predict(np.expand_dims(tensor, axis=0))) for tensor in test_tensors]\n",
    "\n",
    "# report test accuracy\n",
    "test_accuracy = 100*np.sum(np.array(dog_breed_predictions)==np.argmax(test_targets, axis=1))/len(dog_breed_predictions)\n",
    "print('Test accuracy: %.4f%%' % test_accuracy)"
   ]
  },
  {
   "cell_type": "markdown",
   "metadata": {},
   "source": [
    "---\n",
    "<a id='step4'></a>\n",
    "## Step 4: Use a CNN to Classify Dog Breeds\n",
    "\n",
    "To reduce training time without sacrificing accuracy, we show you how to train a CNN using transfer learning.  In the following step, you will get a chance to use transfer learning to train your own CNN.\n",
    "\n",
    "### Obtain Bottleneck Features"
   ]
  },
  {
   "cell_type": "code",
   "execution_count": null,
   "metadata": {},
   "outputs": [],
   "source": [
    "bottleneck_features = np.load('bottleneck_features/DogVGG16Data.npz')\n",
    "train_VGG16 = bottleneck_features['train']\n",
    "valid_VGG16 = bottleneck_features['valid']\n",
    "test_VGG16 = bottleneck_features['test']"
   ]
  },
  {
   "cell_type": "markdown",
   "metadata": {},
   "source": [
    "### Model Architecture\n",
    "\n",
    "The model uses the the pre-trained VGG-16 model as a fixed feature extractor, where the last convolutional output of VGG-16 is fed as input to our model.  We only add a global average pooling layer and a fully connected layer, where the latter contains one node for each dog category and is equipped with a softmax."
   ]
  },
  {
   "cell_type": "code",
   "execution_count": null,
   "metadata": {},
   "outputs": [],
   "source": [
    "VGG16_model = Sequential()\n",
    "VGG16_model.add(GlobalAveragePooling2D(input_shape=train_VGG16.shape[1:]))\n",
    "VGG16_model.add(Dense(133, activation='softmax'))\n",
    "\n",
    "VGG16_model.summary()"
   ]
  },
  {
   "cell_type": "markdown",
   "metadata": {},
   "source": [
    "### Compile the Model"
   ]
  },
  {
   "cell_type": "code",
   "execution_count": null,
   "metadata": {},
   "outputs": [],
   "source": [
    "VGG16_model.compile(loss='categorical_crossentropy', optimizer='rmsprop', metrics=['accuracy'])"
   ]
  },
  {
   "cell_type": "markdown",
   "metadata": {},
   "source": [
    "### Train the Model"
   ]
  },
  {
   "cell_type": "code",
   "execution_count": null,
   "metadata": {
    "scrolled": true
   },
   "outputs": [],
   "source": [
    "checkpointer = ModelCheckpoint(filepath='saved_models/weights.best.VGG16.hdf5', \n",
    "                               verbose=1, save_best_only=True)\n",
    "\n",
    "VGG16_model.fit(train_VGG16, train_targets, \n",
    "          validation_data=(valid_VGG16, valid_targets),\n",
    "          epochs=20, batch_size=20, callbacks=[checkpointer], verbose=1)"
   ]
  },
  {
   "cell_type": "markdown",
   "metadata": {},
   "source": [
    "### Load the Model with the Best Validation Loss"
   ]
  },
  {
   "cell_type": "code",
   "execution_count": null,
   "metadata": {},
   "outputs": [],
   "source": [
    "VGG16_model.load_weights('saved_models/weights.best.VGG16.hdf5')"
   ]
  },
  {
   "cell_type": "markdown",
   "metadata": {},
   "source": [
    "### Test the Model\n",
    "\n",
    "Now, we can use the CNN to test how well it identifies breed within our test dataset of dog images.  We print the test accuracy below."
   ]
  },
  {
   "cell_type": "code",
   "execution_count": null,
   "metadata": {},
   "outputs": [],
   "source": [
    "# get index of predicted dog breed for each image in test set\n",
    "VGG16_predictions = [np.argmax(VGG16_model.predict(np.expand_dims(feature, axis=0))) for feature in test_VGG16]\n",
    "\n",
    "# report test accuracy\n",
    "test_accuracy = 100*np.sum(np.array(VGG16_predictions)==np.argmax(test_targets, axis=1))/len(VGG16_predictions)\n",
    "print('Test accuracy: %.4f%%' % test_accuracy)"
   ]
  },
  {
   "cell_type": "markdown",
   "metadata": {},
   "source": [
    "### Predict Dog Breed with the Model"
   ]
  },
  {
   "cell_type": "code",
   "execution_count": null,
   "metadata": {},
   "outputs": [],
   "source": [
    "from extract_bottleneck_features import *\n",
    "\n",
    "def VGG16_predict_breed(img_path):\n",
    "    # extract bottleneck features\n",
    "    bottleneck_feature = extract_VGG16(path_to_tensor(img_path))\n",
    "    # obtain predicted vector\n",
    "    predicted_vector = VGG16_model.predict(bottleneck_feature)\n",
    "    # return dog breed that is predicted by the model\n",
    "    return dog_names[np.argmax(predicted_vector)]"
   ]
  },
  {
   "cell_type": "markdown",
   "metadata": {},
   "source": [
    "---\n",
    "<a id='step5'></a>\n",
    "## Step 5: Create a CNN to Classify Dog Breeds (using Transfer Learning)\n",
    "\n",
    "You will now use transfer learning to create a CNN that can identify dog breed from images.  Your CNN must attain at least 60% accuracy on the test set.\n",
    "\n",
    "In Step 4, we used transfer learning to create a CNN using VGG-16 bottleneck features.  In this section, you must use the bottleneck features from a different pre-trained model.  To make things easier for you, we have pre-computed the features for all of the networks that are currently available in Keras:\n",
    "- [VGG-19](https://s3-us-west-1.amazonaws.com/udacity-aind/dog-project/DogVGG19Data.npz) bottleneck features\n",
    "- [ResNet-50](https://s3-us-west-1.amazonaws.com/udacity-aind/dog-project/DogResnet50Data.npz) bottleneck features\n",
    "- [Inception](https://s3-us-west-1.amazonaws.com/udacity-aind/dog-project/DogInceptionV3Data.npz) bottleneck features\n",
    "- [Xception](https://s3-us-west-1.amazonaws.com/udacity-aind/dog-project/DogXceptionData.npz) bottleneck features\n",
    "\n",
    "The files are encoded as such:\n",
    "\n",
    "    Dog{network}Data.npz\n",
    "    \n",
    "where `{network}`, in the above filename, can be one of `VGG19`, `Resnet50`, `InceptionV3`, or `Xception`.  Pick one of the above architectures, download the corresponding bottleneck features, and store the downloaded file in the `bottleneck_features/` folder in the repository.\n",
    "\n",
    "### (IMPLEMENTATION) Obtain Bottleneck Features\n",
    "\n",
    "In the code block below, extract the bottleneck features corresponding to the train, test, and validation sets by running the following:\n",
    "\n",
    "    bottleneck_features = np.load('bottleneck_features/Dog{network}Data.npz')\n",
    "    train_{network} = bottleneck_features['train']\n",
    "    valid_{network} = bottleneck_features['valid']\n",
    "    test_{network} = bottleneck_features['test']"
   ]
  },
  {
   "cell_type": "code",
   "execution_count": null,
   "metadata": {
    "scrolled": false
   },
   "outputs": [],
   "source": [
    "### TODO: Obtain bottleneck features from another pre-trained CNN.\n",
    "bottleneck_features = np.load('bottleneck_features/DogXceptionData.npz')\n",
    "train_Xception = bottleneck_features['train']\n",
    "valid_Xception = bottleneck_features['valid']\n",
    "test_Xception = bottleneck_features['test']"
   ]
  },
  {
   "cell_type": "code",
   "execution_count": null,
   "metadata": {},
   "outputs": [],
   "source": [
    "Xception_model = Sequential()\n",
    "Xception_model.add(GlobalAveragePooling2D(input_shape=train_Xception.shape[1:]))\n",
    "Xception_model.add(Drop(0.1))\n",
    "Xception_model.add(Dense(1024, activation='relu'))\n",
    "Xception_model.add(Drop(0.2))\n",
    "Xception_model.add(Dense(133, activation='softmax'))\n",
    "\n",
    "Xception_model.summary()\n",
    "\n",
    "Xception_model.compile(loss='categorical_crossentropy', optimizer='rmsprop', metrics=['accuracy'])\n",
    "\n",
    "checkpointer = ModelCheckpoint(filepath='saved_models/weights.best.Xception.hdf5', \n",
    "                               verbose=1, save_best_only=True)\n",
    "\n",
    "Xception_model.fit(train_Xception, train_targets, \n",
    "          validation_data=(valid_Xception, valid_targets),\n",
    "          epochs=20, batch_size=20, callbacks=[checkpointer], verbose=1)"
   ]
  },
  {
   "cell_type": "code",
   "execution_count": null,
   "metadata": {},
   "outputs": [],
   "source": [
    "# get index of predicted dog breed for each image in test set\n",
    "Xception_predictions = [np.argmax(Xception_model.predict(np.expand_dims(feature, axis=0))) for feature in test_Xception]\n",
    "\n",
    "# report test accuracy\n",
    "test_accuracy = 100*np.sum(np.array(Xception_predictions)==np.argmax(test_targets, axis=1))/len(Xception_predictions)\n",
    "print('Test accuracy: %.4f%%' % test_accuracy)"
   ]
  },
  {
   "cell_type": "markdown",
   "metadata": {},
   "source": [
    "### (IMPLEMENTATION) Model Architecture\n",
    "\n",
    "Create a CNN to classify dog breed.  At the end of your code cell block, summarize the layers of your model by executing the line:\n",
    "    \n",
    "        <your model's name>.summary()\n",
    "   \n",
    "__Question 5:__ Outline the steps you took to get to your final CNN architecture and your reasoning at each step.  Describe why you think the architecture is suitable for the current problem.\n",
    "\n",
    "__Answer:__ \n",
    "\n"
   ]
  },
  {
   "cell_type": "code",
   "execution_count": null,
   "metadata": {
    "collapsed": true
   },
   "outputs": [],
   "source": [
    "### TODO: Define your architecture."
   ]
  },
  {
   "cell_type": "markdown",
   "metadata": {},
   "source": [
    "### (IMPLEMENTATION) Compile the Model"
   ]
  },
  {
   "cell_type": "code",
   "execution_count": null,
   "metadata": {
    "collapsed": true
   },
   "outputs": [],
   "source": [
    "### TODO: Compile the model."
   ]
  },
  {
   "cell_type": "markdown",
   "metadata": {},
   "source": [
    "### (IMPLEMENTATION) Train the Model\n",
    "\n",
    "Train your model in the code cell below.  Use model checkpointing to save the model that attains the best validation loss.  \n",
    "\n",
    "You are welcome to [augment the training data](https://blog.keras.io/building-powerful-image-classification-models-using-very-little-data.html), but this is not a requirement. "
   ]
  },
  {
   "cell_type": "code",
   "execution_count": null,
   "metadata": {
    "collapsed": true
   },
   "outputs": [],
   "source": [
    "### TODO: Train the model."
   ]
  },
  {
   "cell_type": "markdown",
   "metadata": {},
   "source": [
    "### (IMPLEMENTATION) Load the Model with the Best Validation Loss"
   ]
  },
  {
   "cell_type": "code",
   "execution_count": null,
   "metadata": {
    "collapsed": true
   },
   "outputs": [],
   "source": [
    "### TODO: Load the model weights with the best validation loss."
   ]
  },
  {
   "cell_type": "markdown",
   "metadata": {},
   "source": [
    "### (IMPLEMENTATION) Test the Model\n",
    "\n",
    "Try out your model on the test dataset of dog images. Ensure that your test accuracy is greater than 60%."
   ]
  },
  {
   "cell_type": "code",
   "execution_count": null,
   "metadata": {
    "collapsed": true
   },
   "outputs": [],
   "source": [
    "### TODO: Calculate classification accuracy on the test dataset."
   ]
  },
  {
   "cell_type": "markdown",
   "metadata": {},
   "source": [
    "### (IMPLEMENTATION) Predict Dog Breed with the Model\n",
    "\n",
    "Write a function that takes an image path as input and returns the dog breed (`Affenpinscher`, `Afghan_hound`, etc) that is predicted by your model.  \n",
    "\n",
    "Similar to the analogous function in Step 5, your function should have three steps:\n",
    "1. Extract the bottleneck features corresponding to the chosen CNN model.\n",
    "2. Supply the bottleneck features as input to the model to return the predicted vector.  Note that the argmax of this prediction vector gives the index of the predicted dog breed.\n",
    "3. Use the `dog_names` array defined in Step 0 of this notebook to return the corresponding breed.\n",
    "\n",
    "The functions to extract the bottleneck features can be found in `extract_bottleneck_features.py`, and they have been imported in an earlier code cell.  To obtain the bottleneck features corresponding to your chosen CNN architecture, you need to use the function\n",
    "\n",
    "    extract_{network}\n",
    "    \n",
    "where `{network}`, in the above filename, should be one of `VGG19`, `Resnet50`, `InceptionV3`, or `Xception`."
   ]
  },
  {
   "cell_type": "code",
   "execution_count": null,
   "metadata": {
    "collapsed": true
   },
   "outputs": [],
   "source": [
    "### TODO: Write a function that takes a path to an image as input\n",
    "### and returns the dog breed that is predicted by the model."
   ]
  },
  {
   "cell_type": "markdown",
   "metadata": {},
   "source": [
    "---\n",
    "<a id='step6'></a>\n",
    "## Step 6: Write your Algorithm\n",
    "\n",
    "Write an algorithm that accepts a file path to an image and first determines whether the image contains a human, dog, or neither.  Then,\n",
    "- if a __dog__ is detected in the image, return the predicted breed.\n",
    "- if a __human__ is detected in the image, return the resembling dog breed.\n",
    "- if __neither__ is detected in the image, provide output that indicates an error.\n",
    "\n",
    "You are welcome to write your own functions for detecting humans and dogs in images, but feel free to use the `face_detector` and `dog_detector` functions developed above.  You are __required__ to use your CNN from Step 5 to predict dog breed.  \n",
    "\n",
    "Some sample output for our algorithm is provided below, but feel free to design your own user experience!\n",
    "\n",
    "![Sample Human Output](images/sample_human_output.png)\n",
    "\n",
    "\n",
    "### (IMPLEMENTATION) Write your Algorithm"
   ]
  },
  {
   "cell_type": "code",
   "execution_count": null,
   "metadata": {
    "collapsed": true
   },
   "outputs": [],
   "source": [
    "### TODO: Write your algorithm.\n",
    "### Feel free to use as many code cells as needed."
   ]
  },
  {
   "cell_type": "markdown",
   "metadata": {},
   "source": [
    "---\n",
    "<a id='step7'></a>\n",
    "## Step 7: Test Your Algorithm\n",
    "\n",
    "In this section, you will take your new algorithm for a spin!  What kind of dog does the algorithm think that __you__ look like?  If you have a dog, does it predict your dog's breed accurately?  If you have a cat, does it mistakenly think that your cat is a dog?\n",
    "\n",
    "### (IMPLEMENTATION) Test Your Algorithm on Sample Images!\n",
    "\n",
    "Test your algorithm at least six images on your computer.  Feel free to use any images you like.  Use at least two human and two dog images.  \n",
    "\n",
    "__Question 6:__ Is the output better than you expected :) ?  Or worse :( ?  Provide at least three possible points of improvement for your algorithm.\n",
    "\n",
    "__Answer:__ "
   ]
  },
  {
   "cell_type": "code",
   "execution_count": null,
   "metadata": {
    "collapsed": true
   },
   "outputs": [],
   "source": [
    "## TODO: Execute your algorithm from Step 6 on\n",
    "## at least 6 images on your computer.\n",
    "## Feel free to use as many code cells as needed."
   ]
  }
 ],
 "metadata": {
  "anaconda-cloud": {},
  "kernelspec": {
   "display_name": "Python 3",
   "language": "python",
   "name": "python3"
  },
  "language_info": {
   "codemirror_mode": {
    "name": "ipython",
    "version": 3
   },
   "file_extension": ".py",
   "mimetype": "text/x-python",
   "name": "python",
   "nbconvert_exporter": "python",
   "pygments_lexer": "ipython3",
   "version": "3.6.6"
  }
 },
 "nbformat": 4,
 "nbformat_minor": 1
}
