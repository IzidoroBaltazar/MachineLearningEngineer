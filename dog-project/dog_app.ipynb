{
 "cells": [
  {
   "cell_type": "markdown",
   "metadata": {},
   "source": [
    "# Artificial Intelligence Nanodegree\n",
    "\n",
    "## Convolutional Neural Networks\n",
    "\n",
    "## Project: Write an Algorithm for a Dog Identification App \n",
    "\n",
    "---\n",
    "\n",
    "In this notebook, some template code has already been provided for you, and you will need to implement additional functionality to successfully complete this project. You will not need to modify the included code beyond what is requested. Sections that begin with **'(IMPLEMENTATION)'** in the header indicate that the following block of code will require additional functionality which you must provide. Instructions will be provided for each section, and the specifics of the implementation are marked in the code block with a 'TODO' statement. Please be sure to read the instructions carefully! \n",
    "\n",
    "> **Note**: Once you have completed all of the code implementations, you need to finalize your work by exporting the iPython Notebook as an HTML document. Before exporting the notebook to html, all of the code cells need to have been run so that reviewers can see the final implementation and output. You can then export the notebook by using the menu above and navigating to  \\n\",\n",
    "    \"**File -> Download as -> HTML (.html)**. Include the finished document along with this notebook as your submission.\n",
    "\n",
    "In addition to implementing code, there will be questions that you must answer which relate to the project and your implementation. Each section where you will answer a question is preceded by a **'Question X'** header. Carefully read each question and provide thorough answers in the following text boxes that begin with **'Answer:'**. Your project submission will be evaluated based on your answers to each of the questions and the implementation you provide.\n",
    "\n",
    ">**Note:** Code and Markdown cells can be executed using the **Shift + Enter** keyboard shortcut.  Markdown cells can be edited by double-clicking the cell to enter edit mode.\n",
    "\n",
    "The rubric contains _optional_ \"Stand Out Suggestions\" for enhancing the project beyond the minimum requirements. If you decide to pursue the \"Stand Out Suggestions\", you should include the code in this IPython notebook.\n",
    "\n",
    "\n",
    "\n",
    "---\n",
    "### Why We're Here \n",
    "\n",
    "In this notebook, you will make the first steps towards developing an algorithm that could be used as part of a mobile or web app.  At the end of this project, your code will accept any user-supplied image as input.  If a dog is detected in the image, it will provide an estimate of the dog's breed.  If a human is detected, it will provide an estimate of the dog breed that is most resembling.  The image below displays potential sample output of your finished project (... but we expect that each student's algorithm will behave differently!). \n",
    "\n",
    "![Sample Dog Output](images/sample_dog_output.png)\n",
    "\n",
    "In this real-world setting, you will need to piece together a series of models to perform different tasks; for instance, the algorithm that detects humans in an image will be different from the CNN that infers dog breed.  There are many points of possible failure, and no perfect algorithm exists.  Your imperfect solution will nonetheless create a fun user experience!\n",
    "\n",
    "### The Road Ahead\n",
    "\n",
    "We break the notebook into separate steps.  Feel free to use the links below to navigate the notebook.\n",
    "\n",
    "* [Step 0](#step0): Import Datasets\n",
    "* [Step 1](#step1): Detect Humans\n",
    "* [Step 2](#step2): Detect Dogs\n",
    "* [Step 3](#step3): Create a CNN to Classify Dog Breeds (from Scratch)\n",
    "* [Step 4](#step4): Use a CNN to Classify Dog Breeds (using Transfer Learning)\n",
    "* [Step 5](#step5): Create a CNN to Classify Dog Breeds (using Transfer Learning)\n",
    "* [Step 6](#step6): Write your Algorithm\n",
    "* [Step 7](#step7): Test Your Algorithm\n",
    "\n",
    "---\n",
    "<a id='step0'></a>\n",
    "## Step 0: Import Datasets\n",
    "\n",
    "### Import Dog Dataset\n",
    "\n",
    "In the code cell below, we import a dataset of dog images.  We populate a few variables through the use of the `load_files` function from the scikit-learn library:\n",
    "- `train_files`, `valid_files`, `test_files` - numpy arrays containing file paths to images\n",
    "- `train_targets`, `valid_targets`, `test_targets` - numpy arrays containing onehot-encoded classification labels \n",
    "- `dog_names` - list of string-valued dog breed names for translating labels"
   ]
  },
  {
   "cell_type": "code",
   "execution_count": 1,
   "metadata": {},
   "outputs": [
    {
     "name": "stdout",
     "output_type": "stream",
     "text": [
      "3.6.6\n",
      "device: 0, name: GeForce GTX 1060 6GB, pci bus id: 0000:01:00.0, compute capability: 6.1\n"
     ]
    }
   ],
   "source": [
    "import platform\n",
    "print(platform.python_version())\n",
    "\n",
    "import tensorflow as tf\n",
    "if tf.test.is_built_with_cuda():\n",
    "    from tensorflow.python.client import device_lib\n",
    "\n",
    "    local_device_protos = device_lib.list_local_devices()\n",
    "    for x in local_device_protos:\n",
    "        if x.device_type == 'GPU':\n",
    "            print(x.physical_device_desc)"
   ]
  },
  {
   "cell_type": "code",
   "execution_count": 2,
   "metadata": {},
   "outputs": [
    {
     "name": "stderr",
     "output_type": "stream",
     "text": [
      "Using TensorFlow backend.\n"
     ]
    },
    {
     "name": "stdout",
     "output_type": "stream",
     "text": [
      "There are 133 total dog categories.\n",
      "There are 8351 total dog images.\n",
      "\n",
      "There are 6680 training dog images.\n",
      "There are 835 validation dog images.\n",
      "There are 836 test dog images.\n"
     ]
    }
   ],
   "source": [
    "from sklearn.datasets import load_files\n",
    "from keras.utils import np_utils\n",
    "import numpy as np\n",
    "from glob import glob\n",
    "\n",
    "# define function to load train, test, and validation datasets\n",
    "def load_dataset(path):\n",
    "    data = load_files(path)\n",
    "    dog_files = np.array(data['filenames'])\n",
    "    dog_targets = np_utils.to_categorical(np.array(data['target']), 133)\n",
    "    return dog_files, dog_targets\n",
    "\n",
    "# load train, test, and validation datasets\n",
    "train_files, train_targets = load_dataset('dogImages/train')\n",
    "valid_files, valid_targets = load_dataset('dogImages/valid')\n",
    "test_files, test_targets = load_dataset('dogImages/test')\n",
    "\n",
    "# load list of dog names\n",
    "dog_names = [item[20:-1] for item in sorted(glob(\"dogImages/train/*/\"))]\n",
    "\n",
    "# print statistics about the dataset\n",
    "print('There are %d total dog categories.' % len(dog_names))\n",
    "print('There are %s total dog images.\\n' % len(np.hstack([train_files, valid_files, test_files])))\n",
    "print('There are %d training dog images.' % len(train_files))\n",
    "print('There are %d validation dog images.' % len(valid_files))\n",
    "print('There are %d test dog images.'% len(test_files))"
   ]
  },
  {
   "cell_type": "markdown",
   "metadata": {},
   "source": [
    "### Import Human Dataset\n",
    "\n",
    "In the code cell below, we import a dataset of human images, where the file paths are stored in the numpy array `human_files`."
   ]
  },
  {
   "cell_type": "code",
   "execution_count": 3,
   "metadata": {},
   "outputs": [
    {
     "name": "stdout",
     "output_type": "stream",
     "text": [
      "There are 13233 total human images.\n"
     ]
    }
   ],
   "source": [
    "import random\n",
    "# random.seed(8675309)\n",
    "random.seed(7674308)\n",
    "\n",
    "# load filenames in shuffled human dataset\n",
    "human_files = np.array(glob(\"lfw/*/*\"))\n",
    "random.shuffle(human_files)\n",
    "\n",
    "# print statistics about the dataset\n",
    "print('There are %d total human images.' % len(human_files))"
   ]
  },
  {
   "cell_type": "markdown",
   "metadata": {},
   "source": [
    "---\n",
    "<a id='step1'></a>\n",
    "## Step 1: Detect Humans\n",
    "\n",
    "We use OpenCV's implementation of [Haar feature-based cascade classifiers](http://docs.opencv.org/trunk/d7/d8b/tutorial_py_face_detection.html) to detect human faces in images.  OpenCV provides many pre-trained face detectors, stored as XML files on [github](https://github.com/opencv/opencv/tree/master/data/haarcascades).  We have downloaded one of these detectors and stored it in the `haarcascades` directory.\n",
    "\n",
    "In the next code cell, we demonstrate how to use this detector to find human faces in a sample image."
   ]
  },
  {
   "cell_type": "code",
   "execution_count": 4,
   "metadata": {},
   "outputs": [
    {
     "name": "stdout",
     "output_type": "stream",
     "text": [
      "Number of faces detected: 1\n"
     ]
    },
    {
     "data": {
      "image/png": "[encoded data removed]",
      "text/plain": [
       "<Figure size 432x288 with 1 Axes>"
      ]
     },
     "metadata": {
      "needs_background": "light"
     },
     "output_type": "display_data"
    }
   ],
   "source": [
    "import cv2                \n",
    "import matplotlib.pyplot as plt                        \n",
    "%matplotlib inline                               \n",
    "\n",
    "# extract pre-trained face detector\n",
    "face_cascade = cv2.CascadeClassifier('haarcascades/haarcascade_frontalface_alt.xml')\n",
    "\n",
    "# load color (BGR) image\n",
    "img = cv2.imread(human_files[3])\n",
    "# convert BGR image to grayscale\n",
    "gray = cv2.cvtColor(img, cv2.COLOR_BGR2GRAY)\n",
    "\n",
    "# find faces in image\n",
    "faces = face_cascade.detectMultiScale(gray)\n",
    "\n",
    "# print number of faces detected in the image\n",
    "print('Number of faces detected:', len(faces))\n",
    "\n",
    "# get bounding box for each detected face\n",
    "for (x,y,w,h) in faces:\n",
    "    # add bounding box to color image\n",
    "    cv2.rectangle(img,(x,y),(x+w,y+h),(255,0,0),2)\n",
    "    \n",
    "# convert BGR image to RGB for plotting\n",
    "cv_rgb = cv2.cvtColor(img, cv2.COLOR_BGR2RGB)\n",
    "\n",
    "# display the image, along with bounding box\n",
    "plt.imshow(cv_rgb)\n",
    "plt.show()"
   ]
  },
  {
   "cell_type": "markdown",
   "metadata": {},
   "source": [
    "Before using any of the face detectors, it is standard procedure to convert the images to grayscale.  The `detectMultiScale` function executes the classifier stored in `face_cascade` and takes the grayscale image as a parameter.  \n",
    "\n",
    "In the above code, `faces` is a numpy array of detected faces, where each row corresponds to a detected face.  Each detected face is a 1D array with four entries that specifies the bounding box of the detected face.  The first two entries in the array (extracted in the above code as `x` and `y`) specify the horizontal and vertical positions of the top left corner of the bounding box.  The last two entries in the array (extracted here as `w` and `h`) specify the width and height of the box.\n",
    "\n",
    "### Write a Human Face Detector\n",
    "\n",
    "We can use this procedure to write a function that returns `True` if a human face is detected in an image and `False` otherwise.  This function, aptly named `face_detector`, takes a string-valued file path to an image as input and appears in the code block below."
   ]
  },
  {
   "cell_type": "code",
   "execution_count": 5,
   "metadata": {},
   "outputs": [],
   "source": [
    "# returns \"True\" if face is detected in image stored at img_path\n",
    "def face_detector(img_path):\n",
    "    img = cv2.imread(img_path)\n",
    "    gray = cv2.cvtColor(img, cv2.COLOR_BGR2GRAY)\n",
    "    faces = face_cascade.detectMultiScale(gray)\n",
    "    return len(faces) > 0"
   ]
  },
  {
   "cell_type": "markdown",
   "metadata": {},
   "source": [
    "### (IMPLEMENTATION) Assess the Human Face Detector\n",
    "\n",
    "__Question 1:__ Use the code cell below to test the performance of the `face_detector` function.  \n",
    "- What percentage of the first 100 images in `human_files` have a detected human face?  \n",
    "- What percentage of the first 100 images in `dog_files` have a detected human face? \n",
    "\n",
    "Ideally, we would like 100% of human images with a detected face and 0% of dog images with a detected face.  You will see that our algorithm falls short of this goal, but still gives acceptable performance.  We extract the file paths for the first 100 images from each of the datasets and store them in the numpy arrays `human_files_short` and `dog_files_short`.\n",
    "\n",
    "__Answer:__ 99% of pictures with human faces are correctly detected. `lfw/Derek_Bond/Derek_Bond_0001.jpg` picture is incorrectly classified as not containing face. I am not sure what the problem is. But he has glasses on.\n",
    "\n",
    "11% of dog pictures are incorrectly classified as containing human face. Problem with picture `dogImages/train/106.Newfoundland/Newfoundland_06989.jpg` is that it really contains human face. Which makes it about 10%."
   ]
  },
  {
   "cell_type": "code",
   "execution_count": 6,
   "metadata": {},
   "outputs": [
    {
     "name": "stdout",
     "output_type": "stream",
     "text": [
      "Length of human sample 100\n",
      "Length of dog sample 100\n",
      "Human was not detected: lfw/Colin_Montgomerie/Colin_Montgomerie_0004.jpg\n",
      "Human was not detected: lfw/Buddy_Ryan/Buddy_Ryan_0001.jpg\n",
      "Human was not detected: lfw/Thor_Pedersen/Thor_Pedersen_0001.jpg\n",
      "Human was not detected: lfw/John_Velazquez/John_Velazquez_0001.jpg\n",
      "Human was detected in dog image: dogImages/train/095.Kuvasz/Kuvasz_06442.jpg\n",
      "Human was detected in dog image: dogImages/train/099.Lhasa_apso/Lhasa_apso_06646.jpg\n",
      "Human was detected in dog image: dogImages/train/009.American_water_spaniel/American_water_spaniel_00628.jpg\n",
      "Human was detected in dog image: dogImages/train/057.Dalmatian/Dalmatian_04023.jpg\n",
      "Human was detected in dog image: dogImages/train/096.Labrador_retriever/Labrador_retriever_06474.jpg\n",
      "Human was detected in dog image: dogImages/train/106.Newfoundland/Newfoundland_06989.jpg\n",
      "Human was detected in dog image: dogImages/train/117.Pekingese/Pekingese_07559.jpg\n",
      "Human was detected in dog image: dogImages/train/039.Bull_terrier/Bull_terrier_02805.jpg\n",
      "Human was detected in dog image: dogImages/train/097.Lakeland_terrier/Lakeland_terrier_06516.jpg\n",
      "Human was detected in dog image: dogImages/train/057.Dalmatian/Dalmatian_04086.jpg\n",
      "Human was detected in dog image: dogImages/train/024.Bichon_frise/Bichon_frise_01771.jpg\n",
      "Human was detected in dog image: dogImages/train/084.Icelandic_sheepdog/Icelandic_sheepdog_05705.jpg\n",
      "Percentage of detected human faces in human sample 96.0\n",
      "Percentage of detected human faces in dog sample 12.0\n"
     ]
    }
   ],
   "source": [
    "human_files_short = human_files[:100]\n",
    "dog_files_short = train_files[:100]\n",
    "# Do NOT modify the code above this line.\n",
    "\n",
    "## TODO: Test the performance of the face_detector algorithm \n",
    "## on the images in human_files_short and dog_files_short.\n",
    "h_detected = 0\n",
    "d_detected = 0\n",
    "print(\"Length of human sample {}\".format(str(len(human_files_short))))\n",
    "print(\"Length of dog sample {}\".format(str(len(dog_files_short))))\n",
    "for img_path in human_files_short:\n",
    "    if face_detector(img_path):\n",
    "        h_detected += 1\n",
    "    else:\n",
    "        print(\"Human was not detected: {}\".format(img_path))\n",
    "        \n",
    "for img_path in dog_files_short:\n",
    "    if face_detector(img_path):\n",
    "        d_detected += 1\n",
    "        print(\"Human was detected in dog image: {}\".format(img_path))\n",
    "        \n",
    "print(\"Percentage of detected human faces in human sample {}\".format(str((h_detected/100.)*100.)))\n",
    "print(\"Percentage of detected human faces in dog sample {}\".format(str((d_detected/100.)*100.)))"
   ]
  },
  {
   "cell_type": "markdown",
   "metadata": {},
   "source": [
    "__Question 2:__ This algorithmic choice necessitates that we communicate to the user that we accept human images only when they provide a clear view of a face (otherwise, we risk having unneccessarily frustrated users!). In your opinion, is this a reasonable expectation to pose on the user? If not, can you think of a way to detect humans in images that does not necessitate an image with a clearly presented face?\n",
    "\n",
    "__Answer:__ I think it's reasonable requirement - otherwise there's not much to work with. It is also interesting to note that if the dog faces camera directly OpenCV is far more likely to detect human face in the picture.\n",
    "\n",
    "We suggest the face detector from OpenCV as a potential way to detect human images in your algorithm, but you are free to explore other approaches, especially approaches that make use of deep learning :).  Please use the code cell below to design and test your own face detection algorithm.  If you decide to pursue this _optional_ task, report performance on each of the datasets."
   ]
  },
  {
   "cell_type": "code",
   "execution_count": 7,
   "metadata": {},
   "outputs": [],
   "source": [
    "## (Optional) TODO: Report the performance of another  \n",
    "## face detection algorithm on the LFW dataset\n",
    "### Feel free to use as many code cells as needed."
   ]
  },
  {
   "cell_type": "markdown",
   "metadata": {},
   "source": [
    "---\n",
    "<a id='step2'></a>\n",
    "## Step 2: Detect Dogs\n",
    "\n",
    "In this section, we use a pre-trained [ResNet-50](http://ethereon.github.io/netscope/#/gist/db945b393d40bfa26006) model to detect dogs in images.  Our first line of code downloads the ResNet-50 model, along with weights that have been trained on [ImageNet](http://www.image-net.org/), a very large, very popular dataset used for image classification and other vision tasks.  ImageNet contains over 10 million URLs, each linking to an image containing an object from one of [1000 categories](https://gist.github.com/yrevar/942d3a0ac09ec9e5eb3a).  Given an image, this pre-trained ResNet-50 model returns a prediction (derived from the available categories in ImageNet) for the object that is contained in the image."
   ]
  },
  {
   "cell_type": "code",
   "execution_count": 8,
   "metadata": {},
   "outputs": [],
   "source": [
    "from keras.applications.resnet50 import ResNet50\n",
    "\n",
    "# define ResNet50 model\n",
    "ResNet50_model = ResNet50(weights='imagenet')"
   ]
  },
  {
   "cell_type": "markdown",
   "metadata": {},
   "source": [
    "### Pre-process the Data\n",
    "\n",
    "When using TensorFlow as backend, Keras CNNs require a 4D array (which we'll also refer to as a 4D tensor) as input, with shape\n",
    "\n",
    "$$\n",
    "(\\text{nb_samples}, \\text{rows}, \\text{columns}, \\text{channels}),\n",
    "$$\n",
    "\n",
    "where `nb_samples` corresponds to the total number of images (or samples), and `rows`, `columns`, and `channels` correspond to the number of rows, columns, and channels for each image, respectively.  \n",
    "\n",
    "The `path_to_tensor` function below takes a string-valued file path to a color image as input and returns a 4D tensor suitable for supplying to a Keras CNN.  The function first loads the image and resizes it to a square image that is $224 \\times 224$ pixels.  Next, the image is converted to an array, which is then resized to a 4D tensor.  In this case, since we are working with color images, each image has three channels.  Likewise, since we are processing a single image (or sample), the returned tensor will always have shape\n",
    "\n",
    "$$\n",
    "(1, 224, 224, 3).\n",
    "$$\n",
    "\n",
    "The `paths_to_tensor` function takes a numpy array of string-valued image paths as input and returns a 4D tensor with shape \n",
    "\n",
    "$$\n",
    "(\\text{nb_samples}, 224, 224, 3).\n",
    "$$\n",
    "\n",
    "Here, `nb_samples` is the number of samples, or number of images, in the supplied array of image paths.  It is best to think of `nb_samples` as the number of 3D tensors (where each 3D tensor corresponds to a different image) in your dataset!"
   ]
  },
  {
   "cell_type": "code",
   "execution_count": 9,
   "metadata": {},
   "outputs": [],
   "source": [
    "from keras.preprocessing import image                  \n",
    "from tqdm import tqdm\n",
    "\n",
    "def path_to_tensor(img_path):\n",
    "    # loads RGB image as PIL.Image.Image type\n",
    "    img = image.load_img(img_path, target_size=(224, 224))\n",
    "    # convert PIL.Image.Image type to 3D tensor with shape (224, 224, 3)\n",
    "    x = image.img_to_array(img)\n",
    "    # convert 3D tensor to 4D tensor with shape (1, 224, 224, 3) and return 4D tensor\n",
    "    return np.expand_dims(x, axis=0)\n",
    "\n",
    "def paths_to_tensor(img_paths):\n",
    "    list_of_tensors = [path_to_tensor(img_path) for img_path in tqdm(img_paths)]\n",
    "    return np.vstack(list_of_tensors)"
   ]
  },
  {
   "cell_type": "markdown",
   "metadata": {},
   "source": [
    "### Making Predictions with ResNet-50\n",
    "\n",
    "Getting the 4D tensor ready for ResNet-50, and for any other pre-trained model in Keras, requires some additional processing.  First, the RGB image is converted to BGR by reordering the channels.  All pre-trained models have the additional normalization step that the mean pixel (expressed in RGB as $[103.939, 116.779, 123.68]$ and calculated from all pixels in all images in ImageNet) must be subtracted from every pixel in each image.  This is implemented in the imported function `preprocess_input`.  If you're curious, you can check the code for `preprocess_input` [here](https://github.com/fchollet/keras/blob/master/keras/applications/imagenet_utils.py).\n",
    "\n",
    "Now that we have a way to format our image for supplying to ResNet-50, we are now ready to use the model to extract the predictions.  This is accomplished with the `predict` method, which returns an array whose $i$-th entry is the model's predicted probability that the image belongs to the $i$-th ImageNet category.  This is implemented in the `ResNet50_predict_labels` function below.\n",
    "\n",
    "By taking the argmax of the predicted probability vector, we obtain an integer corresponding to the model's predicted object class, which we can identify with an object category through the use of this [dictionary](https://gist.github.com/yrevar/942d3a0ac09ec9e5eb3a). "
   ]
  },
  {
   "cell_type": "code",
   "execution_count": 10,
   "metadata": {},
   "outputs": [],
   "source": [
    "from keras.applications.resnet50 import preprocess_input, decode_predictions\n",
    "\n",
    "def ResNet50_predict_labels(img_path):\n",
    "    # returns prediction vector for image located at img_path\n",
    "    img = preprocess_input(path_to_tensor(img_path))\n",
    "    return np.argmax(ResNet50_model.predict(img))"
   ]
  },
  {
   "cell_type": "markdown",
   "metadata": {},
   "source": [
    "### Write a Dog Detector\n",
    "\n",
    "While looking at the [dictionary](https://gist.github.com/yrevar/942d3a0ac09ec9e5eb3a), you will notice that the categories corresponding to dogs appear in an uninterrupted sequence and correspond to dictionary keys 151-268, inclusive, to include all categories from `'Chihuahua'` to `'Mexican hairless'`.  Thus, in order to check to see if an image is predicted to contain a dog by the pre-trained ResNet-50 model, we need only check if the `ResNet50_predict_labels` function above returns a value between 151 and 268 (inclusive).\n",
    "\n",
    "We use these ideas to complete the `dog_detector` function below, which returns `True` if a dog is detected in an image (and `False` if not)."
   ]
  },
  {
   "cell_type": "code",
   "execution_count": 11,
   "metadata": {},
   "outputs": [],
   "source": [
    "### returns \"True\" if a dog is detected in the image stored at img_path\n",
    "def dog_detector(img_path):\n",
    "    prediction = ResNet50_predict_labels(img_path)\n",
    "    return ((prediction <= 268) & (prediction >= 151)) "
   ]
  },
  {
   "cell_type": "markdown",
   "metadata": {},
   "source": [
    "### (IMPLEMENTATION) Assess the Dog Detector\n",
    "\n",
    "__Question 3:__ Use the code cell below to test the performance of your `dog_detector` function.  \n",
    "- What percentage of the images in `human_files_short` have a detected dog?  \n",
    "- What percentage of the images in `dog_files_short` have a detected dog?\n",
    "\n",
    "__Answer:__ \n",
    "Dog was detected in all of the dog samples - which means 100% success rate. And on top of that dog was detected in few human pictures as well."
   ]
  },
  {
   "cell_type": "code",
   "execution_count": 12,
   "metadata": {},
   "outputs": [
    {
     "name": "stdout",
     "output_type": "stream",
     "text": [
      "lfw/Julio_Cesar_Chavez/Julio_Cesar_Chavez_0001.jpg\n",
      "Dog detected in: 100.0% of dog samples\n",
      "Dog detected in: 1.0% of human samples\n"
     ]
    }
   ],
   "source": [
    "### TODO: Test the performance of the dog_detector function\n",
    "### on the images in human_files_short and dog_files_short.\n",
    "d_f = 0\n",
    "h_f = 0\n",
    "for img_path in dog_files_short:\n",
    "    if dog_detector(img_path):\n",
    "        d_f += 1\n",
    "    else:\n",
    "        print(img_path)\n",
    "        \n",
    "for img_path in human_files_short:\n",
    "    if dog_detector(img_path):\n",
    "        print(img_path)\n",
    "        h_f += 1\n",
    "        \n",
    "print(\"Dog detected in: {}% of dog samples\".format(str((d_f/100.)*100.)))\n",
    "print(\"Dog detected in: {}% of human samples\".format(str((h_f/100.)*100.)))"
   ]
  },
  {
   "cell_type": "markdown",
   "metadata": {},
   "source": [
    "---\n",
    "<a id='step3'></a>\n",
    "## Step 3: Create a CNN to Classify Dog Breeds (from Scratch)\n",
    "\n",
    "Now that we have functions for detecting humans and dogs in images, we need a way to predict breed from images.  In this step, you will create a CNN that classifies dog breeds.  You must create your CNN _from scratch_ (so, you can't use transfer learning _yet_!), and you must attain a test accuracy of at least 1%.  In Step 5 of this notebook, you will have the opportunity to use transfer learning to create a CNN that attains greatly improved accuracy.\n",
    "\n",
    "Be careful with adding too many trainable layers!  More parameters means longer training, which means you are more likely to need a GPU to accelerate the training process.  Thankfully, Keras provides a handy estimate of the time that each epoch is likely to take; you can extrapolate this estimate to figure out how long it will take for your algorithm to train. \n",
    "\n",
    "We mention that the task of assigning breed to dogs from images is considered exceptionally challenging.  To see why, consider that *even a human* would have great difficulty in distinguishing between a Brittany and a Welsh Springer Spaniel.  \n",
    "\n",
    "Brittany | Welsh Springer Spaniel\n",
    "- | - \n",
    "<img src=\"images/Brittany_02625.jpg\" width=\"100\"> | <img src=\"images/Welsh_springer_spaniel_08203.jpg\" width=\"200\">\n",
    "\n",
    "It is not difficult to find other dog breed pairs with minimal inter-class variation (for instance, Curly-Coated Retrievers and American Water Spaniels).  \n",
    "\n",
    "Curly-Coated Retriever | American Water Spaniel\n",
    "- | -\n",
    "<img src=\"images/Curly-coated_retriever_03896.jpg\" width=\"200\"> | <img src=\"images/American_water_spaniel_00648.jpg\" width=\"200\">\n",
    "\n",
    "\n",
    "Likewise, recall that labradors come in yellow, chocolate, and black.  Your vision-based algorithm will have to conquer this high intra-class variation to determine how to classify all of these different shades as the same breed.  \n",
    "\n",
    "Yellow Labrador | Chocolate Labrador | Black Labrador\n",
    "- | -\n",
    "<img src=\"images/Labrador_retriever_06457.jpg\" width=\"150\"> | <img src=\"images/Labrador_retriever_06455.jpg\" width=\"240\"> | <img src=\"images/Labrador_retriever_06449.jpg\" width=\"220\">\n",
    "\n",
    "We also mention that random chance presents an exceptionally low bar: setting aside the fact that the classes are slightly imabalanced, a random guess will provide a correct answer roughly 1 in 133 times, which corresponds to an accuracy of less than 1%.  \n",
    "\n",
    "Remember that the practice is far ahead of the theory in deep learning.  Experiment with many different architectures, and trust your intuition.  And, of course, have fun! \n",
    "\n",
    "### Pre-process the Data\n",
    "\n",
    "We rescale the images by dividing every pixel in every image by 255."
   ]
  },
  {
   "cell_type": "code",
   "execution_count": 13,
   "metadata": {},
   "outputs": [
    {
     "name": "stderr",
     "output_type": "stream",
     "text": [
      "100%|██████████| 6680/6680 [00:36<00:00, 183.85it/s]\n",
      "100%|██████████| 836/836 [00:03<00:00, 209.48it/s]\n",
      "100%|██████████| 835/835 [00:04<00:00, 206.84it/s]\n"
     ]
    }
   ],
   "source": [
    "from PIL import ImageFile                            \n",
    "ImageFile.LOAD_TRUNCATED_IMAGES = True                 \n",
    "\n",
    "# pre-process the data for Keras\n",
    "train_tensors = paths_to_tensor(train_files).astype('float32')/255\n",
    "test_tensors = paths_to_tensor(test_files).astype('float32')/255\n",
    "valid_tensors = paths_to_tensor(valid_files).astype('float32')/255"
   ]
  },
  {
   "cell_type": "markdown",
   "metadata": {},
   "source": [
    "### (IMPLEMENTATION) Model Architecture\n",
    "\n",
    "Create a CNN to classify dog breed.  At the end of your code cell block, summarize the layers of your model by executing the line:\n",
    "    \n",
    "        model.summary()\n",
    "\n",
    "We have imported some Python modules to get you started, but feel free to import as many modules as you need.  If you end up getting stuck, here's a hint that specifies a model that trains relatively fast on CPU and attains >1% test accuracy in 5 epochs:\n",
    "\n",
    "![Sample CNN](images/sample_cnn.png)\n",
    "           \n",
    "__Question 4:__ Outline the steps you took to get to your final CNN architecture and your reasoning at each step.  If you chose to use the hinted architecture above, describe why you think that CNN architecture should work well for the image classification task.\n",
    "\n",
    "__Answer:__ I was testing many possible layouts. I found that using multiple `Conv2D` layers in row without scaling image size returned better results. Then after each such block I am scaling image and search smaller sections of image.\n",
    "\n",
    "One block consists of 2x`Conv2D` layers and `MaxPooling2D` layer. Blocks are connected with `Activation` and `Dropout 0.25` layers. With other blocks. First block has resolution 222x222 pixels last block has resolution 49x49 pixels.\n",
    "\n",
    "This structure ends with two fully connected layers with `Dropout` in between."
   ]
  },
  {
   "cell_type": "code",
   "execution_count": 14,
   "metadata": {},
   "outputs": [
    {
     "name": "stdout",
     "output_type": "stream",
     "text": [
      "_________________________________________________________________\n",
      "Layer (type)                 Output Shape              Param #   \n",
      "=================================================================\n",
      "conv2d_1 (Conv2D)            (None, 222, 222, 20)      560       \n",
      "_________________________________________________________________\n",
      "conv2d_2 (Conv2D)            (None, 220, 220, 60)      10860     \n",
      "_________________________________________________________________\n",
      "activation_50 (Activation)   (None, 220, 220, 60)      0         \n",
      "_________________________________________________________________\n",
      "dropout_1 (Dropout)          (None, 220, 220, 60)      0         \n",
      "_________________________________________________________________\n",
      "max_pooling2d_2 (MaxPooling2 (None, 110, 110, 60)      0         \n",
      "_________________________________________________________________\n",
      "conv2d_3 (Conv2D)            (None, 108, 108, 20)      10820     \n",
      "_________________________________________________________________\n",
      "conv2d_4 (Conv2D)            (None, 106, 106, 60)      10860     \n",
      "_________________________________________________________________\n",
      "activation_51 (Activation)   (None, 106, 106, 60)      0         \n",
      "_________________________________________________________________\n",
      "dropout_2 (Dropout)          (None, 106, 106, 60)      0         \n",
      "_________________________________________________________________\n",
      "max_pooling2d_3 (MaxPooling2 (None, 53, 53, 60)        0         \n",
      "_________________________________________________________________\n",
      "conv2d_5 (Conv2D)            (None, 51, 51, 20)        10820     \n",
      "_________________________________________________________________\n",
      "conv2d_6 (Conv2D)            (None, 49, 49, 60)        10860     \n",
      "_________________________________________________________________\n",
      "activation_52 (Activation)   (None, 49, 49, 60)        0         \n",
      "_________________________________________________________________\n",
      "dropout_3 (Dropout)          (None, 49, 49, 60)        0         \n",
      "_________________________________________________________________\n",
      "max_pooling2d_4 (MaxPooling2 (None, 24, 24, 60)        0         \n",
      "_________________________________________________________________\n",
      "flatten_2 (Flatten)          (None, 34560)             0         \n",
      "_________________________________________________________________\n",
      "dense_1 (Dense)              (None, 120)               4147320   \n",
      "_________________________________________________________________\n",
      "activation_53 (Activation)   (None, 120)               0         \n",
      "_________________________________________________________________\n",
      "dropout_4 (Dropout)          (None, 120)               0         \n",
      "_________________________________________________________________\n",
      "dense_2 (Dense)              (None, 133)               16093     \n",
      "_________________________________________________________________\n",
      "activation_54 (Activation)   (None, 133)               0         \n",
      "=================================================================\n",
      "Total params: 4,218,193\n",
      "Trainable params: 4,218,193\n",
      "Non-trainable params: 0\n",
      "_________________________________________________________________\n"
     ]
    }
   ],
   "source": [
    "from keras.layers import Conv2D, MaxPooling2D, GlobalAveragePooling2D\n",
    "from keras.layers import Dropout, Flatten, Dense, Activation\n",
    "from keras.layers.normalization import BatchNormalization\n",
    "from keras.models import Sequential\n",
    "\n",
    "input_shape = (224, 224, 3)\n",
    "num_classes = 133\n",
    "\n",
    "mult_layers = 3\n",
    "n_layers = 2\n",
    "MIN_NEURONS = 20\n",
    "MAX_NEURONS = 120\n",
    "KERNEL = (3, 3)\n",
    "\n",
    "# Determine the # of neurons in each convolutional layer\n",
    "steps = np.floor(MAX_NEURONS / (n_layers + 1))\n",
    "neurons = np.arange(MIN_NEURONS, MAX_NEURONS, steps)\n",
    "neurons = neurons.astype(np.int32)\n",
    "\n",
    "# Define a model\n",
    "model = Sequential()\n",
    "\n",
    "for i in range(0, mult_layers):\n",
    "    # Add convolutional layers\n",
    "    for i in range(0, n_layers):\n",
    "        if i == 0:\n",
    "            model.add(Conv2D(neurons[i], KERNEL, input_shape=input_shape))\n",
    "        else:\n",
    "            model.add(Conv2D(neurons[i], KERNEL))\n",
    "    model.add(Activation('relu'))\n",
    "    model.add(Dropout(0.25))\n",
    "    # Add max pooling layer\n",
    "    model.add(MaxPooling2D(pool_size=(2, 2)))\n",
    "\n",
    "model.add(Flatten())\n",
    "model.add(Dense(MAX_NEURONS))\n",
    "model.add(Activation('relu'))\n",
    "\n",
    "model.add(Dropout(0.5))\n",
    "model.add(Dense(num_classes))\n",
    "model.add(Activation('sigmoid'))\n",
    "\n",
    "model.summary()"
   ]
  },
  {
   "cell_type": "markdown",
   "metadata": {},
   "source": [
    "### Compile the Model"
   ]
  },
  {
   "cell_type": "code",
   "execution_count": 15,
   "metadata": {},
   "outputs": [],
   "source": [
    "model.compile(optimizer='rmsprop', loss='categorical_crossentropy', metrics=['accuracy'])\n",
    "# model.summary()"
   ]
  },
  {
   "cell_type": "markdown",
   "metadata": {},
   "source": [
    "### (IMPLEMENTATION) Train the Model\n",
    "\n",
    "Train your model in the code cell below.  Use model checkpointing to save the model that attains the best validation loss.\n",
    "\n",
    "You are welcome to [augment the training data](https://blog.keras.io/building-powerful-image-classification-models-using-very-little-data.html), but this is not a requirement. "
   ]
  },
  {
   "cell_type": "code",
   "execution_count": 19,
   "metadata": {
    "scrolled": true
   },
   "outputs": [
    {
     "name": "stdout",
     "output_type": "stream",
     "text": [
      "Train on 6680 samples, validate on 835 samples\n",
      "Epoch 1/20\n",
      "6680/6680 [==============================] - 49s 7ms/step - loss: 4.9219 - acc: 0.0081 - val_loss: 4.8850 - val_acc: 0.0108\n",
      "\n",
      "Epoch 00001: val_loss improved from inf to 4.88499, saving model to saved_models/weights.best.from_scratch.hdf5\n",
      "Epoch 2/20\n",
      "6680/6680 [==============================] - 47s 7ms/step - loss: 4.9151 - acc: 0.0090 - val_loss: 4.8797 - val_acc: 0.0108\n",
      "\n",
      "Epoch 00002: val_loss improved from 4.88499 to 4.87970, saving model to saved_models/weights.best.from_scratch.hdf5\n",
      "Epoch 3/20\n",
      "6680/6680 [==============================] - 47s 7ms/step - loss: 4.8909 - acc: 0.0093 - val_loss: 4.8723 - val_acc: 0.0108\n",
      "\n",
      "Epoch 00003: val_loss improved from 4.87970 to 4.87231, saving model to saved_models/weights.best.from_scratch.hdf5\n",
      "Epoch 4/20\n",
      "6680/6680 [==============================] - 47s 7ms/step - loss: 4.8905 - acc: 0.0115 - val_loss: 4.8639 - val_acc: 0.0144\n",
      "\n",
      "Epoch 00004: val_loss improved from 4.87231 to 4.86390, saving model to saved_models/weights.best.from_scratch.hdf5\n",
      "Epoch 5/20\n",
      "6680/6680 [==============================] - 47s 7ms/step - loss: 4.8492 - acc: 0.0168 - val_loss: 4.8429 - val_acc: 0.0168\n",
      "\n",
      "Epoch 00005: val_loss improved from 4.86390 to 4.84295, saving model to saved_models/weights.best.from_scratch.hdf5\n",
      "Epoch 6/20\n",
      "6680/6680 [==============================] - 47s 7ms/step - loss: 4.7818 - acc: 0.0198 - val_loss: 4.8328 - val_acc: 0.0275\n",
      "\n",
      "Epoch 00006: val_loss improved from 4.84295 to 4.83280, saving model to saved_models/weights.best.from_scratch.hdf5\n",
      "Epoch 7/20\n",
      "6680/6680 [==============================] - 47s 7ms/step - loss: 4.6503 - acc: 0.0337 - val_loss: 4.7877 - val_acc: 0.0287\n",
      "\n",
      "Epoch 00007: val_loss improved from 4.83280 to 4.78766, saving model to saved_models/weights.best.from_scratch.hdf5\n",
      "Epoch 8/20\n",
      "6680/6680 [==============================] - 47s 7ms/step - loss: 4.4191 - acc: 0.0602 - val_loss: 4.7577 - val_acc: 0.0263\n",
      "\n",
      "Epoch 00008: val_loss improved from 4.78766 to 4.75770, saving model to saved_models/weights.best.from_scratch.hdf5\n",
      "Epoch 9/20\n",
      "6680/6680 [==============================] - 47s 7ms/step - loss: 4.1300 - acc: 0.0964 - val_loss: 4.7137 - val_acc: 0.0311\n",
      "\n",
      "Epoch 00009: val_loss improved from 4.75770 to 4.71369, saving model to saved_models/weights.best.from_scratch.hdf5\n",
      "Epoch 10/20\n",
      "6680/6680 [==============================] - 47s 7ms/step - loss: 3.8864 - acc: 0.1361 - val_loss: 4.8497 - val_acc: 0.0240\n",
      "\n",
      "Epoch 00010: val_loss did not improve from 4.71369\n",
      "Epoch 11/20\n",
      "6680/6680 [==============================] - 47s 7ms/step - loss: 3.6076 - acc: 0.1740 - val_loss: 4.7553 - val_acc: 0.0287\n",
      "\n",
      "Epoch 00011: val_loss did not improve from 4.71369\n",
      "Epoch 12/20\n",
      "6680/6680 [==============================] - 47s 7ms/step - loss: 3.3147 - acc: 0.2184 - val_loss: 4.7549 - val_acc: 0.0216\n",
      "\n",
      "Epoch 00012: val_loss did not improve from 4.71369\n",
      "Epoch 13/20\n",
      "6680/6680 [==============================] - 47s 7ms/step - loss: 2.1036 - acc: 0.1760 - val_loss: 1.1921e-07 - val_acc: 0.0096\n",
      "\n",
      "Epoch 00013: val_loss improved from 4.71369 to 0.00000, saving model to saved_models/weights.best.from_scratch.hdf5\n",
      "Epoch 14/20\n",
      "6680/6680 [==============================] - 47s 7ms/step - loss: 1.1921e-07 - acc: 0.0096 - val_loss: 1.1921e-07 - val_acc: 0.0096\n",
      "\n",
      "Epoch 00014: val_loss did not improve from 0.00000\n",
      "Epoch 15/20\n",
      "6680/6680 [==============================] - 47s 7ms/step - loss: 1.1921e-07 - acc: 0.0096 - val_loss: 1.1921e-07 - val_acc: 0.0096\n",
      "\n",
      "Epoch 00015: val_loss did not improve from 0.00000\n",
      "Epoch 16/20\n",
      "6680/6680 [==============================] - 47s 7ms/step - loss: 1.1921e-07 - acc: 0.0096 - val_loss: 1.1921e-07 - val_acc: 0.0096\n",
      "\n",
      "Epoch 00016: val_loss did not improve from 0.00000\n",
      "Epoch 17/20\n",
      "6680/6680 [==============================] - 47s 7ms/step - loss: 1.1921e-07 - acc: 0.0096 - val_loss: 1.1921e-07 - val_acc: 0.0096\n",
      "\n",
      "Epoch 00017: val_loss did not improve from 0.00000\n",
      "Epoch 18/20\n",
      "6680/6680 [==============================] - 47s 7ms/step - loss: 1.1921e-07 - acc: 0.0096 - val_loss: 1.1921e-07 - val_acc: 0.0096\n",
      "\n",
      "Epoch 00018: val_loss did not improve from 0.00000\n",
      "Epoch 19/20\n",
      "6680/6680 [==============================] - 47s 7ms/step - loss: 1.1921e-07 - acc: 0.0096 - val_loss: 1.1921e-07 - val_acc: 0.0096\n",
      "\n",
      "Epoch 00019: val_loss did not improve from 0.00000\n",
      "Epoch 20/20\n",
      "6680/6680 [==============================] - 47s 7ms/step - loss: 1.1921e-07 - acc: 0.0096 - val_loss: 1.1921e-07 - val_acc: 0.0096\n",
      "\n",
      "Epoch 00020: val_loss did not improve from 0.00000\n"
     ]
    },
    {
     "data": {
      "text/plain": [
       "<keras.callbacks.History at 0x7fcbd778eda0>"
      ]
     },
     "execution_count": 19,
     "metadata": {},
     "output_type": "execute_result"
    }
   ],
   "source": [
    "from keras.callbacks import ModelCheckpoint\n",
    "\n",
    "### TODO: specify the number of epochs that you would like to use to train the model.\n",
    "\n",
    "epochs = 20\n",
    "\n",
    "### Do NOT modify the code below this line.\n",
    "\n",
    "checkpointer = ModelCheckpoint(filepath='saved_models/weights.best.from_scratch.hdf5', \n",
    "                               verbose=1, save_best_only=True)\n",
    "\n",
    "model.fit(train_tensors, train_targets, \n",
    "          validation_data=(valid_tensors, valid_targets),\n",
    "          epochs=epochs, batch_size=20, callbacks=[checkpointer], verbose=1)"
   ]
  },
  {
   "cell_type": "markdown",
   "metadata": {},
   "source": [
    "### Load the Model with the Best Validation Loss"
   ]
  },
  {
   "cell_type": "code",
   "execution_count": 20,
   "metadata": {},
   "outputs": [],
   "source": [
    "model.load_weights('saved_models/weights.best.from_scratch.hdf5')"
   ]
  },
  {
   "cell_type": "markdown",
   "metadata": {},
   "source": [
    "### Test the Model\n",
    "\n",
    "Try out your model on the test dataset of dog images.  Ensure that your test accuracy is greater than 1%."
   ]
  },
  {
   "cell_type": "code",
   "execution_count": 21,
   "metadata": {},
   "outputs": [
    {
     "name": "stdout",
     "output_type": "stream",
     "text": [
      "Test accuracy: 0.9569%\n"
     ]
    }
   ],
   "source": [
    "# get index of predicted dog breed for each image in test set\n",
    "dog_breed_predictions = [np.argmax(model.predict(np.expand_dims(tensor, axis=0))) for tensor in test_tensors]\n",
    "\n",
    "# report test accuracy\n",
    "test_accuracy = 100*np.sum(np.array(dog_breed_predictions)==np.argmax(test_targets, axis=1))/len(dog_breed_predictions)\n",
    "print('Test accuracy: %.4f%%' % test_accuracy)"
   ]
  },
  {
   "cell_type": "code",
   "execution_count": 22,
   "metadata": {},
   "outputs": [
    {
     "name": "stdout",
     "output_type": "stream",
     "text": [
      "_________________________________________________________________\n",
      "Layer (type)                 Output Shape              Param #   \n",
      "=================================================================\n",
      "conv2d_1 (Conv2D)            (None, 222, 222, 20)      560       \n",
      "_________________________________________________________________\n",
      "conv2d_2 (Conv2D)            (None, 220, 220, 60)      10860     \n",
      "_________________________________________________________________\n",
      "activation_50 (Activation)   (None, 220, 220, 60)      0         \n",
      "_________________________________________________________________\n",
      "dropout_1 (Dropout)          (None, 220, 220, 60)      0         \n",
      "_________________________________________________________________\n",
      "max_pooling2d_2 (MaxPooling2 (None, 110, 110, 60)      0         \n",
      "_________________________________________________________________\n",
      "conv2d_3 (Conv2D)            (None, 108, 108, 20)      10820     \n",
      "_________________________________________________________________\n",
      "conv2d_4 (Conv2D)            (None, 106, 106, 60)      10860     \n",
      "_________________________________________________________________\n",
      "activation_51 (Activation)   (None, 106, 106, 60)      0         \n",
      "_________________________________________________________________\n",
      "dropout_2 (Dropout)          (None, 106, 106, 60)      0         \n",
      "_________________________________________________________________\n",
      "max_pooling2d_3 (MaxPooling2 (None, 53, 53, 60)        0         \n",
      "_________________________________________________________________\n",
      "conv2d_5 (Conv2D)            (None, 51, 51, 20)        10820     \n",
      "_________________________________________________________________\n",
      "conv2d_6 (Conv2D)            (None, 49, 49, 60)        10860     \n",
      "_________________________________________________________________\n",
      "activation_52 (Activation)   (None, 49, 49, 60)        0         \n",
      "_________________________________________________________________\n",
      "dropout_3 (Dropout)          (None, 49, 49, 60)        0         \n",
      "_________________________________________________________________\n",
      "max_pooling2d_4 (MaxPooling2 (None, 24, 24, 60)        0         \n",
      "_________________________________________________________________\n",
      "flatten_2 (Flatten)          (None, 34560)             0         \n",
      "_________________________________________________________________\n",
      "dense_1 (Dense)              (None, 120)               4147320   \n",
      "_________________________________________________________________\n",
      "activation_53 (Activation)   (None, 120)               0         \n",
      "_________________________________________________________________\n",
      "dropout_4 (Dropout)          (None, 120)               0         \n",
      "_________________________________________________________________\n",
      "dense_2 (Dense)              (None, 133)               16093     \n",
      "_________________________________________________________________\n",
      "activation_54 (Activation)   (None, 133)               0         \n",
      "=================================================================\n",
      "Total params: 4,218,193\n",
      "Trainable params: 4,218,193\n",
      "Non-trainable params: 0\n",
      "_________________________________________________________________\n"
     ]
    }
   ],
   "source": [
    "model.summary()"
   ]
  },
  {
   "cell_type": "markdown",
   "metadata": {},
   "source": [
    "---\n",
    "<a id='step4'></a>\n",
    "## Step 4: Use a CNN to Classify Dog Breeds\n",
    "\n",
    "To reduce training time without sacrificing accuracy, we show you how to train a CNN using transfer learning.  In the following step, you will get a chance to use transfer learning to train your own CNN.\n",
    "\n",
    "### Obtain Bottleneck Features"
   ]
  },
  {
   "cell_type": "code",
   "execution_count": 23,
   "metadata": {},
   "outputs": [],
   "source": [
    "bottleneck_features = np.load('bottleneck_features/DogVGG16Data.npz')\n",
    "train_VGG16 = bottleneck_features['train']\n",
    "valid_VGG16 = bottleneck_features['valid']\n",
    "test_VGG16 = bottleneck_features['test']"
   ]
  },
  {
   "cell_type": "markdown",
   "metadata": {},
   "source": [
    "### Model Architecture\n",
    "\n",
    "The model uses the the pre-trained VGG-16 model as a fixed feature extractor, where the last convolutional output of VGG-16 is fed as input to our model.  We only add a global average pooling layer and a fully connected layer, where the latter contains one node for each dog category and is equipped with a softmax."
   ]
  },
  {
   "cell_type": "code",
   "execution_count": 24,
   "metadata": {},
   "outputs": [
    {
     "name": "stdout",
     "output_type": "stream",
     "text": [
      "_________________________________________________________________\n",
      "Layer (type)                 Output Shape              Param #   \n",
      "=================================================================\n",
      "global_average_pooling2d_3 ( (None, 512)               0         \n",
      "_________________________________________________________________\n",
      "dense_5 (Dense)              (None, 133)               68229     \n",
      "=================================================================\n",
      "Total params: 68,229\n",
      "Trainable params: 68,229\n",
      "Non-trainable params: 0\n",
      "_________________________________________________________________\n"
     ]
    }
   ],
   "source": [
    "VGG16_model = Sequential()\n",
    "VGG16_model.add(GlobalAveragePooling2D(input_shape=train_VGG16.shape[1:]))\n",
    "VGG16_model.add(Dense(133, activation='softmax'))\n",
    "\n",
    "VGG16_model.summary()"
   ]
  },
  {
   "cell_type": "markdown",
   "metadata": {},
   "source": [
    "### Compile the Model"
   ]
  },
  {
   "cell_type": "code",
   "execution_count": 25,
   "metadata": {},
   "outputs": [],
   "source": [
    "VGG16_model.compile(loss='categorical_crossentropy', optimizer='rmsprop', metrics=['accuracy'])"
   ]
  },
  {
   "cell_type": "markdown",
   "metadata": {},
   "source": [
    "### Train the Model"
   ]
  },
  {
   "cell_type": "code",
   "execution_count": 26,
   "metadata": {
    "scrolled": true
   },
   "outputs": [
    {
     "name": "stdout",
     "output_type": "stream",
     "text": [
      "Train on 6680 samples, validate on 835 samples\n",
      "Epoch 1/20\n",
      "6680/6680 [==============================] - 1s 185us/step - loss: 11.6174 - acc: 0.1424 - val_loss: 9.7646 - val_acc: 0.2683\n",
      "\n",
      "Epoch 00001: val_loss improved from inf to 9.76464, saving model to saved_models/weights.best.VGG16.hdf5\n",
      "Epoch 2/20\n",
      "6680/6680 [==============================] - 1s 100us/step - loss: 8.8863 - acc: 0.3340 - val_loss: 8.8545 - val_acc: 0.3353\n",
      "\n",
      "Epoch 00002: val_loss improved from 9.76464 to 8.85451, saving model to saved_models/weights.best.VGG16.hdf5\n",
      "Epoch 3/20\n",
      "6680/6680 [==============================] - 2s 289us/step - loss: 8.3047 - acc: 0.4070 - val_loss: 8.5652 - val_acc: 0.3653\n",
      "\n",
      "Epoch 00003: val_loss improved from 8.85451 to 8.56518, saving model to saved_models/weights.best.VGG16.hdf5\n",
      "Epoch 4/20\n",
      "6680/6680 [==============================] - 2s 288us/step - loss: 7.9423 - acc: 0.4507 - val_loss: 8.4325 - val_acc: 0.3772\n",
      "\n",
      "Epoch 00004: val_loss improved from 8.56518 to 8.43247, saving model to saved_models/weights.best.VGG16.hdf5\n",
      "Epoch 5/20\n",
      "6680/6680 [==============================] - 2s 278us/step - loss: 7.6589 - acc: 0.4787 - val_loss: 8.2461 - val_acc: 0.4012\n",
      "\n",
      "Epoch 00005: val_loss improved from 8.43247 to 8.24605, saving model to saved_models/weights.best.VGG16.hdf5\n",
      "Epoch 6/20\n",
      "6680/6680 [==============================] - 1s 211us/step - loss: 7.4748 - acc: 0.4997 - val_loss: 8.1382 - val_acc: 0.3952\n",
      "\n",
      "Epoch 00006: val_loss improved from 8.24605 to 8.13821, saving model to saved_models/weights.best.VGG16.hdf5\n",
      "Epoch 7/20\n",
      "6680/6680 [==============================] - 1s 210us/step - loss: 7.2819 - acc: 0.5169 - val_loss: 7.9652 - val_acc: 0.4096\n",
      "\n",
      "Epoch 00007: val_loss improved from 8.13821 to 7.96518, saving model to saved_models/weights.best.VGG16.hdf5\n",
      "Epoch 8/20\n",
      "6680/6680 [==============================] - 1s 212us/step - loss: 7.0905 - acc: 0.5310 - val_loss: 7.7706 - val_acc: 0.4359\n",
      "\n",
      "Epoch 00008: val_loss improved from 7.96518 to 7.77059, saving model to saved_models/weights.best.VGG16.hdf5\n",
      "Epoch 9/20\n",
      "6680/6680 [==============================] - 1s 217us/step - loss: 7.0219 - acc: 0.5419 - val_loss: 7.7551 - val_acc: 0.4347\n",
      "\n",
      "Epoch 00009: val_loss improved from 7.77059 to 7.75506, saving model to saved_models/weights.best.VGG16.hdf5\n",
      "Epoch 10/20\n",
      "6680/6680 [==============================] - 1s 199us/step - loss: 6.9332 - acc: 0.5500 - val_loss: 7.6308 - val_acc: 0.4443\n",
      "\n",
      "Epoch 00010: val_loss improved from 7.75506 to 7.63080, saving model to saved_models/weights.best.VGG16.hdf5\n",
      "Epoch 11/20\n",
      "6680/6680 [==============================] - 1s 199us/step - loss: 6.7720 - acc: 0.5596 - val_loss: 7.6370 - val_acc: 0.4383\n",
      "\n",
      "Epoch 00011: val_loss did not improve from 7.63080\n",
      "Epoch 12/20\n",
      "6680/6680 [==============================] - 1s 198us/step - loss: 6.6268 - acc: 0.5684 - val_loss: 7.4124 - val_acc: 0.4515\n",
      "\n",
      "Epoch 00012: val_loss improved from 7.63080 to 7.41244, saving model to saved_models/weights.best.VGG16.hdf5\n",
      "Epoch 13/20\n",
      "6680/6680 [==============================] - 1s 197us/step - loss: 6.5319 - acc: 0.5807 - val_loss: 7.4066 - val_acc: 0.4491\n",
      "\n",
      "Epoch 00013: val_loss improved from 7.41244 to 7.40662, saving model to saved_models/weights.best.VGG16.hdf5\n",
      "Epoch 14/20\n",
      "6680/6680 [==============================] - 1s 199us/step - loss: 6.4555 - acc: 0.5832 - val_loss: 7.3183 - val_acc: 0.4599\n",
      "\n",
      "Epoch 00014: val_loss improved from 7.40662 to 7.31825, saving model to saved_models/weights.best.VGG16.hdf5\n",
      "Epoch 15/20\n",
      "6680/6680 [==============================] - 2s 243us/step - loss: 6.3531 - acc: 0.5948 - val_loss: 7.2405 - val_acc: 0.4635\n",
      "\n",
      "Epoch 00015: val_loss improved from 7.31825 to 7.24052, saving model to saved_models/weights.best.VGG16.hdf5\n",
      "Epoch 16/20\n",
      "6680/6680 [==============================] - 2s 244us/step - loss: 6.2785 - acc: 0.5979 - val_loss: 7.2351 - val_acc: 0.4731\n",
      "\n",
      "Epoch 00016: val_loss improved from 7.24052 to 7.23506, saving model to saved_models/weights.best.VGG16.hdf5\n",
      "Epoch 17/20\n",
      "6680/6680 [==============================] - 2s 243us/step - loss: 6.1991 - acc: 0.6060 - val_loss: 7.1105 - val_acc: 0.4790\n",
      "\n",
      "Epoch 00017: val_loss improved from 7.23506 to 7.11050, saving model to saved_models/weights.best.VGG16.hdf5\n",
      "Epoch 18/20\n",
      "6680/6680 [==============================] - 2s 242us/step - loss: 6.1157 - acc: 0.6087 - val_loss: 6.9546 - val_acc: 0.4862\n",
      "\n",
      "Epoch 00018: val_loss improved from 7.11050 to 6.95465, saving model to saved_models/weights.best.VGG16.hdf5\n",
      "Epoch 19/20\n",
      "6680/6680 [==============================] - 1s 146us/step - loss: 6.0163 - acc: 0.6156 - val_loss: 6.9843 - val_acc: 0.4886\n",
      "\n",
      "Epoch 00019: val_loss did not improve from 6.95465\n",
      "Epoch 20/20\n",
      "6680/6680 [==============================] - 1s 197us/step - loss: 5.8464 - acc: 0.6238 - val_loss: 6.8691 - val_acc: 0.4886\n",
      "\n",
      "Epoch 00020: val_loss improved from 6.95465 to 6.86914, saving model to saved_models/weights.best.VGG16.hdf5\n"
     ]
    },
    {
     "data": {
      "text/plain": [
       "<keras.callbacks.History at 0x7fcbd6845128>"
      ]
     },
     "execution_count": 26,
     "metadata": {},
     "output_type": "execute_result"
    }
   ],
   "source": [
    "checkpointer = ModelCheckpoint(filepath='saved_models/weights.best.VGG16.hdf5', \n",
    "                               verbose=1, save_best_only=True)\n",
    "\n",
    "VGG16_model.fit(train_VGG16, train_targets, \n",
    "          validation_data=(valid_VGG16, valid_targets),\n",
    "          epochs=20, batch_size=20, callbacks=[checkpointer], verbose=1)"
   ]
  },
  {
   "cell_type": "markdown",
   "metadata": {},
   "source": [
    "### Load the Model with the Best Validation Loss"
   ]
  },
  {
   "cell_type": "code",
   "execution_count": 27,
   "metadata": {},
   "outputs": [],
   "source": [
    "VGG16_model.load_weights('saved_models/weights.best.VGG16.hdf5')"
   ]
  },
  {
   "cell_type": "markdown",
   "metadata": {},
   "source": [
    "### Test the Model\n",
    "\n",
    "Now, we can use the CNN to test how well it identifies breed within our test dataset of dog images.  We print the test accuracy below."
   ]
  },
  {
   "cell_type": "code",
   "execution_count": 28,
   "metadata": {},
   "outputs": [
    {
     "name": "stdout",
     "output_type": "stream",
     "text": [
      "Test accuracy: 49.1627%\n"
     ]
    }
   ],
   "source": [
    "# get index of predicted dog breed for each image in test set\n",
    "VGG16_predictions = [np.argmax(VGG16_model.predict(np.expand_dims(feature, axis=0))) for feature in test_VGG16]\n",
    "\n",
    "# report test accuracy\n",
    "test_accuracy = 100*np.sum(np.array(VGG16_predictions)==np.argmax(test_targets, axis=1))/len(VGG16_predictions)\n",
    "print('Test accuracy: %.4f%%' % test_accuracy)"
   ]
  },
  {
   "cell_type": "markdown",
   "metadata": {},
   "source": [
    "### Predict Dog Breed with the Model"
   ]
  },
  {
   "cell_type": "code",
   "execution_count": 29,
   "metadata": {},
   "outputs": [],
   "source": [
    "from extract_bottleneck_features import *\n",
    "\n",
    "def VGG16_predict_breed(img_path):\n",
    "    # extract bottleneck features\n",
    "    bottleneck_feature = extract_VGG16(path_to_tensor(img_path))\n",
    "    # obtain predicted vector\n",
    "    predicted_vector = VGG16_model.predict(bottleneck_feature)\n",
    "    # return dog breed that is predicted by the model\n",
    "    return dog_names[np.argmax(predicted_vector)]"
   ]
  },
  {
   "cell_type": "markdown",
   "metadata": {},
   "source": [
    "---\n",
    "<a id='step5'></a>\n",
    "## Step 5: Create a CNN to Classify Dog Breeds (using Transfer Learning)\n",
    "\n",
    "You will now use transfer learning to create a CNN that can identify dog breed from images.  Your CNN must attain at least 60% accuracy on the test set.\n",
    "\n",
    "In Step 4, we used transfer learning to create a CNN using VGG-16 bottleneck features.  In this section, you must use the bottleneck features from a different pre-trained model.  To make things easier for you, we have pre-computed the features for all of the networks that are currently available in Keras:\n",
    "- [VGG-19](https://s3-us-west-1.amazonaws.com/udacity-aind/dog-project/DogVGG19Data.npz) bottleneck features\n",
    "- [ResNet-50](https://s3-us-west-1.amazonaws.com/udacity-aind/dog-project/DogResnet50Data.npz) bottleneck features\n",
    "- [Inception](https://s3-us-west-1.amazonaws.com/udacity-aind/dog-project/DogInceptionV3Data.npz) bottleneck features\n",
    "- [Xception](https://s3-us-west-1.amazonaws.com/udacity-aind/dog-project/DogXceptionData.npz) bottleneck features\n",
    "\n",
    "The files are encoded as such:\n",
    "\n",
    "    Dog{network}Data.npz\n",
    "    \n",
    "where `{network}`, in the above filename, can be one of `VGG19`, `Resnet50`, `InceptionV3`, or `Xception`.  Pick one of the above architectures, download the corresponding bottleneck features, and store the downloaded file in the `bottleneck_features/` folder in the repository.\n",
    "\n",
    "### (IMPLEMENTATION) Obtain Bottleneck Features\n",
    "\n",
    "In the code block below, extract the bottleneck features corresponding to the train, test, and validation sets by running the following:\n",
    "\n",
    "    bottleneck_features = np.load('bottleneck_features/Dog{network}Data.npz')\n",
    "    train_{network} = bottleneck_features['train']\n",
    "    valid_{network} = bottleneck_features['valid']\n",
    "    test_{network} = bottleneck_features['test']"
   ]
  },
  {
   "cell_type": "code",
   "execution_count": 30,
   "metadata": {
    "scrolled": false
   },
   "outputs": [],
   "source": [
    "### TODO: Obtain bottleneck features from another pre-trained CNN.\n",
    "bottleneck_features = np.load('bottleneck_features/DogXceptionData.npz')\n",
    "train_Xception = bottleneck_features['train']\n",
    "valid_Xception = bottleneck_features['valid']\n",
    "test_Xception = bottleneck_features['test']"
   ]
  },
  {
   "cell_type": "code",
   "execution_count": 31,
   "metadata": {
    "scrolled": true
   },
   "outputs": [
    {
     "name": "stdout",
     "output_type": "stream",
     "text": [
      "_________________________________________________________________\n",
      "Layer (type)                 Output Shape              Param #   \n",
      "=================================================================\n",
      "global_average_pooling2d_4 ( (None, 2048)              0         \n",
      "_________________________________________________________________\n",
      "dense_6 (Dense)              (None, 133)               272517    \n",
      "=================================================================\n",
      "Total params: 272,517\n",
      "Trainable params: 272,517\n",
      "Non-trainable params: 0\n",
      "_________________________________________________________________\n",
      "Train on 6680 samples, validate on 835 samples\n",
      "Epoch 1/20\n",
      "6680/6680 [==============================] - 3s 400us/step - loss: 1.0375 - acc: 0.7409 - val_loss: 0.5228 - val_acc: 0.8251\n",
      "\n",
      "Epoch 00001: val_loss improved from inf to 0.52285, saving model to saved_models/weights.best.Xception.hdf5\n",
      "Epoch 2/20\n",
      "6680/6680 [==============================] - 2s 277us/step - loss: 0.3988 - acc: 0.8747 - val_loss: 0.4843 - val_acc: 0.8383\n",
      "\n",
      "Epoch 00002: val_loss improved from 0.52285 to 0.48430, saving model to saved_models/weights.best.Xception.hdf5\n",
      "Epoch 3/20\n",
      "6680/6680 [==============================] - 2s 343us/step - loss: 0.3234 - acc: 0.8975 - val_loss: 0.4594 - val_acc: 0.8551\n",
      "\n",
      "Epoch 00003: val_loss improved from 0.48430 to 0.45937, saving model to saved_models/weights.best.Xception.hdf5\n",
      "Epoch 4/20\n",
      "6680/6680 [==============================] - 2s 349us/step - loss: 0.2772 - acc: 0.9139 - val_loss: 0.5037 - val_acc: 0.8467\n",
      "\n",
      "Epoch 00004: val_loss did not improve from 0.45937\n",
      "Epoch 5/20\n",
      "6680/6680 [==============================] - 2s 358us/step - loss: 0.2445 - acc: 0.9234 - val_loss: 0.5080 - val_acc: 0.8527\n",
      "\n",
      "Epoch 00005: val_loss did not improve from 0.45937\n",
      "Epoch 6/20\n",
      "6680/6680 [==============================] - 2s 334us/step - loss: 0.2202 - acc: 0.9335 - val_loss: 0.4969 - val_acc: 0.8647\n",
      "\n",
      "Epoch 00006: val_loss did not improve from 0.45937\n",
      "Epoch 7/20\n",
      "6680/6680 [==============================] - 2s 326us/step - loss: 0.2007 - acc: 0.9389 - val_loss: 0.5358 - val_acc: 0.8575\n",
      "\n",
      "Epoch 00007: val_loss did not improve from 0.45937\n",
      "Epoch 8/20\n",
      "6680/6680 [==============================] - 2s 371us/step - loss: 0.1825 - acc: 0.9461 - val_loss: 0.5751 - val_acc: 0.8467\n",
      "\n",
      "Epoch 00008: val_loss did not improve from 0.45937\n",
      "Epoch 9/20\n",
      "6680/6680 [==============================] - 3s 384us/step - loss: 0.1660 - acc: 0.9475 - val_loss: 0.5536 - val_acc: 0.8563\n",
      "\n",
      "Epoch 00009: val_loss did not improve from 0.45937\n",
      "Epoch 10/20\n",
      "6680/6680 [==============================] - 2s 351us/step - loss: 0.1466 - acc: 0.9536 - val_loss: 0.5385 - val_acc: 0.8587\n",
      "\n",
      "Epoch 00010: val_loss did not improve from 0.45937\n",
      "Epoch 11/20\n",
      "6680/6680 [==============================] - 3s 405us/step - loss: 0.1375 - acc: 0.9576 - val_loss: 0.5708 - val_acc: 0.8503\n",
      "\n",
      "Epoch 00011: val_loss did not improve from 0.45937\n",
      "Epoch 12/20\n",
      "6680/6680 [==============================] - 3s 378us/step - loss: 0.1252 - acc: 0.9623 - val_loss: 0.5930 - val_acc: 0.8635\n",
      "\n",
      "Epoch 00012: val_loss did not improve from 0.45937\n",
      "Epoch 13/20\n",
      "6680/6680 [==============================] - 2s 369us/step - loss: 0.1160 - acc: 0.9644 - val_loss: 0.5867 - val_acc: 0.8635\n",
      "\n",
      "Epoch 00013: val_loss did not improve from 0.45937\n",
      "Epoch 14/20\n",
      "6680/6680 [==============================] - 2s 313us/step - loss: 0.1079 - acc: 0.9678 - val_loss: 0.6074 - val_acc: 0.8575\n",
      "\n",
      "Epoch 00014: val_loss did not improve from 0.45937\n",
      "Epoch 15/20\n",
      "6680/6680 [==============================] - 3s 390us/step - loss: 0.1026 - acc: 0.9695 - val_loss: 0.6233 - val_acc: 0.8599\n",
      "\n",
      "Epoch 00015: val_loss did not improve from 0.45937\n",
      "Epoch 16/20\n",
      "6680/6680 [==============================] - 3s 375us/step - loss: 0.0915 - acc: 0.9734 - val_loss: 0.6268 - val_acc: 0.8635\n",
      "\n",
      "Epoch 00016: val_loss did not improve from 0.45937\n",
      "Epoch 17/20\n",
      "6680/6680 [==============================] - 3s 386us/step - loss: 0.0874 - acc: 0.9754 - val_loss: 0.6423 - val_acc: 0.8551\n",
      "\n",
      "Epoch 00017: val_loss did not improve from 0.45937\n",
      "Epoch 18/20\n",
      "6680/6680 [==============================] - 2s 326us/step - loss: 0.0803 - acc: 0.9760 - val_loss: 0.6479 - val_acc: 0.8563\n",
      "\n",
      "Epoch 00018: val_loss did not improve from 0.45937\n",
      "Epoch 19/20\n",
      "6680/6680 [==============================] - 2s 326us/step - loss: 0.0764 - acc: 0.9780 - val_loss: 0.6696 - val_acc: 0.8587\n",
      "\n",
      "Epoch 00019: val_loss did not improve from 0.45937\n",
      "Epoch 20/20\n",
      "6680/6680 [==============================] - 3s 380us/step - loss: 0.0726 - acc: 0.9811 - val_loss: 0.6743 - val_acc: 0.8623\n",
      "\n",
      "Epoch 00020: val_loss did not improve from 0.45937\n"
     ]
    },
    {
     "data": {
      "text/plain": [
       "<keras.callbacks.History at 0x7fcbd65649e8>"
      ]
     },
     "execution_count": 31,
     "metadata": {},
     "output_type": "execute_result"
    }
   ],
   "source": [
    "Xception_model = Sequential()\n",
    "Xception_model.add(GlobalAveragePooling2D(input_shape=train_Xception.shape[1:]))\n",
    "# Xception_model.add(Dense(250, activation='relu'))\n",
    "# Xception_model.add(Dropout(0.25))\n",
    "# Xception_model.add(Activation('relu'))\n",
    "# Xception_model.add(Dropout(0.5))\n",
    "Xception_model.add(Dense(133, activation='softmax'))\n",
    "\n",
    "Xception_model.summary()\n",
    "\n",
    "Xception_model.compile(loss='categorical_crossentropy', optimizer='rmsprop', metrics=['accuracy'])\n",
    "\n",
    "checkpointer = ModelCheckpoint(filepath='saved_models/weights.best.Xception.hdf5', \n",
    "                               verbose=1, save_best_only=True)\n",
    "\n",
    "Xception_model.fit(train_Xception, train_targets, \n",
    "          validation_data=(valid_Xception, valid_targets),\n",
    "          epochs=20, batch_size=20, callbacks=[checkpointer], verbose=1)"
   ]
  },
  {
   "cell_type": "code",
   "execution_count": 32,
   "metadata": {},
   "outputs": [
    {
     "name": "stdout",
     "output_type": "stream",
     "text": [
      "Test accuracy: 84.3301%\n"
     ]
    }
   ],
   "source": [
    "Xception_model.load_weights('saved_models/weights.best.Xception.hdf5')\n",
    "\n",
    "# get index of predicted dog breed for each image in test set\n",
    "Xception_predictions = [np.argmax(Xception_model.predict(np.expand_dims(feature, axis=0))) for feature in test_Xception]\n",
    "\n",
    "# report test accuracy\n",
    "test_accuracy = 100*np.sum(np.array(Xception_predictions)==np.argmax(test_targets, axis=1))/len(Xception_predictions)\n",
    "print('Test accuracy: %.4f%%' % test_accuracy)"
   ]
  },
  {
   "cell_type": "code",
   "execution_count": 34,
   "metadata": {},
   "outputs": [
    {
     "name": "stderr",
     "output_type": "stream",
     "text": [
      "/home/martin/anaconda3/envs/dog/lib/python3.6/site-packages/keras_preprocessing/image.py:1213: UserWarning: Expected input to be images (as Numpy array) following the data format convention \"channels_last\" (channels on axis 3), i.e. expected either 1, 3 or 4 channels on axis 3. However, it was passed an array with shape (6680, 7, 7, 2048) (2048 channels).\n",
      "  ' channels).')\n",
      "/home/martin/anaconda3/envs/dog/lib/python3.6/site-packages/keras_preprocessing/image.py:1213: UserWarning: Expected input to be images (as Numpy array) following the data format convention \"channels_last\" (channels on axis 3), i.e. expected either 1, 3 or 4 channels on axis 3. However, it was passed an array with shape (835, 7, 7, 2048) (2048 channels).\n",
      "  ' channels).')\n",
      "/home/martin/anaconda3/envs/dog/lib/python3.6/site-packages/keras_preprocessing/image.py:1437: UserWarning: NumpyArrayIterator is set to use the data format convention \"channels_last\" (channels on axis 3), i.e. expected either 1, 3, or 4 channels on axis 3. However, it was passed an array with shape (6680, 7, 7, 2048) (2048 channels).\n",
      "  str(self.x.shape[channels_axis]) + ' channels).')\n",
      "/home/martin/anaconda3/envs/dog/lib/python3.6/site-packages/keras_preprocessing/image.py:1437: UserWarning: NumpyArrayIterator is set to use the data format convention \"channels_last\" (channels on axis 3), i.e. expected either 1, 3, or 4 channels on axis 3. However, it was passed an array with shape (835, 7, 7, 2048) (2048 channels).\n",
      "  str(self.x.shape[channels_axis]) + ' channels).')\n"
     ]
    },
    {
     "name": "stdout",
     "output_type": "stream",
     "text": [
      "_________________________________________________________________\n",
      "Layer (type)                 Output Shape              Param #   \n",
      "=================================================================\n",
      "global_average_pooling2d_6 ( (None, 2048)              0         \n",
      "_________________________________________________________________\n",
      "dense_8 (Dense)              (None, 133)               272517    \n",
      "=================================================================\n",
      "Total params: 272,517\n",
      "Trainable params: 272,517\n",
      "Non-trainable params: 0\n",
      "_________________________________________________________________\n",
      "Epoch 1/5\n",
      " - 202s - loss: 1.0617 - acc: 0.7323 - val_loss: 0.5098 - val_acc: 0.8335\n",
      "\n",
      "Epoch 00001: val_loss improved from inf to 0.50978, saving model to saved_models/aug_Xception.weights.best.hdf5\n",
      "Epoch 2/5\n",
      " - 197s - loss: 0.4068 - acc: 0.8705 - val_loss: 0.5017 - val_acc: 0.8455\n",
      "\n",
      "Epoch 00002: val_loss improved from 0.50978 to 0.50169, saving model to saved_models/aug_Xception.weights.best.hdf5\n",
      "Epoch 3/5\n",
      " - 195s - loss: 0.3308 - acc: 0.8955 - val_loss: 0.4788 - val_acc: 0.8467\n",
      "\n",
      "Epoch 00003: val_loss improved from 0.50169 to 0.47877, saving model to saved_models/aug_Xception.weights.best.hdf5\n",
      "Epoch 4/5\n",
      " - 196s - loss: 0.2800 - acc: 0.9162 - val_loss: 0.5214 - val_acc: 0.8419\n",
      "\n",
      "Epoch 00004: val_loss did not improve from 0.47877\n",
      "Epoch 5/5\n",
      " - 196s - loss: 0.2461 - acc: 0.9246 - val_loss: 0.5205 - val_acc: 0.8395\n",
      "\n",
      "Epoch 00005: val_loss did not improve from 0.47877\n"
     ]
    },
    {
     "data": {
      "text/plain": [
       "<keras.callbacks.History at 0x7fcbd611d7b8>"
      ]
     },
     "execution_count": 34,
     "metadata": {},
     "output_type": "execute_result"
    }
   ],
   "source": [
    "from keras.preprocessing.image import ImageDataGenerator, array_to_img, img_to_array, load_img\n",
    "\n",
    "datagen_train = ImageDataGenerator(\n",
    "    width_shift_range=0.2,\n",
    "    height_shift_range=0.2,\n",
    "    horizontal_flip=True)\n",
    "\n",
    "datagen_valid = ImageDataGenerator(\n",
    "    width_shift_range=0.2,\n",
    "    height_shift_range=0.2,\n",
    "    horizontal_flip=True)\n",
    "\n",
    "# fit augmented image generator on data\n",
    "datagen_train.fit(train_Xception)\n",
    "datagen_valid.fit(valid_Xception)\n",
    "\n",
    "checkpointer = ModelCheckpoint(filepath='saved_models/aug_Xception.weights.best.hdf5', verbose=1, \n",
    "                               save_best_only=True)\n",
    "\n",
    "aug_Xception_model = Sequential()\n",
    "aug_Xception_model.add(GlobalAveragePooling2D(input_shape=train_Xception.shape[1:]))\n",
    "aug_Xception_model.add(Dense(133, activation='softmax'))\n",
    "\n",
    "aug_Xception_model.summary()\n",
    "\n",
    "aug_Xception_model.compile(loss='categorical_crossentropy', optimizer='rmsprop', metrics=['accuracy'])\n",
    "\n",
    "aug_Xception_model.fit_generator(datagen_train.flow(train_Xception, train_targets, batch_size=batch_size),\n",
    "                                 steps_per_epoch=train_Xception.shape[0] // batch_size,\n",
    "                                 epochs=5, verbose=2, callbacks=[checkpointer],\n",
    "                                 validation_data=datagen_valid.flow(valid_Xception, valid_targets, batch_size=batch_size),\n",
    "                                 validation_steps=valid_Xception.shape[0] // batch_size)"
   ]
  },
  {
   "cell_type": "code",
   "execution_count": 35,
   "metadata": {},
   "outputs": [
    {
     "name": "stdout",
     "output_type": "stream",
     "text": [
      "Test accuracy: 84.4498%\n"
     ]
    }
   ],
   "source": [
    "aug_Xception_model.load_weights('saved_models/aug_Xception.weights.best.hdf5')\n",
    "\n",
    "# get index of predicted dog breed for each image in test set\n",
    "aug_Xception_predictions = [np.argmax(aug_Xception_model.predict(np.expand_dims(feature, axis=0))) for feature in test_Xception]\n",
    "\n",
    "# report test accuracy\n",
    "test_accuracy = 100*np.sum(np.array(aug_Xception_predictions)==np.argmax(test_targets, axis=1))/len(aug_Xception_predictions)\n",
    "print('Test accuracy: %.4f%%' % test_accuracy)"
   ]
  },
  {
   "cell_type": "code",
   "execution_count": 36,
   "metadata": {
    "scrolled": true
   },
   "outputs": [
    {
     "name": "stdout",
     "output_type": "stream",
     "text": [
      "_________________________________________________________________\n",
      "Layer (type)                 Output Shape              Param #   \n",
      "=================================================================\n",
      "global_average_pooling2d_7 ( (None, 2048)              0         \n",
      "_________________________________________________________________\n",
      "dense_9 (Dense)              (None, 133)               272517    \n",
      "=================================================================\n",
      "Total params: 272,517\n",
      "Trainable params: 272,517\n",
      "Non-trainable params: 0\n",
      "_________________________________________________________________\n",
      "Train on 6680 samples, validate on 835 samples\n",
      "Epoch 1/20\n",
      "6680/6680 [==============================] - 1s 145us/step - loss: 1.6270 - acc: 0.6001 - val_loss: 0.7770 - val_acc: 0.7557\n",
      "\n",
      "Epoch 00001: val_loss improved from inf to 0.77705, saving model to saved_models/weights.best.Resnet50.hdf5\n",
      "Epoch 2/20\n",
      "6680/6680 [==============================] - 0s 69us/step - loss: 0.4382 - acc: 0.8657 - val_loss: 0.6658 - val_acc: 0.7916\n",
      "\n",
      "Epoch 00002: val_loss improved from 0.77705 to 0.66583, saving model to saved_models/weights.best.Resnet50.hdf5\n",
      "Epoch 3/20\n",
      "6680/6680 [==============================] - 0s 69us/step - loss: 0.2599 - acc: 0.9189 - val_loss: 0.6844 - val_acc: 0.7964\n",
      "\n",
      "Epoch 00003: val_loss did not improve from 0.66583\n",
      "Epoch 4/20\n",
      "6680/6680 [==============================] - 0s 69us/step - loss: 0.1730 - acc: 0.9446 - val_loss: 0.6564 - val_acc: 0.8060\n",
      "\n",
      "Epoch 00004: val_loss improved from 0.66583 to 0.65643, saving model to saved_models/weights.best.Resnet50.hdf5\n",
      "Epoch 5/20\n",
      "6680/6680 [==============================] - 0s 69us/step - loss: 0.1210 - acc: 0.9647 - val_loss: 0.6982 - val_acc: 0.8120\n",
      "\n",
      "Epoch 00005: val_loss did not improve from 0.65643\n",
      "Epoch 6/20\n",
      "6680/6680 [==============================] - 0s 69us/step - loss: 0.0867 - acc: 0.9723 - val_loss: 0.6132 - val_acc: 0.8228\n",
      "\n",
      "Epoch 00006: val_loss improved from 0.65643 to 0.61317, saving model to saved_models/weights.best.Resnet50.hdf5\n",
      "Epoch 7/20\n",
      "6680/6680 [==============================] - 0s 69us/step - loss: 0.0611 - acc: 0.9801 - val_loss: 0.6719 - val_acc: 0.8347\n",
      "\n",
      "Epoch 00007: val_loss did not improve from 0.61317\n",
      "Epoch 8/20\n",
      "6680/6680 [==============================] - 0s 70us/step - loss: 0.0497 - acc: 0.9858 - val_loss: 0.7148 - val_acc: 0.8168\n",
      "\n",
      "Epoch 00008: val_loss did not improve from 0.61317\n",
      "Epoch 9/20\n",
      "6680/6680 [==============================] - 0s 69us/step - loss: 0.0340 - acc: 0.9898 - val_loss: 0.7059 - val_acc: 0.8240\n",
      "\n",
      "Epoch 00009: val_loss did not improve from 0.61317\n",
      "Epoch 10/20\n",
      "6680/6680 [==============================] - 0s 69us/step - loss: 0.0277 - acc: 0.9930 - val_loss: 0.7416 - val_acc: 0.8156\n",
      "\n",
      "Epoch 00010: val_loss did not improve from 0.61317\n",
      "Epoch 11/20\n",
      "6680/6680 [==============================] - 0s 69us/step - loss: 0.0216 - acc: 0.9946 - val_loss: 0.7534 - val_acc: 0.8120\n",
      "\n",
      "Epoch 00011: val_loss did not improve from 0.61317\n",
      "Epoch 12/20\n",
      "6680/6680 [==============================] - 0s 69us/step - loss: 0.0164 - acc: 0.9957 - val_loss: 0.7403 - val_acc: 0.8251\n",
      "\n",
      "Epoch 00012: val_loss did not improve from 0.61317\n",
      "Epoch 13/20\n",
      "6680/6680 [==============================] - 0s 69us/step - loss: 0.0152 - acc: 0.9966 - val_loss: 0.7633 - val_acc: 0.8359\n",
      "\n",
      "Epoch 00013: val_loss did not improve from 0.61317\n",
      "Epoch 14/20\n",
      "6680/6680 [==============================] - 0s 69us/step - loss: 0.0107 - acc: 0.9975 - val_loss: 0.7694 - val_acc: 0.8204\n",
      "\n",
      "Epoch 00014: val_loss did not improve from 0.61317\n",
      "Epoch 15/20\n",
      "6680/6680 [==============================] - 0s 69us/step - loss: 0.0086 - acc: 0.9978 - val_loss: 0.8406 - val_acc: 0.8311\n",
      "\n",
      "Epoch 00015: val_loss did not improve from 0.61317\n",
      "Epoch 16/20\n",
      "6680/6680 [==============================] - 0s 69us/step - loss: 0.0098 - acc: 0.9981 - val_loss: 0.8344 - val_acc: 0.8204\n",
      "\n",
      "Epoch 00016: val_loss did not improve from 0.61317\n",
      "Epoch 17/20\n",
      "6680/6680 [==============================] - 0s 69us/step - loss: 0.0079 - acc: 0.9981 - val_loss: 0.8378 - val_acc: 0.8240\n",
      "\n",
      "Epoch 00017: val_loss did not improve from 0.61317\n",
      "Epoch 18/20\n",
      "6680/6680 [==============================] - 0s 69us/step - loss: 0.0073 - acc: 0.9978 - val_loss: 0.8612 - val_acc: 0.8084\n",
      "\n",
      "Epoch 00018: val_loss did not improve from 0.61317\n",
      "Epoch 19/20\n",
      "6680/6680 [==============================] - 0s 69us/step - loss: 0.0063 - acc: 0.9987 - val_loss: 0.8836 - val_acc: 0.8275\n",
      "\n",
      "Epoch 00019: val_loss did not improve from 0.61317\n",
      "Epoch 20/20\n",
      "6680/6680 [==============================] - 0s 69us/step - loss: 0.0055 - acc: 0.9985 - val_loss: 0.8888 - val_acc: 0.8240\n",
      "\n",
      "Epoch 00020: val_loss did not improve from 0.61317\n"
     ]
    },
    {
     "data": {
      "text/plain": [
       "<keras.callbacks.History at 0x7fcbd65df320>"
      ]
     },
     "execution_count": 36,
     "metadata": {},
     "output_type": "execute_result"
    }
   ],
   "source": [
    "bottleneck_features = np.load('bottleneck_features/DogResnet50Data.npz')\n",
    "train_Resnet50 = bottleneck_features['train']\n",
    "valid_Resnet50 = bottleneck_features['valid']\n",
    "test_Resnet50 = bottleneck_features['test']\n",
    "\n",
    "Resnet50_model = Sequential()\n",
    "Resnet50_model.add(GlobalAveragePooling2D(input_shape=train_Resnet50.shape[1:]))\n",
    "# Resnet50_model.add(Dense(500))\n",
    "# Resnet50_model.add(Activation('relu'))\n",
    "# Resnet50_model.add(Dropout(0.5))\n",
    "Resnet50_model.add(Dense(133, activation='softmax'))\n",
    "\n",
    "Resnet50_model.summary()\n",
    "\n",
    "Resnet50_model.compile(loss='categorical_crossentropy', optimizer='rmsprop', metrics=['accuracy'])\n",
    "\n",
    "checkpointer = ModelCheckpoint(filepath='saved_models/weights.best.Resnet50.hdf5', \n",
    "                               verbose=1, save_best_only=True)\n",
    "\n",
    "Resnet50_model.fit(train_Resnet50, train_targets, \n",
    "          validation_data=(valid_Resnet50, valid_targets),\n",
    "          epochs=20, batch_size=20, callbacks=[checkpointer], verbose=1)"
   ]
  },
  {
   "cell_type": "code",
   "execution_count": 37,
   "metadata": {},
   "outputs": [
    {
     "name": "stdout",
     "output_type": "stream",
     "text": [
      "Test accuracy: 81.5789%\n"
     ]
    }
   ],
   "source": [
    "Resnet50_model.load_weights('saved_models/weights.best.Resnet50.hdf5')\n",
    "\n",
    "# get index of predicted dog breed for each image in test set\n",
    "Resnet50_predictions = [np.argmax(Resnet50_model.predict(np.expand_dims(feature, axis=0))) for feature in test_Resnet50]\n",
    "\n",
    "# report test accuracy\n",
    "test_accuracy = 100*np.sum(np.array(Resnet50_predictions)==np.argmax(test_targets, axis=1))/len(Resnet50_predictions)\n",
    "print('Test accuracy: %.4f%%' % test_accuracy)"
   ]
  },
  {
   "cell_type": "code",
   "execution_count": 38,
   "metadata": {
    "scrolled": true
   },
   "outputs": [
    {
     "name": "stdout",
     "output_type": "stream",
     "text": [
      "_________________________________________________________________\n",
      "Layer (type)                 Output Shape              Param #   \n",
      "=================================================================\n",
      "global_average_pooling2d_8 ( (None, 2048)              0         \n",
      "_________________________________________________________________\n",
      "dropout_5 (Dropout)          (None, 2048)              0         \n",
      "_________________________________________________________________\n",
      "dense_10 (Dense)             (None, 500)               1024500   \n",
      "_________________________________________________________________\n",
      "activation_55 (Activation)   (None, 500)               0         \n",
      "_________________________________________________________________\n",
      "dropout_6 (Dropout)          (None, 500)               0         \n",
      "_________________________________________________________________\n",
      "dense_11 (Dense)             (None, 133)               66633     \n",
      "=================================================================\n",
      "Total params: 1,091,133\n",
      "Trainable params: 1,091,133\n",
      "Non-trainable params: 0\n",
      "_________________________________________________________________\n",
      "Train on 6680 samples, validate on 835 samples\n",
      "Epoch 1/20\n",
      "6680/6680 [==============================] - 3s 449us/step - loss: 2.0944 - acc: 0.5284 - val_loss: 0.6820 - val_acc: 0.7772\n",
      "\n",
      "Epoch 00001: val_loss improved from inf to 0.68204, saving model to saved_models/weights.best.InceptionV3.hdf5\n",
      "Epoch 2/20\n",
      "6680/6680 [==============================] - 2s 332us/step - loss: 1.0487 - acc: 0.7190 - val_loss: 0.6563 - val_acc: 0.8012\n",
      "\n",
      "Epoch 00002: val_loss improved from 0.68204 to 0.65629, saving model to saved_models/weights.best.InceptionV3.hdf5\n",
      "Epoch 3/20\n",
      "6680/6680 [==============================] - 3s 422us/step - loss: 0.8779 - acc: 0.7695 - val_loss: 0.6256 - val_acc: 0.8168\n",
      "\n",
      "Epoch 00003: val_loss improved from 0.65629 to 0.62559, saving model to saved_models/weights.best.InceptionV3.hdf5\n",
      "Epoch 4/20\n",
      "6680/6680 [==============================] - 3s 378us/step - loss: 0.8191 - acc: 0.7873 - val_loss: 0.6066 - val_acc: 0.8359\n",
      "\n",
      "Epoch 00004: val_loss improved from 0.62559 to 0.60659, saving model to saved_models/weights.best.InceptionV3.hdf5\n",
      "Epoch 5/20\n",
      "6680/6680 [==============================] - 3s 421us/step - loss: 0.7548 - acc: 0.7979 - val_loss: 0.6304 - val_acc: 0.8323\n",
      "\n",
      "Epoch 00005: val_loss did not improve from 0.60659\n",
      "Epoch 6/20\n",
      "6680/6680 [==============================] - 3s 420us/step - loss: 0.7114 - acc: 0.8202 - val_loss: 0.6679 - val_acc: 0.8323\n",
      "\n",
      "Epoch 00006: val_loss did not improve from 0.60659\n",
      "Epoch 7/20\n",
      "6680/6680 [==============================] - 3s 422us/step - loss: 0.6893 - acc: 0.8277 - val_loss: 0.6639 - val_acc: 0.8515\n",
      "\n",
      "Epoch 00007: val_loss did not improve from 0.60659\n",
      "Epoch 8/20\n",
      "6680/6680 [==============================] - 3s 420us/step - loss: 0.6519 - acc: 0.8377 - val_loss: 0.7446 - val_acc: 0.8383\n",
      "\n",
      "Epoch 00008: val_loss did not improve from 0.60659\n",
      "Epoch 9/20\n",
      "6680/6680 [==============================] - 3s 420us/step - loss: 0.6277 - acc: 0.8425 - val_loss: 0.7933 - val_acc: 0.8383\n",
      "\n",
      "Epoch 00009: val_loss did not improve from 0.60659\n",
      "Epoch 10/20\n",
      "6680/6680 [==============================] - 3s 404us/step - loss: 0.6246 - acc: 0.8475 - val_loss: 0.7990 - val_acc: 0.8479\n",
      "\n",
      "Epoch 00010: val_loss did not improve from 0.60659\n",
      "Epoch 11/20\n",
      "6680/6680 [==============================] - 3s 398us/step - loss: 0.6293 - acc: 0.8472 - val_loss: 0.8048 - val_acc: 0.8347\n",
      "\n",
      "Epoch 00011: val_loss did not improve from 0.60659\n",
      "Epoch 12/20\n",
      "6680/6680 [==============================] - 3s 422us/step - loss: 0.5846 - acc: 0.8569 - val_loss: 0.7911 - val_acc: 0.8347\n",
      "\n",
      "Epoch 00012: val_loss did not improve from 0.60659\n",
      "Epoch 13/20\n",
      "6680/6680 [==============================] - 3s 420us/step - loss: 0.5783 - acc: 0.8614 - val_loss: 0.8420 - val_acc: 0.8551\n",
      "\n",
      "Epoch 00013: val_loss did not improve from 0.60659\n",
      "Epoch 14/20\n",
      "6680/6680 [==============================] - 3s 420us/step - loss: 0.5924 - acc: 0.8611 - val_loss: 0.8002 - val_acc: 0.8443\n",
      "\n",
      "Epoch 00014: val_loss did not improve from 0.60659\n",
      "Epoch 15/20\n",
      "6680/6680 [==============================] - 3s 419us/step - loss: 0.5291 - acc: 0.8749 - val_loss: 0.9255 - val_acc: 0.8539\n",
      "\n",
      "Epoch 00015: val_loss did not improve from 0.60659\n",
      "Epoch 16/20\n",
      "6680/6680 [==============================] - 3s 420us/step - loss: 0.5527 - acc: 0.8737 - val_loss: 0.9105 - val_acc: 0.8503\n",
      "\n",
      "Epoch 00016: val_loss did not improve from 0.60659\n",
      "Epoch 17/20\n",
      "6680/6680 [==============================] - 3s 420us/step - loss: 0.5116 - acc: 0.8804 - val_loss: 0.8160 - val_acc: 0.8407\n",
      "\n",
      "Epoch 00017: val_loss did not improve from 0.60659\n",
      "Epoch 18/20\n",
      "6680/6680 [==============================] - 3s 421us/step - loss: 0.5245 - acc: 0.8801 - val_loss: 0.8816 - val_acc: 0.8419\n",
      "\n",
      "Epoch 00018: val_loss did not improve from 0.60659\n",
      "Epoch 19/20\n",
      "6680/6680 [==============================] - 3s 420us/step - loss: 0.5165 - acc: 0.8837 - val_loss: 0.8540 - val_acc: 0.8491\n",
      "\n",
      "Epoch 00019: val_loss did not improve from 0.60659\n",
      "Epoch 20/20\n",
      "6680/6680 [==============================] - 3s 418us/step - loss: 0.4872 - acc: 0.8882 - val_loss: 0.9264 - val_acc: 0.8623\n",
      "\n",
      "Epoch 00020: val_loss did not improve from 0.60659\n"
     ]
    },
    {
     "data": {
      "text/plain": [
       "<keras.callbacks.History at 0x7fcbd6966cf8>"
      ]
     },
     "execution_count": 38,
     "metadata": {},
     "output_type": "execute_result"
    }
   ],
   "source": [
    "bottleneck_features = np.load('bottleneck_features/DogInceptionV3Data.npz')\n",
    "train_InceptionV3 = bottleneck_features['train']\n",
    "valid_InceptionV3 = bottleneck_features['valid']\n",
    "test_InceptionV3 = bottleneck_features['test']\n",
    "\n",
    "InceptionV3_model = Sequential()\n",
    "InceptionV3_model.add(GlobalAveragePooling2D(input_shape=train_InceptionV3.shape[1:]))\n",
    "InceptionV3_model.add(Dropout(0.25))\n",
    "InceptionV3_model.add(Dense(500))\n",
    "InceptionV3_model.add(Activation('relu'))\n",
    "InceptionV3_model.add(Dropout(0.5))\n",
    "InceptionV3_model.add(Dense(133, activation='softmax'))\n",
    "\n",
    "InceptionV3_model.summary()\n",
    "\n",
    "InceptionV3_model.compile(loss='categorical_crossentropy', optimizer='rmsprop', metrics=['accuracy'])\n",
    "\n",
    "checkpointer = ModelCheckpoint(filepath='saved_models/weights.best.InceptionV3.hdf5', \n",
    "                               verbose=1, save_best_only=True)\n",
    "\n",
    "InceptionV3_model.fit(train_InceptionV3, train_targets, \n",
    "          validation_data=(valid_InceptionV3, valid_targets),\n",
    "          epochs=20, batch_size=20, callbacks=[checkpointer], verbose=1)"
   ]
  },
  {
   "cell_type": "code",
   "execution_count": 39,
   "metadata": {},
   "outputs": [
    {
     "name": "stdout",
     "output_type": "stream",
     "text": [
      "Test accuracy: 78.9474%\n"
     ]
    }
   ],
   "source": [
    "InceptionV3_model.load_weights('saved_models/weights.best.InceptionV3.hdf5')\n",
    "\n",
    "# get index of predicted dog breed for each image in test set\n",
    "InceptionV3_predictions = [np.argmax(InceptionV3_model.predict(np.expand_dims(feature, axis=0))) for feature in test_InceptionV3]\n",
    "\n",
    "# report test accuracy\n",
    "test_accuracy = 100*np.sum(np.array(InceptionV3_predictions)==np.argmax(test_targets, axis=1))/len(InceptionV3_predictions)\n",
    "print('Test accuracy: %.4f%%' % test_accuracy)"
   ]
  },
  {
   "cell_type": "code",
   "execution_count": 40,
   "metadata": {
    "scrolled": true
   },
   "outputs": [
    {
     "name": "stdout",
     "output_type": "stream",
     "text": [
      "_________________________________________________________________\n",
      "Layer (type)                 Output Shape              Param #   \n",
      "=================================================================\n",
      "global_average_pooling2d_9 ( (None, 512)               0         \n",
      "_________________________________________________________________\n",
      "dense_12 (Dense)             (None, 133)               68229     \n",
      "=================================================================\n",
      "Total params: 68,229\n",
      "Trainable params: 68,229\n",
      "Non-trainable params: 0\n",
      "_________________________________________________________________\n",
      "Train on 6680 samples, validate on 835 samples\n",
      "Epoch 1/20\n",
      "6680/6680 [==============================] - 1s 183us/step - loss: 11.7228 - acc: 0.1415 - val_loss: 9.8939 - val_acc: 0.2623\n",
      "\n",
      "Epoch 00001: val_loss improved from inf to 9.89386, saving model to saved_models/weights.best.VGG19.hdf5\n",
      "Epoch 2/20\n",
      "6680/6680 [==============================] - 1s 103us/step - loss: 9.0860 - acc: 0.3214 - val_loss: 8.9971 - val_acc: 0.3353\n",
      "\n",
      "Epoch 00002: val_loss improved from 9.89386 to 8.99707, saving model to saved_models/weights.best.VGG19.hdf5\n",
      "Epoch 3/20\n",
      "6680/6680 [==============================] - 1s 200us/step - loss: 8.3334 - acc: 0.4024 - val_loss: 8.6420 - val_acc: 0.3713\n",
      "\n",
      "Epoch 00003: val_loss improved from 8.99707 to 8.64205, saving model to saved_models/weights.best.VGG19.hdf5\n",
      "Epoch 4/20\n",
      "6680/6680 [==============================] - 1s 199us/step - loss: 8.0819 - acc: 0.4415 - val_loss: 8.4027 - val_acc: 0.3880\n",
      "\n",
      "Epoch 00004: val_loss improved from 8.64205 to 8.40272, saving model to saved_models/weights.best.VGG19.hdf5\n",
      "Epoch 5/20\n",
      "6680/6680 [==============================] - 1s 201us/step - loss: 7.8668 - acc: 0.4696 - val_loss: 8.3195 - val_acc: 0.4072\n",
      "\n",
      "Epoch 00005: val_loss improved from 8.40272 to 8.31946, saving model to saved_models/weights.best.VGG19.hdf5\n",
      "Epoch 6/20\n",
      "6680/6680 [==============================] - 1s 201us/step - loss: 7.7275 - acc: 0.4856 - val_loss: 8.1696 - val_acc: 0.4096\n",
      "\n",
      "Epoch 00006: val_loss improved from 8.31946 to 8.16964, saving model to saved_models/weights.best.VGG19.hdf5\n",
      "Epoch 7/20\n",
      "6680/6680 [==============================] - 2s 247us/step - loss: 7.4024 - acc: 0.5055 - val_loss: 7.8108 - val_acc: 0.4503\n",
      "\n",
      "Epoch 00007: val_loss improved from 8.16964 to 7.81078, saving model to saved_models/weights.best.VGG19.hdf5\n",
      "Epoch 8/20\n",
      "6680/6680 [==============================] - 2s 246us/step - loss: 7.1890 - acc: 0.5250 - val_loss: 7.7987 - val_acc: 0.4359\n",
      "\n",
      "Epoch 00008: val_loss improved from 7.81078 to 7.79874, saving model to saved_models/weights.best.VGG19.hdf5\n",
      "Epoch 9/20\n",
      "6680/6680 [==============================] - 2s 246us/step - loss: 7.0530 - acc: 0.5388 - val_loss: 7.6914 - val_acc: 0.4371\n",
      "\n",
      "Epoch 00009: val_loss improved from 7.79874 to 7.69137, saving model to saved_models/weights.best.VGG19.hdf5\n",
      "Epoch 10/20\n",
      "6680/6680 [==============================] - 2s 247us/step - loss: 6.9709 - acc: 0.5488 - val_loss: 7.6711 - val_acc: 0.4503\n",
      "\n",
      "Epoch 00010: val_loss improved from 7.69137 to 7.67111, saving model to saved_models/weights.best.VGG19.hdf5\n",
      "Epoch 11/20\n",
      "6680/6680 [==============================] - 2s 292us/step - loss: 6.9007 - acc: 0.5561 - val_loss: 7.5577 - val_acc: 0.4563\n",
      "\n",
      "Epoch 00011: val_loss improved from 7.67111 to 7.55771, saving model to saved_models/weights.best.VGG19.hdf5\n",
      "Epoch 12/20\n",
      "6680/6680 [==============================] - 2s 292us/step - loss: 6.8632 - acc: 0.5636 - val_loss: 7.5294 - val_acc: 0.4623\n",
      "\n",
      "Epoch 00012: val_loss improved from 7.55771 to 7.52937, saving model to saved_models/weights.best.VGG19.hdf5\n",
      "Epoch 13/20\n",
      "6680/6680 [==============================] - 2s 291us/step - loss: 6.8012 - acc: 0.5654 - val_loss: 7.4352 - val_acc: 0.4575\n",
      "\n",
      "Epoch 00013: val_loss improved from 7.52937 to 7.43519, saving model to saved_models/weights.best.VGG19.hdf5\n",
      "Epoch 14/20\n",
      "6680/6680 [==============================] - 2s 292us/step - loss: 6.5936 - acc: 0.5735 - val_loss: 7.2836 - val_acc: 0.4683\n",
      "\n",
      "Epoch 00014: val_loss improved from 7.43519 to 7.28358, saving model to saved_models/weights.best.VGG19.hdf5\n",
      "Epoch 15/20\n",
      "6680/6680 [==============================] - 2s 227us/step - loss: 6.3693 - acc: 0.5912 - val_loss: 7.1918 - val_acc: 0.4707\n",
      "\n",
      "Epoch 00015: val_loss improved from 7.28358 to 7.19175, saving model to saved_models/weights.best.VGG19.hdf5\n",
      "Epoch 16/20\n",
      "6680/6680 [==============================] - 1s 194us/step - loss: 6.3181 - acc: 0.5978 - val_loss: 7.1103 - val_acc: 0.4910\n",
      "\n",
      "Epoch 00016: val_loss improved from 7.19175 to 7.11029, saving model to saved_models/weights.best.VGG19.hdf5\n",
      "Epoch 17/20\n",
      "6680/6680 [==============================] - 1s 170us/step - loss: 6.2059 - acc: 0.6037 - val_loss: 7.0183 - val_acc: 0.4922\n",
      "\n",
      "Epoch 00017: val_loss improved from 7.11029 to 7.01830, saving model to saved_models/weights.best.VGG19.hdf5\n",
      "Epoch 18/20\n",
      "6680/6680 [==============================] - 1s 170us/step - loss: 6.1652 - acc: 0.6105 - val_loss: 7.0376 - val_acc: 0.4982\n",
      "\n",
      "Epoch 00018: val_loss did not improve from 7.01830\n",
      "Epoch 19/20\n",
      "6680/6680 [==============================] - 1s 200us/step - loss: 6.1517 - acc: 0.6145 - val_loss: 7.0428 - val_acc: 0.5018\n",
      "\n",
      "Epoch 00019: val_loss did not improve from 7.01830\n",
      "Epoch 20/20\n",
      "6680/6680 [==============================] - 1s 200us/step - loss: 6.1438 - acc: 0.6157 - val_loss: 6.9883 - val_acc: 0.5066\n",
      "\n",
      "Epoch 00020: val_loss improved from 7.01830 to 6.98831, saving model to saved_models/weights.best.VGG19.hdf5\n"
     ]
    },
    {
     "data": {
      "text/plain": [
       "<keras.callbacks.History at 0x7fcbd7e4dcc0>"
      ]
     },
     "execution_count": 40,
     "metadata": {},
     "output_type": "execute_result"
    }
   ],
   "source": [
    "bottleneck_features = np.load('bottleneck_features/DogVGG19Data.npz')\n",
    "train_VGG19 = bottleneck_features['train']\n",
    "valid_VGG19 = bottleneck_features['valid']\n",
    "test_VGG19 = bottleneck_features['test']\n",
    "\n",
    "VGG19_model = Sequential()\n",
    "VGG19_model.add(GlobalAveragePooling2D(input_shape=train_VGG19.shape[1:]))\n",
    "# VGG19_model.add(Dropout(0.25))\n",
    "# VGG19_model.add(Dense(500, activation='relu'))\n",
    "# VGG19_model.add(Dropout(0.25))\n",
    "VGG19_model.add(Dense(133, activation='softmax'))\n",
    "\n",
    "VGG19_model.summary()\n",
    "\n",
    "VGG19_model.compile(loss='categorical_crossentropy', optimizer='rmsprop', metrics=['accuracy'])\n",
    "\n",
    "checkpointer = ModelCheckpoint(filepath='saved_models/weights.best.VGG19.hdf5', \n",
    "                               verbose=1, save_best_only=True)\n",
    "\n",
    "VGG19_model.fit(train_VGG19, train_targets, \n",
    "          validation_data=(valid_VGG19, valid_targets),\n",
    "          epochs=20, batch_size=20, callbacks=[checkpointer], verbose=1)"
   ]
  },
  {
   "cell_type": "code",
   "execution_count": 41,
   "metadata": {},
   "outputs": [
    {
     "name": "stdout",
     "output_type": "stream",
     "text": [
      "Test accuracy: 49.2823%\n"
     ]
    }
   ],
   "source": [
    "VGG19_model.load_weights('saved_models/weights.best.VGG19.hdf5')\n",
    "\n",
    "# get index of predicted dog breed for each image in test set\n",
    "VGG19_predictions = [np.argmax(VGG19_model.predict(np.expand_dims(feature, axis=0))) for feature in test_VGG19]\n",
    "\n",
    "# report test accuracy\n",
    "test_accuracy = 100*np.sum(np.array(VGG19_predictions)==np.argmax(test_targets, axis=1))/len(VGG19_predictions)\n",
    "print('Test accuracy: %.4f%%' % test_accuracy)"
   ]
  },
  {
   "cell_type": "code",
   "execution_count": 42,
   "metadata": {},
   "outputs": [
    {
     "name": "stdout",
     "output_type": "stream",
     "text": [
      "_________________________________________________________________\n",
      "Layer (type)                 Output Shape              Param #   \n",
      "=================================================================\n",
      "global_average_pooling2d_6 ( (None, 2048)              0         \n",
      "_________________________________________________________________\n",
      "dense_8 (Dense)              (None, 133)               272517    \n",
      "=================================================================\n",
      "Total params: 272,517\n",
      "Trainable params: 272,517\n",
      "Non-trainable params: 0\n",
      "_________________________________________________________________\n"
     ]
    }
   ],
   "source": [
    "aug_Xception_model.summary()"
   ]
  },
  {
   "cell_type": "markdown",
   "metadata": {},
   "source": [
    "### (IMPLEMENTATION) Model Architecture\n",
    "\n",
    "Create a CNN to classify dog breed.  At the end of your code cell block, summarize the layers of your model by executing the line:\n",
    "    \n",
    "        <your model's name>.summary()\n",
    "   \n",
    "__Question 5:__ Outline the steps you took to get to your final CNN architecture and your reasoning at each step.  Describe why you think the architecture is suitable for the current problem.\n",
    "\n",
    "__Answer:__ \n",
    "I was thinking of using my model because it has best accuracy. But something is weird is going on. I will use Xception model. I trained Xception augmented model but accuraccy didn't improve significantly - based on the warning messages I am not sure that augmentation occured. I suspect there might be problem with pre-trained data, it seems it might be transformed to the form not suitable for augmentation.\n",
    "\n",
    "I tried multiple setups with Xception pre-trained model.\n",
    "\n",
    "I tried 1-2 fully connected layers with different number of neurons between pre-trained models and output layer with different values for dropout. I found the best results with Xception (augmented) model. I will use this model\n",
    "\n"
   ]
  },
  {
   "cell_type": "code",
   "execution_count": 21,
   "metadata": {},
   "outputs": [
    {
     "name": "stdout",
     "output_type": "stream",
     "text": [
      "__________________________________________________________________________________________________\n",
      "Layer (type)                    Output Shape         Param #     Connected to                     \n",
      "==================================================================================================\n",
      "input_3 (InputLayer)            (None, 224, 224, 3)  0                                            \n",
      "__________________________________________________________________________________________________\n",
      "block1_conv1 (Conv2D)           (None, 111, 111, 32) 864         input_3[0][0]                    \n",
      "__________________________________________________________________________________________________\n",
      "block1_conv1_bn (BatchNormaliza (None, 111, 111, 32) 128         block1_conv1[0][0]               \n",
      "__________________________________________________________________________________________________\n",
      "block1_conv1_act (Activation)   (None, 111, 111, 32) 0           block1_conv1_bn[0][0]            \n",
      "__________________________________________________________________________________________________\n",
      "block1_conv2 (Conv2D)           (None, 109, 109, 64) 18432       block1_conv1_act[0][0]           \n",
      "__________________________________________________________________________________________________\n",
      "block1_conv2_bn (BatchNormaliza (None, 109, 109, 64) 256         block1_conv2[0][0]               \n",
      "__________________________________________________________________________________________________\n",
      "block1_conv2_act (Activation)   (None, 109, 109, 64) 0           block1_conv2_bn[0][0]            \n",
      "__________________________________________________________________________________________________\n",
      "block2_sepconv1 (SeparableConv2 (None, 109, 109, 128 8768        block1_conv2_act[0][0]           \n",
      "__________________________________________________________________________________________________\n",
      "block2_sepconv1_bn (BatchNormal (None, 109, 109, 128 512         block2_sepconv1[0][0]            \n",
      "__________________________________________________________________________________________________\n",
      "block2_sepconv2_act (Activation (None, 109, 109, 128 0           block2_sepconv1_bn[0][0]         \n",
      "__________________________________________________________________________________________________\n",
      "block2_sepconv2 (SeparableConv2 (None, 109, 109, 128 17536       block2_sepconv2_act[0][0]        \n",
      "__________________________________________________________________________________________________\n",
      "block2_sepconv2_bn (BatchNormal (None, 109, 109, 128 512         block2_sepconv2[0][0]            \n",
      "__________________________________________________________________________________________________\n",
      "conv2d_11 (Conv2D)              (None, 55, 55, 128)  8192        block1_conv2_act[0][0]           \n",
      "__________________________________________________________________________________________________\n",
      "block2_pool (MaxPooling2D)      (None, 55, 55, 128)  0           block2_sepconv2_bn[0][0]         \n",
      "__________________________________________________________________________________________________\n",
      "batch_normalization_5 (BatchNor (None, 55, 55, 128)  512         conv2d_11[0][0]                  \n",
      "__________________________________________________________________________________________________\n",
      "add_29 (Add)                    (None, 55, 55, 128)  0           block2_pool[0][0]                \n",
      "                                                                 batch_normalization_5[0][0]      \n",
      "__________________________________________________________________________________________________\n",
      "block3_sepconv1_act (Activation (None, 55, 55, 128)  0           add_29[0][0]                     \n",
      "__________________________________________________________________________________________________\n",
      "block3_sepconv1 (SeparableConv2 (None, 55, 55, 256)  33920       block3_sepconv1_act[0][0]        \n",
      "__________________________________________________________________________________________________\n",
      "block3_sepconv1_bn (BatchNormal (None, 55, 55, 256)  1024        block3_sepconv1[0][0]            \n",
      "__________________________________________________________________________________________________\n",
      "block3_sepconv2_act (Activation (None, 55, 55, 256)  0           block3_sepconv1_bn[0][0]         \n",
      "__________________________________________________________________________________________________\n",
      "block3_sepconv2 (SeparableConv2 (None, 55, 55, 256)  67840       block3_sepconv2_act[0][0]        \n",
      "__________________________________________________________________________________________________\n",
      "block3_sepconv2_bn (BatchNormal (None, 55, 55, 256)  1024        block3_sepconv2[0][0]            \n",
      "__________________________________________________________________________________________________\n",
      "conv2d_12 (Conv2D)              (None, 28, 28, 256)  32768       add_29[0][0]                     \n",
      "__________________________________________________________________________________________________\n",
      "block3_pool (MaxPooling2D)      (None, 28, 28, 256)  0           block3_sepconv2_bn[0][0]         \n",
      "__________________________________________________________________________________________________\n",
      "batch_normalization_6 (BatchNor (None, 28, 28, 256)  1024        conv2d_12[0][0]                  \n",
      "__________________________________________________________________________________________________\n",
      "add_30 (Add)                    (None, 28, 28, 256)  0           block3_pool[0][0]                \n",
      "                                                                 batch_normalization_6[0][0]      \n",
      "__________________________________________________________________________________________________\n",
      "block4_sepconv1_act (Activation (None, 28, 28, 256)  0           add_30[0][0]                     \n",
      "__________________________________________________________________________________________________\n",
      "block4_sepconv1 (SeparableConv2 (None, 28, 28, 728)  188672      block4_sepconv1_act[0][0]        \n",
      "__________________________________________________________________________________________________\n",
      "block4_sepconv1_bn (BatchNormal (None, 28, 28, 728)  2912        block4_sepconv1[0][0]            \n",
      "__________________________________________________________________________________________________\n",
      "block4_sepconv2_act (Activation (None, 28, 28, 728)  0           block4_sepconv1_bn[0][0]         \n",
      "__________________________________________________________________________________________________\n",
      "block4_sepconv2 (SeparableConv2 (None, 28, 28, 728)  536536      block4_sepconv2_act[0][0]        \n",
      "__________________________________________________________________________________________________\n",
      "block4_sepconv2_bn (BatchNormal (None, 28, 28, 728)  2912        block4_sepconv2[0][0]            \n",
      "__________________________________________________________________________________________________\n",
      "conv2d_13 (Conv2D)              (None, 14, 14, 728)  186368      add_30[0][0]                     \n",
      "__________________________________________________________________________________________________\n",
      "block4_pool (MaxPooling2D)      (None, 14, 14, 728)  0           block4_sepconv2_bn[0][0]         \n",
      "__________________________________________________________________________________________________\n",
      "batch_normalization_7 (BatchNor (None, 14, 14, 728)  2912        conv2d_13[0][0]                  \n",
      "__________________________________________________________________________________________________\n",
      "add_31 (Add)                    (None, 14, 14, 728)  0           block4_pool[0][0]                \n",
      "                                                                 batch_normalization_7[0][0]      \n",
      "__________________________________________________________________________________________________\n",
      "block5_sepconv1_act (Activation (None, 14, 14, 728)  0           add_31[0][0]                     \n",
      "__________________________________________________________________________________________________\n",
      "block5_sepconv1 (SeparableConv2 (None, 14, 14, 728)  536536      block5_sepconv1_act[0][0]        \n",
      "__________________________________________________________________________________________________\n",
      "block5_sepconv1_bn (BatchNormal (None, 14, 14, 728)  2912        block5_sepconv1[0][0]            \n",
      "__________________________________________________________________________________________________\n",
      "block5_sepconv2_act (Activation (None, 14, 14, 728)  0           block5_sepconv1_bn[0][0]         \n",
      "__________________________________________________________________________________________________\n",
      "block5_sepconv2 (SeparableConv2 (None, 14, 14, 728)  536536      block5_sepconv2_act[0][0]        \n",
      "__________________________________________________________________________________________________\n",
      "block5_sepconv2_bn (BatchNormal (None, 14, 14, 728)  2912        block5_sepconv2[0][0]            \n",
      "__________________________________________________________________________________________________\n",
      "block5_sepconv3_act (Activation (None, 14, 14, 728)  0           block5_sepconv2_bn[0][0]         \n",
      "__________________________________________________________________________________________________\n",
      "block5_sepconv3 (SeparableConv2 (None, 14, 14, 728)  536536      block5_sepconv3_act[0][0]        \n",
      "__________________________________________________________________________________________________\n",
      "block5_sepconv3_bn (BatchNormal (None, 14, 14, 728)  2912        block5_sepconv3[0][0]            \n",
      "__________________________________________________________________________________________________\n",
      "add_32 (Add)                    (None, 14, 14, 728)  0           block5_sepconv3_bn[0][0]         \n",
      "                                                                 add_31[0][0]                     \n",
      "__________________________________________________________________________________________________\n",
      "block6_sepconv1_act (Activation (None, 14, 14, 728)  0           add_32[0][0]                     \n",
      "__________________________________________________________________________________________________\n",
      "block6_sepconv1 (SeparableConv2 (None, 14, 14, 728)  536536      block6_sepconv1_act[0][0]        \n",
      "__________________________________________________________________________________________________\n",
      "block6_sepconv1_bn (BatchNormal (None, 14, 14, 728)  2912        block6_sepconv1[0][0]            \n",
      "__________________________________________________________________________________________________\n",
      "block6_sepconv2_act (Activation (None, 14, 14, 728)  0           block6_sepconv1_bn[0][0]         \n",
      "__________________________________________________________________________________________________\n",
      "block6_sepconv2 (SeparableConv2 (None, 14, 14, 728)  536536      block6_sepconv2_act[0][0]        \n",
      "__________________________________________________________________________________________________\n",
      "block6_sepconv2_bn (BatchNormal (None, 14, 14, 728)  2912        block6_sepconv2[0][0]            \n",
      "__________________________________________________________________________________________________\n",
      "block6_sepconv3_act (Activation (None, 14, 14, 728)  0           block6_sepconv2_bn[0][0]         \n",
      "__________________________________________________________________________________________________\n",
      "block6_sepconv3 (SeparableConv2 (None, 14, 14, 728)  536536      block6_sepconv3_act[0][0]        \n",
      "__________________________________________________________________________________________________\n",
      "block6_sepconv3_bn (BatchNormal (None, 14, 14, 728)  2912        block6_sepconv3[0][0]            \n",
      "__________________________________________________________________________________________________\n",
      "add_33 (Add)                    (None, 14, 14, 728)  0           block6_sepconv3_bn[0][0]         \n",
      "                                                                 add_32[0][0]                     \n",
      "__________________________________________________________________________________________________\n",
      "block7_sepconv1_act (Activation (None, 14, 14, 728)  0           add_33[0][0]                     \n",
      "__________________________________________________________________________________________________\n",
      "block7_sepconv1 (SeparableConv2 (None, 14, 14, 728)  536536      block7_sepconv1_act[0][0]        \n",
      "__________________________________________________________________________________________________\n",
      "block7_sepconv1_bn (BatchNormal (None, 14, 14, 728)  2912        block7_sepconv1[0][0]            \n",
      "__________________________________________________________________________________________________\n",
      "block7_sepconv2_act (Activation (None, 14, 14, 728)  0           block7_sepconv1_bn[0][0]         \n",
      "__________________________________________________________________________________________________\n",
      "block7_sepconv2 (SeparableConv2 (None, 14, 14, 728)  536536      block7_sepconv2_act[0][0]        \n",
      "__________________________________________________________________________________________________\n",
      "block7_sepconv2_bn (BatchNormal (None, 14, 14, 728)  2912        block7_sepconv2[0][0]            \n",
      "__________________________________________________________________________________________________\n",
      "block7_sepconv3_act (Activation (None, 14, 14, 728)  0           block7_sepconv2_bn[0][0]         \n",
      "__________________________________________________________________________________________________\n",
      "block7_sepconv3 (SeparableConv2 (None, 14, 14, 728)  536536      block7_sepconv3_act[0][0]        \n",
      "__________________________________________________________________________________________________\n",
      "block7_sepconv3_bn (BatchNormal (None, 14, 14, 728)  2912        block7_sepconv3[0][0]            \n",
      "__________________________________________________________________________________________________\n",
      "add_34 (Add)                    (None, 14, 14, 728)  0           block7_sepconv3_bn[0][0]         \n",
      "                                                                 add_33[0][0]                     \n",
      "__________________________________________________________________________________________________\n",
      "block8_sepconv1_act (Activation (None, 14, 14, 728)  0           add_34[0][0]                     \n",
      "__________________________________________________________________________________________________\n",
      "block8_sepconv1 (SeparableConv2 (None, 14, 14, 728)  536536      block8_sepconv1_act[0][0]        \n",
      "__________________________________________________________________________________________________\n",
      "block8_sepconv1_bn (BatchNormal (None, 14, 14, 728)  2912        block8_sepconv1[0][0]            \n",
      "__________________________________________________________________________________________________\n",
      "block8_sepconv2_act (Activation (None, 14, 14, 728)  0           block8_sepconv1_bn[0][0]         \n",
      "__________________________________________________________________________________________________\n",
      "block8_sepconv2 (SeparableConv2 (None, 14, 14, 728)  536536      block8_sepconv2_act[0][0]        \n",
      "__________________________________________________________________________________________________\n",
      "block8_sepconv2_bn (BatchNormal (None, 14, 14, 728)  2912        block8_sepconv2[0][0]            \n",
      "__________________________________________________________________________________________________\n",
      "block8_sepconv3_act (Activation (None, 14, 14, 728)  0           block8_sepconv2_bn[0][0]         \n",
      "__________________________________________________________________________________________________\n",
      "block8_sepconv3 (SeparableConv2 (None, 14, 14, 728)  536536      block8_sepconv3_act[0][0]        \n",
      "__________________________________________________________________________________________________\n",
      "block8_sepconv3_bn (BatchNormal (None, 14, 14, 728)  2912        block8_sepconv3[0][0]            \n",
      "__________________________________________________________________________________________________\n",
      "add_35 (Add)                    (None, 14, 14, 728)  0           block8_sepconv3_bn[0][0]         \n",
      "                                                                 add_34[0][0]                     \n",
      "__________________________________________________________________________________________________\n",
      "block9_sepconv1_act (Activation (None, 14, 14, 728)  0           add_35[0][0]                     \n",
      "__________________________________________________________________________________________________\n",
      "block9_sepconv1 (SeparableConv2 (None, 14, 14, 728)  536536      block9_sepconv1_act[0][0]        \n",
      "__________________________________________________________________________________________________\n",
      "block9_sepconv1_bn (BatchNormal (None, 14, 14, 728)  2912        block9_sepconv1[0][0]            \n",
      "__________________________________________________________________________________________________\n",
      "block9_sepconv2_act (Activation (None, 14, 14, 728)  0           block9_sepconv1_bn[0][0]         \n",
      "__________________________________________________________________________________________________\n",
      "block9_sepconv2 (SeparableConv2 (None, 14, 14, 728)  536536      block9_sepconv2_act[0][0]        \n",
      "__________________________________________________________________________________________________\n",
      "block9_sepconv2_bn (BatchNormal (None, 14, 14, 728)  2912        block9_sepconv2[0][0]            \n",
      "__________________________________________________________________________________________________\n",
      "block9_sepconv3_act (Activation (None, 14, 14, 728)  0           block9_sepconv2_bn[0][0]         \n",
      "__________________________________________________________________________________________________\n",
      "block9_sepconv3 (SeparableConv2 (None, 14, 14, 728)  536536      block9_sepconv3_act[0][0]        \n",
      "__________________________________________________________________________________________________\n",
      "block9_sepconv3_bn (BatchNormal (None, 14, 14, 728)  2912        block9_sepconv3[0][0]            \n",
      "__________________________________________________________________________________________________\n",
      "add_36 (Add)                    (None, 14, 14, 728)  0           block9_sepconv3_bn[0][0]         \n",
      "                                                                 add_35[0][0]                     \n",
      "__________________________________________________________________________________________________\n",
      "block10_sepconv1_act (Activatio (None, 14, 14, 728)  0           add_36[0][0]                     \n",
      "__________________________________________________________________________________________________\n",
      "block10_sepconv1 (SeparableConv (None, 14, 14, 728)  536536      block10_sepconv1_act[0][0]       \n",
      "__________________________________________________________________________________________________\n",
      "block10_sepconv1_bn (BatchNorma (None, 14, 14, 728)  2912        block10_sepconv1[0][0]           \n",
      "__________________________________________________________________________________________________\n",
      "block10_sepconv2_act (Activatio (None, 14, 14, 728)  0           block10_sepconv1_bn[0][0]        \n",
      "__________________________________________________________________________________________________\n",
      "block10_sepconv2 (SeparableConv (None, 14, 14, 728)  536536      block10_sepconv2_act[0][0]       \n",
      "__________________________________________________________________________________________________\n",
      "block10_sepconv2_bn (BatchNorma (None, 14, 14, 728)  2912        block10_sepconv2[0][0]           \n",
      "__________________________________________________________________________________________________\n",
      "block10_sepconv3_act (Activatio (None, 14, 14, 728)  0           block10_sepconv2_bn[0][0]        \n",
      "__________________________________________________________________________________________________\n",
      "block10_sepconv3 (SeparableConv (None, 14, 14, 728)  536536      block10_sepconv3_act[0][0]       \n",
      "__________________________________________________________________________________________________\n",
      "block10_sepconv3_bn (BatchNorma (None, 14, 14, 728)  2912        block10_sepconv3[0][0]           \n",
      "__________________________________________________________________________________________________\n",
      "add_37 (Add)                    (None, 14, 14, 728)  0           block10_sepconv3_bn[0][0]        \n",
      "                                                                 add_36[0][0]                     \n",
      "__________________________________________________________________________________________________\n",
      "block11_sepconv1_act (Activatio (None, 14, 14, 728)  0           add_37[0][0]                     \n",
      "__________________________________________________________________________________________________\n",
      "block11_sepconv1 (SeparableConv (None, 14, 14, 728)  536536      block11_sepconv1_act[0][0]       \n",
      "__________________________________________________________________________________________________\n",
      "block11_sepconv1_bn (BatchNorma (None, 14, 14, 728)  2912        block11_sepconv1[0][0]           \n",
      "__________________________________________________________________________________________________\n",
      "block11_sepconv2_act (Activatio (None, 14, 14, 728)  0           block11_sepconv1_bn[0][0]        \n",
      "__________________________________________________________________________________________________\n",
      "block11_sepconv2 (SeparableConv (None, 14, 14, 728)  536536      block11_sepconv2_act[0][0]       \n",
      "__________________________________________________________________________________________________\n",
      "block11_sepconv2_bn (BatchNorma (None, 14, 14, 728)  2912        block11_sepconv2[0][0]           \n",
      "__________________________________________________________________________________________________\n",
      "block11_sepconv3_act (Activatio (None, 14, 14, 728)  0           block11_sepconv2_bn[0][0]        \n",
      "__________________________________________________________________________________________________\n",
      "block11_sepconv3 (SeparableConv (None, 14, 14, 728)  536536      block11_sepconv3_act[0][0]       \n",
      "__________________________________________________________________________________________________\n",
      "block11_sepconv3_bn (BatchNorma (None, 14, 14, 728)  2912        block11_sepconv3[0][0]           \n",
      "__________________________________________________________________________________________________\n",
      "add_38 (Add)                    (None, 14, 14, 728)  0           block11_sepconv3_bn[0][0]        \n",
      "                                                                 add_37[0][0]                     \n",
      "__________________________________________________________________________________________________\n",
      "block12_sepconv1_act (Activatio (None, 14, 14, 728)  0           add_38[0][0]                     \n",
      "__________________________________________________________________________________________________\n",
      "block12_sepconv1 (SeparableConv (None, 14, 14, 728)  536536      block12_sepconv1_act[0][0]       \n",
      "__________________________________________________________________________________________________\n",
      "block12_sepconv1_bn (BatchNorma (None, 14, 14, 728)  2912        block12_sepconv1[0][0]           \n",
      "__________________________________________________________________________________________________\n",
      "block12_sepconv2_act (Activatio (None, 14, 14, 728)  0           block12_sepconv1_bn[0][0]        \n",
      "__________________________________________________________________________________________________\n",
      "block12_sepconv2 (SeparableConv (None, 14, 14, 728)  536536      block12_sepconv2_act[0][0]       \n",
      "__________________________________________________________________________________________________\n",
      "block12_sepconv2_bn (BatchNorma (None, 14, 14, 728)  2912        block12_sepconv2[0][0]           \n",
      "__________________________________________________________________________________________________\n",
      "block12_sepconv3_act (Activatio (None, 14, 14, 728)  0           block12_sepconv2_bn[0][0]        \n",
      "__________________________________________________________________________________________________\n",
      "block12_sepconv3 (SeparableConv (None, 14, 14, 728)  536536      block12_sepconv3_act[0][0]       \n",
      "__________________________________________________________________________________________________\n",
      "block12_sepconv3_bn (BatchNorma (None, 14, 14, 728)  2912        block12_sepconv3[0][0]           \n",
      "__________________________________________________________________________________________________\n",
      "add_39 (Add)                    (None, 14, 14, 728)  0           block12_sepconv3_bn[0][0]        \n",
      "                                                                 add_38[0][0]                     \n",
      "__________________________________________________________________________________________________\n",
      "block13_sepconv1_act (Activatio (None, 14, 14, 728)  0           add_39[0][0]                     \n",
      "__________________________________________________________________________________________________\n",
      "block13_sepconv1 (SeparableConv (None, 14, 14, 728)  536536      block13_sepconv1_act[0][0]       \n",
      "__________________________________________________________________________________________________\n",
      "block13_sepconv1_bn (BatchNorma (None, 14, 14, 728)  2912        block13_sepconv1[0][0]           \n",
      "__________________________________________________________________________________________________\n",
      "block13_sepconv2_act (Activatio (None, 14, 14, 728)  0           block13_sepconv1_bn[0][0]        \n",
      "__________________________________________________________________________________________________\n",
      "block13_sepconv2 (SeparableConv (None, 14, 14, 1024) 752024      block13_sepconv2_act[0][0]       \n",
      "__________________________________________________________________________________________________\n",
      "block13_sepconv2_bn (BatchNorma (None, 14, 14, 1024) 4096        block13_sepconv2[0][0]           \n",
      "__________________________________________________________________________________________________\n",
      "conv2d_14 (Conv2D)              (None, 7, 7, 1024)   745472      add_39[0][0]                     \n",
      "__________________________________________________________________________________________________\n",
      "block13_pool (MaxPooling2D)     (None, 7, 7, 1024)   0           block13_sepconv2_bn[0][0]        \n",
      "__________________________________________________________________________________________________\n",
      "batch_normalization_8 (BatchNor (None, 7, 7, 1024)   4096        conv2d_14[0][0]                  \n",
      "__________________________________________________________________________________________________\n",
      "add_40 (Add)                    (None, 7, 7, 1024)   0           block13_pool[0][0]               \n",
      "                                                                 batch_normalization_8[0][0]      \n",
      "__________________________________________________________________________________________________\n",
      "block14_sepconv1 (SeparableConv (None, 7, 7, 1536)   1582080     add_40[0][0]                     \n",
      "__________________________________________________________________________________________________\n",
      "block14_sepconv1_bn (BatchNorma (None, 7, 7, 1536)   6144        block14_sepconv1[0][0]           \n",
      "__________________________________________________________________________________________________\n",
      "block14_sepconv1_act (Activatio (None, 7, 7, 1536)   0           block14_sepconv1_bn[0][0]        \n",
      "__________________________________________________________________________________________________\n",
      "block14_sepconv2 (SeparableConv (None, 7, 7, 2048)   3159552     block14_sepconv1_act[0][0]       \n",
      "__________________________________________________________________________________________________\n",
      "block14_sepconv2_bn (BatchNorma (None, 7, 7, 2048)   8192        block14_sepconv2[0][0]           \n",
      "__________________________________________________________________________________________________\n",
      "block14_sepconv2_act (Activatio (None, 7, 7, 2048)   0           block14_sepconv2_bn[0][0]        \n",
      "__________________________________________________________________________________________________\n",
      "global_average_pooling2d_2 (Glo (None, 2048)         0           block14_sepconv2_act[0][0]       \n",
      "__________________________________________________________________________________________________\n",
      "dense_4 (Dense)                 (None, 133)          272517      global_average_pooling2d_2[0][0] \n",
      "==================================================================================================\n",
      "Total params: 21,133,997\n",
      "Trainable params: 21,079,469\n",
      "Non-trainable params: 54,528\n",
      "__________________________________________________________________________________________________\n"
     ]
    }
   ],
   "source": [
    "### TODO: Define your architecture.\n",
    "from keras.callbacks import ModelCheckpoint\n",
    "from keras.preprocessing.image import ImageDataGenerator, array_to_img, img_to_array, load_img\n",
    "from keras.applications.xception import Xception\n",
    "from keras.models import Model\n",
    "\n",
    "\n",
    "# 'saved_models/aug_Xception.weights.best.hdf5'\n",
    "checkpointer = ModelCheckpoint(filepath='saved_models/weights.best.final_model.hdf5', verbose=1, \n",
    "                               save_best_only=True)\n",
    "\n",
    "# aug_Xception_model = Sequential()\n",
    "\n",
    "# base_model = Xception(weights=weights)\n",
    "# base_model = Xception(include_top=False, weights='imagenet',\n",
    "#                       # input_tensor=None,\n",
    "#                       input_shape=input_shape,\n",
    "#                       pooling='avg',\n",
    "#                       classes=num_classes)\n",
    "# model = Model(input=base_model.input, output=base_model.get_layer('avg').output)\n",
    "# base_model = Xception(weights='imagenet', input_shape=input_shape)\n",
    "# model = Model(input=base_model.input, output=base_model.get_layer('avg_pool').output)\n",
    "# model.add(Dense(133, activation='softmax'))\n",
    "# model.add(GlobalAveragePooling2D(input_shape=train_Xception.shape[1:]))\n",
    "# model.add(Dense(133, activation='softmax'))\n",
    "\n",
    "base_model = Xception(input_shape=input_shape, weights='imagenet', include_top=False)\n",
    "\n",
    "# Top Model Block\n",
    "# x = GlobalAveragePooling2D()(base_model.output)\n",
    "predictions = Dense(num_classes, activation='softmax')(GlobalAveragePooling2D()(base_model.output))\n",
    "\n",
    "# add your top layer block to your base model\n",
    "model = Model(base_model.input, predictions)\n",
    "\n",
    "model.summary()\n",
    "\n",
    "# aug_Xception_model.fit_generator(datagen_train.flow(train_Xception, train_targets, batch_size=batch_size),\n",
    "#                                  steps_per_epoch=train_Xception.shape[0] // batch_size,\n",
    "#                                  epochs=5, verbose=2, callbacks=[checkpointer],\n",
    "#                                  validation_data=datagen_valid.flow(valid_Xception, valid_targets, batch_size=batch_size),\n",
    "#                                  validation_steps=valid_Xception.shape[0] // batch_size)"
   ]
  },
  {
   "cell_type": "markdown",
   "metadata": {},
   "source": [
    "### (IMPLEMENTATION) Compile the Model"
   ]
  },
  {
   "cell_type": "code",
   "execution_count": 22,
   "metadata": {},
   "outputs": [],
   "source": [
    "model.compile(loss='categorical_crossentropy', optimizer='rmsprop', metrics=['accuracy'])"
   ]
  },
  {
   "cell_type": "markdown",
   "metadata": {},
   "source": [
    "### (IMPLEMENTATION) Train the Model\n",
    "\n",
    "Train your model in the code cell below.  Use model checkpointing to save the model that attains the best validation loss.  \n",
    "\n",
    "You are welcome to [augment the training data](https://blog.keras.io/building-powerful-image-classification-models-using-very-little-data.html), but this is not a requirement. "
   ]
  },
  {
   "cell_type": "code",
   "execution_count": null,
   "metadata": {
    "scrolled": false
   },
   "outputs": [
    {
     "name": "stdout",
     "output_type": "stream",
     "text": [
      "Train on 6680 samples, validate on 835 samples\n",
      "Epoch 1/100\n",
      "6680/6680 [==============================] - 204s 30ms/step - loss: 2.5375 - acc: 0.3530 - val_loss: 3.0725 - val_acc: 0.4048\n",
      "\n",
      "Epoch 00001: val_loss improved from inf to 3.07250, saving model to saved_models/weights.best.final_model.hdf5\n",
      "Epoch 2/100\n",
      "6680/6680 [==============================] - 205s 31ms/step - loss: 1.4366 - acc: 0.5814 - val_loss: 3.6120 - val_acc: 0.4826\n",
      "\n",
      "Epoch 00002: val_loss did not improve from 3.07250\n",
      "Epoch 3/100\n",
      "6680/6680 [==============================] - 208s 31ms/step - loss: 1.0116 - acc: 0.6840 - val_loss: 3.4017 - val_acc: 0.5006\n",
      "\n",
      "Epoch 00003: val_loss did not improve from 3.07250\n",
      "Epoch 4/100\n",
      "6680/6680 [==============================] - 209s 31ms/step - loss: 0.7689 - acc: 0.7590 - val_loss: 2.0995 - val_acc: 0.6275\n",
      "\n",
      "Epoch 00004: val_loss improved from 3.07250 to 2.09949, saving model to saved_models/weights.best.final_model.hdf5\n",
      "Epoch 5/100\n",
      "6680/6680 [==============================] - 210s 31ms/step - loss: 0.6274 - acc: 0.8082 - val_loss: 3.2399 - val_acc: 0.5138\n",
      "\n",
      "Epoch 00005: val_loss did not improve from 2.09949\n",
      "Epoch 6/100\n",
      "6680/6680 [==============================] - 210s 31ms/step - loss: 0.5182 - acc: 0.8433 - val_loss: 2.1945 - val_acc: 0.5868\n",
      "\n",
      "Epoch 00006: val_loss did not improve from 2.09949\n",
      "Epoch 7/100\n",
      "6680/6680 [==============================] - 211s 32ms/step - loss: 0.4379 - acc: 0.8656 - val_loss: 3.3530 - val_acc: 0.5952\n",
      "\n",
      "Epoch 00007: val_loss did not improve from 2.09949\n",
      "Epoch 8/100\n",
      "6680/6680 [==============================] - 210s 31ms/step - loss: 0.3771 - acc: 0.8813 - val_loss: 3.1274 - val_acc: 0.5713\n",
      "\n",
      "Epoch 00008: val_loss did not improve from 2.09949\n",
      "Epoch 9/100\n",
      "6680/6680 [==============================] - 210s 31ms/step - loss: 0.3516 - acc: 0.8928 - val_loss: 4.1665 - val_acc: 0.5138\n",
      "\n",
      "Epoch 00009: val_loss did not improve from 2.09949\n",
      "Epoch 10/100\n",
      "6680/6680 [==============================] - 211s 32ms/step - loss: 0.3190 - acc: 0.9009 - val_loss: 2.3270 - val_acc: 0.6311\n",
      "\n",
      "Epoch 00010: val_loss did not improve from 2.09949\n",
      "Epoch 11/100\n",
      "6680/6680 [==============================] - 211s 32ms/step - loss: 0.2601 - acc: 0.9205 - val_loss: 2.5395 - val_acc: 0.6108\n",
      "\n",
      "Epoch 00011: val_loss did not improve from 2.09949\n",
      "Epoch 12/100\n",
      "6680/6680 [==============================] - 211s 32ms/step - loss: 0.2580 - acc: 0.9226 - val_loss: 3.2925 - val_acc: 0.6024\n",
      "\n",
      "Epoch 00012: val_loss did not improve from 2.09949\n",
      "Epoch 13/100\n",
      "6680/6680 [==============================] - 211s 32ms/step - loss: 0.2251 - acc: 0.9314 - val_loss: 3.8590 - val_acc: 0.5892\n",
      "\n",
      "Epoch 00013: val_loss did not improve from 2.09949\n",
      "Epoch 14/100\n",
      "6680/6680 [==============================] - 211s 32ms/step - loss: 0.2407 - acc: 0.9268 - val_loss: 2.2198 - val_acc: 0.6599\n",
      "\n",
      "Epoch 00014: val_loss did not improve from 2.09949\n",
      "Epoch 15/100\n",
      "6680/6680 [==============================] - 211s 32ms/step - loss: 0.2168 - acc: 0.9374 - val_loss: 2.6596 - val_acc: 0.6359\n",
      "\n",
      "Epoch 00015: val_loss did not improve from 2.09949\n",
      "Epoch 16/100\n",
      "6680/6680 [==============================] - 211s 32ms/step - loss: 0.2019 - acc: 0.9416 - val_loss: 2.7697 - val_acc: 0.6216\n",
      "\n",
      "Epoch 00016: val_loss did not improve from 2.09949\n",
      "Epoch 17/100\n",
      "6540/6680 [============================>.] - ETA: 4s - loss: 0.1897 - acc: 0.9427"
     ]
    }
   ],
   "source": [
    "### TODO: Train the model.\n",
    "\n",
    "datagen_train = ImageDataGenerator(\n",
    "    width_shift_range=0.1,\n",
    "    height_shift_range=0.1,\n",
    "    horizontal_flip=True)\n",
    "\n",
    "datagen_valid = ImageDataGenerator(\n",
    "    width_shift_range=0.1,\n",
    "    height_shift_range=0.1,\n",
    "    horizontal_flip=True)\n",
    "\n",
    "batch_size = 10\n",
    "\n",
    "model.fit(train_tensors, train_targets, \n",
    "          validation_data=(valid_tensors, valid_targets),\n",
    "          epochs=100, batch_size=batch_size, callbacks=[checkpointer], verbose=1)\n",
    "\n",
    "if False:\n",
    "    model.fit_generator(datagen_train.flow(train_tensors, train_targets, batch_size=batch_size),\n",
    "                     steps_per_epoch=train_tensors.shape[0] // batch_size,\n",
    "                     epochs=100, verbose=2, callbacks=[checkpointer],\n",
    "                     validation_data=datagen_valid.flow(valid_tensors, valid_targets, batch_size=batch_size),\n",
    "                     validation_steps=valid_tensors.shape[0] // batch_size)"
   ]
  },
  {
   "cell_type": "markdown",
   "metadata": {},
   "source": [
    "### (IMPLEMENTATION) Load the Model with the Best Validation Loss"
   ]
  },
  {
   "cell_type": "code",
   "execution_count": 19,
   "metadata": {},
   "outputs": [],
   "source": [
    "### TODO: Load the model weights with the best validation loss.\n",
    "model.load_weights('saved_models/weights.best.final_model.hdf5')"
   ]
  },
  {
   "cell_type": "markdown",
   "metadata": {},
   "source": [
    "### (IMPLEMENTATION) Test the Model\n",
    "\n",
    "Try out your model on the test dataset of dog images. Ensure that your test accuracy is greater than 60%."
   ]
  },
  {
   "cell_type": "code",
   "execution_count": 20,
   "metadata": {},
   "outputs": [
    {
     "name": "stdout",
     "output_type": "stream",
     "text": [
      "Test accuracy: 58.7321%\n"
     ]
    }
   ],
   "source": [
    "### TODO: Calculate classification accuracy on the test dataset.\n",
    "# get index of predicted dog breed for each image in test set\n",
    "model_predictions = [np.argmax(model.predict(np.expand_dims(feature, axis=0))) for feature in test_tensors]\n",
    "\n",
    "test_accuracy = 100*np.sum(np.array(model_predictions)==np.argmax(test_targets, axis=1))/len(model_predictions)\n",
    "print('Test accuracy: %.4f%%' % test_accuracy)"
   ]
  },
  {
   "cell_type": "markdown",
   "metadata": {},
   "source": [
    "### (IMPLEMENTATION) Predict Dog Breed with the Model\n",
    "\n",
    "Write a function that takes an image path as input and returns the dog breed (`Affenpinscher`, `Afghan_hound`, etc) that is predicted by your model.  \n",
    "\n",
    "Similar to the analogous function in Step 5, your function should have three steps:\n",
    "1. Extract the bottleneck features corresponding to the chosen CNN model.\n",
    "2. Supply the bottleneck features as input to the model to return the predicted vector.  Note that the argmax of this prediction vector gives the index of the predicted dog breed.\n",
    "3. Use the `dog_names` array defined in Step 0 of this notebook to return the corresponding breed.\n",
    "\n",
    "The functions to extract the bottleneck features can be found in `extract_bottleneck_features.py`, and they have been imported in an earlier code cell.  To obtain the bottleneck features corresponding to your chosen CNN architecture, you need to use the function\n",
    "\n",
    "    extract_{network}\n",
    "    \n",
    "where `{network}`, in the above filename, should be one of `VGG19`, `Resnet50`, `InceptionV3`, or `Xception`."
   ]
  },
  {
   "cell_type": "code",
   "execution_count": 38,
   "metadata": {},
   "outputs": [],
   "source": [
    "### TODO: Write a function that takes a path to an image as input\n",
    "### and returns the dog breed that is predicted by the model.\n",
    "from extract_bottleneck_features import *\n",
    "\n",
    "def predict_breed(img_path):\n",
    "    img = image.load_img(img_path, target_size=(224, 224))\n",
    "    # convert PIL.Image.Image type to 3D tensor with shape (224, 224, 3)\n",
    "    x = image.img_to_array(img)\n",
    "    # convert 3D tensor to 4D tensor with shape (1, 224, 224, 3) and return 4D tensor\n",
    "    # return np.expand_dims(x, axis=0)\n",
    "    tensor = np.expand_dims(x, axis=0).astype('float32')/255\n",
    "    # obtain predicted vector\n",
    "    predicted_vector = model.predict(tensor)\n",
    "    # return dog breed that is predicted by the model\n",
    "    return dog_names[np.argmax(predicted_vector)]"
   ]
  },
  {
   "cell_type": "markdown",
   "metadata": {},
   "source": [
    "---\n",
    "<a id='step6'></a>\n",
    "## Step 6: Write your Algorithm\n",
    "\n",
    "Write an algorithm that accepts a file path to an image and first determines whether the image contains a human, dog, or neither.  Then,\n",
    "- if a __dog__ is detected in the image, return the predicted breed.\n",
    "- if a __human__ is detected in the image, return the resembling dog breed.\n",
    "- if __neither__ is detected in the image, provide output that indicates an error.\n",
    "\n",
    "You are welcome to write your own functions for detecting humans and dogs in images, but feel free to use the `face_detector` and `dog_detector` functions developed above.  You are __required__ to use your CNN from Step 5 to predict dog breed.  \n",
    "\n",
    "Some sample output for our algorithm is provided below, but feel free to design your own user experience!\n",
    "\n",
    "![Sample Human Output](images/sample_human_output.png)\n",
    "\n",
    "\n",
    "### (IMPLEMENTATION) Write your Algorithm"
   ]
  },
  {
   "cell_type": "code",
   "execution_count": 39,
   "metadata": {},
   "outputs": [
    {
     "name": "stdout",
     "output_type": "stream",
     "text": [
      "Dalmatian\n"
     ]
    }
   ],
   "source": [
    "### TODO: Write your algorithm.\n",
    "### Feel free to use as many code cells as needed.\n",
    "print(predict_breed('images/sample_human_output.png'))"
   ]
  },
  {
   "cell_type": "markdown",
   "metadata": {},
   "source": [
    "---\n",
    "<a id='step7'></a>\n",
    "## Step 7: Test Your Algorithm\n",
    "\n",
    "In this section, you will take your new algorithm for a spin!  What kind of dog does the algorithm think that __you__ look like?  If you have a dog, does it predict your dog's breed accurately?  If you have a cat, does it mistakenly think that your cat is a dog?\n",
    "\n",
    "### (IMPLEMENTATION) Test Your Algorithm on Sample Images!\n",
    "\n",
    "Test your algorithm at least six images on your computer.  Feel free to use any images you like.  Use at least two human and two dog images.  \n",
    "\n",
    "__Question 6:__ Is the output better than you expected :) ?  Or worse :( ?  Provide at least three possible points of improvement for your algorithm.\n",
    "\n",
    "__Answer:__ "
   ]
  },
  {
   "cell_type": "code",
   "execution_count": null,
   "metadata": {
    "collapsed": true
   },
   "outputs": [],
   "source": [
    "## TODO: Execute your algorithm from Step 6 on\n",
    "## at least 6 images on your computer.\n",
    "## Feel free to use as many code cells as needed."
   ]
  }
 ],
 "metadata": {
  "anaconda-cloud": {},
  "kernelspec": {
   "display_name": "Python 3",
   "language": "python",
   "name": "python3"
  },
  "language_info": {
   "codemirror_mode": {
    "name": "ipython",
    "version": 3
   },
   "file_extension": ".py",
   "mimetype": "text/x-python",
   "name": "python",
   "nbconvert_exporter": "python",
   "pygments_lexer": "ipython3",
   "version": "3.6.6"
  }
 },
 "nbformat": 4,
 "nbformat_minor": 1
}
