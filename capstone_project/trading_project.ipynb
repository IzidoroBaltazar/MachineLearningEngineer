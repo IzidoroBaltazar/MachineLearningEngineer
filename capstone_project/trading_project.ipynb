{
 "cells": [
  {
   "cell_type": "markdown",
   "metadata": {},
   "source": [
    "# Capstone Project\n",
    "## Using Machine Learning in Trading Futures\n",
    "\n",
    "Cell below is loading data obtained from [quandl.com](https://quandl.com). You can check how the resulting csv file was produced from raw trading data of futures contracts accross multiple years."
   ]
  },
  {
   "cell_type": "code",
   "execution_count": 26,
   "metadata": {},
   "outputs": [],
   "source": [
    "import pandas as pd\n",
    "import numpy as np\n",
    "import datetime\n",
    "import matplotlib.pyplot as plt\n",
    "import seaborn as sns\n",
    "\n",
    "fee = 1.5\n",
    "delta = 0.95\n",
    "account_size = 10000\n",
    "stop_loss = 550\n",
    "\n",
    "trading_days_in_year = 252\n",
    "\n",
    "start_date = datetime.date(year=2006, month=6, day=13)\n",
    "end_date = datetime.date(year=2018, month=12, day=20)\n",
    "validation_date = datetime.date(year=2018, month=1, day=1)\n",
    "\n",
    "gold = pd.read_csv('data/gold_daily.csv', index_col='Date')\n",
    "gold_cot = pd.read_csv('data/gold_cot.csv', index_col='Date')\n",
    "\n",
    "corn = pd.read_csv('data/corn_daily.csv', index_col='Date')\n",
    "corn_cot = pd.read_csv('data/corn_cot.csv', index_col='Date')\n",
    "\n",
    "coffee = pd.read_csv('data/coffee_daily.csv', index_col='Date')\n",
    "coffee_cot = pd.read_csv('data/coffee_cot.csv', index_col='Date')"
   ]
  },
  {
   "cell_type": "code",
   "execution_count": 2,
   "metadata": {},
   "outputs": [],
   "source": [
    "gold.index = pd.DatetimeIndex(data=gold.index)\n",
    "gold_cot.index = pd.DatetimeIndex(data=gold_cot.index)\n",
    "\n",
    "corn.index = pd.DatetimeIndex(data=corn.index)\n",
    "corn_cot.index = pd.DatetimeIndex(data=corn_cot.index)\n",
    "\n",
    "coffee.index = pd.DatetimeIndex(data=coffee.index)\n",
    "coffee_cot.index = pd.DatetimeIndex(data=coffee_cot.index)"
   ]
  },
  {
   "cell_type": "code",
   "execution_count": 3,
   "metadata": {},
   "outputs": [],
   "source": [
    "gold = gold.sort_index(kind='mergesort')\n",
    "gold_cot = gold_cot.sort_index(kind='mergesort')\n",
    "corn = corn.sort_index(kind='mergesort')\n",
    "corn_cot = corn_cot.sort_index(kind='mergesort')\n",
    "coffee = coffee.sort_index(kind='mergesort')\n",
    "coffee_cot = coffee_cot.sort_index(kind='mergesort')"
   ]
  },
  {
   "cell_type": "code",
   "execution_count": 4,
   "metadata": {},
   "outputs": [],
   "source": [
    "gold = gold.loc[gold.index >= '2006-06-13']\n",
    "corn = corn.loc[corn.index >= '2006-06-13']\n",
    "coffee = coffee.loc[coffee.index >= '2006-06-13']"
   ]
  },
  {
   "cell_type": "code",
   "execution_count": 5,
   "metadata": {},
   "outputs": [
    {
     "data": {
      "text/html": [
       "<div>\n",
       "<style scoped>\n",
       "    .dataframe tbody tr th:only-of-type {\n",
       "        vertical-align: middle;\n",
       "    }\n",
       "\n",
       "    .dataframe tbody tr th {\n",
       "        vertical-align: top;\n",
       "    }\n",
       "\n",
       "    .dataframe thead th {\n",
       "        text-align: right;\n",
       "    }\n",
       "</style>\n",
       "<table border=\"1\" class=\"dataframe\">\n",
       "  <thead>\n",
       "    <tr style=\"text-align: right;\">\n",
       "      <th></th>\n",
       "      <th>Open Interest</th>\n",
       "      <th>Producer/Merchant/Processor/User Longs</th>\n",
       "      <th>Producer/Merchant/Processor/User Shorts</th>\n",
       "      <th>Swap Dealer Longs</th>\n",
       "      <th>Swap Dealer Shorts</th>\n",
       "      <th>Swap Dealer Spreads</th>\n",
       "      <th>Money Manager Longs</th>\n",
       "      <th>Money Manager Shorts</th>\n",
       "      <th>Money Manager Spreads</th>\n",
       "      <th>Other Reportable Longs</th>\n",
       "      <th>Other Reportable Shorts</th>\n",
       "      <th>Other Reportable Spreads</th>\n",
       "      <th>Total Reportable Longs</th>\n",
       "      <th>Total Reportable Shorts</th>\n",
       "      <th>Non Reportable Longs</th>\n",
       "      <th>Non Reportable Shorts</th>\n",
       "    </tr>\n",
       "    <tr>\n",
       "      <th>Date</th>\n",
       "      <th></th>\n",
       "      <th></th>\n",
       "      <th></th>\n",
       "      <th></th>\n",
       "      <th></th>\n",
       "      <th></th>\n",
       "      <th></th>\n",
       "      <th></th>\n",
       "      <th></th>\n",
       "      <th></th>\n",
       "      <th></th>\n",
       "      <th></th>\n",
       "      <th></th>\n",
       "      <th></th>\n",
       "      <th></th>\n",
       "      <th></th>\n",
       "    </tr>\n",
       "  </thead>\n",
       "  <tbody>\n",
       "    <tr>\n",
       "      <th>2006-06-13</th>\n",
       "      <td>382474.0</td>\n",
       "      <td>42587.0</td>\n",
       "      <td>128892.0</td>\n",
       "      <td>19370.0</td>\n",
       "      <td>66611.0</td>\n",
       "      <td>22998.0</td>\n",
       "      <td>103211.0</td>\n",
       "      <td>30916.0</td>\n",
       "      <td>46704.0</td>\n",
       "      <td>33230.0</td>\n",
       "      <td>10656.0</td>\n",
       "      <td>58412.0</td>\n",
       "      <td>326513.0</td>\n",
       "      <td>365190.0</td>\n",
       "      <td>55961.0</td>\n",
       "      <td>17284.0</td>\n",
       "    </tr>\n",
       "    <tr>\n",
       "      <th>2006-06-20</th>\n",
       "      <td>390281.0</td>\n",
       "      <td>47440.0</td>\n",
       "      <td>126992.0</td>\n",
       "      <td>22404.0</td>\n",
       "      <td>64682.0</td>\n",
       "      <td>25806.0</td>\n",
       "      <td>94632.0</td>\n",
       "      <td>30963.0</td>\n",
       "      <td>48730.0</td>\n",
       "      <td>32947.0</td>\n",
       "      <td>11142.0</td>\n",
       "      <td>64458.0</td>\n",
       "      <td>336417.0</td>\n",
       "      <td>372774.0</td>\n",
       "      <td>53864.0</td>\n",
       "      <td>17507.0</td>\n",
       "    </tr>\n",
       "    <tr>\n",
       "      <th>2006-06-27</th>\n",
       "      <td>384321.0</td>\n",
       "      <td>48449.0</td>\n",
       "      <td>121890.0</td>\n",
       "      <td>22425.0</td>\n",
       "      <td>62640.0</td>\n",
       "      <td>25151.0</td>\n",
       "      <td>91042.0</td>\n",
       "      <td>32287.0</td>\n",
       "      <td>49614.0</td>\n",
       "      <td>31307.0</td>\n",
       "      <td>11386.0</td>\n",
       "      <td>59762.0</td>\n",
       "      <td>327749.0</td>\n",
       "      <td>362729.0</td>\n",
       "      <td>56572.0</td>\n",
       "      <td>21592.0</td>\n",
       "    </tr>\n",
       "    <tr>\n",
       "      <th>2006-07-03</th>\n",
       "      <td>392868.0</td>\n",
       "      <td>48087.0</td>\n",
       "      <td>122568.0</td>\n",
       "      <td>22720.0</td>\n",
       "      <td>69714.0</td>\n",
       "      <td>26352.0</td>\n",
       "      <td>92545.0</td>\n",
       "      <td>30452.0</td>\n",
       "      <td>50821.0</td>\n",
       "      <td>32874.0</td>\n",
       "      <td>8677.0</td>\n",
       "      <td>63514.0</td>\n",
       "      <td>336914.0</td>\n",
       "      <td>372098.0</td>\n",
       "      <td>55955.0</td>\n",
       "      <td>20771.0</td>\n",
       "    </tr>\n",
       "    <tr>\n",
       "      <th>2006-07-11</th>\n",
       "      <td>427008.0</td>\n",
       "      <td>54509.0</td>\n",
       "      <td>130618.0</td>\n",
       "      <td>21840.0</td>\n",
       "      <td>79217.0</td>\n",
       "      <td>28805.0</td>\n",
       "      <td>104213.0</td>\n",
       "      <td>27624.0</td>\n",
       "      <td>54922.0</td>\n",
       "      <td>33165.0</td>\n",
       "      <td>11194.0</td>\n",
       "      <td>70944.0</td>\n",
       "      <td>368398.0</td>\n",
       "      <td>403323.0</td>\n",
       "      <td>58611.0</td>\n",
       "      <td>23685.0</td>\n",
       "    </tr>\n",
       "    <tr>\n",
       "      <th>2006-07-18</th>\n",
       "      <td>443519.0</td>\n",
       "      <td>49863.0</td>\n",
       "      <td>131166.0</td>\n",
       "      <td>21681.0</td>\n",
       "      <td>83183.0</td>\n",
       "      <td>33352.0</td>\n",
       "      <td>107413.0</td>\n",
       "      <td>24296.0</td>\n",
       "      <td>62395.0</td>\n",
       "      <td>31760.0</td>\n",
       "      <td>9442.0</td>\n",
       "      <td>74272.0</td>\n",
       "      <td>380737.0</td>\n",
       "      <td>418105.0</td>\n",
       "      <td>62782.0</td>\n",
       "      <td>25414.0</td>\n",
       "    </tr>\n",
       "    <tr>\n",
       "      <th>2006-07-25</th>\n",
       "      <td>432413.0</td>\n",
       "      <td>52859.0</td>\n",
       "      <td>133290.0</td>\n",
       "      <td>22956.0</td>\n",
       "      <td>85604.0</td>\n",
       "      <td>28832.0</td>\n",
       "      <td>99087.0</td>\n",
       "      <td>22386.0</td>\n",
       "      <td>64810.0</td>\n",
       "      <td>29740.0</td>\n",
       "      <td>6244.0</td>\n",
       "      <td>73980.0</td>\n",
       "      <td>372265.0</td>\n",
       "      <td>415146.0</td>\n",
       "      <td>60148.0</td>\n",
       "      <td>17266.0</td>\n",
       "    </tr>\n",
       "    <tr>\n",
       "      <th>2006-08-01</th>\n",
       "      <td>394609.0</td>\n",
       "      <td>45161.0</td>\n",
       "      <td>135988.0</td>\n",
       "      <td>21250.0</td>\n",
       "      <td>73244.0</td>\n",
       "      <td>23643.0</td>\n",
       "      <td>99330.0</td>\n",
       "      <td>24391.0</td>\n",
       "      <td>54618.0</td>\n",
       "      <td>32195.0</td>\n",
       "      <td>4758.0</td>\n",
       "      <td>57618.0</td>\n",
       "      <td>333815.0</td>\n",
       "      <td>374260.0</td>\n",
       "      <td>60795.0</td>\n",
       "      <td>20350.0</td>\n",
       "    </tr>\n",
       "    <tr>\n",
       "      <th>2006-08-08</th>\n",
       "      <td>402899.0</td>\n",
       "      <td>46203.0</td>\n",
       "      <td>142240.0</td>\n",
       "      <td>20703.0</td>\n",
       "      <td>72061.0</td>\n",
       "      <td>24259.0</td>\n",
       "      <td>104600.0</td>\n",
       "      <td>24271.0</td>\n",
       "      <td>57785.0</td>\n",
       "      <td>33123.0</td>\n",
       "      <td>6489.0</td>\n",
       "      <td>57914.0</td>\n",
       "      <td>344587.0</td>\n",
       "      <td>385020.0</td>\n",
       "      <td>58312.0</td>\n",
       "      <td>17880.0</td>\n",
       "    </tr>\n",
       "    <tr>\n",
       "      <th>2006-08-15</th>\n",
       "      <td>402702.0</td>\n",
       "      <td>46986.0</td>\n",
       "      <td>139790.0</td>\n",
       "      <td>20326.0</td>\n",
       "      <td>66040.0</td>\n",
       "      <td>25523.0</td>\n",
       "      <td>96966.0</td>\n",
       "      <td>24602.0</td>\n",
       "      <td>58658.0</td>\n",
       "      <td>33047.0</td>\n",
       "      <td>5839.0</td>\n",
       "      <td>56914.0</td>\n",
       "      <td>338420.0</td>\n",
       "      <td>377366.0</td>\n",
       "      <td>64282.0</td>\n",
       "      <td>25336.0</td>\n",
       "    </tr>\n",
       "  </tbody>\n",
       "</table>\n",
       "</div>"
      ],
      "text/plain": [
       "            Open Interest  Producer/Merchant/Processor/User Longs  \\\n",
       "Date                                                                \n",
       "2006-06-13       382474.0                                 42587.0   \n",
       "2006-06-20       390281.0                                 47440.0   \n",
       "2006-06-27       384321.0                                 48449.0   \n",
       "2006-07-03       392868.0                                 48087.0   \n",
       "2006-07-11       427008.0                                 54509.0   \n",
       "2006-07-18       443519.0                                 49863.0   \n",
       "2006-07-25       432413.0                                 52859.0   \n",
       "2006-08-01       394609.0                                 45161.0   \n",
       "2006-08-08       402899.0                                 46203.0   \n",
       "2006-08-15       402702.0                                 46986.0   \n",
       "\n",
       "            Producer/Merchant/Processor/User Shorts  Swap Dealer Longs  \\\n",
       "Date                                                                     \n",
       "2006-06-13                                 128892.0            19370.0   \n",
       "2006-06-20                                 126992.0            22404.0   \n",
       "2006-06-27                                 121890.0            22425.0   \n",
       "2006-07-03                                 122568.0            22720.0   \n",
       "2006-07-11                                 130618.0            21840.0   \n",
       "2006-07-18                                 131166.0            21681.0   \n",
       "2006-07-25                                 133290.0            22956.0   \n",
       "2006-08-01                                 135988.0            21250.0   \n",
       "2006-08-08                                 142240.0            20703.0   \n",
       "2006-08-15                                 139790.0            20326.0   \n",
       "\n",
       "            Swap Dealer Shorts  Swap Dealer Spreads  Money Manager Longs  \\\n",
       "Date                                                                       \n",
       "2006-06-13             66611.0              22998.0             103211.0   \n",
       "2006-06-20             64682.0              25806.0              94632.0   \n",
       "2006-06-27             62640.0              25151.0              91042.0   \n",
       "2006-07-03             69714.0              26352.0              92545.0   \n",
       "2006-07-11             79217.0              28805.0             104213.0   \n",
       "2006-07-18             83183.0              33352.0             107413.0   \n",
       "2006-07-25             85604.0              28832.0              99087.0   \n",
       "2006-08-01             73244.0              23643.0              99330.0   \n",
       "2006-08-08             72061.0              24259.0             104600.0   \n",
       "2006-08-15             66040.0              25523.0              96966.0   \n",
       "\n",
       "            Money Manager Shorts  Money Manager Spreads  \\\n",
       "Date                                                      \n",
       "2006-06-13               30916.0                46704.0   \n",
       "2006-06-20               30963.0                48730.0   \n",
       "2006-06-27               32287.0                49614.0   \n",
       "2006-07-03               30452.0                50821.0   \n",
       "2006-07-11               27624.0                54922.0   \n",
       "2006-07-18               24296.0                62395.0   \n",
       "2006-07-25               22386.0                64810.0   \n",
       "2006-08-01               24391.0                54618.0   \n",
       "2006-08-08               24271.0                57785.0   \n",
       "2006-08-15               24602.0                58658.0   \n",
       "\n",
       "            Other Reportable Longs  Other Reportable Shorts  \\\n",
       "Date                                                          \n",
       "2006-06-13                 33230.0                  10656.0   \n",
       "2006-06-20                 32947.0                  11142.0   \n",
       "2006-06-27                 31307.0                  11386.0   \n",
       "2006-07-03                 32874.0                   8677.0   \n",
       "2006-07-11                 33165.0                  11194.0   \n",
       "2006-07-18                 31760.0                   9442.0   \n",
       "2006-07-25                 29740.0                   6244.0   \n",
       "2006-08-01                 32195.0                   4758.0   \n",
       "2006-08-08                 33123.0                   6489.0   \n",
       "2006-08-15                 33047.0                   5839.0   \n",
       "\n",
       "            Other Reportable Spreads  Total Reportable Longs  \\\n",
       "Date                                                           \n",
       "2006-06-13                   58412.0                326513.0   \n",
       "2006-06-20                   64458.0                336417.0   \n",
       "2006-06-27                   59762.0                327749.0   \n",
       "2006-07-03                   63514.0                336914.0   \n",
       "2006-07-11                   70944.0                368398.0   \n",
       "2006-07-18                   74272.0                380737.0   \n",
       "2006-07-25                   73980.0                372265.0   \n",
       "2006-08-01                   57618.0                333815.0   \n",
       "2006-08-08                   57914.0                344587.0   \n",
       "2006-08-15                   56914.0                338420.0   \n",
       "\n",
       "            Total Reportable Shorts  Non Reportable Longs  \\\n",
       "Date                                                        \n",
       "2006-06-13                 365190.0               55961.0   \n",
       "2006-06-20                 372774.0               53864.0   \n",
       "2006-06-27                 362729.0               56572.0   \n",
       "2006-07-03                 372098.0               55955.0   \n",
       "2006-07-11                 403323.0               58611.0   \n",
       "2006-07-18                 418105.0               62782.0   \n",
       "2006-07-25                 415146.0               60148.0   \n",
       "2006-08-01                 374260.0               60795.0   \n",
       "2006-08-08                 385020.0               58312.0   \n",
       "2006-08-15                 377366.0               64282.0   \n",
       "\n",
       "            Non Reportable Shorts  \n",
       "Date                               \n",
       "2006-06-13                17284.0  \n",
       "2006-06-20                17507.0  \n",
       "2006-06-27                21592.0  \n",
       "2006-07-03                20771.0  \n",
       "2006-07-11                23685.0  \n",
       "2006-07-18                25414.0  \n",
       "2006-07-25                17266.0  \n",
       "2006-08-01                20350.0  \n",
       "2006-08-08                17880.0  \n",
       "2006-08-15                25336.0  "
      ]
     },
     "execution_count": 5,
     "metadata": {},
     "output_type": "execute_result"
    }
   ],
   "source": [
    "gold_cot.head(10)"
   ]
  },
  {
   "cell_type": "code",
   "execution_count": 6,
   "metadata": {},
   "outputs": [],
   "source": [
    "def percentage_from_max(sr):\n",
    "    mx = sr.max()\n",
    "    mn = sr.min()\n",
    "    return (sr[-1]-mn)/(mx-mn)\n",
    "\n",
    "def max_positions_percentage(df):\n",
    "    df['Prod_net_position'] = df['Producer/Merchant/Processor/User Longs'] - df['Producer/Merchant/Processor/User Shorts']\n",
    "    df['Prod_net_position_perc'] = df.rolling('730d')['Prod_net_position'].apply(percentage_from_max, raw=False)\n",
    "    df['Money_manager_net_position'] = df['Money Manager Longs'] - df['Money Manager Shorts']\n",
    "    df['Money_manager_net_position_perc'] = df.rolling('730d')['Money_manager_net_position'].apply(percentage_from_max, raw=False)\n",
    "    df = df[['Prod_net_position_perc', 'Money_manager_net_position_perc']]\n",
    "    return df"
   ]
  },
  {
   "cell_type": "code",
   "execution_count": 7,
   "metadata": {},
   "outputs": [],
   "source": [
    "gold_cot = max_positions_percentage(gold_cot)\n",
    "corn_cot = max_positions_percentage(corn_cot)\n",
    "coffee_cot = max_positions_percentage(coffee_cot)"
   ]
  },
  {
   "cell_type": "code",
   "execution_count": 8,
   "metadata": {},
   "outputs": [],
   "source": [
    "# code from stockstats pypy package\n",
    "def get_wr(df, n_days):\n",
    "    \"\"\" Williams Overbought/Oversold Index\n",
    "    WMS=[(Hn—Ct)/(Hn—Ln)] ×100\n",
    "    Ct - the close price\n",
    "    Hn - N days high\n",
    "    Ln - N days low\n",
    "    :param df: data\n",
    "    :param n_days: N days\n",
    "    :return: None\n",
    "    \"\"\"\n",
    "    n_days = int(n_days)\n",
    "    ln = df['Low'].rolling(min_periods=1, window=n_days,\n",
    "                           center=False).min()\n",
    "    hn = df['High'].rolling(min_periods=1, window=n_days,\n",
    "                            center=False).max()\n",
    "    column_name = 'wr_{}'.format(n_days)\n",
    "    column_name = 'wr'\n",
    "    df[column_name] = (hn - df['Settle']) / (hn - ln) * 100"
   ]
  },
  {
   "cell_type": "code",
   "execution_count": 9,
   "metadata": {},
   "outputs": [],
   "source": [
    "def calculate_target(row):\n",
    "    global fee, delta, stop_loss, treshold\n",
    "    volatility = (row['Settle']-row['Open'])*delta\n",
    "    if abs(volatility) > fee + treshold:\n",
    "        if volatility > 0:\n",
    "            return 1\n",
    "        else:\n",
    "            return -1\n",
    "    else:\n",
    "        return 0\n",
    "    return df\n",
    "\n",
    "\n",
    "def create_trade_outcomes(df, contracts, treshold):\n",
    "    ans_df = pd.DataFrame([])\n",
    "    ans_df['gains'] = (df['Settle'] - df['Open'])*0.95*contracts\n",
    "    ans_df = pd.concat([ans_df, df[['Open', 'High', 'Low', 'Settle']]*contracts], axis=1)\n",
    "    ans_df['target'] = ans_df.apply(calculate_target, axis=1)\n",
    "    print(ans_df.head(5))\n",
    "    return ans_df.shift(-1)"
   ]
  },
  {
   "cell_type": "code",
   "execution_count": 10,
   "metadata": {},
   "outputs": [
    {
     "name": "stdout",
     "output_type": "stream",
     "text": [
      "             gains     Open     High      Low   Settle  target\n",
      "Date                                                          \n",
      "2006-06-13 -2251.5  59050.0  59500.0  56550.0  56680.0      -1\n",
      "2006-06-14  -332.5  57000.0  57550.0  56540.0  56650.0       0\n",
      "2006-06-15  -304.0  57350.0  57950.0  56950.0  57030.0       0\n",
      "2006-06-16    47.5  58120.0  58250.0  57050.0  58170.0       0\n",
      "2006-06-19   -38.0  57280.0  57840.0  57100.0  57240.0       0\n"
     ]
    },
    {
     "data": {
      "text/html": [
       "<div>\n",
       "<style scoped>\n",
       "    .dataframe tbody tr th:only-of-type {\n",
       "        vertical-align: middle;\n",
       "    }\n",
       "\n",
       "    .dataframe tbody tr th {\n",
       "        vertical-align: top;\n",
       "    }\n",
       "\n",
       "    .dataframe thead th {\n",
       "        text-align: right;\n",
       "    }\n",
       "</style>\n",
       "<table border=\"1\" class=\"dataframe\">\n",
       "  <thead>\n",
       "    <tr style=\"text-align: right;\">\n",
       "      <th></th>\n",
       "      <th>gains</th>\n",
       "      <th>Open</th>\n",
       "      <th>High</th>\n",
       "      <th>Low</th>\n",
       "      <th>Settle</th>\n",
       "      <th>target</th>\n",
       "    </tr>\n",
       "    <tr>\n",
       "      <th>Date</th>\n",
       "      <th></th>\n",
       "      <th></th>\n",
       "      <th></th>\n",
       "      <th></th>\n",
       "      <th></th>\n",
       "      <th></th>\n",
       "    </tr>\n",
       "  </thead>\n",
       "  <tbody>\n",
       "    <tr>\n",
       "      <th>2006-06-13</th>\n",
       "      <td>-332.5</td>\n",
       "      <td>57000.0</td>\n",
       "      <td>57550.0</td>\n",
       "      <td>56540.0</td>\n",
       "      <td>56650.0</td>\n",
       "      <td>0.0</td>\n",
       "    </tr>\n",
       "    <tr>\n",
       "      <th>2006-06-14</th>\n",
       "      <td>-304.0</td>\n",
       "      <td>57350.0</td>\n",
       "      <td>57950.0</td>\n",
       "      <td>56950.0</td>\n",
       "      <td>57030.0</td>\n",
       "      <td>0.0</td>\n",
       "    </tr>\n",
       "    <tr>\n",
       "      <th>2006-06-15</th>\n",
       "      <td>47.5</td>\n",
       "      <td>58120.0</td>\n",
       "      <td>58250.0</td>\n",
       "      <td>57050.0</td>\n",
       "      <td>58170.0</td>\n",
       "      <td>0.0</td>\n",
       "    </tr>\n",
       "    <tr>\n",
       "      <th>2006-06-16</th>\n",
       "      <td>-38.0</td>\n",
       "      <td>57280.0</td>\n",
       "      <td>57840.0</td>\n",
       "      <td>57100.0</td>\n",
       "      <td>57240.0</td>\n",
       "      <td>0.0</td>\n",
       "    </tr>\n",
       "    <tr>\n",
       "      <th>2006-06-19</th>\n",
       "      <td>807.5</td>\n",
       "      <td>57200.0</td>\n",
       "      <td>58100.0</td>\n",
       "      <td>56780.0</td>\n",
       "      <td>58050.0</td>\n",
       "      <td>1.0</td>\n",
       "    </tr>\n",
       "    <tr>\n",
       "      <th>2006-06-20</th>\n",
       "      <td>1330.0</td>\n",
       "      <td>57700.0</td>\n",
       "      <td>59150.0</td>\n",
       "      <td>57350.0</td>\n",
       "      <td>59100.0</td>\n",
       "      <td>1.0</td>\n",
       "    </tr>\n",
       "    <tr>\n",
       "      <th>2006-06-21</th>\n",
       "      <td>-247.0</td>\n",
       "      <td>58800.0</td>\n",
       "      <td>59350.0</td>\n",
       "      <td>58450.0</td>\n",
       "      <td>58540.0</td>\n",
       "      <td>0.0</td>\n",
       "    </tr>\n",
       "    <tr>\n",
       "      <th>2006-06-22</th>\n",
       "      <td>1282.5</td>\n",
       "      <td>57450.0</td>\n",
       "      <td>58900.0</td>\n",
       "      <td>57450.0</td>\n",
       "      <td>58800.0</td>\n",
       "      <td>1.0</td>\n",
       "    </tr>\n",
       "    <tr>\n",
       "      <th>2006-06-23</th>\n",
       "      <td>142.5</td>\n",
       "      <td>58620.0</td>\n",
       "      <td>58950.0</td>\n",
       "      <td>58000.0</td>\n",
       "      <td>58770.0</td>\n",
       "      <td>0.0</td>\n",
       "    </tr>\n",
       "    <tr>\n",
       "      <th>2006-06-26</th>\n",
       "      <td>-484.5</td>\n",
       "      <td>58950.0</td>\n",
       "      <td>59900.0</td>\n",
       "      <td>58370.0</td>\n",
       "      <td>58440.0</td>\n",
       "      <td>0.0</td>\n",
       "    </tr>\n",
       "    <tr>\n",
       "      <th>2006-06-27</th>\n",
       "      <td>-570.0</td>\n",
       "      <td>58700.0</td>\n",
       "      <td>58940.0</td>\n",
       "      <td>57910.0</td>\n",
       "      <td>58100.0</td>\n",
       "      <td>-1.0</td>\n",
       "    </tr>\n",
       "    <tr>\n",
       "      <th>2006-06-28</th>\n",
       "      <td>465.5</td>\n",
       "      <td>58400.0</td>\n",
       "      <td>59490.0</td>\n",
       "      <td>58400.0</td>\n",
       "      <td>58890.0</td>\n",
       "      <td>0.0</td>\n",
       "    </tr>\n",
       "    <tr>\n",
       "      <th>2006-06-29</th>\n",
       "      <td>1330.0</td>\n",
       "      <td>60200.0</td>\n",
       "      <td>61800.0</td>\n",
       "      <td>60200.0</td>\n",
       "      <td>61600.0</td>\n",
       "      <td>1.0</td>\n",
       "    </tr>\n",
       "    <tr>\n",
       "      <th>2006-06-30</th>\n",
       "      <td>-28.5</td>\n",
       "      <td>63000.0</td>\n",
       "      <td>63190.0</td>\n",
       "      <td>61950.0</td>\n",
       "      <td>62970.0</td>\n",
       "      <td>0.0</td>\n",
       "    </tr>\n",
       "    <tr>\n",
       "      <th>2006-07-05</th>\n",
       "      <td>978.5</td>\n",
       "      <td>62600.0</td>\n",
       "      <td>63700.0</td>\n",
       "      <td>62580.0</td>\n",
       "      <td>63630.0</td>\n",
       "      <td>1.0</td>\n",
       "    </tr>\n",
       "    <tr>\n",
       "      <th>2006-07-06</th>\n",
       "      <td>123.5</td>\n",
       "      <td>63350.0</td>\n",
       "      <td>63950.0</td>\n",
       "      <td>62950.0</td>\n",
       "      <td>63480.0</td>\n",
       "      <td>0.0</td>\n",
       "    </tr>\n",
       "    <tr>\n",
       "      <th>2006-07-07</th>\n",
       "      <td>161.5</td>\n",
       "      <td>62440.0</td>\n",
       "      <td>63000.0</td>\n",
       "      <td>62190.0</td>\n",
       "      <td>62610.0</td>\n",
       "      <td>0.0</td>\n",
       "    </tr>\n",
       "    <tr>\n",
       "      <th>2006-07-10</th>\n",
       "      <td>978.5</td>\n",
       "      <td>63280.0</td>\n",
       "      <td>64390.0</td>\n",
       "      <td>63180.0</td>\n",
       "      <td>64310.0</td>\n",
       "      <td>1.0</td>\n",
       "    </tr>\n",
       "    <tr>\n",
       "      <th>2006-07-11</th>\n",
       "      <td>351.5</td>\n",
       "      <td>64750.0</td>\n",
       "      <td>65700.0</td>\n",
       "      <td>64310.0</td>\n",
       "      <td>65120.0</td>\n",
       "      <td>0.0</td>\n",
       "    </tr>\n",
       "    <tr>\n",
       "      <th>2006-07-12</th>\n",
       "      <td>323.0</td>\n",
       "      <td>65100.0</td>\n",
       "      <td>65650.0</td>\n",
       "      <td>64650.0</td>\n",
       "      <td>65440.0</td>\n",
       "      <td>0.0</td>\n",
       "    </tr>\n",
       "  </tbody>\n",
       "</table>\n",
       "</div>"
      ],
      "text/plain": [
       "             gains     Open     High      Low   Settle  target\n",
       "Date                                                          \n",
       "2006-06-13  -332.5  57000.0  57550.0  56540.0  56650.0     0.0\n",
       "2006-06-14  -304.0  57350.0  57950.0  56950.0  57030.0     0.0\n",
       "2006-06-15    47.5  58120.0  58250.0  57050.0  58170.0     0.0\n",
       "2006-06-16   -38.0  57280.0  57840.0  57100.0  57240.0     0.0\n",
       "2006-06-19   807.5  57200.0  58100.0  56780.0  58050.0     1.0\n",
       "2006-06-20  1330.0  57700.0  59150.0  57350.0  59100.0     1.0\n",
       "2006-06-21  -247.0  58800.0  59350.0  58450.0  58540.0     0.0\n",
       "2006-06-22  1282.5  57450.0  58900.0  57450.0  58800.0     1.0\n",
       "2006-06-23   142.5  58620.0  58950.0  58000.0  58770.0     0.0\n",
       "2006-06-26  -484.5  58950.0  59900.0  58370.0  58440.0     0.0\n",
       "2006-06-27  -570.0  58700.0  58940.0  57910.0  58100.0    -1.0\n",
       "2006-06-28   465.5  58400.0  59490.0  58400.0  58890.0     0.0\n",
       "2006-06-29  1330.0  60200.0  61800.0  60200.0  61600.0     1.0\n",
       "2006-06-30   -28.5  63000.0  63190.0  61950.0  62970.0     0.0\n",
       "2006-07-05   978.5  62600.0  63700.0  62580.0  63630.0     1.0\n",
       "2006-07-06   123.5  63350.0  63950.0  62950.0  63480.0     0.0\n",
       "2006-07-07   161.5  62440.0  63000.0  62190.0  62610.0     0.0\n",
       "2006-07-10   978.5  63280.0  64390.0  63180.0  64310.0     1.0\n",
       "2006-07-11   351.5  64750.0  65700.0  64310.0  65120.0     0.0\n",
       "2006-07-12   323.0  65100.0  65650.0  64650.0  65440.0     0.0"
      ]
     },
     "execution_count": 10,
     "metadata": {},
     "output_type": "execute_result"
    }
   ],
   "source": [
    "treshold = 500\n",
    "contracts = 100\n",
    "gold_gains = create_trade_outcomes(gold, contracts, treshold)\n",
    "gold_gains.head(20)"
   ]
  },
  {
   "cell_type": "code",
   "execution_count": 11,
   "metadata": {
    "scrolled": false
   },
   "outputs": [
    {
     "data": {
      "text/html": [
       "<div>\n",
       "<style scoped>\n",
       "    .dataframe tbody tr th:only-of-type {\n",
       "        vertical-align: middle;\n",
       "    }\n",
       "\n",
       "    .dataframe tbody tr th {\n",
       "        vertical-align: top;\n",
       "    }\n",
       "\n",
       "    .dataframe thead th {\n",
       "        text-align: right;\n",
       "    }\n",
       "</style>\n",
       "<table border=\"1\" class=\"dataframe\">\n",
       "  <thead>\n",
       "    <tr style=\"text-align: right;\">\n",
       "      <th></th>\n",
       "      <th>Open</th>\n",
       "      <th>High</th>\n",
       "      <th>Low</th>\n",
       "      <th>Settle</th>\n",
       "      <th>Volume</th>\n",
       "      <th>Prev. Day Open Interest</th>\n",
       "      <th>wr</th>\n",
       "      <th>target</th>\n",
       "    </tr>\n",
       "    <tr>\n",
       "      <th>Date</th>\n",
       "      <th></th>\n",
       "      <th></th>\n",
       "      <th></th>\n",
       "      <th></th>\n",
       "      <th></th>\n",
       "      <th></th>\n",
       "      <th></th>\n",
       "      <th></th>\n",
       "    </tr>\n",
       "  </thead>\n",
       "  <tbody>\n",
       "    <tr>\n",
       "      <th>2006-06-13</th>\n",
       "      <td>590.5</td>\n",
       "      <td>595.0</td>\n",
       "      <td>565.5</td>\n",
       "      <td>566.8</td>\n",
       "      <td>93899.0</td>\n",
       "      <td>192616.0</td>\n",
       "      <td>95.593220</td>\n",
       "      <td>0.0</td>\n",
       "    </tr>\n",
       "    <tr>\n",
       "      <th>2006-06-14</th>\n",
       "      <td>570.0</td>\n",
       "      <td>575.5</td>\n",
       "      <td>565.4</td>\n",
       "      <td>566.5</td>\n",
       "      <td>68729.0</td>\n",
       "      <td>192917.0</td>\n",
       "      <td>96.283784</td>\n",
       "      <td>0.0</td>\n",
       "    </tr>\n",
       "    <tr>\n",
       "      <th>2006-06-15</th>\n",
       "      <td>573.5</td>\n",
       "      <td>579.5</td>\n",
       "      <td>569.5</td>\n",
       "      <td>570.3</td>\n",
       "      <td>52628.0</td>\n",
       "      <td>193887.0</td>\n",
       "      <td>83.445946</td>\n",
       "      <td>0.0</td>\n",
       "    </tr>\n",
       "    <tr>\n",
       "      <th>2006-06-16</th>\n",
       "      <td>581.2</td>\n",
       "      <td>582.5</td>\n",
       "      <td>570.5</td>\n",
       "      <td>581.7</td>\n",
       "      <td>43947.0</td>\n",
       "      <td>189585.0</td>\n",
       "      <td>44.932432</td>\n",
       "      <td>0.0</td>\n",
       "    </tr>\n",
       "    <tr>\n",
       "      <th>2006-06-19</th>\n",
       "      <td>572.8</td>\n",
       "      <td>578.4</td>\n",
       "      <td>571.0</td>\n",
       "      <td>572.4</td>\n",
       "      <td>27362.0</td>\n",
       "      <td>189168.0</td>\n",
       "      <td>76.351351</td>\n",
       "      <td>1.0</td>\n",
       "    </tr>\n",
       "    <tr>\n",
       "      <th>2006-06-20</th>\n",
       "      <td>572.0</td>\n",
       "      <td>581.0</td>\n",
       "      <td>567.8</td>\n",
       "      <td>580.5</td>\n",
       "      <td>39962.0</td>\n",
       "      <td>187696.0</td>\n",
       "      <td>48.986486</td>\n",
       "      <td>1.0</td>\n",
       "    </tr>\n",
       "    <tr>\n",
       "      <th>2006-06-21</th>\n",
       "      <td>577.0</td>\n",
       "      <td>591.5</td>\n",
       "      <td>573.5</td>\n",
       "      <td>591.0</td>\n",
       "      <td>43918.0</td>\n",
       "      <td>187072.0</td>\n",
       "      <td>13.513514</td>\n",
       "      <td>0.0</td>\n",
       "    </tr>\n",
       "    <tr>\n",
       "      <th>2006-06-22</th>\n",
       "      <td>588.0</td>\n",
       "      <td>593.5</td>\n",
       "      <td>584.5</td>\n",
       "      <td>585.4</td>\n",
       "      <td>42916.0</td>\n",
       "      <td>187027.0</td>\n",
       "      <td>32.432432</td>\n",
       "      <td>1.0</td>\n",
       "    </tr>\n",
       "    <tr>\n",
       "      <th>2006-06-23</th>\n",
       "      <td>574.5</td>\n",
       "      <td>589.0</td>\n",
       "      <td>574.5</td>\n",
       "      <td>588.0</td>\n",
       "      <td>33705.0</td>\n",
       "      <td>181290.0</td>\n",
       "      <td>23.648649</td>\n",
       "      <td>0.0</td>\n",
       "    </tr>\n",
       "    <tr>\n",
       "      <th>2006-06-26</th>\n",
       "      <td>586.2</td>\n",
       "      <td>589.5</td>\n",
       "      <td>580.0</td>\n",
       "      <td>587.7</td>\n",
       "      <td>30510.0</td>\n",
       "      <td>181460.0</td>\n",
       "      <td>24.662162</td>\n",
       "      <td>0.0</td>\n",
       "    </tr>\n",
       "    <tr>\n",
       "      <th>2006-06-27</th>\n",
       "      <td>589.5</td>\n",
       "      <td>599.0</td>\n",
       "      <td>583.7</td>\n",
       "      <td>584.4</td>\n",
       "      <td>47778.0</td>\n",
       "      <td>182310.0</td>\n",
       "      <td>43.452381</td>\n",
       "      <td>-1.0</td>\n",
       "    </tr>\n",
       "    <tr>\n",
       "      <th>2006-06-28</th>\n",
       "      <td>587.0</td>\n",
       "      <td>589.4</td>\n",
       "      <td>579.1</td>\n",
       "      <td>581.0</td>\n",
       "      <td>34318.0</td>\n",
       "      <td>181754.0</td>\n",
       "      <td>53.571429</td>\n",
       "      <td>0.0</td>\n",
       "    </tr>\n",
       "    <tr>\n",
       "      <th>2006-06-29</th>\n",
       "      <td>584.0</td>\n",
       "      <td>594.9</td>\n",
       "      <td>584.0</td>\n",
       "      <td>588.9</td>\n",
       "      <td>37714.0</td>\n",
       "      <td>172121.0</td>\n",
       "      <td>30.059524</td>\n",
       "      <td>1.0</td>\n",
       "    </tr>\n",
       "    <tr>\n",
       "      <th>2006-06-30</th>\n",
       "      <td>602.0</td>\n",
       "      <td>618.0</td>\n",
       "      <td>602.0</td>\n",
       "      <td>616.0</td>\n",
       "      <td>58020.0</td>\n",
       "      <td>171371.0</td>\n",
       "      <td>3.802281</td>\n",
       "      <td>0.0</td>\n",
       "    </tr>\n",
       "    <tr>\n",
       "      <th>2006-07-05</th>\n",
       "      <td>630.0</td>\n",
       "      <td>631.9</td>\n",
       "      <td>619.5</td>\n",
       "      <td>629.7</td>\n",
       "      <td>46706.0</td>\n",
       "      <td>173572.0</td>\n",
       "      <td>3.308271</td>\n",
       "      <td>1.0</td>\n",
       "    </tr>\n",
       "  </tbody>\n",
       "</table>\n",
       "</div>"
      ],
      "text/plain": [
       "             Open   High    Low  Settle   Volume  Prev. Day Open Interest  \\\n",
       "Date                                                                        \n",
       "2006-06-13  590.5  595.0  565.5   566.8  93899.0                 192616.0   \n",
       "2006-06-14  570.0  575.5  565.4   566.5  68729.0                 192917.0   \n",
       "2006-06-15  573.5  579.5  569.5   570.3  52628.0                 193887.0   \n",
       "2006-06-16  581.2  582.5  570.5   581.7  43947.0                 189585.0   \n",
       "2006-06-19  572.8  578.4  571.0   572.4  27362.0                 189168.0   \n",
       "2006-06-20  572.0  581.0  567.8   580.5  39962.0                 187696.0   \n",
       "2006-06-21  577.0  591.5  573.5   591.0  43918.0                 187072.0   \n",
       "2006-06-22  588.0  593.5  584.5   585.4  42916.0                 187027.0   \n",
       "2006-06-23  574.5  589.0  574.5   588.0  33705.0                 181290.0   \n",
       "2006-06-26  586.2  589.5  580.0   587.7  30510.0                 181460.0   \n",
       "2006-06-27  589.5  599.0  583.7   584.4  47778.0                 182310.0   \n",
       "2006-06-28  587.0  589.4  579.1   581.0  34318.0                 181754.0   \n",
       "2006-06-29  584.0  594.9  584.0   588.9  37714.0                 172121.0   \n",
       "2006-06-30  602.0  618.0  602.0   616.0  58020.0                 171371.0   \n",
       "2006-07-05  630.0  631.9  619.5   629.7  46706.0                 173572.0   \n",
       "\n",
       "                   wr  target  \n",
       "Date                           \n",
       "2006-06-13  95.593220     0.0  \n",
       "2006-06-14  96.283784     0.0  \n",
       "2006-06-15  83.445946     0.0  \n",
       "2006-06-16  44.932432     0.0  \n",
       "2006-06-19  76.351351     1.0  \n",
       "2006-06-20  48.986486     1.0  \n",
       "2006-06-21  13.513514     0.0  \n",
       "2006-06-22  32.432432     1.0  \n",
       "2006-06-23  23.648649     0.0  \n",
       "2006-06-26  24.662162     0.0  \n",
       "2006-06-27  43.452381    -1.0  \n",
       "2006-06-28  53.571429     0.0  \n",
       "2006-06-29  30.059524     1.0  \n",
       "2006-06-30   3.802281     0.0  \n",
       "2006-07-05   3.308271     1.0  "
      ]
     },
     "execution_count": 11,
     "metadata": {},
     "output_type": "execute_result"
    }
   ],
   "source": [
    "get_wr(gold, 14)\n",
    "gold = pd.concat([gold, gold_gains[['target']]], axis=1)\n",
    "gold.head(15)"
   ]
  },
  {
   "cell_type": "code",
   "execution_count": 12,
   "metadata": {},
   "outputs": [
    {
     "data": {
      "text/plain": [
       "<matplotlib.axes._subplots.AxesSubplot at 0x7ff9424d9470>"
      ]
     },
     "execution_count": 12,
     "metadata": {},
     "output_type": "execute_result"
    },
    {
     "data": {
      "image/png": "[encoded data removed]",
      "text/plain": [
       "<Figure size 432x288 with 1 Axes>"
      ]
     },
     "metadata": {
      "needs_background": "light"
     },
     "output_type": "display_data"
    }
   ],
   "source": [
    "gold['target'].hist()"
   ]
  },
  {
   "cell_type": "code",
   "execution_count": 13,
   "metadata": {},
   "outputs": [
    {
     "data": {
      "text/plain": [
       "count     3167.000000\n",
       "mean        -8.564099\n",
       "std       1195.752197\n",
       "min     -11390.500000\n",
       "25%       -551.000000\n",
       "50%         19.000000\n",
       "75%        598.500000\n",
       "max       6555.000000\n",
       "Name: gains, dtype: float64"
      ]
     },
     "execution_count": 13,
     "metadata": {},
     "output_type": "execute_result"
    }
   ],
   "source": [
    "gold_gains.gains.describe()"
   ]
  },
  {
   "cell_type": "code",
   "execution_count": 14,
   "metadata": {},
   "outputs": [
    {
     "data": {
      "text/plain": [
       "<matplotlib.axes._subplots.AxesSubplot at 0x7ff94215f128>"
      ]
     },
     "execution_count": 14,
     "metadata": {},
     "output_type": "execute_result"
    },
    {
     "data": {
      "image/png": "[encoded data removed]",
      "text/plain": [
       "<Figure size 432x288 with 1 Axes>"
      ]
     },
     "metadata": {
      "needs_background": "light"
     },
     "output_type": "display_data"
    }
   ],
   "source": [
    "gold_gains[['gains']].plot.hist(bins=80)"
   ]
  },
  {
   "cell_type": "code",
   "execution_count": 15,
   "metadata": {},
   "outputs": [
    {
     "data": {
      "text/html": [
       "<div>\n",
       "<style scoped>\n",
       "    .dataframe tbody tr th:only-of-type {\n",
       "        vertical-align: middle;\n",
       "    }\n",
       "\n",
       "    .dataframe tbody tr th {\n",
       "        vertical-align: top;\n",
       "    }\n",
       "\n",
       "    .dataframe thead th {\n",
       "        text-align: right;\n",
       "    }\n",
       "</style>\n",
       "<table border=\"1\" class=\"dataframe\">\n",
       "  <thead>\n",
       "    <tr style=\"text-align: right;\">\n",
       "      <th></th>\n",
       "      <th>gains</th>\n",
       "      <th>Open</th>\n",
       "      <th>High</th>\n",
       "      <th>Low</th>\n",
       "      <th>Settle</th>\n",
       "      <th>target</th>\n",
       "    </tr>\n",
       "    <tr>\n",
       "      <th>Date</th>\n",
       "      <th></th>\n",
       "      <th></th>\n",
       "      <th></th>\n",
       "      <th></th>\n",
       "      <th></th>\n",
       "      <th></th>\n",
       "    </tr>\n",
       "  </thead>\n",
       "  <tbody>\n",
       "    <tr>\n",
       "      <th>2006-06-13</th>\n",
       "      <td>-332.5</td>\n",
       "      <td>57000.0</td>\n",
       "      <td>57550.0</td>\n",
       "      <td>56540.0</td>\n",
       "      <td>56650.0</td>\n",
       "      <td>0.0</td>\n",
       "    </tr>\n",
       "    <tr>\n",
       "      <th>2006-06-14</th>\n",
       "      <td>-304.0</td>\n",
       "      <td>57350.0</td>\n",
       "      <td>57950.0</td>\n",
       "      <td>56950.0</td>\n",
       "      <td>57030.0</td>\n",
       "      <td>0.0</td>\n",
       "    </tr>\n",
       "    <tr>\n",
       "      <th>2006-06-15</th>\n",
       "      <td>47.5</td>\n",
       "      <td>58120.0</td>\n",
       "      <td>58250.0</td>\n",
       "      <td>57050.0</td>\n",
       "      <td>58170.0</td>\n",
       "      <td>0.0</td>\n",
       "    </tr>\n",
       "    <tr>\n",
       "      <th>2006-06-16</th>\n",
       "      <td>-38.0</td>\n",
       "      <td>57280.0</td>\n",
       "      <td>57840.0</td>\n",
       "      <td>57100.0</td>\n",
       "      <td>57240.0</td>\n",
       "      <td>0.0</td>\n",
       "    </tr>\n",
       "    <tr>\n",
       "      <th>2006-06-19</th>\n",
       "      <td>807.5</td>\n",
       "      <td>57200.0</td>\n",
       "      <td>58100.0</td>\n",
       "      <td>56780.0</td>\n",
       "      <td>58050.0</td>\n",
       "      <td>1.0</td>\n",
       "    </tr>\n",
       "  </tbody>\n",
       "</table>\n",
       "</div>"
      ],
      "text/plain": [
       "            gains     Open     High      Low   Settle  target\n",
       "Date                                                         \n",
       "2006-06-13 -332.5  57000.0  57550.0  56540.0  56650.0     0.0\n",
       "2006-06-14 -304.0  57350.0  57950.0  56950.0  57030.0     0.0\n",
       "2006-06-15   47.5  58120.0  58250.0  57050.0  58170.0     0.0\n",
       "2006-06-16  -38.0  57280.0  57840.0  57100.0  57240.0     0.0\n",
       "2006-06-19  807.5  57200.0  58100.0  56780.0  58050.0     1.0"
      ]
     },
     "execution_count": 15,
     "metadata": {},
     "output_type": "execute_result"
    }
   ],
   "source": [
    "gold_gains.head(5)"
   ]
  },
  {
   "cell_type": "code",
   "execution_count": 16,
   "metadata": {},
   "outputs": [],
   "source": [
    "def stop_loss_gen(df):\n",
    "    df['Open_High'] = df['High'] - df['Open']\n",
    "    df['Open_Low'] = df['Open'] - df['Low']\n",
    "    return df"
   ]
  },
  {
   "cell_type": "code",
   "execution_count": 17,
   "metadata": {},
   "outputs": [],
   "source": [
    "gold_gains = stop_loss_gen(gold_gains)"
   ]
  },
  {
   "cell_type": "code",
   "execution_count": 18,
   "metadata": {},
   "outputs": [],
   "source": [
    "def plot_histogram_cumsum(df, column):\n",
    "    df[column].hist(bins=50, density=True, cumulative=-1, figsize=(10,5))\n",
    "    df[column].hist(bins=50, density=True, linewidth=1.5, cumulative=True, histtype='step', figsize=(10,5))\n",
    "    plt.plot([0, df[column].max()], [0.9, 0.9], lw=1, color='r')"
   ]
  },
  {
   "cell_type": "code",
   "execution_count": 19,
   "metadata": {},
   "outputs": [
    {
     "data": {
      "image/png": "[encoded data removed]",
      "text/plain": [
       "<Figure size 720x360 with 1 Axes>"
      ]
     },
     "metadata": {
      "needs_background": "light"
     },
     "output_type": "display_data"
    }
   ],
   "source": [
    "plot_histogram_cumsum(gold_gains[gold_gains.target == 1], 'Open_Low')"
   ]
  },
  {
   "cell_type": "code",
   "execution_count": 20,
   "metadata": {},
   "outputs": [
    {
     "data": {
      "text/plain": [
       "count     911.000000\n",
       "mean      461.811196\n",
       "std       530.372989\n",
       "min         0.000000\n",
       "25%       130.000000\n",
       "50%       300.000000\n",
       "75%       620.000000\n",
       "max      4760.000000\n",
       "Name: Open_Low, dtype: float64"
      ]
     },
     "execution_count": 20,
     "metadata": {},
     "output_type": "execute_result"
    }
   ],
   "source": [
    "gold_gains[gold_gains.target == 1].Open_Low.describe()"
   ]
  },
  {
   "cell_type": "code",
   "execution_count": 21,
   "metadata": {},
   "outputs": [
    {
     "data": {
      "text/plain": [
       "count     853.000000\n",
       "mean      416.951934\n",
       "std       431.003408\n",
       "min         0.000000\n",
       "25%       140.000000\n",
       "50%       310.000000\n",
       "75%       560.000000\n",
       "max      4380.000000\n",
       "Name: Open_High, dtype: float64"
      ]
     },
     "execution_count": 21,
     "metadata": {},
     "output_type": "execute_result"
    }
   ],
   "source": [
    "gold_gains[gold_gains.target == -1].Open_High.describe()"
   ]
  },
  {
   "cell_type": "code",
   "execution_count": 22,
   "metadata": {},
   "outputs": [
    {
     "data": {
      "image/png": "[encoded data removed]",
      "text/plain": [
       "<Figure size 720x360 with 1 Axes>"
      ]
     },
     "metadata": {
      "needs_background": "light"
     },
     "output_type": "display_data"
    }
   ],
   "source": [
    "plot_histogram_cumsum(gold_gains[gold_gains.target == -1], 'Open_High')"
   ]
  },
  {
   "cell_type": "code",
   "execution_count": 23,
   "metadata": {},
   "outputs": [
    {
     "name": "stderr",
     "output_type": "stream",
     "text": [
      "/home/martin/anaconda3/lib/python3.7/site-packages/ipykernel_launcher.py:1: UserWarning: Boolean Series key will be reindexed to match DataFrame index.\n",
      "  \"\"\"Entry point for launching an IPython kernel.\n",
      "/home/martin/anaconda3/lib/python3.7/site-packages/scipy/stats/stats.py:1713: FutureWarning: Using a non-tuple sequence for multidimensional indexing is deprecated; use `arr[tuple(seq)]` instead of `arr[seq]`. In the future this will be interpreted as an array index, `arr[np.array(seq)]`, which will result either in an error or a different result.\n",
      "  return np.add.reduce(sorted[indexer] * weights, axis=axis) / sumval\n"
     ]
    },
    {
     "data": {
      "text/plain": [
       "<matplotlib.axes._subplots.AxesSubplot at 0x7ff93edda0b8>"
      ]
     },
     "execution_count": 23,
     "metadata": {},
     "output_type": "execute_result"
    },
    {
     "data": {
      "image/png": "[encoded data removed]",
      "text/plain": [
       "<Figure size 1080x360 with 1 Axes>"
      ]
     },
     "metadata": {
      "needs_background": "light"
     },
     "output_type": "display_data"
    }
   ],
   "source": [
    "sr = gold_gains.loc[gold_gains.index < '2018-01-01'][gold_gains.gains.abs() > 300].gains\n",
    "fig, ax = plt.subplots(figsize=(15,5))\n",
    "sns.distplot(sr, bins=150, ax=ax)"
   ]
  },
  {
   "cell_type": "code",
   "execution_count": 24,
   "metadata": {},
   "outputs": [
    {
     "name": "stdout",
     "output_type": "stream",
     "text": [
      "              gains     Open     High      Low   Settle  target\n",
      "Date                                                           \n",
      "2006-06-13 -213.750  12387.5  12400.0  12112.5  12162.5      -1\n",
      "2006-06-14 -332.500  12200.0  12262.5  11837.5  11850.0      -1\n",
      "2006-06-15 -213.750  11875.0  11937.5  11600.0  11650.0      -1\n",
      "2006-06-16   71.250  12987.5  13137.5  12962.5  13062.5       0\n",
      "2006-06-19 -154.375  12950.0  13050.0  12750.0  12787.5      -1\n"
     ]
    },
    {
     "data": {
      "text/html": [
       "<div>\n",
       "<style scoped>\n",
       "    .dataframe tbody tr th:only-of-type {\n",
       "        vertical-align: middle;\n",
       "    }\n",
       "\n",
       "    .dataframe tbody tr th {\n",
       "        vertical-align: top;\n",
       "    }\n",
       "\n",
       "    .dataframe thead th {\n",
       "        text-align: right;\n",
       "    }\n",
       "</style>\n",
       "<table border=\"1\" class=\"dataframe\">\n",
       "  <thead>\n",
       "    <tr style=\"text-align: right;\">\n",
       "      <th></th>\n",
       "      <th>gains</th>\n",
       "      <th>Open</th>\n",
       "      <th>High</th>\n",
       "      <th>Low</th>\n",
       "      <th>Settle</th>\n",
       "      <th>target</th>\n",
       "    </tr>\n",
       "    <tr>\n",
       "      <th>Date</th>\n",
       "      <th></th>\n",
       "      <th></th>\n",
       "      <th></th>\n",
       "      <th></th>\n",
       "      <th></th>\n",
       "      <th></th>\n",
       "    </tr>\n",
       "  </thead>\n",
       "  <tbody>\n",
       "    <tr>\n",
       "      <th>2006-06-13</th>\n",
       "      <td>-332.500</td>\n",
       "      <td>12200.0</td>\n",
       "      <td>12262.5</td>\n",
       "      <td>11837.5</td>\n",
       "      <td>11850.0</td>\n",
       "      <td>-1.0</td>\n",
       "    </tr>\n",
       "    <tr>\n",
       "      <th>2006-06-14</th>\n",
       "      <td>-213.750</td>\n",
       "      <td>11875.0</td>\n",
       "      <td>11937.5</td>\n",
       "      <td>11600.0</td>\n",
       "      <td>11650.0</td>\n",
       "      <td>-1.0</td>\n",
       "    </tr>\n",
       "    <tr>\n",
       "      <th>2006-06-15</th>\n",
       "      <td>71.250</td>\n",
       "      <td>12987.5</td>\n",
       "      <td>13137.5</td>\n",
       "      <td>12962.5</td>\n",
       "      <td>13062.5</td>\n",
       "      <td>0.0</td>\n",
       "    </tr>\n",
       "    <tr>\n",
       "      <th>2006-06-16</th>\n",
       "      <td>-154.375</td>\n",
       "      <td>12950.0</td>\n",
       "      <td>13050.0</td>\n",
       "      <td>12750.0</td>\n",
       "      <td>12787.5</td>\n",
       "      <td>-1.0</td>\n",
       "    </tr>\n",
       "    <tr>\n",
       "      <th>2006-06-19</th>\n",
       "      <td>-23.750</td>\n",
       "      <td>12825.0</td>\n",
       "      <td>12837.5</td>\n",
       "      <td>12675.0</td>\n",
       "      <td>12800.0</td>\n",
       "      <td>0.0</td>\n",
       "    </tr>\n",
       "  </tbody>\n",
       "</table>\n",
       "</div>"
      ],
      "text/plain": [
       "              gains     Open     High      Low   Settle  target\n",
       "Date                                                           \n",
       "2006-06-13 -332.500  12200.0  12262.5  11837.5  11850.0    -1.0\n",
       "2006-06-14 -213.750  11875.0  11937.5  11600.0  11650.0    -1.0\n",
       "2006-06-15   71.250  12987.5  13137.5  12962.5  13062.5     0.0\n",
       "2006-06-16 -154.375  12950.0  13050.0  12750.0  12787.5    -1.0\n",
       "2006-06-19  -23.750  12825.0  12837.5  12675.0  12800.0     0.0"
      ]
     },
     "execution_count": 24,
     "metadata": {},
     "output_type": "execute_result"
    }
   ],
   "source": [
    "# Corn Contract has 5000 bushels contract is in cents therefore 50 contracts are producing desired values\n",
    "contracts = 50\n",
    "treshold = 150\n",
    "corn_gains = create_trade_outcomes(corn, contracts, treshold)\n",
    "corn_gains.head(5)"
   ]
  },
  {
   "cell_type": "code",
   "execution_count": 25,
   "metadata": {},
   "outputs": [
    {
     "data": {
      "text/plain": [
       "count    3158.000000\n",
       "mean        5.730684\n",
       "std       398.409134\n",
       "min     -1983.125000\n",
       "25%      -190.000000\n",
       "50%        11.875000\n",
       "75%       201.875000\n",
       "max      1888.125000\n",
       "Name: gains, dtype: float64"
      ]
     },
     "execution_count": 25,
     "metadata": {},
     "output_type": "execute_result"
    }
   ],
   "source": [
    "corn_gains.gains.describe()"
   ]
  },
  {
   "cell_type": "code",
   "execution_count": 26,
   "metadata": {},
   "outputs": [
    {
     "data": {
      "text/plain": [
       "<matplotlib.axes._subplots.AxesSubplot at 0x7fcbc3823518>"
      ]
     },
     "execution_count": 26,
     "metadata": {},
     "output_type": "execute_result"
    },
    {
     "data": {
      "image/png": "[encoded data removed]",
      "text/plain": [
       "<Figure size 432x288 with 1 Axes>"
      ]
     },
     "metadata": {
      "needs_background": "light"
     },
     "output_type": "display_data"
    }
   ],
   "source": [
    "get_wr(corn, 14)\n",
    "corn = pd.concat([corn, corn_gains[['target']]], axis=1)\n",
    "\n",
    "corn.target.hist()"
   ]
  },
  {
   "cell_type": "code",
   "execution_count": 27,
   "metadata": {},
   "outputs": [
    {
     "data": {
      "text/plain": [
       "<matplotlib.axes._subplots.AxesSubplot at 0x7fcbc3ce1a90>"
      ]
     },
     "execution_count": 27,
     "metadata": {},
     "output_type": "execute_result"
    },
    {
     "data": {
      "image/png": "[encoded data removed]",
      "text/plain": [
       "<Figure size 432x288 with 1 Axes>"
      ]
     },
     "metadata": {
      "needs_background": "light"
     },
     "output_type": "display_data"
    }
   ],
   "source": [
    "corn_gains[['gains']].plot.hist(bins=40)"
   ]
  },
  {
   "cell_type": "code",
   "execution_count": 28,
   "metadata": {},
   "outputs": [
    {
     "data": {
      "text/html": [
       "<div>\n",
       "<style scoped>\n",
       "    .dataframe tbody tr th:only-of-type {\n",
       "        vertical-align: middle;\n",
       "    }\n",
       "\n",
       "    .dataframe tbody tr th {\n",
       "        vertical-align: top;\n",
       "    }\n",
       "\n",
       "    .dataframe thead th {\n",
       "        text-align: right;\n",
       "    }\n",
       "</style>\n",
       "<table border=\"1\" class=\"dataframe\">\n",
       "  <thead>\n",
       "    <tr style=\"text-align: right;\">\n",
       "      <th></th>\n",
       "      <th>gains</th>\n",
       "      <th>Open</th>\n",
       "      <th>High</th>\n",
       "      <th>Low</th>\n",
       "      <th>Settle</th>\n",
       "      <th>target</th>\n",
       "    </tr>\n",
       "    <tr>\n",
       "      <th>Date</th>\n",
       "      <th></th>\n",
       "      <th></th>\n",
       "      <th></th>\n",
       "      <th></th>\n",
       "      <th></th>\n",
       "      <th></th>\n",
       "    </tr>\n",
       "  </thead>\n",
       "  <tbody>\n",
       "    <tr>\n",
       "      <th>2006-06-13</th>\n",
       "      <td>-332.500</td>\n",
       "      <td>12200.0</td>\n",
       "      <td>12262.5</td>\n",
       "      <td>11837.5</td>\n",
       "      <td>11850.0</td>\n",
       "      <td>-1.0</td>\n",
       "    </tr>\n",
       "    <tr>\n",
       "      <th>2006-06-14</th>\n",
       "      <td>-213.750</td>\n",
       "      <td>11875.0</td>\n",
       "      <td>11937.5</td>\n",
       "      <td>11600.0</td>\n",
       "      <td>11650.0</td>\n",
       "      <td>-1.0</td>\n",
       "    </tr>\n",
       "    <tr>\n",
       "      <th>2006-06-15</th>\n",
       "      <td>71.250</td>\n",
       "      <td>12987.5</td>\n",
       "      <td>13137.5</td>\n",
       "      <td>12962.5</td>\n",
       "      <td>13062.5</td>\n",
       "      <td>0.0</td>\n",
       "    </tr>\n",
       "    <tr>\n",
       "      <th>2006-06-16</th>\n",
       "      <td>-154.375</td>\n",
       "      <td>12950.0</td>\n",
       "      <td>13050.0</td>\n",
       "      <td>12750.0</td>\n",
       "      <td>12787.5</td>\n",
       "      <td>-1.0</td>\n",
       "    </tr>\n",
       "    <tr>\n",
       "      <th>2006-06-19</th>\n",
       "      <td>-23.750</td>\n",
       "      <td>12825.0</td>\n",
       "      <td>12837.5</td>\n",
       "      <td>12675.0</td>\n",
       "      <td>12800.0</td>\n",
       "      <td>0.0</td>\n",
       "    </tr>\n",
       "    <tr>\n",
       "      <th>2006-06-20</th>\n",
       "      <td>142.500</td>\n",
       "      <td>12800.0</td>\n",
       "      <td>12975.0</td>\n",
       "      <td>12775.0</td>\n",
       "      <td>12950.0</td>\n",
       "      <td>0.0</td>\n",
       "    </tr>\n",
       "    <tr>\n",
       "      <th>2006-06-21</th>\n",
       "      <td>-95.000</td>\n",
       "      <td>12950.0</td>\n",
       "      <td>13025.0</td>\n",
       "      <td>12800.0</td>\n",
       "      <td>12850.0</td>\n",
       "      <td>0.0</td>\n",
       "    </tr>\n",
       "    <tr>\n",
       "      <th>2006-06-22</th>\n",
       "      <td>-83.125</td>\n",
       "      <td>12850.0</td>\n",
       "      <td>12887.5</td>\n",
       "      <td>12737.5</td>\n",
       "      <td>12762.5</td>\n",
       "      <td>0.0</td>\n",
       "    </tr>\n",
       "    <tr>\n",
       "      <th>2006-06-23</th>\n",
       "      <td>-225.625</td>\n",
       "      <td>12687.5</td>\n",
       "      <td>12687.5</td>\n",
       "      <td>12387.5</td>\n",
       "      <td>12450.0</td>\n",
       "      <td>-1.0</td>\n",
       "    </tr>\n",
       "    <tr>\n",
       "      <th>2006-06-26</th>\n",
       "      <td>118.750</td>\n",
       "      <td>12437.5</td>\n",
       "      <td>12587.5</td>\n",
       "      <td>12362.5</td>\n",
       "      <td>12562.5</td>\n",
       "      <td>0.0</td>\n",
       "    </tr>\n",
       "  </tbody>\n",
       "</table>\n",
       "</div>"
      ],
      "text/plain": [
       "              gains     Open     High      Low   Settle  target\n",
       "Date                                                           \n",
       "2006-06-13 -332.500  12200.0  12262.5  11837.5  11850.0    -1.0\n",
       "2006-06-14 -213.750  11875.0  11937.5  11600.0  11650.0    -1.0\n",
       "2006-06-15   71.250  12987.5  13137.5  12962.5  13062.5     0.0\n",
       "2006-06-16 -154.375  12950.0  13050.0  12750.0  12787.5    -1.0\n",
       "2006-06-19  -23.750  12825.0  12837.5  12675.0  12800.0     0.0\n",
       "2006-06-20  142.500  12800.0  12975.0  12775.0  12950.0     0.0\n",
       "2006-06-21  -95.000  12950.0  13025.0  12800.0  12850.0     0.0\n",
       "2006-06-22  -83.125  12850.0  12887.5  12737.5  12762.5     0.0\n",
       "2006-06-23 -225.625  12687.5  12687.5  12387.5  12450.0    -1.0\n",
       "2006-06-26  118.750  12437.5  12587.5  12362.5  12562.5     0.0"
      ]
     },
     "execution_count": 28,
     "metadata": {},
     "output_type": "execute_result"
    }
   ],
   "source": [
    "corn_gains.head(10)"
   ]
  },
  {
   "cell_type": "code",
   "execution_count": 29,
   "metadata": {},
   "outputs": [],
   "source": [
    "corn_gains = stop_loss_gen(corn_gains)"
   ]
  },
  {
   "cell_type": "code",
   "execution_count": 30,
   "metadata": {},
   "outputs": [
    {
     "data": {
      "image/png": "[encoded data removed]",
      "text/plain": [
       "<Figure size 720x360 with 1 Axes>"
      ]
     },
     "metadata": {
      "needs_background": "light"
     },
     "output_type": "display_data"
    }
   ],
   "source": [
    "plot_histogram_cumsum(corn_gains[corn_gains.target == 1], 'Open_Low')"
   ]
  },
  {
   "cell_type": "code",
   "execution_count": 31,
   "metadata": {},
   "outputs": [
    {
     "data": {
      "image/png": "[encoded data removed]",
      "text/plain": [
       "<Figure size 720x360 with 1 Axes>"
      ]
     },
     "metadata": {
      "needs_background": "light"
     },
     "output_type": "display_data"
    }
   ],
   "source": [
    "plot_histogram_cumsum(corn_gains[corn_gains.target == -1], 'Open_High')"
   ]
  },
  {
   "cell_type": "code",
   "execution_count": 32,
   "metadata": {},
   "outputs": [
    {
     "name": "stderr",
     "output_type": "stream",
     "text": [
      "/home/martin/anaconda3/envs/trading/lib/python3.6/site-packages/scipy/stats/stats.py:1713: FutureWarning: Using a non-tuple sequence for multidimensional indexing is deprecated; use `arr[tuple(seq)]` instead of `arr[seq]`. In the future this will be interpreted as an array index, `arr[np.array(seq)]`, which will result either in an error or a different result.\n",
      "  return np.add.reduce(sorted[indexer] * weights, axis=axis) / sumval\n"
     ]
    },
    {
     "data": {
      "text/plain": [
       "<matplotlib.axes._subplots.AxesSubplot at 0x7fcbc38db5c0>"
      ]
     },
     "execution_count": 32,
     "metadata": {},
     "output_type": "execute_result"
    },
    {
     "data": {
      "image/png": "[encoded data removed]",
      "text/plain": [
       "<Figure size 1080x360 with 1 Axes>"
      ]
     },
     "metadata": {
      "needs_background": "light"
     },
     "output_type": "display_data"
    }
   ],
   "source": [
    "sr = corn_gains.loc[corn_gains.index < '2018-01-01'].gains\n",
    "fig, ax = plt.subplots(figsize=(15,5))\n",
    "sns.distplot(sr, ax=ax)"
   ]
  },
  {
   "cell_type": "code",
   "execution_count": 33,
   "metadata": {},
   "outputs": [
    {
     "name": "stderr",
     "output_type": "stream",
     "text": [
      "/home/martin/anaconda3/envs/trading/lib/python3.6/site-packages/ipykernel_launcher.py:1: UserWarning: Boolean Series key will be reindexed to match DataFrame index.\n",
      "  \"\"\"Entry point for launching an IPython kernel.\n"
     ]
    },
    {
     "data": {
      "text/plain": [
       "<matplotlib.axes._subplots.AxesSubplot at 0x7fcbc3c43e48>"
      ]
     },
     "execution_count": 33,
     "metadata": {},
     "output_type": "execute_result"
    },
    {
     "data": {
      "image/png": "[encoded data removed]",
      "text/plain": [
       "<Figure size 1080x360 with 1 Axes>"
      ]
     },
     "metadata": {
      "needs_background": "light"
     },
     "output_type": "display_data"
    }
   ],
   "source": [
    "sr = corn_gains.loc[corn_gains.index < '2018-01-01'][corn_gains.gains.abs() > 150].gains\n",
    "fig, ax = plt.subplots(figsize=(15,5))\n",
    "sns.distplot(sr, bins=100, ax=ax)"
   ]
  },
  {
   "cell_type": "code",
   "execution_count": 34,
   "metadata": {},
   "outputs": [
    {
     "name": "stdout",
     "output_type": "stream",
     "text": [
      "            gains      Open     High      Low    Settle  target\n",
      "Date                                                           \n",
      "2006-06-13    0.0  36731.25  37050.0  36712.5  36731.25       0\n",
      "2006-06-14    0.0  36918.75  37275.0  36600.0  36918.75       0\n",
      "2006-06-15    0.0  37106.25  37425.0  36937.5  37106.25       0\n",
      "2006-06-16    0.0  36637.50  37350.0  36337.5  36637.50       0\n",
      "2006-06-19    0.0  36468.75  36712.5  36375.0  36468.75       0\n"
     ]
    },
    {
     "data": {
      "text/html": [
       "<div>\n",
       "<style scoped>\n",
       "    .dataframe tbody tr th:only-of-type {\n",
       "        vertical-align: middle;\n",
       "    }\n",
       "\n",
       "    .dataframe tbody tr th {\n",
       "        vertical-align: top;\n",
       "    }\n",
       "\n",
       "    .dataframe thead th {\n",
       "        text-align: right;\n",
       "    }\n",
       "</style>\n",
       "<table border=\"1\" class=\"dataframe\">\n",
       "  <thead>\n",
       "    <tr style=\"text-align: right;\">\n",
       "      <th></th>\n",
       "      <th>gains</th>\n",
       "      <th>Open</th>\n",
       "      <th>High</th>\n",
       "      <th>Low</th>\n",
       "      <th>Settle</th>\n",
       "      <th>target</th>\n",
       "      <th>Open_High</th>\n",
       "      <th>Open_Low</th>\n",
       "    </tr>\n",
       "    <tr>\n",
       "      <th>Date</th>\n",
       "      <th></th>\n",
       "      <th></th>\n",
       "      <th></th>\n",
       "      <th></th>\n",
       "      <th></th>\n",
       "      <th></th>\n",
       "      <th></th>\n",
       "      <th></th>\n",
       "    </tr>\n",
       "  </thead>\n",
       "  <tbody>\n",
       "    <tr>\n",
       "      <th>2006-06-13</th>\n",
       "      <td>0.0</td>\n",
       "      <td>36918.75</td>\n",
       "      <td>37275.0</td>\n",
       "      <td>36600.0</td>\n",
       "      <td>36918.75</td>\n",
       "      <td>0.0</td>\n",
       "      <td>356.25</td>\n",
       "      <td>318.75</td>\n",
       "    </tr>\n",
       "    <tr>\n",
       "      <th>2006-06-14</th>\n",
       "      <td>0.0</td>\n",
       "      <td>37106.25</td>\n",
       "      <td>37425.0</td>\n",
       "      <td>36937.5</td>\n",
       "      <td>37106.25</td>\n",
       "      <td>0.0</td>\n",
       "      <td>318.75</td>\n",
       "      <td>168.75</td>\n",
       "    </tr>\n",
       "    <tr>\n",
       "      <th>2006-06-15</th>\n",
       "      <td>0.0</td>\n",
       "      <td>36637.50</td>\n",
       "      <td>37350.0</td>\n",
       "      <td>36337.5</td>\n",
       "      <td>36637.50</td>\n",
       "      <td>0.0</td>\n",
       "      <td>712.50</td>\n",
       "      <td>300.00</td>\n",
       "    </tr>\n",
       "    <tr>\n",
       "      <th>2006-06-16</th>\n",
       "      <td>0.0</td>\n",
       "      <td>36468.75</td>\n",
       "      <td>36712.5</td>\n",
       "      <td>36375.0</td>\n",
       "      <td>36468.75</td>\n",
       "      <td>0.0</td>\n",
       "      <td>243.75</td>\n",
       "      <td>93.75</td>\n",
       "    </tr>\n",
       "    <tr>\n",
       "      <th>2006-06-19</th>\n",
       "      <td>0.0</td>\n",
       "      <td>36543.75</td>\n",
       "      <td>37162.5</td>\n",
       "      <td>36487.5</td>\n",
       "      <td>36543.75</td>\n",
       "      <td>0.0</td>\n",
       "      <td>618.75</td>\n",
       "      <td>56.25</td>\n",
       "    </tr>\n",
       "  </tbody>\n",
       "</table>\n",
       "</div>"
      ],
      "text/plain": [
       "            gains      Open     High      Low    Settle  target  Open_High  \\\n",
       "Date                                                                         \n",
       "2006-06-13    0.0  36918.75  37275.0  36600.0  36918.75     0.0     356.25   \n",
       "2006-06-14    0.0  37106.25  37425.0  36937.5  37106.25     0.0     318.75   \n",
       "2006-06-15    0.0  36637.50  37350.0  36337.5  36637.50     0.0     712.50   \n",
       "2006-06-16    0.0  36468.75  36712.5  36375.0  36468.75     0.0     243.75   \n",
       "2006-06-19    0.0  36543.75  37162.5  36487.5  36543.75     0.0     618.75   \n",
       "\n",
       "            Open_Low  \n",
       "Date                  \n",
       "2006-06-13    318.75  \n",
       "2006-06-14    168.75  \n",
       "2006-06-15    300.00  \n",
       "2006-06-16     93.75  \n",
       "2006-06-19     56.25  "
      ]
     },
     "execution_count": 34,
     "metadata": {},
     "output_type": "execute_result"
    }
   ],
   "source": [
    "# coffee contract size is 37,500 pounds price is in cents per pound\n",
    "contracts = 375\n",
    "treshold = 275\n",
    "coffee_gains = create_trade_outcomes(coffee, contracts, treshold)\n",
    "coffee_gains = stop_loss_gen(coffee_gains)\n",
    "coffee_gains.head(5)"
   ]
  },
  {
   "cell_type": "code",
   "execution_count": 35,
   "metadata": {},
   "outputs": [
    {
     "data": {
      "text/plain": [
       "count    3148.000000\n",
       "mean      -15.860368\n",
       "std      1042.083421\n",
       "min     -5236.875000\n",
       "25%      -498.750000\n",
       "50%         0.000000\n",
       "75%       480.937500\n",
       "max      6341.250000\n",
       "Name: gains, dtype: float64"
      ]
     },
     "execution_count": 35,
     "metadata": {},
     "output_type": "execute_result"
    }
   ],
   "source": [
    "coffee_gains.gains.describe()"
   ]
  },
  {
   "cell_type": "code",
   "execution_count": 36,
   "metadata": {},
   "outputs": [
    {
     "data": {
      "text/plain": [
       "<matplotlib.axes._subplots.AxesSubplot at 0x7fcbc3593780>"
      ]
     },
     "execution_count": 36,
     "metadata": {},
     "output_type": "execute_result"
    },
    {
     "data": {
      "image/png": "[encoded data removed]",
      "text/plain": [
       "<Figure size 720x360 with 1 Axes>"
      ]
     },
     "metadata": {
      "needs_background": "light"
     },
     "output_type": "display_data"
    }
   ],
   "source": [
    "coffee_gains[['gains']].plot.hist(bins=40, figsize=(10, 5))"
   ]
  },
  {
   "cell_type": "code",
   "execution_count": 37,
   "metadata": {},
   "outputs": [
    {
     "data": {
      "text/plain": [
       "<matplotlib.axes._subplots.AxesSubplot at 0x7fcbc3904358>"
      ]
     },
     "execution_count": 37,
     "metadata": {},
     "output_type": "execute_result"
    },
    {
     "data": {
      "image/png": "[encoded data removed]",
      "text/plain": [
       "<Figure size 432x288 with 1 Axes>"
      ]
     },
     "metadata": {
      "needs_background": "light"
     },
     "output_type": "display_data"
    }
   ],
   "source": [
    "get_wr(coffee, 14)\n",
    "coffee = pd.concat([coffee, coffee_gains[['target']]], axis=1)\n",
    "coffee.target.hist()"
   ]
  },
  {
   "cell_type": "code",
   "execution_count": 38,
   "metadata": {},
   "outputs": [
    {
     "data": {
      "text/html": [
       "<div>\n",
       "<style scoped>\n",
       "    .dataframe tbody tr th:only-of-type {\n",
       "        vertical-align: middle;\n",
       "    }\n",
       "\n",
       "    .dataframe tbody tr th {\n",
       "        vertical-align: top;\n",
       "    }\n",
       "\n",
       "    .dataframe thead th {\n",
       "        text-align: right;\n",
       "    }\n",
       "</style>\n",
       "<table border=\"1\" class=\"dataframe\">\n",
       "  <thead>\n",
       "    <tr style=\"text-align: right;\">\n",
       "      <th></th>\n",
       "      <th>Open</th>\n",
       "      <th>High</th>\n",
       "      <th>Low</th>\n",
       "      <th>Settle</th>\n",
       "      <th>Volume</th>\n",
       "      <th>Prev. Day Open Interest</th>\n",
       "      <th>wr</th>\n",
       "      <th>target</th>\n",
       "    </tr>\n",
       "    <tr>\n",
       "      <th>Date</th>\n",
       "      <th></th>\n",
       "      <th></th>\n",
       "      <th></th>\n",
       "      <th></th>\n",
       "      <th></th>\n",
       "      <th></th>\n",
       "      <th></th>\n",
       "      <th></th>\n",
       "    </tr>\n",
       "  </thead>\n",
       "  <tbody>\n",
       "    <tr>\n",
       "      <th>2006-11-13</th>\n",
       "      <td>115.15</td>\n",
       "      <td>116.70</td>\n",
       "      <td>114.50</td>\n",
       "      <td>115.15</td>\n",
       "      <td>18584.0</td>\n",
       "      <td>36595.0</td>\n",
       "      <td>32.442748</td>\n",
       "      <td>1.0</td>\n",
       "    </tr>\n",
       "    <tr>\n",
       "      <th>2006-11-14</th>\n",
       "      <td>119.25</td>\n",
       "      <td>121.30</td>\n",
       "      <td>119.25</td>\n",
       "      <td>120.15</td>\n",
       "      <td>14200.0</td>\n",
       "      <td>69469.0</td>\n",
       "      <td>7.666667</td>\n",
       "      <td>1.0</td>\n",
       "    </tr>\n",
       "    <tr>\n",
       "      <th>2006-11-15</th>\n",
       "      <td>120.25</td>\n",
       "      <td>122.70</td>\n",
       "      <td>120.15</td>\n",
       "      <td>122.45</td>\n",
       "      <td>19154.0</td>\n",
       "      <td>72935.0</td>\n",
       "      <td>1.524390</td>\n",
       "      <td>-1.0</td>\n",
       "    </tr>\n",
       "    <tr>\n",
       "      <th>2006-11-16</th>\n",
       "      <td>124.20</td>\n",
       "      <td>124.75</td>\n",
       "      <td>120.75</td>\n",
       "      <td>120.95</td>\n",
       "      <td>15359.0</td>\n",
       "      <td>75743.0</td>\n",
       "      <td>21.052632</td>\n",
       "      <td>-1.0</td>\n",
       "    </tr>\n",
       "    <tr>\n",
       "      <th>2006-11-17</th>\n",
       "      <td>119.25</td>\n",
       "      <td>119.90</td>\n",
       "      <td>116.00</td>\n",
       "      <td>117.95</td>\n",
       "      <td>24817.0</td>\n",
       "      <td>80514.0</td>\n",
       "      <td>38.095238</td>\n",
       "      <td>1.0</td>\n",
       "    </tr>\n",
       "    <tr>\n",
       "      <th>2006-11-22</th>\n",
       "      <td>119.75</td>\n",
       "      <td>120.40</td>\n",
       "      <td>119.40</td>\n",
       "      <td>120.15</td>\n",
       "      <td>4626.0</td>\n",
       "      <td>83919.0</td>\n",
       "      <td>34.074074</td>\n",
       "      <td>1.0</td>\n",
       "    </tr>\n",
       "    <tr>\n",
       "      <th>2006-11-27</th>\n",
       "      <td>121.00</td>\n",
       "      <td>122.85</td>\n",
       "      <td>120.20</td>\n",
       "      <td>122.65</td>\n",
       "      <td>8685.0</td>\n",
       "      <td>84499.0</td>\n",
       "      <td>16.216216</td>\n",
       "      <td>1.0</td>\n",
       "    </tr>\n",
       "    <tr>\n",
       "      <th>2006-11-29</th>\n",
       "      <td>124.00</td>\n",
       "      <td>126.80</td>\n",
       "      <td>123.00</td>\n",
       "      <td>123.30</td>\n",
       "      <td>14743.0</td>\n",
       "      <td>86373.0</td>\n",
       "      <td>23.489933</td>\n",
       "      <td>1.0</td>\n",
       "    </tr>\n",
       "    <tr>\n",
       "      <th>2006-11-30</th>\n",
       "      <td>123.30</td>\n",
       "      <td>125.40</td>\n",
       "      <td>123.30</td>\n",
       "      <td>124.30</td>\n",
       "      <td>10281.0</td>\n",
       "      <td>87848.0</td>\n",
       "      <td>20.325203</td>\n",
       "      <td>1.0</td>\n",
       "    </tr>\n",
       "    <tr>\n",
       "      <th>2006-12-01</th>\n",
       "      <td>124.30</td>\n",
       "      <td>127.90</td>\n",
       "      <td>122.75</td>\n",
       "      <td>127.60</td>\n",
       "      <td>13182.0</td>\n",
       "      <td>87993.0</td>\n",
       "      <td>2.238806</td>\n",
       "      <td>-1.0</td>\n",
       "    </tr>\n",
       "  </tbody>\n",
       "</table>\n",
       "</div>"
      ],
      "text/plain": [
       "              Open    High     Low  Settle   Volume  Prev. Day Open Interest  \\\n",
       "Date                                                                           \n",
       "2006-11-13  115.15  116.70  114.50  115.15  18584.0                  36595.0   \n",
       "2006-11-14  119.25  121.30  119.25  120.15  14200.0                  69469.0   \n",
       "2006-11-15  120.25  122.70  120.15  122.45  19154.0                  72935.0   \n",
       "2006-11-16  124.20  124.75  120.75  120.95  15359.0                  75743.0   \n",
       "2006-11-17  119.25  119.90  116.00  117.95  24817.0                  80514.0   \n",
       "2006-11-22  119.75  120.40  119.40  120.15   4626.0                  83919.0   \n",
       "2006-11-27  121.00  122.85  120.20  122.65   8685.0                  84499.0   \n",
       "2006-11-29  124.00  126.80  123.00  123.30  14743.0                  86373.0   \n",
       "2006-11-30  123.30  125.40  123.30  124.30  10281.0                  87848.0   \n",
       "2006-12-01  124.30  127.90  122.75  127.60  13182.0                  87993.0   \n",
       "\n",
       "                   wr  target  \n",
       "Date                           \n",
       "2006-11-13  32.442748     1.0  \n",
       "2006-11-14   7.666667     1.0  \n",
       "2006-11-15   1.524390    -1.0  \n",
       "2006-11-16  21.052632    -1.0  \n",
       "2006-11-17  38.095238     1.0  \n",
       "2006-11-22  34.074074     1.0  \n",
       "2006-11-27  16.216216     1.0  \n",
       "2006-11-29  23.489933     1.0  \n",
       "2006-11-30  20.325203     1.0  \n",
       "2006-12-01   2.238806    -1.0  "
      ]
     },
     "execution_count": 38,
     "metadata": {},
     "output_type": "execute_result"
    }
   ],
   "source": [
    "coffee[coffee.target != 0].head(10)"
   ]
  },
  {
   "cell_type": "code",
   "execution_count": 39,
   "metadata": {},
   "outputs": [
    {
     "data": {
      "image/png": "[encoded data removed]",
      "text/plain": [
       "<Figure size 720x360 with 1 Axes>"
      ]
     },
     "metadata": {
      "needs_background": "light"
     },
     "output_type": "display_data"
    }
   ],
   "source": [
    "plot_histogram_cumsum(coffee_gains[coffee_gains.target == 1], 'Open_Low')"
   ]
  },
  {
   "cell_type": "code",
   "execution_count": 40,
   "metadata": {},
   "outputs": [
    {
     "data": {
      "image/png": "[encoded data removed]",
      "text/plain": [
       "<Figure size 720x360 with 1 Axes>"
      ]
     },
     "metadata": {
      "needs_background": "light"
     },
     "output_type": "display_data"
    }
   ],
   "source": [
    "plot_histogram_cumsum(coffee_gains[coffee_gains.target == -1], 'Open_High')"
   ]
  },
  {
   "cell_type": "code",
   "execution_count": 41,
   "metadata": {},
   "outputs": [
    {
     "data": {
      "text/plain": [
       "<matplotlib.axes._subplots.AxesSubplot at 0x7fcbc344c0f0>"
      ]
     },
     "execution_count": 41,
     "metadata": {},
     "output_type": "execute_result"
    },
    {
     "data": {
      "image/png": "[encoded data removed]",
      "text/plain": [
       "<Figure size 720x360 with 1 Axes>"
      ]
     },
     "metadata": {
      "needs_background": "light"
     },
     "output_type": "display_data"
    }
   ],
   "source": [
    "gold.loc[gold.index < '2018-01-01']['Settle'].plot(figsize=(10, 5))"
   ]
  },
  {
   "cell_type": "code",
   "execution_count": 42,
   "metadata": {},
   "outputs": [
    {
     "data": {
      "text/plain": [
       "<matplotlib.axes._subplots.AxesSubplot at 0x7fcbc33e1eb8>"
      ]
     },
     "execution_count": 42,
     "metadata": {},
     "output_type": "execute_result"
    },
    {
     "data": {
      "image/png": "[encoded data removed]",
      "text/plain": [
       "<Figure size 720x360 with 1 Axes>"
      ]
     },
     "metadata": {
      "needs_background": "light"
     },
     "output_type": "display_data"
    }
   ],
   "source": [
    "corn.loc[corn.index < '2018-01-01']['Open'].plot(figsize=(10, 5))"
   ]
  },
  {
   "cell_type": "code",
   "execution_count": 43,
   "metadata": {},
   "outputs": [
    {
     "data": {
      "text/plain": [
       "<matplotlib.axes._subplots.AxesSubplot at 0x7fcbc3351be0>"
      ]
     },
     "execution_count": 43,
     "metadata": {},
     "output_type": "execute_result"
    },
    {
     "data": {
      "image/png": "[encoded data removed]",
      "text/plain": [
       "<Figure size 720x360 with 1 Axes>"
      ]
     },
     "metadata": {
      "needs_background": "light"
     },
     "output_type": "display_data"
    }
   ],
   "source": [
    "coffee.loc[coffee.index < '2018-01-01']['Open'].plot(figsize=(10, 5))"
   ]
  },
  {
   "cell_type": "code",
   "execution_count": 44,
   "metadata": {},
   "outputs": [],
   "source": [
    "import numpy as np\n",
    "import holidays\n",
    "\n",
    "def trading_day_of_month(tm):\n",
    "    ts = (tm - np.datetime64('1970-01-01')) / np.timedelta64(1, 's')\n",
    "    dt = datetime.datetime.fromtimestamp(ts)\n",
    "    di = datetime.date(year=dt.year, month=dt.month, day=1)\n",
    "    us_holidays = holidays.UnitedStates()\n",
    "    cnt = 1\n",
    "    for i in range(1, 32):\n",
    "        if i == dt.day:\n",
    "            break\n",
    "        if di.weekday() in [0, 1, 2, 3, 4] and dt not in us_holidays:\n",
    "            cnt += 1\n",
    "        di += datetime.timedelta(days=1)\n",
    "    return cnt\n",
    "\n",
    "\n",
    "def create_vectors(df, df_cot):\n",
    "    global trading_days_in_year\n",
    "    nv = df.shape[1]-2\n",
    "    i_t = df.shape[1]-1\n",
    "    ans_dct = {}\n",
    "    for i in range(df.shape[0]):\n",
    "        if i < 2*trading_days_in_year:\n",
    "            continue\n",
    "        mtrx = df.iloc[i-2*trading_days_in_year:i, 0:nv].values\n",
    "        size = np.prod(mtrx.shape)\n",
    "        mtrx = list(mtrx.reshape(size))\n",
    "        idx = df.index.values[i]\n",
    "        # add COT report to the end of list\n",
    "        mtrx_cot = df_cot[df_cot.index < idx].values[-8:]\n",
    "        size = np.prod(mtrx_cot.shape)\n",
    "        mtrx_cot = list(mtrx_cot.reshape(size))\n",
    "        if size < 16:\n",
    "            mtrx_cot += [0 for i in range(16-size)]\n",
    "        # Date Features\n",
    "        # print(type(idx), type(idx.astype(datetime.datetime)))\n",
    "        ts = (idx - np.datetime64('1970-01-01')) / np.timedelta64(1, 's')\n",
    "        dt = datetime.datetime.fromtimestamp(ts)\n",
    "        mtrx_date = [dt.weekday(), trading_day_of_month(idx), dt.month, (dt.month-1)//3, df.loc[idx].wr]\n",
    "        # mtrx_date = [dt.weekday(), df.loc[idx].wr]\n",
    "        # Combine list\n",
    "        mtrx = mtrx + mtrx_cot + mtrx_date\n",
    "        mtrx.append(df.iloc[i, i_t])\n",
    "        ans_dct[idx] = mtrx\n",
    "    return pd.DataFrame.from_dict(ans_dct, orient='index')"
   ]
  },
  {
   "cell_type": "code",
   "execution_count": 45,
   "metadata": {
    "scrolled": true
   },
   "outputs": [],
   "source": [
    "gold_data = create_vectors(gold, gold_cot)\n",
    "gold_data = gold_data.loc[:end_date]\n",
    "corn_data = create_vectors(corn, corn_cot)\n",
    "corn_data = corn_data.loc[:end_date]\n",
    "coffee_data = create_vectors(coffee, coffee_cot)\n",
    "coffee_data = coffee_data.loc[:end_date]"
   ]
  },
  {
   "cell_type": "code",
   "execution_count": 46,
   "metadata": {},
   "outputs": [
    {
     "data": {
      "text/html": [
       "<div>\n",
       "<style scoped>\n",
       "    .dataframe tbody tr th:only-of-type {\n",
       "        vertical-align: middle;\n",
       "    }\n",
       "\n",
       "    .dataframe tbody tr th {\n",
       "        vertical-align: top;\n",
       "    }\n",
       "\n",
       "    .dataframe thead th {\n",
       "        text-align: right;\n",
       "    }\n",
       "</style>\n",
       "<table border=\"1\" class=\"dataframe\">\n",
       "  <thead>\n",
       "    <tr style=\"text-align: right;\">\n",
       "      <th></th>\n",
       "      <th>0</th>\n",
       "      <th>1</th>\n",
       "      <th>2</th>\n",
       "      <th>3</th>\n",
       "      <th>4</th>\n",
       "      <th>5</th>\n",
       "      <th>6</th>\n",
       "      <th>7</th>\n",
       "      <th>8</th>\n",
       "      <th>9</th>\n",
       "      <th>...</th>\n",
       "      <th>3036</th>\n",
       "      <th>3037</th>\n",
       "      <th>3038</th>\n",
       "      <th>3039</th>\n",
       "      <th>3040</th>\n",
       "      <th>3041</th>\n",
       "      <th>3042</th>\n",
       "      <th>3043</th>\n",
       "      <th>3044</th>\n",
       "      <th>3045</th>\n",
       "    </tr>\n",
       "  </thead>\n",
       "  <tbody>\n",
       "    <tr>\n",
       "      <th>2018-11-23</th>\n",
       "      <td>1213.5</td>\n",
       "      <td>1220.9</td>\n",
       "      <td>1205.6</td>\n",
       "      <td>1211.2</td>\n",
       "      <td>202123.0</td>\n",
       "      <td>199751.0</td>\n",
       "      <td>1212.6</td>\n",
       "      <td>1214.7</td>\n",
       "      <td>1181.2</td>\n",
       "      <td>1189.3</td>\n",
       "      <td>...</td>\n",
       "      <td>0.942235</td>\n",
       "      <td>0.087364</td>\n",
       "      <td>0.916625</td>\n",
       "      <td>0.162104</td>\n",
       "      <td>4</td>\n",
       "      <td>17</td>\n",
       "      <td>11</td>\n",
       "      <td>3</td>\n",
       "      <td>36.363636</td>\n",
       "      <td>0.0</td>\n",
       "    </tr>\n",
       "    <tr>\n",
       "      <th>2018-11-26</th>\n",
       "      <td>1212.6</td>\n",
       "      <td>1214.7</td>\n",
       "      <td>1181.2</td>\n",
       "      <td>1189.3</td>\n",
       "      <td>353644.0</td>\n",
       "      <td>164500.0</td>\n",
       "      <td>1189.4</td>\n",
       "      <td>1192.7</td>\n",
       "      <td>1170.3</td>\n",
       "      <td>1178.4</td>\n",
       "      <td>...</td>\n",
       "      <td>0.942235</td>\n",
       "      <td>0.087364</td>\n",
       "      <td>0.916625</td>\n",
       "      <td>0.162104</td>\n",
       "      <td>0</td>\n",
       "      <td>18</td>\n",
       "      <td>11</td>\n",
       "      <td>3</td>\n",
       "      <td>38.277512</td>\n",
       "      <td>-1.0</td>\n",
       "    </tr>\n",
       "    <tr>\n",
       "      <th>2018-11-27</th>\n",
       "      <td>1189.4</td>\n",
       "      <td>1192.7</td>\n",
       "      <td>1170.3</td>\n",
       "      <td>1178.4</td>\n",
       "      <td>288389.0</td>\n",
       "      <td>106069.0</td>\n",
       "      <td>1184.4</td>\n",
       "      <td>1197.2</td>\n",
       "      <td>1182.4</td>\n",
       "      <td>1190.8</td>\n",
       "      <td>...</td>\n",
       "      <td>0.942235</td>\n",
       "      <td>0.087364</td>\n",
       "      <td>0.916625</td>\n",
       "      <td>0.162104</td>\n",
       "      <td>1</td>\n",
       "      <td>19</td>\n",
       "      <td>11</td>\n",
       "      <td>3</td>\n",
       "      <td>59.808612</td>\n",
       "      <td>1.0</td>\n",
       "    </tr>\n",
       "    <tr>\n",
       "      <th>2018-11-28</th>\n",
       "      <td>1184.4</td>\n",
       "      <td>1197.2</td>\n",
       "      <td>1182.4</td>\n",
       "      <td>1190.8</td>\n",
       "      <td>177818.0</td>\n",
       "      <td>77556.0</td>\n",
       "      <td>1196.6</td>\n",
       "      <td>1197.7</td>\n",
       "      <td>1182.6</td>\n",
       "      <td>1190.8</td>\n",
       "      <td>...</td>\n",
       "      <td>0.916625</td>\n",
       "      <td>0.162104</td>\n",
       "      <td>0.957183</td>\n",
       "      <td>0.139100</td>\n",
       "      <td>2</td>\n",
       "      <td>20</td>\n",
       "      <td>11</td>\n",
       "      <td>3</td>\n",
       "      <td>21.282799</td>\n",
       "      <td>0.0</td>\n",
       "    </tr>\n",
       "    <tr>\n",
       "      <th>2018-11-29</th>\n",
       "      <td>1196.6</td>\n",
       "      <td>1197.7</td>\n",
       "      <td>1182.6</td>\n",
       "      <td>1190.8</td>\n",
       "      <td>196186.0</td>\n",
       "      <td>259190.0</td>\n",
       "      <td>1190.7</td>\n",
       "      <td>1196.8</td>\n",
       "      <td>1171.3</td>\n",
       "      <td>1173.9</td>\n",
       "      <td>...</td>\n",
       "      <td>0.916625</td>\n",
       "      <td>0.162104</td>\n",
       "      <td>0.957183</td>\n",
       "      <td>0.139100</td>\n",
       "      <td>3</td>\n",
       "      <td>21</td>\n",
       "      <td>11</td>\n",
       "      <td>3</td>\n",
       "      <td>19.825073</td>\n",
       "      <td>0.0</td>\n",
       "    </tr>\n",
       "    <tr>\n",
       "      <th>2018-11-30</th>\n",
       "      <td>1190.7</td>\n",
       "      <td>1196.8</td>\n",
       "      <td>1171.3</td>\n",
       "      <td>1173.9</td>\n",
       "      <td>236195.0</td>\n",
       "      <td>271613.0</td>\n",
       "      <td>1175.1</td>\n",
       "      <td>1178.4</td>\n",
       "      <td>1162.2</td>\n",
       "      <td>1169.4</td>\n",
       "      <td>...</td>\n",
       "      <td>0.916625</td>\n",
       "      <td>0.162104</td>\n",
       "      <td>0.957183</td>\n",
       "      <td>0.139100</td>\n",
       "      <td>4</td>\n",
       "      <td>22</td>\n",
       "      <td>11</td>\n",
       "      <td>3</td>\n",
       "      <td>31.195335</td>\n",
       "      <td>1.0</td>\n",
       "    </tr>\n",
       "    <tr>\n",
       "      <th>2018-12-03</th>\n",
       "      <td>1175.1</td>\n",
       "      <td>1178.4</td>\n",
       "      <td>1162.2</td>\n",
       "      <td>1169.4</td>\n",
       "      <td>216866.0</td>\n",
       "      <td>273896.0</td>\n",
       "      <td>1174.3</td>\n",
       "      <td>1180.3</td>\n",
       "      <td>1168.4</td>\n",
       "      <td>1177.8</td>\n",
       "      <td>...</td>\n",
       "      <td>0.916625</td>\n",
       "      <td>0.162104</td>\n",
       "      <td>0.957183</td>\n",
       "      <td>0.139100</td>\n",
       "      <td>0</td>\n",
       "      <td>1</td>\n",
       "      <td>12</td>\n",
       "      <td>3</td>\n",
       "      <td>0.533333</td>\n",
       "      <td>1.0</td>\n",
       "    </tr>\n",
       "    <tr>\n",
       "      <th>2018-12-04</th>\n",
       "      <td>1174.3</td>\n",
       "      <td>1180.3</td>\n",
       "      <td>1168.4</td>\n",
       "      <td>1177.8</td>\n",
       "      <td>169593.0</td>\n",
       "      <td>273718.0</td>\n",
       "      <td>1182.6</td>\n",
       "      <td>1190.2</td>\n",
       "      <td>1158.6</td>\n",
       "      <td>1176.5</td>\n",
       "      <td>...</td>\n",
       "      <td>0.916625</td>\n",
       "      <td>0.162104</td>\n",
       "      <td>0.957183</td>\n",
       "      <td>0.139100</td>\n",
       "      <td>1</td>\n",
       "      <td>2</td>\n",
       "      <td>12</td>\n",
       "      <td>3</td>\n",
       "      <td>0.692841</td>\n",
       "      <td>0.0</td>\n",
       "    </tr>\n",
       "    <tr>\n",
       "      <th>2018-12-05</th>\n",
       "      <td>1182.6</td>\n",
       "      <td>1190.2</td>\n",
       "      <td>1158.6</td>\n",
       "      <td>1176.5</td>\n",
       "      <td>212507.0</td>\n",
       "      <td>275782.0</td>\n",
       "      <td>1172.8</td>\n",
       "      <td>1177.1</td>\n",
       "      <td>1168.1</td>\n",
       "      <td>1170.1</td>\n",
       "      <td>...</td>\n",
       "      <td>0.957183</td>\n",
       "      <td>0.139100</td>\n",
       "      <td>0.859876</td>\n",
       "      <td>0.275776</td>\n",
       "      <td>2</td>\n",
       "      <td>3</td>\n",
       "      <td>12</td>\n",
       "      <td>3</td>\n",
       "      <td>12.536443</td>\n",
       "      <td>0.0</td>\n",
       "    </tr>\n",
       "    <tr>\n",
       "      <th>2018-12-06</th>\n",
       "      <td>1172.8</td>\n",
       "      <td>1177.1</td>\n",
       "      <td>1168.1</td>\n",
       "      <td>1170.1</td>\n",
       "      <td>131034.0</td>\n",
       "      <td>271766.0</td>\n",
       "      <td>1171.4</td>\n",
       "      <td>1182.3</td>\n",
       "      <td>1167.2</td>\n",
       "      <td>1177.5</td>\n",
       "      <td>...</td>\n",
       "      <td>0.957183</td>\n",
       "      <td>0.139100</td>\n",
       "      <td>0.859876</td>\n",
       "      <td>0.275776</td>\n",
       "      <td>3</td>\n",
       "      <td>4</td>\n",
       "      <td>12</td>\n",
       "      <td>3</td>\n",
       "      <td>18.584071</td>\n",
       "      <td>1.0</td>\n",
       "    </tr>\n",
       "    <tr>\n",
       "      <th>2018-12-07</th>\n",
       "      <td>1171.4</td>\n",
       "      <td>1182.3</td>\n",
       "      <td>1167.2</td>\n",
       "      <td>1177.5</td>\n",
       "      <td>138151.0</td>\n",
       "      <td>269789.0</td>\n",
       "      <td>1176.1</td>\n",
       "      <td>1180.7</td>\n",
       "      <td>1170.9</td>\n",
       "      <td>1172.4</td>\n",
       "      <td>...</td>\n",
       "      <td>0.957183</td>\n",
       "      <td>0.139100</td>\n",
       "      <td>0.859876</td>\n",
       "      <td>0.275776</td>\n",
       "      <td>4</td>\n",
       "      <td>5</td>\n",
       "      <td>12</td>\n",
       "      <td>3</td>\n",
       "      <td>7.633588</td>\n",
       "      <td>-1.0</td>\n",
       "    </tr>\n",
       "    <tr>\n",
       "      <th>2018-12-10</th>\n",
       "      <td>1176.1</td>\n",
       "      <td>1180.7</td>\n",
       "      <td>1170.9</td>\n",
       "      <td>1172.4</td>\n",
       "      <td>142683.0</td>\n",
       "      <td>272867.0</td>\n",
       "      <td>1172.5</td>\n",
       "      <td>1173.8</td>\n",
       "      <td>1157.6</td>\n",
       "      <td>1161.9</td>\n",
       "      <td>...</td>\n",
       "      <td>0.957183</td>\n",
       "      <td>0.139100</td>\n",
       "      <td>0.859876</td>\n",
       "      <td>0.275776</td>\n",
       "      <td>0</td>\n",
       "      <td>6</td>\n",
       "      <td>12</td>\n",
       "      <td>3</td>\n",
       "      <td>15.521628</td>\n",
       "      <td>0.0</td>\n",
       "    </tr>\n",
       "    <tr>\n",
       "      <th>2018-12-11</th>\n",
       "      <td>1172.5</td>\n",
       "      <td>1173.8</td>\n",
       "      <td>1157.6</td>\n",
       "      <td>1161.9</td>\n",
       "      <td>154624.0</td>\n",
       "      <td>270743.0</td>\n",
       "      <td>1161.4</td>\n",
       "      <td>1167.9</td>\n",
       "      <td>1152.5</td>\n",
       "      <td>1165.8</td>\n",
       "      <td>...</td>\n",
       "      <td>0.957183</td>\n",
       "      <td>0.139100</td>\n",
       "      <td>0.859876</td>\n",
       "      <td>0.275776</td>\n",
       "      <td>1</td>\n",
       "      <td>7</td>\n",
       "      <td>12</td>\n",
       "      <td>3</td>\n",
       "      <td>20.101781</td>\n",
       "      <td>0.0</td>\n",
       "    </tr>\n",
       "    <tr>\n",
       "      <th>2018-12-12</th>\n",
       "      <td>1161.4</td>\n",
       "      <td>1167.9</td>\n",
       "      <td>1152.5</td>\n",
       "      <td>1165.8</td>\n",
       "      <td>159925.0</td>\n",
       "      <td>270195.0</td>\n",
       "      <td>1164.5</td>\n",
       "      <td>1167.0</td>\n",
       "      <td>1156.3</td>\n",
       "      <td>1159.0</td>\n",
       "      <td>...</td>\n",
       "      <td>0.859876</td>\n",
       "      <td>0.275776</td>\n",
       "      <td>0.795660</td>\n",
       "      <td>0.307822</td>\n",
       "      <td>2</td>\n",
       "      <td>8</td>\n",
       "      <td>12</td>\n",
       "      <td>3</td>\n",
       "      <td>13.740458</td>\n",
       "      <td>0.0</td>\n",
       "    </tr>\n",
       "    <tr>\n",
       "      <th>2018-12-13</th>\n",
       "      <td>1164.5</td>\n",
       "      <td>1167.0</td>\n",
       "      <td>1156.3</td>\n",
       "      <td>1159.0</td>\n",
       "      <td>136465.0</td>\n",
       "      <td>272335.0</td>\n",
       "      <td>1159.8</td>\n",
       "      <td>1168.0</td>\n",
       "      <td>1140.0</td>\n",
       "      <td>1163.7</td>\n",
       "      <td>...</td>\n",
       "      <td>0.859876</td>\n",
       "      <td>0.275776</td>\n",
       "      <td>0.795660</td>\n",
       "      <td>0.307822</td>\n",
       "      <td>3</td>\n",
       "      <td>9</td>\n",
       "      <td>12</td>\n",
       "      <td>3</td>\n",
       "      <td>18.066158</td>\n",
       "      <td>0.0</td>\n",
       "    </tr>\n",
       "    <tr>\n",
       "      <th>2018-12-14</th>\n",
       "      <td>1159.8</td>\n",
       "      <td>1168.0</td>\n",
       "      <td>1140.0</td>\n",
       "      <td>1163.7</td>\n",
       "      <td>206337.0</td>\n",
       "      <td>272962.0</td>\n",
       "      <td>1143.8</td>\n",
       "      <td>1146.0</td>\n",
       "      <td>1124.3</td>\n",
       "      <td>1129.8</td>\n",
       "      <td>...</td>\n",
       "      <td>0.859876</td>\n",
       "      <td>0.275776</td>\n",
       "      <td>0.795660</td>\n",
       "      <td>0.307822</td>\n",
       "      <td>4</td>\n",
       "      <td>10</td>\n",
       "      <td>12</td>\n",
       "      <td>3</td>\n",
       "      <td>32.569975</td>\n",
       "      <td>1.0</td>\n",
       "    </tr>\n",
       "    <tr>\n",
       "      <th>2018-12-17</th>\n",
       "      <td>1143.8</td>\n",
       "      <td>1146.0</td>\n",
       "      <td>1124.3</td>\n",
       "      <td>1129.8</td>\n",
       "      <td>264010.0</td>\n",
       "      <td>278134.0</td>\n",
       "      <td>1130.5</td>\n",
       "      <td>1143.2</td>\n",
       "      <td>1128.5</td>\n",
       "      <td>1137.4</td>\n",
       "      <td>...</td>\n",
       "      <td>0.859876</td>\n",
       "      <td>0.275776</td>\n",
       "      <td>0.795660</td>\n",
       "      <td>0.307822</td>\n",
       "      <td>0</td>\n",
       "      <td>11</td>\n",
       "      <td>12</td>\n",
       "      <td>3</td>\n",
       "      <td>6.106870</td>\n",
       "      <td>0.0</td>\n",
       "    </tr>\n",
       "    <tr>\n",
       "      <th>2018-12-18</th>\n",
       "      <td>1130.5</td>\n",
       "      <td>1143.2</td>\n",
       "      <td>1128.5</td>\n",
       "      <td>1137.4</td>\n",
       "      <td>173977.0</td>\n",
       "      <td>278036.0</td>\n",
       "      <td>1136.1</td>\n",
       "      <td>1144.4</td>\n",
       "      <td>1135.5</td>\n",
       "      <td>1142.7</td>\n",
       "      <td>...</td>\n",
       "      <td>0.859876</td>\n",
       "      <td>0.275776</td>\n",
       "      <td>0.795660</td>\n",
       "      <td>0.307822</td>\n",
       "      <td>1</td>\n",
       "      <td>12</td>\n",
       "      <td>12</td>\n",
       "      <td>3</td>\n",
       "      <td>1.780415</td>\n",
       "      <td>0.0</td>\n",
       "    </tr>\n",
       "    <tr>\n",
       "      <th>2018-12-19</th>\n",
       "      <td>1136.1</td>\n",
       "      <td>1144.4</td>\n",
       "      <td>1135.5</td>\n",
       "      <td>1142.7</td>\n",
       "      <td>112908.0</td>\n",
       "      <td>277461.0</td>\n",
       "      <td>1139.8</td>\n",
       "      <td>1141.7</td>\n",
       "      <td>1127.3</td>\n",
       "      <td>1133.6</td>\n",
       "      <td>...</td>\n",
       "      <td>0.795660</td>\n",
       "      <td>0.307822</td>\n",
       "      <td>0.808471</td>\n",
       "      <td>0.346733</td>\n",
       "      <td>2</td>\n",
       "      <td>13</td>\n",
       "      <td>12</td>\n",
       "      <td>3</td>\n",
       "      <td>9.319899</td>\n",
       "      <td>1.0</td>\n",
       "    </tr>\n",
       "    <tr>\n",
       "      <th>2018-12-20</th>\n",
       "      <td>1139.8</td>\n",
       "      <td>1141.7</td>\n",
       "      <td>1127.3</td>\n",
       "      <td>1133.6</td>\n",
       "      <td>138335.0</td>\n",
       "      <td>277398.0</td>\n",
       "      <td>1134.0</td>\n",
       "      <td>1138.8</td>\n",
       "      <td>1131.0</td>\n",
       "      <td>1133.2</td>\n",
       "      <td>...</td>\n",
       "      <td>0.795660</td>\n",
       "      <td>0.307822</td>\n",
       "      <td>0.808471</td>\n",
       "      <td>0.346733</td>\n",
       "      <td>3</td>\n",
       "      <td>14</td>\n",
       "      <td>12</td>\n",
       "      <td>3</td>\n",
       "      <td>0.000000</td>\n",
       "      <td>-1.0</td>\n",
       "    </tr>\n",
       "  </tbody>\n",
       "</table>\n",
       "<p>20 rows × 3046 columns</p>\n",
       "</div>"
      ],
      "text/plain": [
       "              0       1       2       3         4         5       6     \\\n",
       "2018-11-23  1213.5  1220.9  1205.6  1211.2  202123.0  199751.0  1212.6   \n",
       "2018-11-26  1212.6  1214.7  1181.2  1189.3  353644.0  164500.0  1189.4   \n",
       "2018-11-27  1189.4  1192.7  1170.3  1178.4  288389.0  106069.0  1184.4   \n",
       "2018-11-28  1184.4  1197.2  1182.4  1190.8  177818.0   77556.0  1196.6   \n",
       "2018-11-29  1196.6  1197.7  1182.6  1190.8  196186.0  259190.0  1190.7   \n",
       "2018-11-30  1190.7  1196.8  1171.3  1173.9  236195.0  271613.0  1175.1   \n",
       "2018-12-03  1175.1  1178.4  1162.2  1169.4  216866.0  273896.0  1174.3   \n",
       "2018-12-04  1174.3  1180.3  1168.4  1177.8  169593.0  273718.0  1182.6   \n",
       "2018-12-05  1182.6  1190.2  1158.6  1176.5  212507.0  275782.0  1172.8   \n",
       "2018-12-06  1172.8  1177.1  1168.1  1170.1  131034.0  271766.0  1171.4   \n",
       "2018-12-07  1171.4  1182.3  1167.2  1177.5  138151.0  269789.0  1176.1   \n",
       "2018-12-10  1176.1  1180.7  1170.9  1172.4  142683.0  272867.0  1172.5   \n",
       "2018-12-11  1172.5  1173.8  1157.6  1161.9  154624.0  270743.0  1161.4   \n",
       "2018-12-12  1161.4  1167.9  1152.5  1165.8  159925.0  270195.0  1164.5   \n",
       "2018-12-13  1164.5  1167.0  1156.3  1159.0  136465.0  272335.0  1159.8   \n",
       "2018-12-14  1159.8  1168.0  1140.0  1163.7  206337.0  272962.0  1143.8   \n",
       "2018-12-17  1143.8  1146.0  1124.3  1129.8  264010.0  278134.0  1130.5   \n",
       "2018-12-18  1130.5  1143.2  1128.5  1137.4  173977.0  278036.0  1136.1   \n",
       "2018-12-19  1136.1  1144.4  1135.5  1142.7  112908.0  277461.0  1139.8   \n",
       "2018-12-20  1139.8  1141.7  1127.3  1133.6  138335.0  277398.0  1134.0   \n",
       "\n",
       "              7       8       9     ...       3036      3037      3038  \\\n",
       "2018-11-23  1214.7  1181.2  1189.3  ...   0.942235  0.087364  0.916625   \n",
       "2018-11-26  1192.7  1170.3  1178.4  ...   0.942235  0.087364  0.916625   \n",
       "2018-11-27  1197.2  1182.4  1190.8  ...   0.942235  0.087364  0.916625   \n",
       "2018-11-28  1197.7  1182.6  1190.8  ...   0.916625  0.162104  0.957183   \n",
       "2018-11-29  1196.8  1171.3  1173.9  ...   0.916625  0.162104  0.957183   \n",
       "2018-11-30  1178.4  1162.2  1169.4  ...   0.916625  0.162104  0.957183   \n",
       "2018-12-03  1180.3  1168.4  1177.8  ...   0.916625  0.162104  0.957183   \n",
       "2018-12-04  1190.2  1158.6  1176.5  ...   0.916625  0.162104  0.957183   \n",
       "2018-12-05  1177.1  1168.1  1170.1  ...   0.957183  0.139100  0.859876   \n",
       "2018-12-06  1182.3  1167.2  1177.5  ...   0.957183  0.139100  0.859876   \n",
       "2018-12-07  1180.7  1170.9  1172.4  ...   0.957183  0.139100  0.859876   \n",
       "2018-12-10  1173.8  1157.6  1161.9  ...   0.957183  0.139100  0.859876   \n",
       "2018-12-11  1167.9  1152.5  1165.8  ...   0.957183  0.139100  0.859876   \n",
       "2018-12-12  1167.0  1156.3  1159.0  ...   0.859876  0.275776  0.795660   \n",
       "2018-12-13  1168.0  1140.0  1163.7  ...   0.859876  0.275776  0.795660   \n",
       "2018-12-14  1146.0  1124.3  1129.8  ...   0.859876  0.275776  0.795660   \n",
       "2018-12-17  1143.2  1128.5  1137.4  ...   0.859876  0.275776  0.795660   \n",
       "2018-12-18  1144.4  1135.5  1142.7  ...   0.859876  0.275776  0.795660   \n",
       "2018-12-19  1141.7  1127.3  1133.6  ...   0.795660  0.307822  0.808471   \n",
       "2018-12-20  1138.8  1131.0  1133.2  ...   0.795660  0.307822  0.808471   \n",
       "\n",
       "                3039  3040  3041  3042  3043       3044  3045  \n",
       "2018-11-23  0.162104     4    17    11     3  36.363636   0.0  \n",
       "2018-11-26  0.162104     0    18    11     3  38.277512  -1.0  \n",
       "2018-11-27  0.162104     1    19    11     3  59.808612   1.0  \n",
       "2018-11-28  0.139100     2    20    11     3  21.282799   0.0  \n",
       "2018-11-29  0.139100     3    21    11     3  19.825073   0.0  \n",
       "2018-11-30  0.139100     4    22    11     3  31.195335   1.0  \n",
       "2018-12-03  0.139100     0     1    12     3   0.533333   1.0  \n",
       "2018-12-04  0.139100     1     2    12     3   0.692841   0.0  \n",
       "2018-12-05  0.275776     2     3    12     3  12.536443   0.0  \n",
       "2018-12-06  0.275776     3     4    12     3  18.584071   1.0  \n",
       "2018-12-07  0.275776     4     5    12     3   7.633588  -1.0  \n",
       "2018-12-10  0.275776     0     6    12     3  15.521628   0.0  \n",
       "2018-12-11  0.275776     1     7    12     3  20.101781   0.0  \n",
       "2018-12-12  0.307822     2     8    12     3  13.740458   0.0  \n",
       "2018-12-13  0.307822     3     9    12     3  18.066158   0.0  \n",
       "2018-12-14  0.307822     4    10    12     3  32.569975   1.0  \n",
       "2018-12-17  0.307822     0    11    12     3   6.106870   0.0  \n",
       "2018-12-18  0.307822     1    12    12     3   1.780415   0.0  \n",
       "2018-12-19  0.346733     2    13    12     3   9.319899   1.0  \n",
       "2018-12-20  0.346733     3    14    12     3   0.000000  -1.0  \n",
       "\n",
       "[20 rows x 3046 columns]"
      ]
     },
     "execution_count": 46,
     "metadata": {},
     "output_type": "execute_result"
    }
   ],
   "source": [
    "gold_data.tail(20)"
   ]
  },
  {
   "cell_type": "code",
   "execution_count": 47,
   "metadata": {},
   "outputs": [
    {
     "data": {
      "text/plain": [
       "(2663, 3046)"
      ]
     },
     "execution_count": 47,
     "metadata": {},
     "output_type": "execute_result"
    }
   ],
   "source": [
    "gold_data.shape"
   ]
  },
  {
   "cell_type": "code",
   "execution_count": 48,
   "metadata": {},
   "outputs": [
    {
     "data": {
      "text/html": [
       "<div>\n",
       "<style scoped>\n",
       "    .dataframe tbody tr th:only-of-type {\n",
       "        vertical-align: middle;\n",
       "    }\n",
       "\n",
       "    .dataframe tbody tr th {\n",
       "        vertical-align: top;\n",
       "    }\n",
       "\n",
       "    .dataframe thead th {\n",
       "        text-align: right;\n",
       "    }\n",
       "</style>\n",
       "<table border=\"1\" class=\"dataframe\">\n",
       "  <thead>\n",
       "    <tr style=\"text-align: right;\">\n",
       "      <th></th>\n",
       "      <th>Prod_net_position_perc</th>\n",
       "      <th>Money_manager_net_position_perc</th>\n",
       "    </tr>\n",
       "    <tr>\n",
       "      <th>Date</th>\n",
       "      <th></th>\n",
       "      <th></th>\n",
       "    </tr>\n",
       "  </thead>\n",
       "  <tbody>\n",
       "    <tr>\n",
       "      <th>2006-06-13</th>\n",
       "      <td>NaN</td>\n",
       "      <td>NaN</td>\n",
       "    </tr>\n",
       "    <tr>\n",
       "      <th>2006-06-20</th>\n",
       "      <td>1.000000</td>\n",
       "      <td>0.000000</td>\n",
       "    </tr>\n",
       "    <tr>\n",
       "      <th>2006-06-27</th>\n",
       "      <td>1.000000</td>\n",
       "      <td>0.000000</td>\n",
       "    </tr>\n",
       "    <tr>\n",
       "      <th>2006-07-03</th>\n",
       "      <td>0.919154</td>\n",
       "      <td>0.246529</td>\n",
       "    </tr>\n",
       "    <tr>\n",
       "      <th>2006-07-11</th>\n",
       "      <td>0.792600</td>\n",
       "      <td>1.000000</td>\n",
       "    </tr>\n",
       "  </tbody>\n",
       "</table>\n",
       "</div>"
      ],
      "text/plain": [
       "            Prod_net_position_perc  Money_manager_net_position_perc\n",
       "Date                                                               \n",
       "2006-06-13                     NaN                              NaN\n",
       "2006-06-20                1.000000                         0.000000\n",
       "2006-06-27                1.000000                         0.000000\n",
       "2006-07-03                0.919154                         0.246529\n",
       "2006-07-11                0.792600                         1.000000"
      ]
     },
     "execution_count": 48,
     "metadata": {},
     "output_type": "execute_result"
    }
   ],
   "source": [
    "gold_cot.head(5)"
   ]
  },
  {
   "cell_type": "code",
   "execution_count": 49,
   "metadata": {},
   "outputs": [],
   "source": [
    "gold_data = gold_data.loc[gold_data.index >= '2007-01-01']\n",
    "corn_data = corn_data.loc[corn_data.index >= '2007-01-01']\n",
    "coffee_data = coffee_data.loc[coffee_data.index >= '2007-01-01']"
   ]
  },
  {
   "cell_type": "code",
   "execution_count": 57,
   "metadata": {},
   "outputs": [],
   "source": [
    "from sklearn.decomposition import PCA\n",
    "from sklearn.model_selection import train_test_split\n",
    "from sklearn.decomposition import FactorAnalysis\n",
    "\n",
    "validate_date = '2018-01-01'\n",
    "\n",
    "\n",
    "def data_split_pca_transform(df):\n",
    "    global validate_date\n",
    "    label_index = 3045\n",
    "    df_validate = df.loc[validate_date <= df.index]\n",
    "    df_data_tt = df.loc[validate_date > df.index]\n",
    "    df_train, df_test, label_train, label_test = train_test_split(df_data_tt[list(range(label_index))], df_data_tt[label_index], test_size=0.2, random_state=2242)\n",
    "    \n",
    "    pca = PCA(n_components=10, random_state=2234)\n",
    "    # pca = FactorAnalysis(n_components=5, random_state=2234)\n",
    "    pca.fit(df_train[list(range(3040))])\n",
    "    \n",
    "    return df_train, df_test, label_train, label_test, df_validate[list(range(label_index))], df_validate[label_index], pca\n",
    "\n",
    "\n",
    "def pca_transform(df, pca):\n",
    "    label_index = 3045\n",
    "    df_pca = pca.transform(df[list(range(3040))])\n",
    "    \n",
    "    df_pca = np.concatenate((df_pca, df[list(range(3040,label_index))].values), axis=1)\n",
    "    return df_pca"
   ]
  },
  {
   "cell_type": "code",
   "execution_count": 58,
   "metadata": {},
   "outputs": [],
   "source": [
    "gold_train, gold_test, gold_label_train, gold_label_test, gold_validate, gold_label_validate, gold_pca = data_split_pca_transform(gold_data)\n",
    "# gold_train, gold_label_train, gold_validate, gold_label_validate, gold_pca = data_split_pca_transform(gold_data)\n",
    "corn_train, corn_test, corn_label_train, corn_label_test, corn_validate, corn_label_validate, corn_pca = data_split_pca_transform(corn_data)\n",
    "coffee_train, coffee_test, coffee_label_train, coffee_label_test, coffee_validate, coffee_label_validate, coffee_pca = data_split_pca_transform(coffee_data)"
   ]
  },
  {
   "cell_type": "code",
   "execution_count": 59,
   "metadata": {},
   "outputs": [
    {
     "data": {
      "image/png": "[encoded data removed]",
      "text/plain": [
       "<Figure size 432x288 with 1 Axes>"
      ]
     },
     "metadata": {
      "needs_background": "light"
     },
     "output_type": "display_data"
    }
   ],
   "source": [
    "plt.plot(np.cumsum(gold_pca.explained_variance_ratio_), label='Gold')\n",
    "plt.plot(np.cumsum(corn_pca.explained_variance_ratio_), label='Corn')\n",
    "plt.plot(np.cumsum(coffee_pca.explained_variance_ratio_), label='Coffee')\n",
    "plt.xlabel('number of components')\n",
    "plt.ylabel('cumulative explained variance')\n",
    "plt.legend()\n",
    "plt.show()"
   ]
  },
  {
   "cell_type": "code",
   "execution_count": 60,
   "metadata": {},
   "outputs": [],
   "source": [
    "# np.cumsum(gold_pca.explained_variance_ratio_)[268]"
   ]
  },
  {
   "cell_type": "code",
   "execution_count": 61,
   "metadata": {},
   "outputs": [
    {
     "data": {
      "text/html": [
       "<div>\n",
       "<style scoped>\n",
       "    .dataframe tbody tr th:only-of-type {\n",
       "        vertical-align: middle;\n",
       "    }\n",
       "\n",
       "    .dataframe tbody tr th {\n",
       "        vertical-align: top;\n",
       "    }\n",
       "\n",
       "    .dataframe thead th {\n",
       "        text-align: right;\n",
       "    }\n",
       "</style>\n",
       "<table border=\"1\" class=\"dataframe\">\n",
       "  <thead>\n",
       "    <tr style=\"text-align: right;\">\n",
       "      <th></th>\n",
       "      <th>0</th>\n",
       "      <th>1</th>\n",
       "      <th>2</th>\n",
       "      <th>3</th>\n",
       "      <th>4</th>\n",
       "      <th>5</th>\n",
       "      <th>6</th>\n",
       "      <th>7</th>\n",
       "      <th>8</th>\n",
       "      <th>9</th>\n",
       "      <th>...</th>\n",
       "      <th>3036</th>\n",
       "      <th>3037</th>\n",
       "      <th>3038</th>\n",
       "      <th>3039</th>\n",
       "      <th>3040</th>\n",
       "      <th>3041</th>\n",
       "      <th>3042</th>\n",
       "      <th>3043</th>\n",
       "      <th>3044</th>\n",
       "      <th>3045</th>\n",
       "    </tr>\n",
       "  </thead>\n",
       "  <tbody>\n",
       "    <tr>\n",
       "      <th>2008-06-06</th>\n",
       "      <td>590.5</td>\n",
       "      <td>595.0</td>\n",
       "      <td>565.5</td>\n",
       "      <td>566.8</td>\n",
       "      <td>93899.0</td>\n",
       "      <td>192616.0</td>\n",
       "      <td>570.0</td>\n",
       "      <td>575.5</td>\n",
       "      <td>565.4</td>\n",
       "      <td>566.5</td>\n",
       "      <td>...</td>\n",
       "      <td>0.326013</td>\n",
       "      <td>0.772383</td>\n",
       "      <td>0.383662</td>\n",
       "      <td>0.698322</td>\n",
       "      <td>4</td>\n",
       "      <td>5</td>\n",
       "      <td>6</td>\n",
       "      <td>1</td>\n",
       "      <td>53.766617</td>\n",
       "      <td>-1.0</td>\n",
       "    </tr>\n",
       "    <tr>\n",
       "      <th>2008-06-09</th>\n",
       "      <td>570.0</td>\n",
       "      <td>575.5</td>\n",
       "      <td>565.4</td>\n",
       "      <td>566.5</td>\n",
       "      <td>68729.0</td>\n",
       "      <td>192917.0</td>\n",
       "      <td>573.5</td>\n",
       "      <td>579.5</td>\n",
       "      <td>569.5</td>\n",
       "      <td>570.3</td>\n",
       "      <td>...</td>\n",
       "      <td>0.326013</td>\n",
       "      <td>0.772383</td>\n",
       "      <td>0.383662</td>\n",
       "      <td>0.698322</td>\n",
       "      <td>0</td>\n",
       "      <td>6</td>\n",
       "      <td>6</td>\n",
       "      <td>1</td>\n",
       "      <td>55.096012</td>\n",
       "      <td>-1.0</td>\n",
       "    </tr>\n",
       "    <tr>\n",
       "      <th>2008-06-10</th>\n",
       "      <td>573.5</td>\n",
       "      <td>579.5</td>\n",
       "      <td>569.5</td>\n",
       "      <td>570.3</td>\n",
       "      <td>52628.0</td>\n",
       "      <td>193887.0</td>\n",
       "      <td>581.2</td>\n",
       "      <td>582.5</td>\n",
       "      <td>570.5</td>\n",
       "      <td>581.7</td>\n",
       "      <td>...</td>\n",
       "      <td>0.326013</td>\n",
       "      <td>0.772383</td>\n",
       "      <td>0.383662</td>\n",
       "      <td>0.698322</td>\n",
       "      <td>1</td>\n",
       "      <td>7</td>\n",
       "      <td>6</td>\n",
       "      <td>1</td>\n",
       "      <td>93.449782</td>\n",
       "      <td>1.0</td>\n",
       "    </tr>\n",
       "    <tr>\n",
       "      <th>2008-06-11</th>\n",
       "      <td>581.2</td>\n",
       "      <td>582.5</td>\n",
       "      <td>570.5</td>\n",
       "      <td>581.7</td>\n",
       "      <td>43947.0</td>\n",
       "      <td>189585.0</td>\n",
       "      <td>572.8</td>\n",
       "      <td>578.4</td>\n",
       "      <td>571.0</td>\n",
       "      <td>572.4</td>\n",
       "      <td>...</td>\n",
       "      <td>0.383662</td>\n",
       "      <td>0.698322</td>\n",
       "      <td>0.485835</td>\n",
       "      <td>0.584221</td>\n",
       "      <td>2</td>\n",
       "      <td>8</td>\n",
       "      <td>6</td>\n",
       "      <td>1</td>\n",
       "      <td>76.419214</td>\n",
       "      <td>-1.0</td>\n",
       "    </tr>\n",
       "    <tr>\n",
       "      <th>2008-06-12</th>\n",
       "      <td>572.8</td>\n",
       "      <td>578.4</td>\n",
       "      <td>571.0</td>\n",
       "      <td>572.4</td>\n",
       "      <td>27362.0</td>\n",
       "      <td>189168.0</td>\n",
       "      <td>572.0</td>\n",
       "      <td>581.0</td>\n",
       "      <td>567.8</td>\n",
       "      <td>580.5</td>\n",
       "      <td>...</td>\n",
       "      <td>0.383662</td>\n",
       "      <td>0.698322</td>\n",
       "      <td>0.485835</td>\n",
       "      <td>0.584221</td>\n",
       "      <td>3</td>\n",
       "      <td>9</td>\n",
       "      <td>6</td>\n",
       "      <td>1</td>\n",
       "      <td>82.535211</td>\n",
       "      <td>0.0</td>\n",
       "    </tr>\n",
       "    <tr>\n",
       "      <th>2008-06-13</th>\n",
       "      <td>572.0</td>\n",
       "      <td>581.0</td>\n",
       "      <td>567.8</td>\n",
       "      <td>580.5</td>\n",
       "      <td>39962.0</td>\n",
       "      <td>187696.0</td>\n",
       "      <td>577.0</td>\n",
       "      <td>591.5</td>\n",
       "      <td>573.5</td>\n",
       "      <td>591.0</td>\n",
       "      <td>...</td>\n",
       "      <td>0.383662</td>\n",
       "      <td>0.698322</td>\n",
       "      <td>0.485835</td>\n",
       "      <td>0.584221</td>\n",
       "      <td>4</td>\n",
       "      <td>10</td>\n",
       "      <td>6</td>\n",
       "      <td>1</td>\n",
       "      <td>80.985915</td>\n",
       "      <td>1.0</td>\n",
       "    </tr>\n",
       "    <tr>\n",
       "      <th>2008-06-16</th>\n",
       "      <td>577.0</td>\n",
       "      <td>591.5</td>\n",
       "      <td>573.5</td>\n",
       "      <td>591.0</td>\n",
       "      <td>43918.0</td>\n",
       "      <td>187072.0</td>\n",
       "      <td>588.0</td>\n",
       "      <td>593.5</td>\n",
       "      <td>584.5</td>\n",
       "      <td>585.4</td>\n",
       "      <td>...</td>\n",
       "      <td>0.383662</td>\n",
       "      <td>0.698322</td>\n",
       "      <td>0.485835</td>\n",
       "      <td>0.584221</td>\n",
       "      <td>0</td>\n",
       "      <td>11</td>\n",
       "      <td>6</td>\n",
       "      <td>1</td>\n",
       "      <td>49.527410</td>\n",
       "      <td>0.0</td>\n",
       "    </tr>\n",
       "    <tr>\n",
       "      <th>2008-06-17</th>\n",
       "      <td>588.0</td>\n",
       "      <td>593.5</td>\n",
       "      <td>584.5</td>\n",
       "      <td>585.4</td>\n",
       "      <td>42916.0</td>\n",
       "      <td>187027.0</td>\n",
       "      <td>574.5</td>\n",
       "      <td>589.0</td>\n",
       "      <td>574.5</td>\n",
       "      <td>588.0</td>\n",
       "      <td>...</td>\n",
       "      <td>0.383662</td>\n",
       "      <td>0.698322</td>\n",
       "      <td>0.485835</td>\n",
       "      <td>0.584221</td>\n",
       "      <td>1</td>\n",
       "      <td>12</td>\n",
       "      <td>6</td>\n",
       "      <td>1</td>\n",
       "      <td>48.393195</td>\n",
       "      <td>1.0</td>\n",
       "    </tr>\n",
       "    <tr>\n",
       "      <th>2008-06-18</th>\n",
       "      <td>574.5</td>\n",
       "      <td>589.0</td>\n",
       "      <td>574.5</td>\n",
       "      <td>588.0</td>\n",
       "      <td>33705.0</td>\n",
       "      <td>181290.0</td>\n",
       "      <td>586.2</td>\n",
       "      <td>589.5</td>\n",
       "      <td>580.0</td>\n",
       "      <td>587.7</td>\n",
       "      <td>...</td>\n",
       "      <td>0.485835</td>\n",
       "      <td>0.584221</td>\n",
       "      <td>0.511890</td>\n",
       "      <td>0.604415</td>\n",
       "      <td>2</td>\n",
       "      <td>13</td>\n",
       "      <td>6</td>\n",
       "      <td>1</td>\n",
       "      <td>35.916824</td>\n",
       "      <td>1.0</td>\n",
       "    </tr>\n",
       "    <tr>\n",
       "      <th>2008-06-19</th>\n",
       "      <td>586.2</td>\n",
       "      <td>589.5</td>\n",
       "      <td>580.0</td>\n",
       "      <td>587.7</td>\n",
       "      <td>30510.0</td>\n",
       "      <td>181460.0</td>\n",
       "      <td>589.5</td>\n",
       "      <td>599.0</td>\n",
       "      <td>583.7</td>\n",
       "      <td>584.4</td>\n",
       "      <td>...</td>\n",
       "      <td>0.485835</td>\n",
       "      <td>0.584221</td>\n",
       "      <td>0.511890</td>\n",
       "      <td>0.604415</td>\n",
       "      <td>3</td>\n",
       "      <td>14</td>\n",
       "      <td>6</td>\n",
       "      <td>1</td>\n",
       "      <td>15.689981</td>\n",
       "      <td>0.0</td>\n",
       "    </tr>\n",
       "  </tbody>\n",
       "</table>\n",
       "<p>10 rows × 3046 columns</p>\n",
       "</div>"
      ],
      "text/plain": [
       "             0      1      2      3        4         5      6      7     \\\n",
       "2008-06-06  590.5  595.0  565.5  566.8  93899.0  192616.0  570.0  575.5   \n",
       "2008-06-09  570.0  575.5  565.4  566.5  68729.0  192917.0  573.5  579.5   \n",
       "2008-06-10  573.5  579.5  569.5  570.3  52628.0  193887.0  581.2  582.5   \n",
       "2008-06-11  581.2  582.5  570.5  581.7  43947.0  189585.0  572.8  578.4   \n",
       "2008-06-12  572.8  578.4  571.0  572.4  27362.0  189168.0  572.0  581.0   \n",
       "2008-06-13  572.0  581.0  567.8  580.5  39962.0  187696.0  577.0  591.5   \n",
       "2008-06-16  577.0  591.5  573.5  591.0  43918.0  187072.0  588.0  593.5   \n",
       "2008-06-17  588.0  593.5  584.5  585.4  42916.0  187027.0  574.5  589.0   \n",
       "2008-06-18  574.5  589.0  574.5  588.0  33705.0  181290.0  586.2  589.5   \n",
       "2008-06-19  586.2  589.5  580.0  587.7  30510.0  181460.0  589.5  599.0   \n",
       "\n",
       "             8      9     ...       3036      3037      3038      3039  3040  \\\n",
       "2008-06-06  565.4  566.5  ...   0.326013  0.772383  0.383662  0.698322     4   \n",
       "2008-06-09  569.5  570.3  ...   0.326013  0.772383  0.383662  0.698322     0   \n",
       "2008-06-10  570.5  581.7  ...   0.326013  0.772383  0.383662  0.698322     1   \n",
       "2008-06-11  571.0  572.4  ...   0.383662  0.698322  0.485835  0.584221     2   \n",
       "2008-06-12  567.8  580.5  ...   0.383662  0.698322  0.485835  0.584221     3   \n",
       "2008-06-13  573.5  591.0  ...   0.383662  0.698322  0.485835  0.584221     4   \n",
       "2008-06-16  584.5  585.4  ...   0.383662  0.698322  0.485835  0.584221     0   \n",
       "2008-06-17  574.5  588.0  ...   0.383662  0.698322  0.485835  0.584221     1   \n",
       "2008-06-18  580.0  587.7  ...   0.485835  0.584221  0.511890  0.604415     2   \n",
       "2008-06-19  583.7  584.4  ...   0.485835  0.584221  0.511890  0.604415     3   \n",
       "\n",
       "            3041  3042  3043       3044  3045  \n",
       "2008-06-06     5     6     1  53.766617  -1.0  \n",
       "2008-06-09     6     6     1  55.096012  -1.0  \n",
       "2008-06-10     7     6     1  93.449782   1.0  \n",
       "2008-06-11     8     6     1  76.419214  -1.0  \n",
       "2008-06-12     9     6     1  82.535211   0.0  \n",
       "2008-06-13    10     6     1  80.985915   1.0  \n",
       "2008-06-16    11     6     1  49.527410   0.0  \n",
       "2008-06-17    12     6     1  48.393195   1.0  \n",
       "2008-06-18    13     6     1  35.916824   1.0  \n",
       "2008-06-19    14     6     1  15.689981   0.0  \n",
       "\n",
       "[10 rows x 3046 columns]"
      ]
     },
     "execution_count": 61,
     "metadata": {},
     "output_type": "execute_result"
    }
   ],
   "source": [
    "gold_data.head(10)"
   ]
  },
  {
   "cell_type": "code",
   "execution_count": 62,
   "metadata": {},
   "outputs": [],
   "source": [
    "%%capture cpt_gold_train\n",
    "from sklearn.ensemble import RandomForestClassifier\n",
    "from sklearn.ensemble import AdaBoostClassifier, AdaBoostRegressor\n",
    "from sklearn.neural_network import MLPClassifier, MLPRegressor\n",
    "from sklearn.model_selection import GridSearchCV, GroupKFold\n",
    "import lightgbm as lgb\n",
    "# import xgboost as xgb\n",
    "\n",
    "categoricals = [10, 11, 12, 13]\n",
    "X = pca_transform(gold_train, gold_pca)\n",
    "y = list(map(lambda x: 1 if x < 0 else 0, gold_label_train))\n",
    "train_data = lgb.Dataset(X, label=y, categorical_feature=categoricals) # categorical_feature=[3040,3041,3042,3043])\n",
    "X_test = pca_transform(gold_test, gold_pca)\n",
    "y_test = list(map(lambda x: 1 if x < 0 else 0, gold_label_test))\n",
    "test_data = lgb.Dataset(X_test, label=y_test, categorical_feature=categoricals)\n",
    "\n",
    "gold_short = True\n",
    "\n",
    "param = {}\n",
    "param['num_leaves'] = 31\n",
    "param['objective'] = 'binary'\n",
    "param['boosting'] = 'dart'\n",
    "param['metric'] = 'binary_error'\n",
    "param['learning_rate'] = 0.05\n",
    "param['num_class'] = 1\n",
    "param['max_bin'] = 40\n",
    "param['reg_alpha'] = 5\n",
    "param['reg_lambda'] = 10\n",
    "num_round = 100\n",
    "\n",
    "gold_clf = lgb.train(param, train_data, num_round, valid_sets=[test_data])"
   ]
  },
  {
   "cell_type": "code",
   "execution_count": 63,
   "metadata": {
    "scrolled": true
   },
   "outputs": [],
   "source": [
    "%%capture cpt_corn_train\n",
    "X = pca_transform(corn_train, corn_pca)\n",
    "y = list(map(lambda x: 1 if x < 0 else 0, corn_label_train))\n",
    "train_data = lgb.Dataset(X, label=y, categorical_feature=categoricals)\n",
    "X_test = pca_transform(corn_test, corn_pca)\n",
    "y_test = list(map(lambda x: 1 if x < 0 else 0, corn_label_test))\n",
    "test_data = lgb.Dataset(X_test, label=y_test, categorical_feature=categoricals)\n",
    "corn_short = True\n",
    "corn_clf = lgb.train(param, train_data, num_round, valid_sets=[test_data])"
   ]
  },
  {
   "cell_type": "code",
   "execution_count": 64,
   "metadata": {
    "scrolled": true
   },
   "outputs": [],
   "source": [
    "%%capture cpt_coffee_train\n",
    "X = pca_transform(coffee_train, coffee_pca)\n",
    "y = list(map(lambda x: 1 if x < 0 else 0, coffee_label_train))\n",
    "train_data = lgb.Dataset(X, label=y, categorical_feature=categoricals)\n",
    "X_test = pca_transform(coffee_test, coffee_pca)\n",
    "y_test = list(map(lambda x: 1 if x < 0 else 0, coffee_label_test))\n",
    "test_data = lgb.Dataset(X_test, label=y_test, categorical_feature=categoricals)\n",
    "coffee_short = True\n",
    "coffee_clf = lgb.train(param, train_data, num_round, valid_sets=[test_data])"
   ]
  },
  {
   "cell_type": "code",
   "execution_count": 65,
   "metadata": {},
   "outputs": [],
   "source": [
    "# rework with numpy cumsum\n",
    "\n",
    "def get_performance(model, pca, df_gains, df, labels, short=gold_short, multi_class=False, stop_loss=500, vector=False):\n",
    "    global account_size, fee\n",
    "    acc = account_size\n",
    "    df = pca_transform(df, pca)\n",
    "    if short:\n",
    "        target = -1.0\n",
    "    else:\n",
    "        target = 1.0\n",
    "    preds = model.predict(df)\n",
    "    # print(np.unique(preds))\n",
    "    if vector:\n",
    "        preds = [p[0] for p in preds]\n",
    "        # ps = []\n",
    "        # for p, r in preds:\n",
    "        #     if p > 0.5 and p > r:\n",
    "        #         ps.append(p)\n",
    "        # preds = ps\n",
    "    predictions = []\n",
    "    if not multi_class:\n",
    "        mx = 0\n",
    "        for p in preds:\n",
    "            # print(p)\n",
    "            if p > mx:\n",
    "                # print(mx)\n",
    "                mx = p\n",
    "            if p > 0.5:\n",
    "                predictions.append(target)\n",
    "            else:\n",
    "                predictions.append(0)\n",
    "    else:\n",
    "        mx = 0\n",
    "        for t, n in preds:\n",
    "            # if t > mx:\n",
    "            #     print(mx)\n",
    "            #     mx = t\n",
    "            if t > 0.5:\n",
    "                print(t, n)\n",
    "                predictions.append(target)\n",
    "            else:\n",
    "                predictions.append(0)\n",
    "    dct = {}\n",
    "    dct['account'] = [acc]\n",
    "    dct['trade'] = [0]\n",
    "    dct['label'] = [0]\n",
    "    dct['short'] = [0]\n",
    "    dct['long'] = [0]\n",
    "    dct['trade'] = [0]\n",
    "    dct['label'] = [0]\n",
    "    dct['stop_loss'] = [0]\n",
    "    dct['gains'] = [0]\n",
    "    for p, l, v in zip(predictions, labels, df_gains.values):\n",
    "        # print(p, l)\n",
    "        # print(p,l)\n",
    "        # print(p)\n",
    "        short = 0\n",
    "        long = 0\n",
    "        s_l = 0\n",
    "        gains = 0\n",
    "        if p == -1.0:\n",
    "            # print(\"Short \", p, l)\n",
    "            short = 1\n",
    "            if (v[2] - v[1]) > stop_loss:\n",
    "                gains = -stop_loss\n",
    "                s_l = 1\n",
    "            else:\n",
    "                gains = -v[0] - fee\n",
    "        elif p == 1.0:\n",
    "            long = 1\n",
    "            if (v[1] - v[3]) > stop_loss:\n",
    "                gains = -stop_loss\n",
    "                s_l = 1\n",
    "            else:\n",
    "                gains = v[0] - fee\n",
    "        acc += gains\n",
    "        dct['account'].append(acc)\n",
    "        dct['short'].append(short)\n",
    "        dct['long'].append(long)\n",
    "        dct['stop_loss'].append(s_l)\n",
    "        dct['trade'].append(p)\n",
    "        dct['label'].append(l)\n",
    "        dct['gains'].append(gains)\n",
    "        if acc <= 0:\n",
    "            break\n",
    "    return pd.DataFrame.from_dict(dct)"
   ]
  },
  {
   "cell_type": "code",
   "execution_count": 66,
   "metadata": {
    "scrolled": true
   },
   "outputs": [
    {
     "data": {
      "text/plain": [
       "(0, 24334.00000000002)"
      ]
     },
     "execution_count": 66,
     "metadata": {},
     "output_type": "execute_result"
    },
    {
     "data": {
      "image/png": "[encoded data removed]",
      "text/plain": [
       "<Figure size 432x288 with 1 Axes>"
      ]
     },
     "metadata": {
      "needs_background": "light"
     },
     "output_type": "display_data"
    }
   ],
   "source": [
    "gold_account = get_performance(gold_clf, gold_pca, gold_gains.loc[gold_gains.index > validate_date], gold_validate, gold_label_validate, short=True, stop_loss=1000)\n",
    "ax1 = gold_account[['account']].plot()\n",
    "ax1.set_ylim(0,gold_account.account.max()+500)"
   ]
  },
  {
   "cell_type": "code",
   "execution_count": 67,
   "metadata": {},
   "outputs": [
    {
     "data": {
      "text/plain": [
       "array([[<matplotlib.axes._subplots.AxesSubplot object at 0x7fcbc2d92780>,\n",
       "        <matplotlib.axes._subplots.AxesSubplot object at 0x7fcbc2d72da0>]],\n",
       "      dtype=object)"
      ]
     },
     "execution_count": 67,
     "metadata": {},
     "output_type": "execute_result"
    },
    {
     "data": {
      "image/png": "[encoded data removed]",
      "text/plain": [
       "<Figure size 432x288 with 2 Axes>"
      ]
     },
     "metadata": {
      "needs_background": "light"
     },
     "output_type": "display_data"
    }
   ],
   "source": [
    "gold_account[gold_account.short == 1][['label', 'trade']].hist()"
   ]
  },
  {
   "cell_type": "code",
   "execution_count": 68,
   "metadata": {},
   "outputs": [
    {
     "data": {
      "text/plain": [
       "array([[<matplotlib.axes._subplots.AxesSubplot object at 0x7fcbc2e9cf28>,\n",
       "        <matplotlib.axes._subplots.AxesSubplot object at 0x7fcbb974eef0>]],\n",
       "      dtype=object)"
      ]
     },
     "execution_count": 68,
     "metadata": {},
     "output_type": "execute_result"
    },
    {
     "data": {
      "image/png": "[encoded data removed]",
      "text/plain": [
       "<Figure size 432x288 with 2 Axes>"
      ]
     },
     "metadata": {
      "needs_background": "light"
     },
     "output_type": "display_data"
    }
   ],
   "source": [
    "gold_account[['trade', 'label']].hist()"
   ]
  },
  {
   "cell_type": "code",
   "execution_count": 69,
   "metadata": {},
   "outputs": [
    {
     "data": {
      "text/plain": [
       "9216.999999999916"
      ]
     },
     "execution_count": 69,
     "metadata": {},
     "output_type": "execute_result"
    }
   ],
   "source": [
    "gold_account[gold_account['short'] == 1].gains.sum()"
   ]
  },
  {
   "cell_type": "code",
   "execution_count": 70,
   "metadata": {},
   "outputs": [
    {
     "data": {
      "text/plain": [
       "0.0"
      ]
     },
     "execution_count": 70,
     "metadata": {},
     "output_type": "execute_result"
    }
   ],
   "source": [
    "gold_account[gold_account['long'] == 1].gains.sum()"
   ]
  },
  {
   "cell_type": "code",
   "execution_count": 71,
   "metadata": {},
   "outputs": [
    {
     "data": {
      "text/plain": [
       "(0, 13301.875)"
      ]
     },
     "execution_count": 71,
     "metadata": {},
     "output_type": "execute_result"
    },
    {
     "data": {
      "image/png": "[encoded data removed]",
      "text/plain": [
       "<Figure size 432x288 with 1 Axes>"
      ]
     },
     "metadata": {
      "needs_background": "light"
     },
     "output_type": "display_data"
    }
   ],
   "source": [
    "corn_account = get_performance(corn_clf, corn_pca, corn_gains.loc[corn_gains.index > validate_date], corn_validate, corn_label_validate, short=True, stop_loss=400)\n",
    "ax1 = corn_account.account.plot()\n",
    "ax1.set_ylim(0,corn_account.account.max()+500)"
   ]
  },
  {
   "cell_type": "code",
   "execution_count": 72,
   "metadata": {},
   "outputs": [
    {
     "data": {
      "text/plain": [
       "1026.125"
      ]
     },
     "execution_count": 72,
     "metadata": {},
     "output_type": "execute_result"
    }
   ],
   "source": [
    "corn_account[corn_account['short'] == 1].gains.sum()"
   ]
  },
  {
   "cell_type": "code",
   "execution_count": 73,
   "metadata": {},
   "outputs": [
    {
     "data": {
      "text/plain": [
       "0.0"
      ]
     },
     "execution_count": 73,
     "metadata": {},
     "output_type": "execute_result"
    }
   ],
   "source": [
    "corn_account[corn_account['long'] == 1].gains.sum()"
   ]
  },
  {
   "cell_type": "code",
   "execution_count": 74,
   "metadata": {},
   "outputs": [
    {
     "data": {
      "text/plain": [
       "<matplotlib.axes._subplots.AxesSubplot at 0x7fcbc2bc4358>"
      ]
     },
     "execution_count": 74,
     "metadata": {},
     "output_type": "execute_result"
    },
    {
     "data": {
      "image/png": "[encoded data removed]",
      "text/plain": [
       "<Figure size 432x288 with 1 Axes>"
      ]
     },
     "metadata": {
      "needs_background": "light"
     },
     "output_type": "display_data"
    }
   ],
   "source": [
    "corn_account[corn_account.short == 1].label.hist()"
   ]
  },
  {
   "cell_type": "code",
   "execution_count": 75,
   "metadata": {},
   "outputs": [
    {
     "data": {
      "text/plain": [
       "array([[<matplotlib.axes._subplots.AxesSubplot object at 0x7fcbc2c3ff60>,\n",
       "        <matplotlib.axes._subplots.AxesSubplot object at 0x7fcbc2ccc748>]],\n",
       "      dtype=object)"
      ]
     },
     "execution_count": 75,
     "metadata": {},
     "output_type": "execute_result"
    },
    {
     "data": {
      "image/png": "[encoded data removed]",
      "text/plain": [
       "<Figure size 432x288 with 2 Axes>"
      ]
     },
     "metadata": {
      "needs_background": "light"
     },
     "output_type": "display_data"
    }
   ],
   "source": [
    "corn_account[['trade', 'label']].hist()"
   ]
  },
  {
   "cell_type": "code",
   "execution_count": 76,
   "metadata": {},
   "outputs": [
    {
     "data": {
      "text/plain": [
       "(0, 11599.874999999998)"
      ]
     },
     "execution_count": 76,
     "metadata": {},
     "output_type": "execute_result"
    },
    {
     "data": {
      "image/png": "[encoded data removed]",
      "text/plain": [
       "<Figure size 432x288 with 1 Axes>"
      ]
     },
     "metadata": {
      "needs_background": "light"
     },
     "output_type": "display_data"
    }
   ],
   "source": [
    "coffee_account = get_performance(coffee_clf, coffee_pca, coffee_gains.loc[coffee_gains.index > validate_date], coffee_validate, coffee_label_validate, short=coffee_short, stop_loss=1000)\n",
    "ax1 = coffee_account.account.plot()\n",
    "ax1.set_ylim(0,coffee_account.account.max()+500)"
   ]
  },
  {
   "cell_type": "code",
   "execution_count": 77,
   "metadata": {},
   "outputs": [
    {
     "data": {
      "text/plain": [
       "1099.8749999999977"
      ]
     },
     "execution_count": 77,
     "metadata": {},
     "output_type": "execute_result"
    }
   ],
   "source": [
    "coffee_account[coffee_account['short'] == 1].gains.sum()"
   ]
  },
  {
   "cell_type": "code",
   "execution_count": 78,
   "metadata": {},
   "outputs": [
    {
     "data": {
      "text/plain": [
       "0.0"
      ]
     },
     "execution_count": 78,
     "metadata": {},
     "output_type": "execute_result"
    }
   ],
   "source": [
    "coffee_account[coffee_account['long'] == 1].gains.sum()"
   ]
  },
  {
   "cell_type": "code",
   "execution_count": 79,
   "metadata": {},
   "outputs": [
    {
     "data": {
      "text/plain": [
       "<matplotlib.axes._subplots.AxesSubplot at 0x7fcbc2b233c8>"
      ]
     },
     "execution_count": 79,
     "metadata": {},
     "output_type": "execute_result"
    },
    {
     "data": {
      "image/png": "[encoded data removed]",
      "text/plain": [
       "<Figure size 432x288 with 1 Axes>"
      ]
     },
     "metadata": {
      "needs_background": "light"
     },
     "output_type": "display_data"
    }
   ],
   "source": [
    "coffee_account[coffee_account.short == 1].label.hist()"
   ]
  },
  {
   "cell_type": "code",
   "execution_count": 80,
   "metadata": {},
   "outputs": [
    {
     "data": {
      "text/plain": [
       "array([[<matplotlib.axes._subplots.AxesSubplot object at 0x7fcbbad067f0>,\n",
       "        <matplotlib.axes._subplots.AxesSubplot object at 0x7fcbbaccd630>]],\n",
       "      dtype=object)"
      ]
     },
     "execution_count": 80,
     "metadata": {},
     "output_type": "execute_result"
    },
    {
     "data": {
      "image/png": "[encoded data removed]",
      "text/plain": [
       "<Figure size 432x288 with 2 Axes>"
      ]
     },
     "metadata": {
      "needs_background": "light"
     },
     "output_type": "display_data"
    }
   ],
   "source": [
    "coffee_account[['trade', 'label']].hist()"
   ]
  },
  {
   "cell_type": "code",
   "execution_count": 81,
   "metadata": {},
   "outputs": [
    {
     "data": {
      "text/plain": [
       "MLPClassifier(activation='relu', alpha=0.01, batch_size='auto', beta_1=0.9,\n",
       "       beta_2=0.999, early_stopping=False, epsilon=1e-08,\n",
       "       hidden_layer_sizes=(10, 20, 2), learning_rate='constant',\n",
       "       learning_rate_init=0.001, max_iter=200, momentum=0.9,\n",
       "       n_iter_no_change=10, nesterovs_momentum=True, power_t=0.5,\n",
       "       random_state=55431, shuffle=True, solver='lbfgs', tol=0.0001,\n",
       "       validation_fraction=0.1, verbose=False, warm_start=False)"
      ]
     },
     "execution_count": 81,
     "metadata": {},
     "output_type": "execute_result"
    }
   ],
   "source": [
    "# %%capture gold_long_train\n",
    "from sklearn.preprocessing import OneHotEncoder\n",
    "from sklearn.neural_network import MLPClassifier\n",
    "\n",
    "X = pca_transform(gold_train, gold_pca)\n",
    "y = list(map(lambda x: 1 if x > 0 else 0, gold_label_train))\n",
    "X_test = pca_transform(gold_test, gold_pca)\n",
    "y_test = list(map(lambda x: 1 if x > 0 else 0, gold_label_test))\n",
    "\n",
    "gold_clf_long = MLPClassifier(solver='lbfgs', alpha=1e-2,\n",
    "                              hidden_layer_sizes=(10, 20, 2), random_state=55431)\n",
    "gold_clf_long.fit(np.concatenate([X, X_test]), np.concatenate([y, y_test]))"
   ]
  },
  {
   "cell_type": "code",
   "execution_count": 82,
   "metadata": {},
   "outputs": [],
   "source": [
    "%%capture training_gold\n",
    "from keras.layers import Dropout, Flatten, Dense, Activation, LeakyReLU\n",
    "from keras.layers.normalization import BatchNormalization\n",
    "from keras.optimizers import Nadam\n",
    "from keras.models import Sequential\n",
    "from keras import regularizers\n",
    "\n",
    "X_train = np.concatenate([X, X_test])\n",
    "y_train = np.array([[1,0] if i==1 else [0,0] for i in np.concatenate([y, y_test])])\n",
    "\n",
    "input_shape = 15\n",
    "num_classes = 1\n",
    "\n",
    "# Define a model\n",
    "model = Sequential()  \n",
    "model.add(Dense(64, input_dim=input_shape, activity_regularizer=regularizers.l2(0.01)))\n",
    "model.add(BatchNormalization())\n",
    "model.add(LeakyReLU())\n",
    "model.add(Dropout(0.5))\n",
    "model.add(Dense(16, activity_regularizer=regularizers.l2(0.01)))\n",
    "model.add(BatchNormalization())\n",
    "model.add(LeakyReLU())\n",
    "model.add(Dense(2))\n",
    "model.add(Activation('softmax'))\n",
    "\n",
    "opt = Nadam(lr=0.002)\n",
    "\n",
    "model.compile(optimizer=opt, loss='categorical_crossentropy', metrics=['accuracy'])\n",
    "model.fit(X_train, y_train, epochs=50)\n",
    "\n",
    "model.summary()"
   ]
  },
  {
   "cell_type": "code",
   "execution_count": 83,
   "metadata": {},
   "outputs": [],
   "source": [
    "gold_clf_long = model"
   ]
  },
  {
   "cell_type": "code",
   "execution_count": 84,
   "metadata": {},
   "outputs": [
    {
     "name": "stdout",
     "output_type": "stream",
     "text": [
      "0.99996114 3.885274e-05\n",
      "0.999961 3.9008894e-05\n",
      "0.999961 3.8994647e-05\n",
      "0.9999609 3.9069426e-05\n",
      "0.9999603 3.9683444e-05\n",
      "0.99996066 3.9352566e-05\n",
      "0.9999604 3.9597257e-05\n",
      "0.9999602 3.9801347e-05\n",
      "0.99996006 3.9926883e-05\n",
      "0.9999596 4.0374744e-05\n",
      "0.9999596 4.0445077e-05\n",
      "0.9999604 3.9633527e-05\n",
      "0.9999603 3.9711005e-05\n",
      "0.9999598 4.0145536e-05\n",
      "0.9999597 4.0328032e-05\n",
      "0.99995947 4.050934e-05\n",
      "0.9999596 4.0444884e-05\n",
      "0.9999604 3.9620147e-05\n",
      "0.9999609 3.905013e-05\n",
      "0.99996126 3.8762737e-05\n",
      "0.9999616 3.8441038e-05\n",
      "0.999962 3.8027025e-05\n",
      "0.9999629 3.705445e-05\n",
      "0.99996114 3.8872313e-05\n",
      "0.9999614 3.8604994e-05\n",
      "0.9999615 3.8504324e-05\n",
      "0.99996233 3.7671278e-05\n",
      "0.99996233 3.7618753e-05\n",
      "0.99996126 3.8771683e-05\n",
      "0.99996114 3.8906946e-05\n",
      "0.99995923 4.0768417e-05\n",
      "0.9999596 4.0463096e-05\n",
      "0.99995995 4.006415e-05\n",
      "0.9999604 3.9615763e-05\n",
      "0.9999608 3.9255978e-05\n",
      "0.999961 3.8951872e-05\n",
      "0.9999615 3.8450016e-05\n",
      "0.99996006 3.9936593e-05\n",
      "0.9999609 3.9073675e-05\n",
      "0.99996126 3.8721766e-05\n",
      "0.9999621 3.7948193e-05\n",
      "0.99996245 3.758204e-05\n",
      "0.99996006 3.9966155e-05\n",
      "0.9999604 3.9615687e-05\n",
      "0.9999608 3.9264854e-05\n",
      "0.99996114 3.885526e-05\n",
      "0.999961 3.896465e-05\n",
      "0.99996054 3.9401384e-05\n",
      "0.99996006 3.996021e-05\n",
      "0.99996006 3.9948398e-05\n",
      "0.9999609 3.9131697e-05\n",
      "0.9999615 3.847753e-05\n",
      "0.9999604 3.9557966e-05\n",
      "0.9999609 3.9155737e-05\n",
      "0.9999603 3.97473e-05\n",
      "0.99995995 4.0083945e-05\n",
      "0.9999585 4.146837e-05\n",
      "0.9999579 4.204617e-05\n",
      "0.99995923 4.07122e-05\n",
      "0.99996054 3.950922e-05\n",
      "0.999961 3.9029284e-05\n",
      "0.9999604 3.9611496e-05\n",
      "0.999961 3.9039336e-05\n",
      "0.99996114 3.880741e-05\n",
      "0.9999616 3.833169e-05\n",
      "0.9999615 3.8520633e-05\n",
      "0.99996006 3.991953e-05\n",
      "0.99996006 3.9978735e-05\n",
      "0.99996006 3.993697e-05\n",
      "0.9999616 3.8421946e-05\n",
      "0.99996114 3.8861228e-05\n",
      "0.99996066 3.936916e-05\n",
      "0.99996054 3.9471033e-05\n",
      "0.99996006 3.991694e-05\n",
      "0.99996066 3.9367504e-05\n",
      "0.99996173 3.8297203e-05\n",
      "0.9999615 3.855231e-05\n",
      "0.999961 3.894615e-05\n",
      "0.99996173 3.8248512e-05\n",
      "0.9999621 3.7907685e-05\n",
      "0.9999616 3.8339003e-05\n",
      "0.9999615 3.8538856e-05\n",
      "0.99996126 3.8757116e-05\n",
      "0.9999616 3.837712e-05\n",
      "0.99996185 3.8106664e-05\n",
      "0.9999622 3.7739952e-05\n",
      "0.9999608 3.9199895e-05\n",
      "0.99996126 3.873635e-05\n",
      "0.9999614 3.857415e-05\n",
      "0.99996054 3.9403487e-05\n",
      "0.99996054 3.9440627e-05\n",
      "0.99996114 3.889938e-05\n",
      "0.99996185 3.8174756e-05\n",
      "0.9999614 3.8581104e-05\n",
      "0.9999616 3.839546e-05\n",
      "0.9999616 3.8370166e-05\n",
      "0.999961 3.8943697e-05\n",
      "0.99996114 3.8802013e-05\n",
      "0.9999614 3.8594575e-05\n",
      "0.9999609 3.9098875e-05\n",
      "0.99996114 3.889115e-05\n",
      "0.99996173 3.831335e-05\n",
      "0.9999614 3.8588354e-05\n",
      "0.99996173 3.822233e-05\n",
      "0.9999627 3.7315658e-05\n",
      "0.99996066 3.9322065e-05\n",
      "0.9999608 3.926118e-05\n",
      "0.9999609 3.9104467e-05\n",
      "0.9999609 3.9117822e-05\n",
      "0.999961 3.897498e-05\n",
      "0.99996066 3.934011e-05\n",
      "0.9999616 3.8432863e-05\n",
      "0.9999616 3.8393227e-05\n",
      "0.9999604 3.9614704e-05\n",
      "0.99996257 3.7459955e-05\n",
      "0.99996173 3.8255297e-05\n",
      "0.9999614 3.856757e-05\n",
      "0.99996173 3.821227e-05\n",
      "0.99996173 3.8303264e-05\n",
      "0.999962 3.8039387e-05\n",
      "0.9999614 3.8615155e-05\n",
      "0.999962 3.8046608e-05\n",
      "0.9999622 3.781482e-05\n",
      "0.99996257 3.7453952e-05\n",
      "0.99996257 3.7385682e-05\n",
      "0.99996185 3.8144008e-05\n",
      "0.99996114 3.8809558e-05\n",
      "0.99996173 3.8309183e-05\n",
      "0.999962 3.8042e-05\n",
      "0.99996126 3.8742703e-05\n",
      "0.9999616 3.839586e-05\n",
      "0.999962 3.803028e-05\n",
      "0.99996173 3.829165e-05\n",
      "0.99996233 3.769751e-05\n",
      "0.999962 3.8027276e-05\n",
      "0.99996245 3.760007e-05\n",
      "0.99996185 3.8189908e-05\n",
      "0.9999615 3.8483915e-05\n",
      "0.9999615 3.852552e-05\n",
      "0.99996114 3.88732e-05\n",
      "0.99996126 3.8787883e-05\n",
      "0.99996114 3.88277e-05\n",
      "0.9999614 3.865495e-05\n",
      "0.9999615 3.8518465e-05\n",
      "0.999962 3.7984035e-05\n",
      "0.9999616 3.8423335e-05\n",
      "0.9999615 3.8548525e-05\n",
      "0.999962 3.8071656e-05\n",
      "0.99996233 3.7709022e-05\n",
      "0.999961 3.8938124e-05\n",
      "0.99996126 3.8705115e-05\n",
      "0.9999616 3.832621e-05\n",
      "0.99996173 3.8283397e-05\n",
      "0.99996173 3.8239978e-05\n",
      "0.99996233 3.7680835e-05\n",
      "0.9999621 3.790327e-05\n",
      "0.999962 3.7996422e-05\n",
      "0.9999615 3.8541173e-05\n",
      "0.9999614 3.8589274e-05\n",
      "0.9999608 3.9258637e-05\n",
      "0.99996054 3.946618e-05\n",
      "0.9999602 3.980951e-05\n",
      "0.9999608 3.9165e-05\n",
      "0.9999597 4.0267158e-05\n",
      "0.9999596 4.0376435e-05\n",
      "0.9999598 4.012108e-05\n",
      "0.9999603 3.974647e-05\n",
      "0.99996066 3.9334933e-05\n",
      "0.99996054 3.9459326e-05\n",
      "0.99996006 3.989422e-05\n",
      "0.99995995 4.0094194e-05\n",
      "0.99995995 4.007531e-05\n",
      "0.99996114 3.8869268e-05\n",
      "0.99996126 3.870914e-05\n",
      "0.99996126 3.873111e-05\n",
      "0.9999597 4.034038e-05\n",
      "0.9999598 4.018353e-05\n",
      "0.9999609 3.9098424e-05\n",
      "0.99996066 3.937389e-05\n",
      "0.99996066 3.932803e-05\n",
      "0.9999597 4.0280524e-05\n",
      "0.999959 4.0959792e-05\n",
      "0.9999609 3.9041115e-05\n",
      "0.9999604 3.955461e-05\n",
      "0.99996054 3.9426188e-05\n",
      "0.9999608 3.9231873e-05\n",
      "0.99996173 3.8249094e-05\n",
      "0.999961 3.901433e-05\n",
      "0.99996006 3.99742e-05\n",
      "0.9999602 3.9862207e-05\n",
      "0.99996054 3.9439652e-05\n",
      "0.99996066 3.9308306e-05\n",
      "0.99996006 3.9874747e-05\n",
      "0.9999609 3.9137147e-05\n",
      "0.9999614 3.8593287e-05\n",
      "0.9999615 3.8469163e-05\n",
      "0.99995875 4.1221752e-05\n",
      "0.9999591 4.0852286e-05\n",
      "0.9999589 4.1091716e-05\n",
      "0.9999585 4.145485e-05\n",
      "0.99995863 4.1399544e-05\n",
      "0.9999584 4.1658117e-05\n",
      "0.9999585 4.1461728e-05\n",
      "0.9999589 4.1089603e-05\n",
      "0.99995816 4.187147e-05\n",
      "0.9999585 4.143872e-05\n",
      "0.9999585 4.149199e-05\n",
      "0.9999585 4.148174e-05\n",
      "0.99995995 4.0040086e-05\n",
      "0.9999604 3.9524213e-05\n",
      "0.9999627 3.7348807e-05\n",
      "0.999959 4.0978863e-05\n",
      "0.99995947 4.0567797e-05\n",
      "0.9999591 4.083047e-05\n",
      "0.99996006 3.991953e-05\n",
      "0.99995995 4.0071336e-05\n",
      "0.9999604 3.95212e-05\n",
      "0.999961 3.8954247e-05\n",
      "0.9999602 3.9771112e-05\n",
      "0.9999604 3.957536e-05\n",
      "0.9999604 3.9596423e-05\n",
      "0.99995995 4.0081653e-05\n",
      "0.9999591 4.092259e-05\n",
      "0.99995863 4.134411e-05\n",
      "0.9999591 4.0831368e-05\n",
      "0.9999584 4.159753e-05\n",
      "0.9999589 4.115094e-05\n",
      "0.9999591 4.086257e-05\n",
      "0.9999602 3.9837236e-05\n",
      "0.9999584 4.1641473e-05\n",
      "0.9999584 4.158829e-05\n",
      "0.9999589 4.113493e-05\n",
      "0.99995697 4.3071148e-05\n",
      "0.99995697 4.300736e-05\n",
      "0.99995756 4.241263e-05\n",
      "0.9999579 4.209592e-05\n",
      "0.9999572 4.284395e-05\n",
      "0.99995756 4.2386597e-05\n",
      "0.9999578 4.2203963e-05\n",
      "0.99995744 4.2514395e-05\n",
      "0.9999577 4.2317573e-05\n",
      "0.9999583 4.1663472e-05\n",
      "0.99995685 4.315732e-05\n",
      "0.9999566 4.336132e-05\n",
      "0.99995697 4.3037886e-05\n",
      "0.9999566 4.337265e-05\n"
     ]
    },
    {
     "data": {
      "text/plain": [
       "(0, 18000)"
      ]
     },
     "execution_count": 84,
     "metadata": {},
     "output_type": "execute_result"
    },
    {
     "data": {
      "image/png": "[encoded data removed]",
      "text/plain": [
       "<Figure size 432x288 with 1 Axes>"
      ]
     },
     "metadata": {
      "needs_background": "light"
     },
     "output_type": "display_data"
    }
   ],
   "source": [
    "gold_account_long = get_performance(gold_clf_long, gold_pca, gold_gains.loc[gold_gains.index > validate_date], gold_validate, gold_label_validate, short=False, stop_loss=300, multi_class=True, vector=False)\n",
    "ax1 = gold_account_long[['account']].plot()\n",
    "ax1.set_ylim(0,18000)"
   ]
  },
  {
   "cell_type": "code",
   "execution_count": 85,
   "metadata": {},
   "outputs": [
    {
     "data": {
      "text/plain": [
       "-10257.499999999936"
      ]
     },
     "execution_count": 85,
     "metadata": {},
     "output_type": "execute_result"
    }
   ],
   "source": [
    "gold_account_long[gold_account_long['long'] == 1].gains.sum()"
   ]
  },
  {
   "cell_type": "code",
   "execution_count": 86,
   "metadata": {},
   "outputs": [
    {
     "data": {
      "text/plain": [
       "<matplotlib.axes._subplots.AxesSubplot at 0x7fcb879a5198>"
      ]
     },
     "execution_count": 86,
     "metadata": {},
     "output_type": "execute_result"
    },
    {
     "data": {
      "image/png": "[encoded data removed]",
      "text/plain": [
       "<Figure size 432x288 with 1 Axes>"
      ]
     },
     "metadata": {
      "needs_background": "light"
     },
     "output_type": "display_data"
    }
   ],
   "source": [
    "gold_account_long[gold_account_long['long'] == 1].label.hist()"
   ]
  },
  {
   "cell_type": "code",
   "execution_count": 454,
   "metadata": {},
   "outputs": [
    {
     "data": {
      "text/plain": [
       "array([[<matplotlib.axes._subplots.AxesSubplot object at 0x7f446d5d8160>,\n",
       "        <matplotlib.axes._subplots.AxesSubplot object at 0x7f446d5ede10>]],\n",
       "      dtype=object)"
      ]
     },
     "execution_count": 454,
     "metadata": {},
     "output_type": "execute_result"
    },
    {
     "data": {
      "image/png": "[encoded data removed]",
      "text/plain": [
       "<Figure size 432x288 with 2 Axes>"
      ]
     },
     "metadata": {
      "needs_background": "light"
     },
     "output_type": "display_data"
    }
   ],
   "source": [
    "gold_account_long[['trade', 'label']].hist()"
   ]
  },
  {
   "cell_type": "code",
   "execution_count": 455,
   "metadata": {
    "scrolled": true
   },
   "outputs": [
    {
     "name": "stdout",
     "output_type": "stream",
     "text": [
      "Train on 1930 samples, validate on 483 samples\n",
      "Epoch 1/20\n",
      "1930/1930 [==============================] - 0s 198us/step - loss: 7603694114028.6338 - precision: 0.3124 - val_loss: 944855103466.7992 - val_precision: 0.2981\n",
      "Epoch 2/20\n",
      "1930/1930 [==============================] - 0s 24us/step - loss: 337937458332.7834 - precision: 0.3124 - val_loss: 17971549190.3602 - val_precision: 0.2981\n",
      "Epoch 3/20\n",
      "1930/1930 [==============================] - 0s 25us/step - loss: 11924240316.3192 - precision: 0.3124 - val_loss: 6155796658.0870 - val_precision: 0.2981\n",
      "Epoch 4/20\n",
      "1930/1930 [==============================] - 0s 25us/step - loss: 3069914269.4259 - precision: 0.3124 - val_loss: 370377427.7433 - val_precision: 0.2981\n",
      "Epoch 5/20\n",
      "1930/1930 [==============================] - 0s 25us/step - loss: 113443064.7334 - precision: 0.3124 - val_loss: 9123847.3934 - val_precision: 0.2981\n",
      "Epoch 6/20\n",
      "1930/1930 [==============================] - 0s 23us/step - loss: 5632996.3395 - precision: 0.3124 - val_loss: 1318529.3372 - val_precision: 0.2981\n",
      "Epoch 7/20\n",
      "1930/1930 [==============================] - 0s 24us/step - loss: 481009.2961 - precision: 0.3124 - val_loss: 43270.7750 - val_precision: 0.2981\n",
      "Epoch 8/20\n",
      "1930/1930 [==============================] - 0s 25us/step - loss: 27686.8597 - precision: 0.3124 - val_loss: 17263.2652 - val_precision: 0.2981\n",
      "Epoch 9/20\n",
      "1930/1930 [==============================] - 0s 23us/step - loss: 16835.1922 - precision: 0.3124 - val_loss: 15637.3845 - val_precision: 0.2981\n",
      "Epoch 10/20\n",
      "1930/1930 [==============================] - 0s 24us/step - loss: 16195.4048 - precision: 0.3124 - val_loss: 14995.2562 - val_precision: 0.2981\n",
      "Epoch 11/20\n",
      "1930/1930 [==============================] - 0s 24us/step - loss: 16076.8564 - precision: 0.3124 - val_loss: 14844.4937 - val_precision: 0.2981\n",
      "Epoch 12/20\n",
      "1930/1930 [==============================] - 0s 22us/step - loss: 16061.4254 - precision: 0.3124 - val_loss: 14912.3399 - val_precision: 0.2981\n",
      "Epoch 13/20\n",
      "1930/1930 [==============================] - 0s 22us/step - loss: 16197.2461 - precision: 0.3124 - val_loss: 15826.4172 - val_precision: 0.2981\n",
      "Epoch 14/20\n",
      "1930/1930 [==============================] - 0s 22us/step - loss: 17061.7483 - precision: 0.3124 - val_loss: 25522.3664 - val_precision: 0.2981\n",
      "Epoch 15/20\n",
      "1930/1930 [==============================] - 0s 22us/step - loss: 710688526.0253 - precision: 0.3124 - val_loss: 3615077717.3333 - val_precision: 0.2981\n",
      "Epoch 16/20\n",
      "1930/1930 [==============================] - 0s 22us/step - loss: 2229594050.7192 - precision: 0.3124 - val_loss: 736680384.5300 - val_precision: 0.2981\n",
      "Epoch 17/20\n",
      "1930/1930 [==============================] - 0s 22us/step - loss: 589101887.2894 - precision: 0.3124 - val_loss: 29492719.4617 - val_precision: 0.2981\n",
      "Epoch 18/20\n",
      "1930/1930 [==============================] - 0s 22us/step - loss: 14125369.0226 - precision: 0.3124 - val_loss: 4690070.5538 - val_precision: 0.2981\n",
      "Epoch 19/20\n",
      "1930/1930 [==============================] - 0s 25us/step - loss: 20997386.3487 - precision: 0.3124 - val_loss: 27187132.1325 - val_precision: 0.2981\n",
      "Epoch 20/20\n",
      "1930/1930 [==============================] - 0s 23us/step - loss: 194503588.3772 - precision: 0.3124 - val_loss: 213625186.6501 - val_precision: 0.2981\n",
      "_________________________________________________________________\n",
      "Layer (type)                 Output Shape              Param #   \n",
      "=================================================================\n",
      "dense_41 (Dense)             (None, 32)                512       \n",
      "_________________________________________________________________\n",
      "leaky_re_lu_27 (LeakyReLU)   (None, 32)                0         \n",
      "_________________________________________________________________\n",
      "dropout_14 (Dropout)         (None, 32)                0         \n",
      "_________________________________________________________________\n",
      "dense_42 (Dense)             (None, 16)                528       \n",
      "_________________________________________________________________\n",
      "leaky_re_lu_28 (LeakyReLU)   (None, 16)                0         \n",
      "_________________________________________________________________\n",
      "dense_43 (Dense)             (None, 1)                 17        \n",
      "_________________________________________________________________\n",
      "activation_14 (Activation)   (None, 1)                 0         \n",
      "=================================================================\n",
      "Total params: 1,057\n",
      "Trainable params: 1,057\n",
      "Non-trainable params: 0\n",
      "_________________________________________________________________\n"
     ]
    }
   ],
   "source": [
    "# %%capture cpt_corn_train\n",
    "import keras_metrics\n",
    "X = pca_transform(corn_train, corn_pca)\n",
    "X_test = pca_transform(corn_test, corn_pca)\n",
    "\n",
    "y = list(map(lambda x: 1 if x > 0 else 0, corn_label_train))\n",
    "y_test = list(map(lambda x: 1 if x > 0 else 0, corn_label_test))\n",
    "\n",
    "model = Sequential()  \n",
    "model.add(Dense(32, input_dim=input_shape, activity_regularizer=regularizers.l2(0.01)))\n",
    "model.add(LeakyReLU())\n",
    "model.add(Dropout(0.5))\n",
    "model.add(Dense(16, activity_regularizer=regularizers.l2(0.01)))\n",
    "model.add(LeakyReLU())\n",
    "model.add(Dense(1))\n",
    "model.add(Activation('softmax'))\n",
    "\n",
    "opt = Nadam(lr=0.02)\n",
    "\n",
    "model.compile(optimizer=opt,\n",
    "              loss=\"binary_crossentropy\",\n",
    "              metrics=[keras_metrics.precision()])\n",
    "model.fit(X, y, epochs=20, validation_data=(X_test, y_test), batch_size=128, shuffle=True)\n",
    "\n",
    "model.summary()\n",
    "\n",
    "corn_clf_long = model"
   ]
  },
  {
   "cell_type": "code",
   "execution_count": 456,
   "metadata": {},
   "outputs": [
    {
     "data": {
      "text/plain": [
       "(0, 18000)"
      ]
     },
     "execution_count": 456,
     "metadata": {},
     "output_type": "execute_result"
    },
    {
     "data": {
      "image/png": "[encoded data removed]",
      "text/plain": [
       "<Figure size 432x288 with 1 Axes>"
      ]
     },
     "metadata": {
      "needs_background": "light"
     },
     "output_type": "display_data"
    }
   ],
   "source": [
    "corn_account_long = get_performance(corn_clf_long, corn_pca, corn_gains.loc[corn_gains.index > validate_date], corn_validate, corn_label_validate, short=False, stop_loss=500, vector=True, multi_class=False)\n",
    "ax1 = corn_account_long[['account']].plot()\n",
    "ax1.set_ylim(0,18000)"
   ]
  },
  {
   "cell_type": "code",
   "execution_count": 457,
   "metadata": {},
   "outputs": [
    {
     "data": {
      "text/plain": [
       "-466.6250000000002"
      ]
     },
     "execution_count": 457,
     "metadata": {},
     "output_type": "execute_result"
    }
   ],
   "source": [
    "corn_account_long[corn_account_long['long'] == 1].gains.sum()"
   ]
  },
  {
   "cell_type": "code",
   "execution_count": 458,
   "metadata": {},
   "outputs": [
    {
     "data": {
      "text/plain": [
       "<matplotlib.axes._subplots.AxesSubplot at 0x7f43b17bf2b0>"
      ]
     },
     "execution_count": 458,
     "metadata": {},
     "output_type": "execute_result"
    },
    {
     "data": {
      "image/png": "[encoded data removed]",
      "text/plain": [
       "<Figure size 432x288 with 1 Axes>"
      ]
     },
     "metadata": {
      "needs_background": "light"
     },
     "output_type": "display_data"
    }
   ],
   "source": [
    "corn_account_long[corn_account_long['long'] == 1].label.hist()"
   ]
  },
  {
   "cell_type": "code",
   "execution_count": 459,
   "metadata": {},
   "outputs": [
    {
     "data": {
      "text/plain": [
       "array([[<matplotlib.axes._subplots.AxesSubplot object at 0x7f43b1769470>,\n",
       "        <matplotlib.axes._subplots.AxesSubplot object at 0x7f43b1711630>]],\n",
       "      dtype=object)"
      ]
     },
     "execution_count": 459,
     "metadata": {},
     "output_type": "execute_result"
    },
    {
     "data": {
      "image/png": "[encoded data removed]",
      "text/plain": [
       "<Figure size 432x288 with 2 Axes>"
      ]
     },
     "metadata": {
      "needs_background": "light"
     },
     "output_type": "display_data"
    }
   ],
   "source": [
    "corn_account_long[['trade', 'label']].hist()"
   ]
  },
  {
   "cell_type": "code",
   "execution_count": 460,
   "metadata": {},
   "outputs": [
    {
     "name": "stdout",
     "output_type": "stream",
     "text": [
      "Epoch 1/2\n",
      "2417/2417 [==============================] - 1s 552us/step - loss: 567785933856.6222 - acc: 0.3666\n",
      "Epoch 2/2\n",
      "2417/2417 [==============================] - 0s 110us/step - loss: 91165223944.0497 - acc: 0.8564\n",
      "_________________________________________________________________\n",
      "Layer (type)                 Output Shape              Param #   \n",
      "=================================================================\n",
      "dense_44 (Dense)             (None, 64)                1024      \n",
      "_________________________________________________________________\n",
      "batch_normalization_21 (Batc (None, 64)                256       \n",
      "_________________________________________________________________\n",
      "leaky_re_lu_29 (LeakyReLU)   (None, 64)                0         \n",
      "_________________________________________________________________\n",
      "dropout_15 (Dropout)         (None, 64)                0         \n",
      "_________________________________________________________________\n",
      "dense_45 (Dense)             (None, 16)                1040      \n",
      "_________________________________________________________________\n",
      "batch_normalization_22 (Batc (None, 16)                64        \n",
      "_________________________________________________________________\n",
      "leaky_re_lu_30 (LeakyReLU)   (None, 16)                0         \n",
      "_________________________________________________________________\n",
      "dense_46 (Dense)             (None, 2)                 34        \n",
      "_________________________________________________________________\n",
      "activation_15 (Activation)   (None, 2)                 0         \n",
      "=================================================================\n",
      "Total params: 2,418\n",
      "Trainable params: 2,258\n",
      "Non-trainable params: 160\n",
      "_________________________________________________________________\n"
     ]
    },
    {
     "ename": "LightGBMError",
     "evalue": "Cannot set categorical feature after freed raw data, set free_raw_data=False when construct Dataset to avoid this.",
     "output_type": "error",
     "traceback": [
      "\u001b[0;31m---------------------------------------------------------------------------\u001b[0m",
      "\u001b[0;31mLightGBMError\u001b[0m                             Traceback (most recent call last)",
      "\u001b[0;32m<ipython-input-460-d1c1ae9957cb>\u001b[0m in \u001b[0;36m<module>\u001b[0;34m\u001b[0m\n\u001b[1;32m     23\u001b[0m \u001b[0;34m\u001b[0m\u001b[0m\n\u001b[1;32m     24\u001b[0m \u001b[0mcorn_clf_long\u001b[0m \u001b[0;34m=\u001b[0m \u001b[0mmodel\u001b[0m\u001b[0;34m\u001b[0m\u001b[0;34m\u001b[0m\u001b[0m\n\u001b[0;32m---> 25\u001b[0;31m \u001b[0mcoffee_clf_long\u001b[0m \u001b[0;34m=\u001b[0m \u001b[0mlgb\u001b[0m\u001b[0;34m.\u001b[0m\u001b[0mtrain\u001b[0m\u001b[0;34m(\u001b[0m\u001b[0mparam\u001b[0m\u001b[0;34m,\u001b[0m \u001b[0mtrain_data\u001b[0m\u001b[0;34m,\u001b[0m \u001b[0mnum_round\u001b[0m\u001b[0;34m,\u001b[0m \u001b[0mvalid_sets\u001b[0m\u001b[0;34m=\u001b[0m\u001b[0;34m[\u001b[0m\u001b[0mtest_data\u001b[0m\u001b[0;34m]\u001b[0m\u001b[0;34m)\u001b[0m\u001b[0;34m\u001b[0m\u001b[0;34m\u001b[0m\u001b[0m\n\u001b[0m",
      "\u001b[0;32m~/anaconda3/envs/trading/lib/python3.6/site-packages/lightgbm/engine.py\u001b[0m in \u001b[0;36mtrain\u001b[0;34m(params, train_set, num_boost_round, valid_sets, valid_names, fobj, feval, init_model, feature_name, categorical_feature, early_stopping_rounds, evals_result, verbose_eval, learning_rates, keep_training_booster, callbacks)\u001b[0m\n\u001b[1;32m    138\u001b[0m              \u001b[0;34m.\u001b[0m\u001b[0m_set_predictor\u001b[0m\u001b[0;34m(\u001b[0m\u001b[0mpredictor\u001b[0m\u001b[0;34m)\u001b[0m\u001b[0;31m \u001b[0m\u001b[0;31m\\\u001b[0m\u001b[0;34m\u001b[0m\u001b[0;34m\u001b[0m\u001b[0m\n\u001b[1;32m    139\u001b[0m              \u001b[0;34m.\u001b[0m\u001b[0mset_feature_name\u001b[0m\u001b[0;34m(\u001b[0m\u001b[0mfeature_name\u001b[0m\u001b[0;34m)\u001b[0m\u001b[0;31m \u001b[0m\u001b[0;31m\\\u001b[0m\u001b[0;34m\u001b[0m\u001b[0;34m\u001b[0m\u001b[0m\n\u001b[0;32m--> 140\u001b[0;31m              \u001b[0;34m.\u001b[0m\u001b[0mset_categorical_feature\u001b[0m\u001b[0;34m(\u001b[0m\u001b[0mcategorical_feature\u001b[0m\u001b[0;34m)\u001b[0m\u001b[0;34m\u001b[0m\u001b[0;34m\u001b[0m\u001b[0m\n\u001b[0m\u001b[1;32m    141\u001b[0m \u001b[0;34m\u001b[0m\u001b[0m\n\u001b[1;32m    142\u001b[0m     \u001b[0mis_valid_contain_train\u001b[0m \u001b[0;34m=\u001b[0m \u001b[0;32mFalse\u001b[0m\u001b[0;34m\u001b[0m\u001b[0;34m\u001b[0m\u001b[0m\n",
      "\u001b[0;32m~/anaconda3/envs/trading/lib/python3.6/site-packages/lightgbm/basic.py\u001b[0m in \u001b[0;36mset_categorical_feature\u001b[0;34m(self, categorical_feature)\u001b[0m\n\u001b[1;32m   1192\u001b[0m                 \u001b[0;32mreturn\u001b[0m \u001b[0mself\u001b[0m\u001b[0;34m.\u001b[0m\u001b[0m_free_handle\u001b[0m\u001b[0;34m(\u001b[0m\u001b[0;34m)\u001b[0m\u001b[0;34m\u001b[0m\u001b[0;34m\u001b[0m\u001b[0m\n\u001b[1;32m   1193\u001b[0m         \u001b[0;32melse\u001b[0m\u001b[0;34m:\u001b[0m\u001b[0;34m\u001b[0m\u001b[0;34m\u001b[0m\u001b[0m\n\u001b[0;32m-> 1194\u001b[0;31m             raise LightGBMError(\"Cannot set categorical feature after freed raw data, \"\n\u001b[0m\u001b[1;32m   1195\u001b[0m                                 \"set free_raw_data=False when construct Dataset to avoid this.\")\n\u001b[1;32m   1196\u001b[0m \u001b[0;34m\u001b[0m\u001b[0m\n",
      "\u001b[0;31mLightGBMError\u001b[0m: Cannot set categorical feature after freed raw data, set free_raw_data=False when construct Dataset to avoid this."
     ]
    }
   ],
   "source": [
    "# %%capture cpt_coffee_train\n",
    "param['max_bin'] = 10\n",
    "X = pca_transform(coffee_train, coffee_pca)\n",
    "X_test = pca_transform(coffee_test, coffee_pca)\n",
    "y = list(map(lambda x: 1 if x < 0 else 0, coffee_label_test))\n",
    "model = Sequential()  \n",
    "model.add(Dense(64, input_dim=input_shape, activity_regularizer=regularizers.l2(0.01)))\n",
    "model.add(BatchNormalization())\n",
    "model.add(LeakyReLU())\n",
    "model.add(Dropout(0.5))\n",
    "model.add(Dense(16, activity_regularizer=regularizers.l2(0.01)))\n",
    "model.add(BatchNormalization())\n",
    "model.add(LeakyReLU())\n",
    "model.add(Dense(2))\n",
    "model.add(Activation('softmax'))\n",
    "\n",
    "opt = Nadam(lr=0.002)\n",
    "\n",
    "model.compile(optimizer=opt, loss='categorical_crossentropy', metrics=['accuracy'])\n",
    "model.fit(X_train, y_train, epochs=2)\n",
    "\n",
    "model.summary()\n",
    "\n",
    "corn_clf_long = model\n",
    "coffee_clf_long = lgb.train(param, train_data, num_round, valid_sets=[test_data])"
   ]
  },
  {
   "cell_type": "code",
   "execution_count": null,
   "metadata": {},
   "outputs": [],
   "source": [
    "coffee_account_long = get_performance(coffee_clf_long, coffee_pca, coffee_gains.loc[coffee_gains.index > validate_date], corn_validate, coffee_label_validate, short=False, stop_loss=1000)\n",
    "ax1 = coffee_account_long[['account']].plot()\n",
    "ax1.set_ylim(0,20000)"
   ]
  },
  {
   "cell_type": "code",
   "execution_count": null,
   "metadata": {},
   "outputs": [],
   "source": [
    "coffee_account_long.head(10)"
   ]
  },
  {
   "cell_type": "code",
   "execution_count": null,
   "metadata": {},
   "outputs": [],
   "source": [
    "# mean reversal\n",
    "# Compute the z-scores for each day using the historical data up to that day\n",
    "def mean_reversal_account(df, df_gains, trade_days=1):\n",
    "    account = 10000\n",
    "    direction = gold['mean_direction'].values[0]\n",
    "    dct = {}\n",
    "    dct['account'] = [account]\n",
    "    trade = 0\n",
    "    for d, v in zip(df['mean_direction'].values, gold_gains.values):\n",
    "        if d >= 0 and direction <= 0:\n",
    "            account -= v[0]\n",
    "            trade += 1\n",
    "            if trade_days == trade:\n",
    "                direction = d\n",
    "                trade = 0\n",
    "        elif d <= 0 and direction >= 0:\n",
    "            direction = d\n",
    "            account += v[0]\n",
    "            trade += 1\n",
    "            if trade_days == trade:\n",
    "                direction = d\n",
    "                trade = 0\n",
    "        dct['account'].append(account)\n",
    "        if account <= 0:\n",
    "            break\n",
    "    return pd.DataFrame.from_dict(dct)\n",
    "\n",
    "def mean_calculation(df, big_range, small_range):\n",
    "    big_mean = 'mean_' + str(big_range)\n",
    "    small_mean = 'mean_' + str(small_range)\n",
    "    df[big_mean] = df.rolling(str(big_range) + 'd')['Settle'].apply(np.mean, raw=False)\n",
    "    df[small_mean] = df.rolling(str(small_range) + 'd')['Settle'].apply(np.mean, raw=False)\n",
    "    df['mean_direction'] =  df[small_mean] - df[big_mean]\n",
    "    return df"
   ]
  },
  {
   "cell_type": "code",
   "execution_count": 361,
   "metadata": {},
   "outputs": [
    {
     "data": {
      "text/plain": [
       "<matplotlib.axes._subplots.AxesSubplot at 0x7f448a592208>"
      ]
     },
     "execution_count": 361,
     "metadata": {},
     "output_type": "execute_result"
    },
    {
     "data": {
      "image/png": "[encoded data removed]",
      "text/plain": [
       "<Figure size 720x360 with 1 Axes>"
      ]
     },
     "metadata": {
      "needs_background": "light"
     },
     "output_type": "display_data"
    }
   ],
   "source": [
    "gold = mean_calculation(gold, 90, 30)\n",
    "gold[['Settle', 'mean_90', 'mean_30']].loc[gold.index > validate_date].plot(figsize=(10,5))"
   ]
  },
  {
   "cell_type": "code",
   "execution_count": 362,
   "metadata": {},
   "outputs": [
    {
     "data": {
      "text/plain": [
       "<matplotlib.axes._subplots.AxesSubplot at 0x7f446fc3e470>"
      ]
     },
     "execution_count": 362,
     "metadata": {},
     "output_type": "execute_result"
    },
    {
     "data": {
      "image/png": "[encoded data removed]",
      "text/plain": [
       "<Figure size 720x360 with 1 Axes>"
      ]
     },
     "metadata": {
      "needs_background": "light"
     },
     "output_type": "display_data"
    }
   ],
   "source": [
    "gold_mean = mean_reversal_account(gold.loc[gold.index > validate_date], gold_gains.loc[gold_gains.index > validate_date], trade_days=5)\n",
    "gold_mean['base'] = gold_mean.account.apply(lambda x: 10000)\n",
    "pd.concat([gold_mean.rename(columns={'account': 'Mean Strategy', 'base': '10000'}), \n",
    "           gold_account.rename(columns={'account': 'Model Shorts'})[['Model Shorts']]], \n",
    "          axis=1).plot(figsize=(10,5))"
   ]
  },
  {
   "cell_type": "code",
   "execution_count": 363,
   "metadata": {},
   "outputs": [
    {
     "data": {
      "text/plain": [
       "<matplotlib.axes._subplots.AxesSubplot at 0x7f446fb9eda0>"
      ]
     },
     "execution_count": 363,
     "metadata": {},
     "output_type": "execute_result"
    },
    {
     "data": {
      "image/png": "[encoded data removed]",
      "text/plain": [
       "<Figure size 720x360 with 1 Axes>"
      ]
     },
     "metadata": {
      "needs_background": "light"
     },
     "output_type": "display_data"
    }
   ],
   "source": [
    "corn = mean_calculation(corn, 90, 30)\n",
    "corn[['Settle', 'mean_90', 'mean_30']].loc[corn.index > validate_date].plot(figsize=(10,5))"
   ]
  },
  {
   "cell_type": "code",
   "execution_count": 364,
   "metadata": {},
   "outputs": [
    {
     "data": {
      "text/plain": [
       "<matplotlib.axes._subplots.AxesSubplot at 0x7f446fb1e208>"
      ]
     },
     "execution_count": 364,
     "metadata": {},
     "output_type": "execute_result"
    },
    {
     "data": {
      "image/png": "[encoded data removed]",
      "text/plain": [
       "<Figure size 720x360 with 1 Axes>"
      ]
     },
     "metadata": {
      "needs_background": "light"
     },
     "output_type": "display_data"
    }
   ],
   "source": [
    "corn_mean = mean_reversal_account(corn.loc[corn.index > validate_date], corn_gains.loc[corn_gains.index > validate_date], trade_days=3)\n",
    "corn_mean['base'] = corn_mean.account.apply(lambda x: 10000)\n",
    "pd.concat([corn_mean.rename(columns={'account': 'Mean Strategy', 'base': '10000'}), \n",
    "           corn_account.rename(columns={'account': 'Model Shorts'})[['Model Shorts']]], \n",
    "          axis=1).plot(figsize=(10,5))"
   ]
  },
  {
   "cell_type": "code",
   "execution_count": 365,
   "metadata": {},
   "outputs": [
    {
     "data": {
      "text/plain": [
       "<matplotlib.axes._subplots.AxesSubplot at 0x7f446fa960f0>"
      ]
     },
     "execution_count": 365,
     "metadata": {},
     "output_type": "execute_result"
    },
    {
     "data": {
      "image/png": "[encoded data removed]",
      "text/plain": [
       "<Figure size 720x360 with 1 Axes>"
      ]
     },
     "metadata": {
      "needs_background": "light"
     },
     "output_type": "display_data"
    }
   ],
   "source": [
    "coffee = mean_calculation(coffee, 90, 30)\n",
    "coffee[['Settle', 'mean_90', 'mean_30']].loc[coffee.index > validate_date].plot(figsize=(10,5))"
   ]
  },
  {
   "cell_type": "code",
   "execution_count": 366,
   "metadata": {},
   "outputs": [
    {
     "data": {
      "text/plain": [
       "<matplotlib.axes._subplots.AxesSubplot at 0x7f446fa03b38>"
      ]
     },
     "execution_count": 366,
     "metadata": {},
     "output_type": "execute_result"
    },
    {
     "data": {
      "image/png": "[encoded data removed]",
      "text/plain": [
       "<Figure size 720x360 with 1 Axes>"
      ]
     },
     "metadata": {
      "needs_background": "light"
     },
     "output_type": "display_data"
    }
   ],
   "source": [
    "coffee_mean = mean_reversal_account(coffee.loc[coffee.index > validate_date], \n",
    "                                    coffee_gains.loc[coffee_gains.index > validate_date], \n",
    "                                    trade_days=5)\n",
    "coffee_mean['base'] = coffee_mean.account.apply(lambda x: 10000)\n",
    "pd.concat([coffee_mean.rename(columns={'account': 'Mean Strategy', 'base': '10000'}), \n",
    "           coffee_account.rename(columns={'account': 'Model Shorts'})[['Model Shorts']]], \n",
    "          axis=1).plot(figsize=(10,5))"
   ]
  },
  {
   "cell_type": "code",
   "execution_count": null,
   "metadata": {},
   "outputs": [],
   "source": []
  },
  {
   "cell_type": "code",
   "execution_count": null,
   "metadata": {},
   "outputs": [],
   "source": []
  }
 ],
 "metadata": {
  "kernelspec": {
   "display_name": "Python 3",
   "language": "python",
   "name": "python3"
  },
  "language_info": {
   "codemirror_mode": {
    "name": "ipython",
    "version": 3
   },
   "file_extension": ".py",
   "mimetype": "text/x-python",
   "name": "python",
   "nbconvert_exporter": "python",
   "pygments_lexer": "ipython3",
   "version": "3.7.2"
  }
 },
 "nbformat": 4,
 "nbformat_minor": 2
}
